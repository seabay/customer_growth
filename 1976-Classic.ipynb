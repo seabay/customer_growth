{
 "cells": [
  {
   "cell_type": "code",
   "execution_count": 1,
   "metadata": {
    "ExecuteTime": {
     "end_time": "2020-05-27T14:33:06.832642Z",
     "start_time": "2020-05-27T14:32:59.702759Z"
    }
   },
   "outputs": [],
   "source": [
    "from pyspark.sql import SparkSession\n",
    "import pyspark.sql.functions as F\n",
    "import os\n",
    "\n",
    "os.environ['PYSPARK_SUBMIT_ARGS'] = '''--conf spark.driver.memory=60G \\\n",
    "                                       --conf spark.sql.shuffle.partitions=10 \\\n",
    "                                       --conf spark.default.parallelism=10 \\\n",
    "                                       --conf spark.hadoop.fs.s3a.readahead.range=512M \\\n",
    "                                       pyspark-shell'''\n",
    "\n",
    "spark = (SparkSession\n",
    "         .builder\n",
    "         .master(\"local[*]\")\n",
    "         .getOrCreate())"
   ]
  },
  {
   "cell_type": "code",
   "execution_count": 2,
   "metadata": {
    "ExecuteTime": {
     "end_time": "2020-05-27T14:33:19.246408Z",
     "start_time": "2020-05-27T14:33:18.644042Z"
    }
   },
   "outputs": [
    {
     "name": "stderr",
     "output_type": "stream",
     "text": [
      "/opt/conda/lib/python3.7/site-packages/statsmodels/tools/_testing.py:19: FutureWarning: pandas.util.testing is deprecated. Use the functions in the public API at pandas.testing instead.\n",
      "  import pandas.util.testing as tm\n"
     ]
    }
   ],
   "source": [
    "import seaborn as sns\n",
    "import pandas as pd\n",
    "import numpy as np\n",
    "import matplotlib.pyplot as plt\n",
    "sns.set(style=\"whitegrid\")"
   ]
  },
  {
   "cell_type": "code",
   "execution_count": 3,
   "metadata": {
    "ExecuteTime": {
     "end_time": "2020-05-27T14:33:20.328383Z",
     "start_time": "2020-05-27T14:33:20.326090Z"
    }
   },
   "outputs": [],
   "source": [
    "from functools import reduce"
   ]
  },
  {
   "cell_type": "code",
   "execution_count": 4,
   "metadata": {
    "ExecuteTime": {
     "end_time": "2020-05-27T14:33:21.415058Z",
     "start_time": "2020-05-27T14:33:21.412808Z"
    }
   },
   "outputs": [],
   "source": [
    "savep=\"s3a://midgar-aws-workspace/stg/shinra/modelling/journeyautomation/eval/pcgm-1977/classic/\""
   ]
  },
  {
   "cell_type": "code",
   "execution_count": 5,
   "metadata": {
    "ExecuteTime": {
     "end_time": "2020-05-27T14:33:21.713048Z",
     "start_time": "2020-05-27T14:33:21.710880Z"
    }
   },
   "outputs": [],
   "source": [
    "start_date='2020-04-20'\n",
    "end_date='2020-05-20'"
   ]
  },
  {
   "cell_type": "code",
   "execution_count": 6,
   "metadata": {
    "ExecuteTime": {
     "end_time": "2020-05-27T14:33:21.984474Z",
     "start_time": "2020-05-27T14:33:21.980948Z"
    }
   },
   "outputs": [],
   "source": [
    "times = pd.date_range(start=start_date, end=end_date).to_pydatetime().tolist()\n",
    "dates=[dt.strftime('%Y-%m-%d') for dt in times]"
   ]
  },
  {
   "cell_type": "code",
   "execution_count": 7,
   "metadata": {
    "ExecuteTime": {
     "end_time": "2020-05-27T14:33:22.445990Z",
     "start_time": "2020-05-27T14:33:22.443678Z"
    }
   },
   "outputs": [],
   "source": [
    "campaign_dates=['2020-05-19']"
   ]
  },
  {
   "cell_type": "markdown",
   "metadata": {},
   "source": [
    "# Campaign meta"
   ]
  },
  {
   "cell_type": "code",
   "execution_count": 8,
   "metadata": {
    "ExecuteTime": {
     "end_time": "2020-05-27T14:33:25.646248Z",
     "start_time": "2020-05-27T14:33:25.643962Z"
    }
   },
   "outputs": [],
   "source": [
    "cmeta_path=\"s3a://midgar-aws-workspace/prod/mapmeasurements/redshift_backup/campaign_metadata/dt=\""
   ]
  },
  {
   "cell_type": "code",
   "execution_count": 9,
   "metadata": {
    "ExecuteTime": {
     "end_time": "2020-05-27T14:33:25.980497Z",
     "start_time": "2020-05-27T14:33:25.977676Z"
    }
   },
   "outputs": [],
   "source": [
    "cm_map_dfs=map(lambda x: spark.read.parquet(cmeta_path+x)\n",
    "            .select(\"campaign_id\", 'campaign_name', \"phase_id\", \"phase_name\")\n",
    "            .filter(F.col('phase_id').isNotNull()), \n",
    "               campaign_dates)"
   ]
  },
  {
   "cell_type": "code",
   "execution_count": 10,
   "metadata": {
    "ExecuteTime": {
     "end_time": "2020-05-27T14:33:29.914826Z",
     "start_time": "2020-05-27T14:33:26.894454Z"
    }
   },
   "outputs": [],
   "source": [
    "cm_red_df=reduce(lambda x,y: x.union(y), cm_map_dfs)"
   ]
  },
  {
   "cell_type": "code",
   "execution_count": 11,
   "metadata": {
    "ExecuteTime": {
     "end_time": "2020-05-27T14:33:29.924627Z",
     "start_time": "2020-05-27T14:33:29.916512Z"
    }
   },
   "outputs": [
    {
     "name": "stdout",
     "output_type": "stream",
     "text": [
      "root\n",
      " |-- campaign_id: string (nullable = true)\n",
      " |-- campaign_name: string (nullable = true)\n",
      " |-- phase_id: integer (nullable = true)\n",
      " |-- phase_name: string (nullable = true)\n",
      "\n"
     ]
    }
   ],
   "source": [
    "cm_red_df.printSchema()"
   ]
  },
  {
   "cell_type": "code",
   "execution_count": 12,
   "metadata": {
    "ExecuteTime": {
     "end_time": "2020-05-27T14:33:38.785452Z",
     "start_time": "2020-05-27T14:33:29.926103Z"
    }
   },
   "outputs": [],
   "source": [
    "c_id_names = (cm_red_df.select(\"campaign_id\", \"campaign_name\").distinct()\n",
    "         .rdd.map(lambda x : (x[0],x[1])).collectAsMap())"
   ]
  },
  {
   "cell_type": "markdown",
   "metadata": {},
   "source": [
    "# User distribution across campaigns"
   ]
  },
  {
   "cell_type": "code",
   "execution_count": 13,
   "metadata": {
    "ExecuteTime": {
     "end_time": "2020-05-27T14:33:38.788878Z",
     "start_time": "2020-05-27T14:33:38.786884Z"
    }
   },
   "outputs": [],
   "source": [
    "## data in ['2020-05-17', '2020-05-18', '2020-05-19']\n",
    "path1=\"s3a://midgar-aws-workspace/prod/mapmeasurements/redshift_backup/push_campaigns_customer/dt=2020-05-19\"\n"
   ]
  },
  {
   "cell_type": "code",
   "execution_count": 14,
   "metadata": {
    "ExecuteTime": {
     "end_time": "2020-05-27T14:33:39.219373Z",
     "start_time": "2020-05-27T14:33:38.790140Z"
    }
   },
   "outputs": [],
   "source": [
    "df1= spark.read.parquet(path1)"
   ]
  },
  {
   "cell_type": "code",
   "execution_count": 15,
   "metadata": {
    "ExecuteTime": {
     "end_time": "2020-05-27T14:33:55.810354Z",
     "start_time": "2020-05-27T14:33:39.220608Z"
    }
   },
   "outputs": [
    {
     "name": "stdout",
     "output_type": "stream",
     "text": [
      "+------------------------------------+\n",
      "|scheduler                           |\n",
      "+------------------------------------+\n",
      "|manual                              |\n",
      "|model-bus_inf_phase_inf_cat_affinity|\n",
      "|classic                             |\n",
      "|Old School                          |\n",
      "+------------------------------------+\n",
      "\n"
     ]
    }
   ],
   "source": [
    "df1.select('scheduler').distinct().show(4, False)"
   ]
  },
  {
   "cell_type": "code",
   "execution_count": 18,
   "metadata": {
    "ExecuteTime": {
     "end_time": "2020-05-27T14:34:01.863658Z",
     "start_time": "2020-05-27T14:34:01.662340Z"
    }
   },
   "outputs": [],
   "source": [
    "df_model=(df1.filter(F.col(\"scheduler\") == \"classic\")\n",
    "     .select(\"campaign_id\", \"customer_id\"))"
   ]
  },
  {
   "cell_type": "code",
   "execution_count": 23,
   "metadata": {
    "ExecuteTime": {
     "end_time": "2020-05-26T15:53:29.419792Z",
     "start_time": "2020-05-26T15:53:16.136012Z"
    }
   },
   "outputs": [
    {
     "data": {
      "text/plain": [
       "46133514"
      ]
     },
     "execution_count": 23,
     "metadata": {},
     "output_type": "execute_result"
    }
   ],
   "source": [
    "df_model.count()"
   ]
  },
  {
   "cell_type": "markdown",
   "metadata": {},
   "source": [
    "## user selection"
   ]
  },
  {
   "cell_type": "code",
   "execution_count": 19,
   "metadata": {
    "ExecuteTime": {
     "end_time": "2020-05-27T14:34:04.870858Z",
     "start_time": "2020-05-27T14:34:04.862849Z"
    }
   },
   "outputs": [],
   "source": [
    "users = df_model.select(\"customer_id\").distinct()#.randomSplit([0.2, 0.8], seed=522)[0]"
   ]
  },
  {
   "cell_type": "code",
   "execution_count": 20,
   "metadata": {
    "ExecuteTime": {
     "end_time": "2020-05-27T14:34:43.544138Z",
     "start_time": "2020-05-27T14:34:05.920852Z"
    }
   },
   "outputs": [],
   "source": [
    "#users.coalesce(5).write.mode('overwrite').parquet(savep+\"selected_users\")"
   ]
  },
  {
   "cell_type": "code",
   "execution_count": 21,
   "metadata": {
    "ExecuteTime": {
     "end_time": "2020-05-27T14:34:43.819898Z",
     "start_time": "2020-05-27T14:34:43.545619Z"
    }
   },
   "outputs": [],
   "source": [
    "users=spark.read.parquet(savep+\"selected_users\")"
   ]
  },
  {
   "cell_type": "code",
   "execution_count": 22,
   "metadata": {
    "ExecuteTime": {
     "end_time": "2020-05-27T14:34:47.153592Z",
     "start_time": "2020-05-27T14:34:43.821276Z"
    }
   },
   "outputs": [
    {
     "data": {
      "text/plain": [
       "29320475"
      ]
     },
     "execution_count": 22,
     "metadata": {},
     "output_type": "execute_result"
    }
   ],
   "source": [
    "users.count()"
   ]
  },
  {
   "cell_type": "markdown",
   "metadata": {},
   "source": [
    "## distribution"
   ]
  },
  {
   "cell_type": "code",
   "execution_count": 23,
   "metadata": {
    "ExecuteTime": {
     "end_time": "2020-05-27T14:35:11.638886Z",
     "start_time": "2020-05-27T14:35:11.599536Z"
    }
   },
   "outputs": [],
   "source": [
    "user_camp=(users.join(df_model, [\"customer_id\"]).groupby(\"campaign_id\")\n",
    "           .agg(F.countDistinct(\"customer_id\").alias(\"count\"))\n",
    "           .sort(F.col(\"count\").desc()))"
   ]
  },
  {
   "cell_type": "code",
   "execution_count": 14,
   "metadata": {
    "ExecuteTime": {
     "end_time": "2020-05-25T17:09:11.376215Z",
     "start_time": "2020-05-25T17:07:31.119847Z"
    }
   },
   "outputs": [
    {
     "data": {
      "text/plain": [
       "100"
      ]
     },
     "execution_count": 14,
     "metadata": {},
     "output_type": "execute_result"
    }
   ],
   "source": [
    "user_camp.count()"
   ]
  },
  {
   "cell_type": "code",
   "execution_count": 24,
   "metadata": {
    "ExecuteTime": {
     "end_time": "2020-05-27T14:36:07.586360Z",
     "start_time": "2020-05-27T14:35:15.970752Z"
    }
   },
   "outputs": [],
   "source": [
    "#user_camp.coalesce(1).write.mode('overwrite').parquet(savep+\"campaign_user_distribution\")"
   ]
  },
  {
   "cell_type": "code",
   "execution_count": 25,
   "metadata": {
    "ExecuteTime": {
     "end_time": "2020-05-27T14:36:07.992564Z",
     "start_time": "2020-05-27T14:36:07.587778Z"
    }
   },
   "outputs": [],
   "source": [
    "user_camp=spark.read.parquet(savep+\"campaign_user_distribution\")"
   ]
  },
  {
   "cell_type": "markdown",
   "metadata": {},
   "source": [
    "## entropy"
   ]
  },
  {
   "cell_type": "code",
   "execution_count": 26,
   "metadata": {
    "ExecuteTime": {
     "end_time": "2020-05-27T14:36:07.996001Z",
     "start_time": "2020-05-27T14:36:07.994017Z"
    }
   },
   "outputs": [],
   "source": [
    "from scipy.stats import entropy"
   ]
  },
  {
   "cell_type": "code",
   "execution_count": 27,
   "metadata": {
    "ExecuteTime": {
     "end_time": "2020-05-27T14:36:08.540143Z",
     "start_time": "2020-05-27T14:36:07.997042Z"
    }
   },
   "outputs": [
    {
     "name": "stderr",
     "output_type": "stream",
     "text": [
      "/opt/conda/lib/python3.7/site-packages/pyarrow/util.py:39: FutureWarning: pyarrow.open_stream is deprecated as of 0.17.0, please use pyarrow.ipc.open_stream instead\n",
      "  warnings.warn(msg, FutureWarning)\n"
     ]
    }
   ],
   "source": [
    "user_camp_pdf=user_camp.toPandas().sort_values(by='count', ascending=False)"
   ]
  },
  {
   "cell_type": "code",
   "execution_count": 28,
   "metadata": {
    "ExecuteTime": {
     "end_time": "2020-05-27T14:36:08.550073Z",
     "start_time": "2020-05-27T14:36:08.541338Z"
    }
   },
   "outputs": [],
   "source": [
    "s = sum(user_camp_pdf['count'].to_numpy())\n",
    "user_camp_pdf['p'] = user_camp_pdf['count']/s"
   ]
  },
  {
   "cell_type": "code",
   "execution_count": 29,
   "metadata": {
    "ExecuteTime": {
     "end_time": "2020-05-27T14:36:08.635143Z",
     "start_time": "2020-05-27T14:36:08.551178Z"
    }
   },
   "outputs": [
    {
     "data": {
      "text/plain": [
       "2.0566838279454847"
      ]
     },
     "execution_count": 29,
     "metadata": {},
     "output_type": "execute_result"
    }
   ],
   "source": [
    "entropy(user_camp_pdf['p'])"
   ]
  },
  {
   "cell_type": "markdown",
   "metadata": {},
   "source": [
    "## plot"
   ]
  },
  {
   "cell_type": "code",
   "execution_count": 30,
   "metadata": {
    "ExecuteTime": {
     "end_time": "2020-05-27T14:36:25.843712Z",
     "start_time": "2020-05-27T14:36:25.839876Z"
    }
   },
   "outputs": [],
   "source": [
    "def _plot(data, x, y, title):\n",
    "    plt.figure(figsize=(16, 6))\n",
    "    result = data.sort_values(y, ascending=False)\n",
    "    ax = sns.barplot(x=x, y=y, data=data, order=result[x])\n",
    "    ax.set_title(title)\n",
    "    ax.set_xticklabels(ax.get_xticklabels(), rotation=45, horizontalalignment='right')"
   ]
  },
  {
   "cell_type": "code",
   "execution_count": 31,
   "metadata": {
    "ExecuteTime": {
     "end_time": "2020-05-27T14:36:26.521926Z",
     "start_time": "2020-05-27T14:36:26.512211Z"
    }
   },
   "outputs": [
    {
     "data": {
      "text/html": [
       "<div>\n",
       "<style scoped>\n",
       "    .dataframe tbody tr th:only-of-type {\n",
       "        vertical-align: middle;\n",
       "    }\n",
       "\n",
       "    .dataframe tbody tr th {\n",
       "        vertical-align: top;\n",
       "    }\n",
       "\n",
       "    .dataframe thead th {\n",
       "        text-align: right;\n",
       "    }\n",
       "</style>\n",
       "<table border=\"1\" class=\"dataframe\">\n",
       "  <thead>\n",
       "    <tr style=\"text-align: right;\">\n",
       "      <th></th>\n",
       "      <th>campaign_id</th>\n",
       "      <th>count</th>\n",
       "      <th>p</th>\n",
       "    </tr>\n",
       "  </thead>\n",
       "  <tbody>\n",
       "    <tr>\n",
       "      <th>0</th>\n",
       "      <td>97031</td>\n",
       "      <td>24183638</td>\n",
       "      <td>0.583658</td>\n",
       "    </tr>\n",
       "    <tr>\n",
       "      <th>1</th>\n",
       "      <td>96890</td>\n",
       "      <td>1689118</td>\n",
       "      <td>0.040766</td>\n",
       "    </tr>\n",
       "    <tr>\n",
       "      <th>2</th>\n",
       "      <td>96253</td>\n",
       "      <td>1483906</td>\n",
       "      <td>0.035813</td>\n",
       "    </tr>\n",
       "    <tr>\n",
       "      <th>3</th>\n",
       "      <td>96888</td>\n",
       "      <td>1313833</td>\n",
       "      <td>0.031709</td>\n",
       "    </tr>\n",
       "    <tr>\n",
       "      <th>4</th>\n",
       "      <td>95691</td>\n",
       "      <td>1248170</td>\n",
       "      <td>0.030124</td>\n",
       "    </tr>\n",
       "    <tr>\n",
       "      <th>5</th>\n",
       "      <td>96889</td>\n",
       "      <td>1196935</td>\n",
       "      <td>0.028887</td>\n",
       "    </tr>\n",
       "    <tr>\n",
       "      <th>6</th>\n",
       "      <td>96251</td>\n",
       "      <td>1123227</td>\n",
       "      <td>0.027108</td>\n",
       "    </tr>\n",
       "    <tr>\n",
       "      <th>7</th>\n",
       "      <td>96252</td>\n",
       "      <td>1026878</td>\n",
       "      <td>0.024783</td>\n",
       "    </tr>\n",
       "    <tr>\n",
       "      <th>8</th>\n",
       "      <td>86098</td>\n",
       "      <td>911453</td>\n",
       "      <td>0.021997</td>\n",
       "    </tr>\n",
       "    <tr>\n",
       "      <th>9</th>\n",
       "      <td>86137</td>\n",
       "      <td>903468</td>\n",
       "      <td>0.021805</td>\n",
       "    </tr>\n",
       "    <tr>\n",
       "      <th>10</th>\n",
       "      <td>86161</td>\n",
       "      <td>877873</td>\n",
       "      <td>0.021187</td>\n",
       "    </tr>\n",
       "    <tr>\n",
       "      <th>11</th>\n",
       "      <td>95693</td>\n",
       "      <td>544780</td>\n",
       "      <td>0.013148</td>\n",
       "    </tr>\n",
       "    <tr>\n",
       "      <th>12</th>\n",
       "      <td>95689</td>\n",
       "      <td>373146</td>\n",
       "      <td>0.009006</td>\n",
       "    </tr>\n",
       "    <tr>\n",
       "      <th>13</th>\n",
       "      <td>96694</td>\n",
       "      <td>285378</td>\n",
       "      <td>0.006887</td>\n",
       "    </tr>\n",
       "    <tr>\n",
       "      <th>14</th>\n",
       "      <td>95160</td>\n",
       "      <td>282408</td>\n",
       "      <td>0.006816</td>\n",
       "    </tr>\n",
       "    <tr>\n",
       "      <th>15</th>\n",
       "      <td>95685</td>\n",
       "      <td>239588</td>\n",
       "      <td>0.005782</td>\n",
       "    </tr>\n",
       "    <tr>\n",
       "      <th>16</th>\n",
       "      <td>95161</td>\n",
       "      <td>214956</td>\n",
       "      <td>0.005188</td>\n",
       "    </tr>\n",
       "    <tr>\n",
       "      <th>17</th>\n",
       "      <td>95546</td>\n",
       "      <td>210782</td>\n",
       "      <td>0.005087</td>\n",
       "    </tr>\n",
       "    <tr>\n",
       "      <th>18</th>\n",
       "      <td>96263</td>\n",
       "      <td>206329</td>\n",
       "      <td>0.004980</td>\n",
       "    </tr>\n",
       "    <tr>\n",
       "      <th>19</th>\n",
       "      <td>96615</td>\n",
       "      <td>205972</td>\n",
       "      <td>0.004971</td>\n",
       "    </tr>\n",
       "  </tbody>\n",
       "</table>\n",
       "</div>"
      ],
      "text/plain": [
       "   campaign_id     count         p\n",
       "0        97031  24183638  0.583658\n",
       "1        96890   1689118  0.040766\n",
       "2        96253   1483906  0.035813\n",
       "3        96888   1313833  0.031709\n",
       "4        95691   1248170  0.030124\n",
       "5        96889   1196935  0.028887\n",
       "6        96251   1123227  0.027108\n",
       "7        96252   1026878  0.024783\n",
       "8        86098    911453  0.021997\n",
       "9        86137    903468  0.021805\n",
       "10       86161    877873  0.021187\n",
       "11       95693    544780  0.013148\n",
       "12       95689    373146  0.009006\n",
       "13       96694    285378  0.006887\n",
       "14       95160    282408  0.006816\n",
       "15       95685    239588  0.005782\n",
       "16       95161    214956  0.005188\n",
       "17       95546    210782  0.005087\n",
       "18       96263    206329  0.004980\n",
       "19       96615    205972  0.004971"
      ]
     },
     "execution_count": 31,
     "metadata": {},
     "output_type": "execute_result"
    }
   ],
   "source": [
    "user_camp_pdf.head(20)"
   ]
  },
  {
   "cell_type": "code",
   "execution_count": 32,
   "metadata": {
    "ExecuteTime": {
     "end_time": "2020-05-27T14:36:29.511002Z",
     "start_time": "2020-05-27T14:36:29.076118Z"
    }
   },
   "outputs": [
    {
     "data": {
      "image/png": "[encoded data removed]",
      "text/plain": [
       "<Figure size 1152x432 with 1 Axes>"
      ]
     },
     "metadata": {},
     "output_type": "display_data"
    }
   ],
   "source": [
    "_plot(user_camp_pdf.head(40), 'campaign_id', 'p', 'campaign_user_distribution')"
   ]
  },
  {
   "cell_type": "markdown",
   "metadata": {},
   "source": [
    "# User distribution across lifecycle phases"
   ]
  },
  {
   "cell_type": "code",
   "execution_count": 39,
   "metadata": {
    "ExecuteTime": {
     "end_time": "2020-05-26T15:57:48.981340Z",
     "start_time": "2020-05-26T15:57:48.968800Z"
    }
   },
   "outputs": [],
   "source": [
    "#user_campaign=users.join(df_model.select('customer_id', 'campaign_id'), on=['customer_id'])"
   ]
  },
  {
   "cell_type": "code",
   "execution_count": 33,
   "metadata": {
    "ExecuteTime": {
     "end_time": "2020-05-27T14:36:49.808080Z",
     "start_time": "2020-05-27T14:36:49.794375Z"
    }
   },
   "outputs": [],
   "source": [
    "user_phase_left=df_model.join(cm_red_df, on=['campaign_id']).select('customer_id', 'phase_id')"
   ]
  },
  {
   "cell_type": "code",
   "execution_count": 34,
   "metadata": {
    "ExecuteTime": {
     "end_time": "2020-05-27T14:37:40.587415Z",
     "start_time": "2020-05-27T14:36:49.809404Z"
    }
   },
   "outputs": [],
   "source": [
    "#user_phase_left.coalesce(10).write.mode('overwrite').parquet(savep+\"/user_phase_left\")"
   ]
  },
  {
   "cell_type": "code",
   "execution_count": 35,
   "metadata": {
    "ExecuteTime": {
     "end_time": "2020-05-27T14:37:40.809160Z",
     "start_time": "2020-05-27T14:37:40.588997Z"
    }
   },
   "outputs": [],
   "source": [
    "user_phase_left=spark.read.parquet(savep+\"/user_phase_left\")"
   ]
  },
  {
   "cell_type": "code",
   "execution_count": 36,
   "metadata": {
    "ExecuteTime": {
     "end_time": "2020-05-27T14:37:40.886840Z",
     "start_time": "2020-05-27T14:37:40.810415Z"
    }
   },
   "outputs": [],
   "source": [
    "user_phase=(user_phase_left.groupby(\"phase_id\")\n",
    "            .agg(F.count(\"customer_id\").alias(\"count\"))\n",
    "            .sort(F.col(\"count\").desc()))"
   ]
  },
  {
   "cell_type": "code",
   "execution_count": 37,
   "metadata": {
    "ExecuteTime": {
     "end_time": "2020-05-27T14:37:45.063721Z",
     "start_time": "2020-05-27T14:37:40.888020Z"
    }
   },
   "outputs": [],
   "source": [
    "#user_phase.coalesce(10).write.mode('overwrite').parquet(savep+\"/user_phase\")"
   ]
  },
  {
   "cell_type": "code",
   "execution_count": 38,
   "metadata": {
    "ExecuteTime": {
     "end_time": "2020-05-27T14:37:45.276516Z",
     "start_time": "2020-05-27T14:37:45.064911Z"
    }
   },
   "outputs": [],
   "source": [
    "user_phase=spark.read.parquet(savep+\"user_phase\")"
   ]
  },
  {
   "cell_type": "markdown",
   "metadata": {},
   "source": [
    "## plot"
   ]
  },
  {
   "cell_type": "code",
   "execution_count": 39,
   "metadata": {
    "ExecuteTime": {
     "end_time": "2020-05-27T14:38:10.406081Z",
     "start_time": "2020-05-27T14:38:10.208114Z"
    }
   },
   "outputs": [
    {
     "name": "stderr",
     "output_type": "stream",
     "text": [
      "/opt/conda/lib/python3.7/site-packages/pyarrow/util.py:39: FutureWarning: pyarrow.open_stream is deprecated as of 0.17.0, please use pyarrow.ipc.open_stream instead\n",
      "  warnings.warn(msg, FutureWarning)\n"
     ]
    }
   ],
   "source": [
    "user_phase_pdf=user_phase.toPandas().sort_values(by='count', ascending=False)"
   ]
  },
  {
   "cell_type": "code",
   "execution_count": 40,
   "metadata": {
    "ExecuteTime": {
     "end_time": "2020-05-27T14:38:10.718098Z",
     "start_time": "2020-05-27T14:38:10.653725Z"
    }
   },
   "outputs": [],
   "source": [
    "s = sum(user_phase_pdf['count'].to_numpy())\n",
    "user_phase_pdf['p'] = user_phase_pdf['count']/s"
   ]
  },
  {
   "cell_type": "code",
   "execution_count": 41,
   "metadata": {
    "ExecuteTime": {
     "end_time": "2020-05-27T14:38:11.135677Z",
     "start_time": "2020-05-27T14:38:11.129177Z"
    }
   },
   "outputs": [
    {
     "data": {
      "text/html": [
       "<div>\n",
       "<style scoped>\n",
       "    .dataframe tbody tr th:only-of-type {\n",
       "        vertical-align: middle;\n",
       "    }\n",
       "\n",
       "    .dataframe tbody tr th {\n",
       "        vertical-align: top;\n",
       "    }\n",
       "\n",
       "    .dataframe thead th {\n",
       "        text-align: right;\n",
       "    }\n",
       "</style>\n",
       "<table border=\"1\" class=\"dataframe\">\n",
       "  <thead>\n",
       "    <tr style=\"text-align: right;\">\n",
       "      <th></th>\n",
       "      <th>phase_id</th>\n",
       "      <th>count</th>\n",
       "      <th>p</th>\n",
       "    </tr>\n",
       "  </thead>\n",
       "  <tbody>\n",
       "    <tr>\n",
       "      <th>0</th>\n",
       "      <td>1</td>\n",
       "      <td>41653352</td>\n",
       "      <td>0.907519</td>\n",
       "    </tr>\n",
       "    <tr>\n",
       "      <th>1</th>\n",
       "      <td>2</td>\n",
       "      <td>3826294</td>\n",
       "      <td>0.083365</td>\n",
       "    </tr>\n",
       "    <tr>\n",
       "      <th>2</th>\n",
       "      <td>4</td>\n",
       "      <td>277436</td>\n",
       "      <td>0.006045</td>\n",
       "    </tr>\n",
       "    <tr>\n",
       "      <th>3</th>\n",
       "      <td>3</td>\n",
       "      <td>140989</td>\n",
       "      <td>0.003072</td>\n",
       "    </tr>\n",
       "  </tbody>\n",
       "</table>\n",
       "</div>"
      ],
      "text/plain": [
       "   phase_id     count         p\n",
       "0         1  41653352  0.907519\n",
       "1         2   3826294  0.083365\n",
       "2         4    277436  0.006045\n",
       "3         3    140989  0.003072"
      ]
     },
     "execution_count": 41,
     "metadata": {},
     "output_type": "execute_result"
    }
   ],
   "source": [
    "user_phase_pdf.head()"
   ]
  },
  {
   "cell_type": "code",
   "execution_count": 42,
   "metadata": {
    "ExecuteTime": {
     "end_time": "2020-05-27T14:38:12.008101Z",
     "start_time": "2020-05-27T14:38:11.865069Z"
    }
   },
   "outputs": [
    {
     "data": {
      "image/png": "[encoded data removed]",
      "text/plain": [
       "<Figure size 1152x432 with 1 Axes>"
      ]
     },
     "metadata": {},
     "output_type": "display_data"
    }
   ],
   "source": [
    "_plot(user_phase_pdf, 'phase_id', 'p', 'phase_user_distribution')"
   ]
  },
  {
   "cell_type": "code",
   "execution_count": null,
   "metadata": {},
   "outputs": [],
   "source": []
  },
  {
   "cell_type": "markdown",
   "metadata": {},
   "source": [
    "# Interactions"
   ]
  },
  {
   "cell_type": "code",
   "execution_count": 43,
   "metadata": {
    "ExecuteTime": {
     "end_time": "2020-05-27T14:38:16.549554Z",
     "start_time": "2020-05-27T14:38:16.547302Z"
    }
   },
   "outputs": [],
   "source": [
    "clicks_path=\"s3a://midgar-aws-workspace/prod/shinra/telescope/base/l1_banner_events_base_table/dt=\""
   ]
  },
  {
   "cell_type": "code",
   "execution_count": 44,
   "metadata": {
    "ExecuteTime": {
     "end_time": "2020-05-27T14:38:18.359996Z",
     "start_time": "2020-05-27T14:38:18.357034Z"
    }
   },
   "outputs": [],
   "source": [
    "click_map_dfs=map(lambda x: users.join(spark.read.parquet(clicks_path+x)\n",
    "                                       .select('customer_id', 'banner_clicks', 'sales').fillna(0), \n",
    "                                 on=['customer_id']), dates)"
   ]
  },
  {
   "cell_type": "code",
   "execution_count": 45,
   "metadata": {
    "ExecuteTime": {
     "end_time": "2020-05-27T14:38:26.994781Z",
     "start_time": "2020-05-27T14:38:18.855106Z"
    }
   },
   "outputs": [],
   "source": [
    "clikc_red_df=reduce(lambda x,y: x.union(y), click_map_dfs)"
   ]
  },
  {
   "cell_type": "code",
   "execution_count": 46,
   "metadata": {
    "ExecuteTime": {
     "end_time": "2020-05-27T14:38:26.999685Z",
     "start_time": "2020-05-27T14:38:26.996703Z"
    }
   },
   "outputs": [
    {
     "name": "stdout",
     "output_type": "stream",
     "text": [
      "root\n",
      " |-- customer_id: string (nullable = true)\n",
      " |-- banner_clicks: long (nullable = true)\n",
      " |-- sales: long (nullable = true)\n",
      "\n"
     ]
    }
   ],
   "source": [
    "clikc_red_df.printSchema()"
   ]
  },
  {
   "cell_type": "code",
   "execution_count": 47,
   "metadata": {
    "ExecuteTime": {
     "end_time": "2020-05-27T14:38:27.094038Z",
     "start_time": "2020-05-27T14:38:27.001232Z"
    }
   },
   "outputs": [],
   "source": [
    "cnt_cond = lambda cond: F.sum(F.when(cond, 1).otherwise(0))"
   ]
  },
  {
   "cell_type": "code",
   "execution_count": 48,
   "metadata": {
    "ExecuteTime": {
     "end_time": "2020-05-27T14:43:19.110319Z",
     "start_time": "2020-05-27T14:38:27.095510Z"
    }
   },
   "outputs": [
    {
     "name": "stdout",
     "output_type": "stream",
     "text": [
      "+----------+--------+--------------------+\n",
      "|     total|  clicks|          click_rate|\n",
      "+----------+--------+--------------------+\n",
      "|1156916692|58889420|0.050902040230914054|\n",
      "+----------+--------+--------------------+\n",
      "\n"
     ]
    }
   ],
   "source": [
    "(clikc_red_df\n",
    " .agg(F.count('banner_clicks').alias('total'), (F.sum('banner_clicks')).alias('clicks'))\n",
    " .withColumn(\"click_rate\", F.col('clicks') / F.col('total')).show())"
   ]
  },
  {
   "cell_type": "code",
   "execution_count": 49,
   "metadata": {
    "ExecuteTime": {
     "end_time": "2020-05-27T14:47:59.644609Z",
     "start_time": "2020-05-27T14:43:19.112033Z"
    }
   },
   "outputs": [
    {
     "name": "stdout",
     "output_type": "stream",
     "text": [
      "+----------+-----------+-------------------+\n",
      "|     total|sales_count|         sales_rate|\n",
      "+----------+-----------+-------------------+\n",
      "|1156916692|   89647583|0.07748836508272974|\n",
      "+----------+-----------+-------------------+\n",
      "\n"
     ]
    }
   ],
   "source": [
    "(clikc_red_df\n",
    " .agg(F.count('sales').alias('total'), (F.sum('sales')).alias('sales_count'))\n",
    " .withColumn(\"sales_rate\", F.col('sales_count') / F.col('total')).show())"
   ]
  },
  {
   "cell_type": "markdown",
   "metadata": {},
   "source": [
    "# RFM"
   ]
  },
  {
   "cell_type": "code",
   "execution_count": 50,
   "metadata": {
    "ExecuteTime": {
     "end_time": "2020-05-27T14:48:54.076945Z",
     "start_time": "2020-05-27T14:48:54.074673Z"
    }
   },
   "outputs": [],
   "source": [
    "bpath=\"s3a://midgar-aws-workspace/prod/mapfeatures/raw/baseTables/sales/dt=\""
   ]
  },
  {
   "cell_type": "code",
   "execution_count": 51,
   "metadata": {
    "ExecuteTime": {
     "end_time": "2020-05-27T14:48:54.487415Z",
     "start_time": "2020-05-27T14:48:54.484798Z"
    }
   },
   "outputs": [],
   "source": [
    "map_dfs=map(lambda x: users.join(spark.read.parquet(bpath+x).select('customer_id', 'selling_price', 'created_at'), \n",
    "                                 on=['customer_id']), dates)"
   ]
  },
  {
   "cell_type": "code",
   "execution_count": 52,
   "metadata": {
    "ExecuteTime": {
     "end_time": "2020-05-27T14:49:02.975434Z",
     "start_time": "2020-05-27T14:48:55.103381Z"
    }
   },
   "outputs": [],
   "source": [
    "red_df=reduce(lambda x,y: x.union(y), map_dfs)"
   ]
  },
  {
   "cell_type": "code",
   "execution_count": 75,
   "metadata": {
    "ExecuteTime": {
     "end_time": "2020-05-27T16:01:36.774217Z",
     "start_time": "2020-05-27T16:01:36.768111Z"
    }
   },
   "outputs": [],
   "source": [
    "def rfm(df, start_date, end_date):\n",
    "    \n",
    "    from pyspark.sql.types import FloatType\n",
    "    date_format_str ='yyyy-MM-dd'\n",
    "    \n",
    "    df_agg = (df.groupBy('customer_id')\n",
    "                    .agg(\n",
    "                        F.countDistinct('created_at').alias('frequency'),\n",
    "                        F.avg('selling_price').cast(FloatType()).alias('monetary_value'),\n",
    "                        F.sum('selling_price').cast(FloatType()).alias('total_value'),\n",
    "                        F.max('created_at').alias('max_dt'),\n",
    "                        F.min('created_at').alias('min_dt')\n",
    "                    ).withColumn('last_date', F.lit(end_date))\n",
    "    .withColumn('first_date', F.lit(start_date))\n",
    "    .withColumn('recency', F.datediff(\n",
    "                               F.date_add(F.to_date('last_date', date_format_str), 1),\n",
    "                               F.to_date('max_dt', date_format_str)\n",
    "                           ))\n",
    "    )\n",
    "    \n",
    "    return df_agg.select(df_agg.customer_id, df_agg.frequency, df_agg.recency, \n",
    "                         df_agg.monetary_value, df_agg.total_value)"
   ]
  },
  {
   "cell_type": "code",
   "execution_count": 76,
   "metadata": {
    "ExecuteTime": {
     "end_time": "2020-05-27T16:01:37.426866Z",
     "start_time": "2020-05-27T16:01:37.306941Z"
    }
   },
   "outputs": [],
   "source": [
    "rfm_df=rfm(red_df, start_date ,end_date)"
   ]
  },
  {
   "cell_type": "code",
   "execution_count": 77,
   "metadata": {
    "ExecuteTime": {
     "end_time": "2020-05-27T16:03:41.754358Z",
     "start_time": "2020-05-27T16:01:38.311031Z"
    }
   },
   "outputs": [],
   "source": [
    "f99=rfm_df.approxQuantile('frequency', [0.99], 1e-5)[0]\n",
    "rfm_df=rfm_df.filter(F.col('frequency') < f99)"
   ]
  },
  {
   "cell_type": "code",
   "execution_count": 78,
   "metadata": {
    "ExecuteTime": {
     "end_time": "2020-05-27T16:05:54.770003Z",
     "start_time": "2020-05-27T16:03:41.756248Z"
    }
   },
   "outputs": [],
   "source": [
    "m99=rfm_df.approxQuantile('total_value', [0.99], 1e-5)[0]\n",
    "rfm_df=rfm_df.filter(F.col('total_value') < m99)"
   ]
  },
  {
   "cell_type": "code",
   "execution_count": 79,
   "metadata": {
    "ExecuteTime": {
     "end_time": "2020-05-27T16:08:09.414130Z",
     "start_time": "2020-05-27T16:05:54.771781Z"
    }
   },
   "outputs": [
    {
     "name": "stdout",
     "output_type": "stream",
     "text": [
      "+-------+-----------------+-----------------+------------------+\n",
      "|summary|        frequency|          recency|       total_value|\n",
      "+-------+-----------------+-----------------+------------------+\n",
      "|  count|         13891416|         13891416|          13891416|\n",
      "|   mean|4.781737585282882|9.347670316690538|2657.6516657698276|\n",
      "| stddev|4.699331827343079|8.173536489130123|  4577.54558560732|\n",
      "|    min|                1|                1|               0.0|\n",
      "|    25%|                2|                3|             298.0|\n",
      "|    50%|                3|                7|             907.0|\n",
      "|    75%|                6|               14|            2744.0|\n",
      "|    max|               33|               31|          35402.34|\n",
      "+-------+-----------------+-----------------+------------------+\n",
      "\n"
     ]
    }
   ],
   "source": [
    "rfm_df.select('frequency',\"recency\", 'total_value').summary().show()"
   ]
  },
  {
   "cell_type": "code",
   "execution_count": 88,
   "metadata": {
    "ExecuteTime": {
     "end_time": "2020-05-27T16:40:32.019247Z",
     "start_time": "2020-05-27T16:40:31.981125Z"
    }
   },
   "outputs": [],
   "source": [
    "rfm_df=rfm_df.withColumn('type', F.lit('classic'))"
   ]
  },
  {
   "cell_type": "code",
   "execution_count": 91,
   "metadata": {
    "ExecuteTime": {
     "end_time": "2020-05-27T16:43:41.726267Z",
     "start_time": "2020-05-27T16:41:33.607725Z"
    }
   },
   "outputs": [
    {
     "data": {
      "text/plain": [
       "13891416"
      ]
     },
     "execution_count": 91,
     "metadata": {},
     "output_type": "execute_result"
    }
   ],
   "source": [
    "rfm_df.count()"
   ]
  },
  {
   "cell_type": "code",
   "execution_count": 109,
   "metadata": {
    "ExecuteTime": {
     "end_time": "2020-05-27T17:48:42.164684Z",
     "start_time": "2020-05-27T17:46:06.905672Z"
    }
   },
   "outputs": [],
   "source": [
    "rfm_df.coalesce(5).write.mode('overwrite').parquet(savep+\"/rfm_df\")"
   ]
  },
  {
   "cell_type": "code",
   "execution_count": 116,
   "metadata": {
    "ExecuteTime": {
     "end_time": "2020-05-27T17:57:53.889479Z",
     "start_time": "2020-05-27T17:55:44.602482Z"
    }
   },
   "outputs": [
    {
     "data": {
      "text/plain": [
       "15406695"
      ]
     },
     "execution_count": 116,
     "metadata": {},
     "output_type": "execute_result"
    }
   ],
   "source": [
    "rfm_df.count()"
   ]
  },
  {
   "cell_type": "markdown",
   "metadata": {},
   "source": [
    "## load model data"
   ]
  },
  {
   "cell_type": "code",
   "execution_count": 89,
   "metadata": {
    "ExecuteTime": {
     "end_time": "2020-05-27T16:40:34.463269Z",
     "start_time": "2020-05-27T16:40:34.170988Z"
    }
   },
   "outputs": [],
   "source": [
    "model_pdf=(spark\n",
    "           .read\n",
    "           .parquet(\"s3a://midgar-aws-workspace/stg/shinra/modelling/journeyautomation/eval/pcgm-1977/rfm_df\"))"
   ]
  },
  {
   "cell_type": "code",
   "execution_count": 90,
   "metadata": {
    "ExecuteTime": {
     "end_time": "2020-05-27T16:40:57.223897Z",
     "start_time": "2020-05-27T16:40:56.854856Z"
    }
   },
   "outputs": [
    {
     "name": "stdout",
     "output_type": "stream",
     "text": [
      "+-----------+---------+-------+--------------+-----------+-----+\n",
      "|customer_id|frequency|recency|monetary_value|total_value|type |\n",
      "+-----------+---------+-------+--------------+-----------+-----+\n",
      "|1000001077 |5        |7      |372.2         |1861.0     |model|\n",
      "|1000003973 |2        |7      |219.0         |438.0      |model|\n",
      "+-----------+---------+-------+--------------+-----------+-----+\n",
      "only showing top 2 rows\n",
      "\n"
     ]
    }
   ],
   "source": [
    "model_pdf.show(2,False)"
   ]
  },
  {
   "cell_type": "markdown",
   "metadata": {},
   "source": [
    "## compare"
   ]
  },
  {
   "cell_type": "code",
   "execution_count": 159,
   "metadata": {
    "ExecuteTime": {
     "end_time": "2020-05-27T18:34:23.064317Z",
     "start_time": "2020-05-27T18:34:22.766822Z"
    }
   },
   "outputs": [],
   "source": [
    "#mixed_df=rfm_df.union(model_pdf)\n",
    "mixed_df=spark.read.parquet(savep+\"/rfm_df\")\n",
    "#mixed_df.count()"
   ]
  },
  {
   "cell_type": "markdown",
   "metadata": {},
   "source": [
    "### spark bin"
   ]
  },
  {
   "cell_type": "code",
   "execution_count": 124,
   "metadata": {
    "ExecuteTime": {
     "end_time": "2020-05-27T18:10:00.450100Z",
     "start_time": "2020-05-27T18:09:46.175492Z"
    }
   },
   "outputs": [
    {
     "name": "stdout",
     "output_type": "stream",
     "text": [
      "+-------+-----------------+-----------------+------------------+\n",
      "|summary|        frequency|          recency|       total_value|\n",
      "+-------+-----------------+-----------------+------------------+\n",
      "|  count|         15406695|         15406695|          15406695|\n",
      "|   mean|4.789562459696905| 9.33431381616888|2666.3181153445703|\n",
      "| stddev|4.704375233968258|8.169131645507187| 4591.528323981261|\n",
      "|    min|                1|                1|               0.0|\n",
      "|    25%|                2|                3|             298.0|\n",
      "|    50%|                3|                6|             910.0|\n",
      "|    75%|                6|               14|           2753.48|\n",
      "|    max|               33|               31|           36538.0|\n",
      "+-------+-----------------+-----------------+------------------+\n",
      "\n"
     ]
    }
   ],
   "source": [
    "mixed_df.select('frequency',\"recency\", 'total_value').summary().show()"
   ]
  },
  {
   "cell_type": "code",
   "execution_count": 150,
   "metadata": {
    "ExecuteTime": {
     "end_time": "2020-05-27T18:30:31.940947Z",
     "start_time": "2020-05-27T18:30:31.938223Z"
    }
   },
   "outputs": [],
   "source": [
    "from pyspark.ml.feature import Bucketizer,QuantileDiscretizer"
   ]
  },
  {
   "cell_type": "code",
   "execution_count": 160,
   "metadata": {
    "ExecuteTime": {
     "end_time": "2020-05-27T18:34:27.847480Z",
     "start_time": "2020-05-27T18:34:25.869979Z"
    }
   },
   "outputs": [],
   "source": [
    "##bucketizer = Bucketizer(splits=[0, 1, 3, 6, 14, 31],inputCol=\"recency\", outputCol=\"R\")\n",
    "bucketizer = QuantileDiscretizer(numBuckets=4,inputCol=\"recency\", outputCol=\"R\")\n",
    "mixed_df = bucketizer.setHandleInvalid(\"keep\").fit(mixed_df).transform(mixed_df)"
   ]
  },
  {
   "cell_type": "code",
   "execution_count": 161,
   "metadata": {
    "ExecuteTime": {
     "end_time": "2020-05-27T18:34:32.741525Z",
     "start_time": "2020-05-27T18:34:27.849363Z"
    }
   },
   "outputs": [],
   "source": [
    "#bucketizer1 = Bucketizer(splits=[0, 1, 2, 3, 6, 33],inputCol=\"frequency\", outputCol=\"F\")\n",
    "bucketizer1 = QuantileDiscretizer(numBuckets=4,inputCol=\"frequency\", outputCol=\"F\")\n",
    "mixed_df = bucketizer1.setHandleInvalid(\"keep\").fit(mixed_df).transform(mixed_df)"
   ]
  },
  {
   "cell_type": "code",
   "execution_count": 162,
   "metadata": {
    "ExecuteTime": {
     "end_time": "2020-05-27T18:34:39.033842Z",
     "start_time": "2020-05-27T18:34:32.743461Z"
    }
   },
   "outputs": [],
   "source": [
    "#bucketizer2 = Bucketizer(splits=[ float('-Inf'), 0, 298, 910, 2754, 36538.0],inputCol=\"total_value\", outputCol=\"M\")\n",
    "bucketizer2 = QuantileDiscretizer(numBuckets=4,inputCol=\"total_value\", outputCol=\"M\")\n",
    "mixed_df = bucketizer2.setHandleInvalid(\"keep\").fit(mixed_df).transform(mixed_df)"
   ]
  },
  {
   "cell_type": "code",
   "execution_count": 163,
   "metadata": {
    "ExecuteTime": {
     "end_time": "2020-05-27T18:34:40.246003Z",
     "start_time": "2020-05-27T18:34:39.035592Z"
    }
   },
   "outputs": [
    {
     "name": "stdout",
     "output_type": "stream",
     "text": [
      "+-----------+---------+-------+--------------+-----------+-------+---+---+---+\n",
      "|customer_id|frequency|recency|monetary_value|total_value|type   |R  |F  |M  |\n",
      "+-----------+---------+-------+--------------+-----------+-------+---+---+---+\n",
      "|10000000   |1        |20     |219.0         |219.0      |classic|3.0|0.0|0.0|\n",
      "|1000000231 |1        |25     |49.0          |49.0       |classic|3.0|0.0|0.0|\n",
      "|1000000391 |5        |10     |239.0         |1195.0     |classic|2.0|2.0|2.0|\n",
      "|1000000402 |3        |30     |150.33333     |451.0      |classic|3.0|2.0|1.0|\n",
      "|1000000522 |11       |1      |369.27274     |4062.0     |classic|0.0|3.0|3.0|\n",
      "+-----------+---------+-------+--------------+-----------+-------+---+---+---+\n",
      "only showing top 5 rows\n",
      "\n"
     ]
    }
   ],
   "source": [
    "mixed_df.show(5,False)"
   ]
  },
  {
   "cell_type": "code",
   "execution_count": 164,
   "metadata": {
    "ExecuteTime": {
     "end_time": "2020-05-27T18:34:44.230690Z",
     "start_time": "2020-05-27T18:34:44.218475Z"
    }
   },
   "outputs": [],
   "source": [
    "mixed_df=mixed_df.withColumn('F', F.lit(1) + F.col('F'))"
   ]
  },
  {
   "cell_type": "code",
   "execution_count": 165,
   "metadata": {
    "ExecuteTime": {
     "end_time": "2020-05-27T18:34:44.967338Z",
     "start_time": "2020-05-27T18:34:44.956245Z"
    }
   },
   "outputs": [],
   "source": [
    "mixed_df=mixed_df.withColumn('M', F.lit(1) + F.col('M'))"
   ]
  },
  {
   "cell_type": "code",
   "execution_count": 166,
   "metadata": {
    "ExecuteTime": {
     "end_time": "2020-05-27T18:34:45.331380Z",
     "start_time": "2020-05-27T18:34:45.323200Z"
    }
   },
   "outputs": [],
   "source": [
    "mixed_df=mixed_df.withColumn('R', F.lit(4) - F.col('R'))"
   ]
  },
  {
   "cell_type": "code",
   "execution_count": 167,
   "metadata": {
    "ExecuteTime": {
     "end_time": "2020-05-27T18:34:47.951817Z",
     "start_time": "2020-05-27T18:34:45.946954Z"
    }
   },
   "outputs": [
    {
     "name": "stdout",
     "output_type": "stream",
     "text": [
      "+-----------+---------+-------+--------------+-----------+-------+---+---+---+\n",
      "|customer_id|frequency|recency|monetary_value|total_value|type   |R  |F  |M  |\n",
      "+-----------+---------+-------+--------------+-----------+-------+---+---+---+\n",
      "|10000000   |1        |20     |219.0         |219.0      |classic|1.0|1.0|1.0|\n",
      "|1000000231 |1        |25     |49.0          |49.0       |classic|1.0|1.0|1.0|\n",
      "|1000000391 |5        |10     |239.0         |1195.0     |classic|2.0|3.0|3.0|\n",
      "|1000000402 |3        |30     |150.33333     |451.0      |classic|1.0|3.0|2.0|\n",
      "|1000000522 |11       |1      |369.27274     |4062.0     |classic|4.0|4.0|4.0|\n",
      "+-----------+---------+-------+--------------+-----------+-------+---+---+---+\n",
      "only showing top 5 rows\n",
      "\n"
     ]
    }
   ],
   "source": [
    "mixed_df.show(5,False)"
   ]
  },
  {
   "cell_type": "code",
   "execution_count": 168,
   "metadata": {
    "ExecuteTime": {
     "end_time": "2020-05-27T18:37:51.776196Z",
     "start_time": "2020-05-27T18:37:51.767683Z"
    }
   },
   "outputs": [],
   "source": [
    "mixed_df=mixed_df.withColumn('rfm', F.col(\"R\")+F.col('F')+F.col('M'))"
   ]
  },
  {
   "cell_type": "code",
   "execution_count": 169,
   "metadata": {
    "ExecuteTime": {
     "end_time": "2020-05-27T18:38:41.418963Z",
     "start_time": "2020-05-27T18:38:39.773428Z"
    }
   },
   "outputs": [
    {
     "name": "stdout",
     "output_type": "stream",
     "text": [
      "+-------+------------------+\n",
      "|summary|               rfm|\n",
      "+-------+------------------+\n",
      "|  count|           1515279|\n",
      "|   mean|7.6766602058102835|\n",
      "| stddev|2.7177344886414163|\n",
      "|    min|               3.0|\n",
      "|    25%|               5.0|\n",
      "|    50%|               8.0|\n",
      "|    75%|              10.0|\n",
      "|    max|              12.0|\n",
      "+-------+------------------+\n",
      "\n"
     ]
    }
   ],
   "source": [
    "mixed_df.filter(F.col('type') == 'model').select('rfm').summary().show()"
   ]
  },
  {
   "cell_type": "code",
   "execution_count": 170,
   "metadata": {
    "ExecuteTime": {
     "end_time": "2020-05-27T18:38:54.779452Z",
     "start_time": "2020-05-27T18:38:49.792440Z"
    }
   },
   "outputs": [
    {
     "name": "stdout",
     "output_type": "stream",
     "text": [
      "+-------+------------------+\n",
      "|summary|               rfm|\n",
      "+-------+------------------+\n",
      "|  count|          13891416|\n",
      "|   mean|7.6153667847827755|\n",
      "| stddev|2.7188079522970767|\n",
      "|    min|               3.0|\n",
      "|    25%|               5.0|\n",
      "|    50%|               8.0|\n",
      "|    75%|              10.0|\n",
      "|    max|              12.0|\n",
      "+-------+------------------+\n",
      "\n"
     ]
    }
   ],
   "source": [
    "mixed_df.filter(F.col('type') == 'classic').select('rfm').summary().show()"
   ]
  },
  {
   "cell_type": "markdown",
   "metadata": {},
   "source": [
    "### pandas qcut"
   ]
  },
  {
   "cell_type": "code",
   "execution_count": 119,
   "metadata": {
    "ExecuteTime": {
     "end_time": "2020-05-27T18:03:29.166454Z",
     "start_time": "2020-05-27T18:03:18.979311Z"
    }
   },
   "outputs": [
    {
     "name": "stderr",
     "output_type": "stream",
     "text": [
      "/opt/conda/lib/python3.7/site-packages/pyarrow/util.py:39: FutureWarning: pyarrow.open_stream is deprecated as of 0.17.0, please use pyarrow.ipc.open_stream instead\n",
      "  warnings.warn(msg, FutureWarning)\n"
     ]
    }
   ],
   "source": [
    "mixed_pdf=mixed_df.toPandas()"
   ]
  },
  {
   "cell_type": "code",
   "execution_count": 94,
   "metadata": {
    "ExecuteTime": {
     "end_time": "2020-05-27T16:48:33.613863Z",
     "start_time": "2020-05-27T16:48:21.977647Z"
    }
   },
   "outputs": [
    {
     "data": {
      "image/png": "[encoded data removed]",
      "text/plain": [
       "<Figure size 1440x720 with 3 Axes>"
      ]
     },
     "metadata": {},
     "output_type": "display_data"
    }
   ],
   "source": [
    "# Plot RFM distributions\n",
    "plt.figure(figsize=(20,10))\n",
    "# Plot distribution of R\n",
    "plt.subplot(3, 1, 1); sns.distplot(mixed_pdf['recency'])\n",
    "# Plot distribution of F\n",
    "plt.subplot(3, 1, 2); sns.distplot(mixed_pdf['frequency'])\n",
    "# Plot distribution of M\n",
    "plt.subplot(3, 1, 3); sns.distplot(mixed_pdf['total_value'])\n",
    "# Show the plot\n",
    "plt.show()"
   ]
  },
  {
   "cell_type": "code",
   "execution_count": 121,
   "metadata": {
    "ExecuteTime": {
     "end_time": "2020-05-27T18:04:14.983392Z",
     "start_time": "2020-05-27T18:04:14.976715Z"
    }
   },
   "outputs": [],
   "source": [
    "def compute_rfm_value(df, n=4):\n",
    "    \n",
    "    import numpy as np\n",
    "    \n",
    "    r_labels = range(n, 0, -1); \n",
    "    f_labels = range(1, n+1)\n",
    "    r_groups = pd.qcut(df['recency'], q=n, labels=r_labels)\n",
    "    f_groups = pd.qcut(df['frequency'], q=n, labels=f_labels)\n",
    "    df = df.assign(R = r_groups.values, F = f_groups.values)\n",
    "    \n",
    "    m_labels = range(1, n+1)\n",
    "    m_groups = pd.qcut(df['total_value'], q=n, labels=m_labels)\n",
    "    df = df.assign(M = m_groups.values)\n",
    "    \n",
    "    def join_rfm(x): return int(str(x['R']) + str(x['F']) + str(x['M']))\n",
    "    df['rfm'] = df.apply(join_rfm, axis=1)\n",
    "    df['rfm_score'] = df[['R','F','M']].sum(axis=1)\n",
    "    print(df.head())\n",
    "    \n",
    "    return df\n"
   ]
  },
  {
   "cell_type": "code",
   "execution_count": 105,
   "metadata": {
    "ExecuteTime": {
     "end_time": "2020-05-27T17:40:23.594858Z",
     "start_time": "2020-05-27T17:18:42.365771Z"
    }
   },
   "outputs": [
    {
     "name": "stdout",
     "output_type": "stream",
     "text": [
      "  customer_id  frequency  recency  monetary_value  total_value     type  R  F  \\\n",
      "0    10000000          1       20      219.000000        219.0  classic  1  1   \n",
      "1  1000000231          1       25       49.000000         49.0  classic  1  1   \n",
      "2  1000000391          5       10      239.000000       1195.0  classic  2  3   \n",
      "3  1000000402          3       30      150.333328        451.0  classic  1  2   \n",
      "4  1000000522         11        1      369.272736       4062.0  classic  4  4   \n",
      "\n",
      "   M  rfm  rfm_score  \n",
      "0  1  111        3.0  \n",
      "1  1  111        3.0  \n",
      "2  3  233        8.0  \n",
      "3  2  122        5.0  \n",
      "4  4  444       12.0  \n"
     ]
    }
   ],
   "source": [
    "rfm_value=compute_rfm_value(mixed_pdf)"
   ]
  },
  {
   "cell_type": "code",
   "execution_count": 106,
   "metadata": {
    "ExecuteTime": {
     "end_time": "2020-05-27T17:40:24.670656Z",
     "start_time": "2020-05-27T17:40:23.596129Z"
    }
   },
   "outputs": [
    {
     "data": {
      "text/html": [
       "<div>\n",
       "<style scoped>\n",
       "    .dataframe tbody tr th:only-of-type {\n",
       "        vertical-align: middle;\n",
       "    }\n",
       "\n",
       "    .dataframe tbody tr th {\n",
       "        vertical-align: top;\n",
       "    }\n",
       "\n",
       "    .dataframe thead th {\n",
       "        text-align: right;\n",
       "    }\n",
       "</style>\n",
       "<table border=\"1\" class=\"dataframe\">\n",
       "  <thead>\n",
       "    <tr style=\"text-align: right;\">\n",
       "      <th></th>\n",
       "      <th>frequency</th>\n",
       "      <th>recency</th>\n",
       "      <th>monetary_value</th>\n",
       "      <th>total_value</th>\n",
       "      <th>rfm</th>\n",
       "      <th>rfm_score</th>\n",
       "    </tr>\n",
       "  </thead>\n",
       "  <tbody>\n",
       "    <tr>\n",
       "      <th>count</th>\n",
       "      <td>1.515279e+06</td>\n",
       "      <td>1.515279e+06</td>\n",
       "      <td>1.515279e+06</td>\n",
       "      <td>1.515279e+06</td>\n",
       "      <td>1.515279e+06</td>\n",
       "      <td>1.515279e+06</td>\n",
       "    </tr>\n",
       "    <tr>\n",
       "      <th>mean</th>\n",
       "      <td>4.861297e+00</td>\n",
       "      <td>9.211867e+00</td>\n",
       "      <td>6.039169e+02</td>\n",
       "      <td>2.745769e+03</td>\n",
       "      <td>2.863293e+02</td>\n",
       "      <td>7.442056e+00</td>\n",
       "    </tr>\n",
       "    <tr>\n",
       "      <th>std</th>\n",
       "      <td>4.749762e+00</td>\n",
       "      <td>8.127618e+00</td>\n",
       "      <td>1.181315e+03</td>\n",
       "      <td>4.717044e+03</td>\n",
       "      <td>1.239880e+02</td>\n",
       "      <td>2.836578e+00</td>\n",
       "    </tr>\n",
       "    <tr>\n",
       "      <th>min</th>\n",
       "      <td>1.000000e+00</td>\n",
       "      <td>1.000000e+00</td>\n",
       "      <td>0.000000e+00</td>\n",
       "      <td>0.000000e+00</td>\n",
       "      <td>1.110000e+02</td>\n",
       "      <td>3.000000e+00</td>\n",
       "    </tr>\n",
       "    <tr>\n",
       "      <th>25%</th>\n",
       "      <td>2.000000e+00</td>\n",
       "      <td>3.000000e+00</td>\n",
       "      <td>1.225556e+02</td>\n",
       "      <td>3.000000e+02</td>\n",
       "      <td>2.110000e+02</td>\n",
       "      <td>5.000000e+00</td>\n",
       "    </tr>\n",
       "    <tr>\n",
       "      <th>50%</th>\n",
       "      <td>3.000000e+00</td>\n",
       "      <td>6.000000e+00</td>\n",
       "      <td>2.490000e+02</td>\n",
       "      <td>9.460000e+02</td>\n",
       "      <td>3.110000e+02</td>\n",
       "      <td>7.000000e+00</td>\n",
       "    </tr>\n",
       "    <tr>\n",
       "      <th>75%</th>\n",
       "      <td>6.000000e+00</td>\n",
       "      <td>1.400000e+01</td>\n",
       "      <td>5.980000e+02</td>\n",
       "      <td>2.854575e+03</td>\n",
       "      <td>4.230000e+02</td>\n",
       "      <td>1.000000e+01</td>\n",
       "    </tr>\n",
       "    <tr>\n",
       "      <th>max</th>\n",
       "      <td>3.300000e+01</td>\n",
       "      <td>3.100000e+01</td>\n",
       "      <td>3.626180e+04</td>\n",
       "      <td>3.653800e+04</td>\n",
       "      <td>4.440000e+02</td>\n",
       "      <td>1.200000e+01</td>\n",
       "    </tr>\n",
       "  </tbody>\n",
       "</table>\n",
       "</div>"
      ],
      "text/plain": [
       "          frequency       recency  monetary_value   total_value           rfm  \\\n",
       "count  1.515279e+06  1.515279e+06    1.515279e+06  1.515279e+06  1.515279e+06   \n",
       "mean   4.861297e+00  9.211867e+00    6.039169e+02  2.745769e+03  2.863293e+02   \n",
       "std    4.749762e+00  8.127618e+00    1.181315e+03  4.717044e+03  1.239880e+02   \n",
       "min    1.000000e+00  1.000000e+00    0.000000e+00  0.000000e+00  1.110000e+02   \n",
       "25%    2.000000e+00  3.000000e+00    1.225556e+02  3.000000e+02  2.110000e+02   \n",
       "50%    3.000000e+00  6.000000e+00    2.490000e+02  9.460000e+02  3.110000e+02   \n",
       "75%    6.000000e+00  1.400000e+01    5.980000e+02  2.854575e+03  4.230000e+02   \n",
       "max    3.300000e+01  3.100000e+01    3.626180e+04  3.653800e+04  4.440000e+02   \n",
       "\n",
       "          rfm_score  \n",
       "count  1.515279e+06  \n",
       "mean   7.442056e+00  \n",
       "std    2.836578e+00  \n",
       "min    3.000000e+00  \n",
       "25%    5.000000e+00  \n",
       "50%    7.000000e+00  \n",
       "75%    1.000000e+01  \n",
       "max    1.200000e+01  "
      ]
     },
     "execution_count": 106,
     "metadata": {},
     "output_type": "execute_result"
    }
   ],
   "source": [
    "rfm_value[rfm_value['type'] == 'model'].describe()"
   ]
  },
  {
   "cell_type": "code",
   "execution_count": 107,
   "metadata": {
    "ExecuteTime": {
     "end_time": "2020-05-27T17:40:29.736660Z",
     "start_time": "2020-05-27T17:40:24.671921Z"
    }
   },
   "outputs": [
    {
     "data": {
      "text/html": [
       "<div>\n",
       "<style scoped>\n",
       "    .dataframe tbody tr th:only-of-type {\n",
       "        vertical-align: middle;\n",
       "    }\n",
       "\n",
       "    .dataframe tbody tr th {\n",
       "        vertical-align: top;\n",
       "    }\n",
       "\n",
       "    .dataframe thead th {\n",
       "        text-align: right;\n",
       "    }\n",
       "</style>\n",
       "<table border=\"1\" class=\"dataframe\">\n",
       "  <thead>\n",
       "    <tr style=\"text-align: right;\">\n",
       "      <th></th>\n",
       "      <th>frequency</th>\n",
       "      <th>recency</th>\n",
       "      <th>monetary_value</th>\n",
       "      <th>total_value</th>\n",
       "      <th>rfm</th>\n",
       "      <th>rfm_score</th>\n",
       "    </tr>\n",
       "  </thead>\n",
       "  <tbody>\n",
       "    <tr>\n",
       "      <th>count</th>\n",
       "      <td>1.389142e+07</td>\n",
       "      <td>1.389142e+07</td>\n",
       "      <td>1.389142e+07</td>\n",
       "      <td>1.389142e+07</td>\n",
       "      <td>1.389142e+07</td>\n",
       "      <td>1.389142e+07</td>\n",
       "    </tr>\n",
       "    <tr>\n",
       "      <th>mean</th>\n",
       "      <td>4.781738e+00</td>\n",
       "      <td>9.347670e+00</td>\n",
       "      <td>5.967970e+02</td>\n",
       "      <td>2.657652e+03</td>\n",
       "      <td>2.840731e+02</td>\n",
       "      <td>7.377439e+00</td>\n",
       "    </tr>\n",
       "    <tr>\n",
       "      <th>std</th>\n",
       "      <td>4.699332e+00</td>\n",
       "      <td>8.173536e+00</td>\n",
       "      <td>1.173657e+03</td>\n",
       "      <td>4.577545e+03</td>\n",
       "      <td>1.241571e+02</td>\n",
       "      <td>2.834467e+00</td>\n",
       "    </tr>\n",
       "    <tr>\n",
       "      <th>min</th>\n",
       "      <td>1.000000e+00</td>\n",
       "      <td>1.000000e+00</td>\n",
       "      <td>0.000000e+00</td>\n",
       "      <td>0.000000e+00</td>\n",
       "      <td>1.110000e+02</td>\n",
       "      <td>3.000000e+00</td>\n",
       "    </tr>\n",
       "    <tr>\n",
       "      <th>25%</th>\n",
       "      <td>2.000000e+00</td>\n",
       "      <td>3.000000e+00</td>\n",
       "      <td>1.196000e+02</td>\n",
       "      <td>2.970000e+02</td>\n",
       "      <td>2.110000e+02</td>\n",
       "      <td>5.000000e+00</td>\n",
       "    </tr>\n",
       "    <tr>\n",
       "      <th>50%</th>\n",
       "      <td>3.000000e+00</td>\n",
       "      <td>7.000000e+00</td>\n",
       "      <td>2.490000e+02</td>\n",
       "      <td>9.050000e+02</td>\n",
       "      <td>2.440000e+02</td>\n",
       "      <td>7.000000e+00</td>\n",
       "    </tr>\n",
       "    <tr>\n",
       "      <th>75%</th>\n",
       "      <td>6.000000e+00</td>\n",
       "      <td>1.400000e+01</td>\n",
       "      <td>5.900000e+02</td>\n",
       "      <td>2.743000e+03</td>\n",
       "      <td>4.220000e+02</td>\n",
       "      <td>1.000000e+01</td>\n",
       "    </tr>\n",
       "    <tr>\n",
       "      <th>max</th>\n",
       "      <td>3.300000e+01</td>\n",
       "      <td>3.100000e+01</td>\n",
       "      <td>3.540000e+04</td>\n",
       "      <td>3.540234e+04</td>\n",
       "      <td>4.440000e+02</td>\n",
       "      <td>1.200000e+01</td>\n",
       "    </tr>\n",
       "  </tbody>\n",
       "</table>\n",
       "</div>"
      ],
      "text/plain": [
       "          frequency       recency  monetary_value   total_value           rfm  \\\n",
       "count  1.389142e+07  1.389142e+07    1.389142e+07  1.389142e+07  1.389142e+07   \n",
       "mean   4.781738e+00  9.347670e+00    5.967970e+02  2.657652e+03  2.840731e+02   \n",
       "std    4.699332e+00  8.173536e+00    1.173657e+03  4.577545e+03  1.241571e+02   \n",
       "min    1.000000e+00  1.000000e+00    0.000000e+00  0.000000e+00  1.110000e+02   \n",
       "25%    2.000000e+00  3.000000e+00    1.196000e+02  2.970000e+02  2.110000e+02   \n",
       "50%    3.000000e+00  7.000000e+00    2.490000e+02  9.050000e+02  2.440000e+02   \n",
       "75%    6.000000e+00  1.400000e+01    5.900000e+02  2.743000e+03  4.220000e+02   \n",
       "max    3.300000e+01  3.100000e+01    3.540000e+04  3.540234e+04  4.440000e+02   \n",
       "\n",
       "          rfm_score  \n",
       "count  1.389142e+07  \n",
       "mean   7.377439e+00  \n",
       "std    2.834467e+00  \n",
       "min    3.000000e+00  \n",
       "25%    5.000000e+00  \n",
       "50%    7.000000e+00  \n",
       "75%    1.000000e+01  \n",
       "max    1.200000e+01  "
      ]
     },
     "execution_count": 107,
     "metadata": {},
     "output_type": "execute_result"
    }
   ],
   "source": [
    "rfm_value[rfm_value['type'] == 'classic'].describe()"
   ]
  },
  {
   "cell_type": "code",
   "execution_count": 85,
   "metadata": {
    "ExecuteTime": {
     "end_time": "2020-05-27T16:32:40.480151Z",
     "start_time": "2020-05-27T16:32:40.415309Z"
    }
   },
   "outputs": [
    {
     "data": {
      "text/plain": [
       "4    4553569\n",
       "1    3350929\n",
       "3    2994506\n",
       "2    2992412\n",
       "Name: R, dtype: int64"
      ]
     },
     "execution_count": 85,
     "metadata": {},
     "output_type": "execute_result"
    }
   ],
   "source": [
    "rfm_value['R'].value_counts()"
   ]
  },
  {
   "cell_type": "code",
   "execution_count": 86,
   "metadata": {
    "ExecuteTime": {
     "end_time": "2020-05-27T16:32:41.410760Z",
     "start_time": "2020-05-27T16:32:41.347358Z"
    }
   },
   "outputs": [
    {
     "data": {
      "text/plain": [
       "1    5645657\n",
       "4    3263566\n",
       "3    3239958\n",
       "2    1742235\n",
       "Name: F, dtype: int64"
      ]
     },
     "execution_count": 86,
     "metadata": {},
     "output_type": "execute_result"
    }
   ],
   "source": [
    "rfm_value['F'].value_counts()"
   ]
  },
  {
   "cell_type": "code",
   "execution_count": 87,
   "metadata": {
    "ExecuteTime": {
     "end_time": "2020-05-27T16:32:42.298036Z",
     "start_time": "2020-05-27T16:32:42.235157Z"
    }
   },
   "outputs": [
    {
     "data": {
      "text/plain": [
       "1    3474280\n",
       "4    3472822\n",
       "3    3472491\n",
       "2    3471823\n",
       "Name: M, dtype: int64"
      ]
     },
     "execution_count": 87,
     "metadata": {},
     "output_type": "execute_result"
    }
   ],
   "source": [
    "rfm_value['M'].value_counts()"
   ]
  },
  {
   "cell_type": "code",
   "execution_count": null,
   "metadata": {},
   "outputs": [],
   "source": []
  },
  {
   "cell_type": "code",
   "execution_count": null,
   "metadata": {},
   "outputs": [],
   "source": []
  },
  {
   "cell_type": "code",
   "execution_count": null,
   "metadata": {},
   "outputs": [],
   "source": []
  },
  {
   "cell_type": "markdown",
   "metadata": {
    "ExecuteTime": {
     "end_time": "2020-05-22T19:22:55.021637Z",
     "start_time": "2020-05-22T19:22:55.019510Z"
    }
   },
   "source": [
    "# Validate lifecycle phases"
   ]
  },
  {
   "cell_type": "code",
   "execution_count": null,
   "metadata": {
    "ExecuteTime": {
     "end_time": "2020-05-26T14:20:19.535005Z",
     "start_time": "2020-05-26T14:20:19.532484Z"
    }
   },
   "outputs": [],
   "source": [
    "path2=\"s3a://midgar-aws-workspace/prod/shinra/modelling/journeyautomation/tenant/paytm-india/base/customerPhases/dt=\""
   ]
  },
  {
   "cell_type": "code",
   "execution_count": null,
   "metadata": {
    "ExecuteTime": {
     "end_time": "2020-05-26T14:20:19.535005Z",
     "start_time": "2020-05-26T14:20:19.532484Z"
    }
   },
   "outputs": [],
   "source": [
    "#phase_map_dfs=map(lambda x: users.join(spark.read.parquet(path2+x).select(\"customer_id\", \"phase_id\"), \n",
    "#                                       on=['customer_id']),\n",
    "#               ['2020-05-19'])"
   ]
  },
  {
   "cell_type": "code",
   "execution_count": null,
   "metadata": {
    "ExecuteTime": {
     "end_time": "2020-05-26T14:20:19.535005Z",
     "start_time": "2020-05-26T14:20:19.532484Z"
    }
   },
   "outputs": [],
   "source": [
    "#phase_red_df=reduce(lambda x,y: x.union(y), phase_map_dfs)"
   ]
  },
  {
   "cell_type": "code",
   "execution_count": null,
   "metadata": {
    "ExecuteTime": {
     "end_time": "2020-05-26T14:20:19.535005Z",
     "start_time": "2020-05-26T14:20:19.532484Z"
    }
   },
   "outputs": [],
   "source": [
    "#phase_red_df=users.join(spark.read.parquet(path2+'2020-05-19').select(\"customer_id\", \"phase_id\"), \n",
    "#                                       on=['customer_id'])"
   ]
  },
  {
   "cell_type": "code",
   "execution_count": null,
   "metadata": {},
   "outputs": [],
   "source": [
    "phase_red_df=(spark.read.parquet(path2+'2020-05-19').select(\"customer_id\", \"phase_id\"))"
   ]
  },
  {
   "cell_type": "code",
   "execution_count": null,
   "metadata": {},
   "outputs": [],
   "source": [
    "sample_1000=user_phase_left.limit(1000).cache()\n",
    "sample_1000.count()"
   ]
  },
  {
   "cell_type": "code",
   "execution_count": null,
   "metadata": {
    "ExecuteTime": {
     "end_time": "2020-05-26T14:20:19.535005Z",
     "start_time": "2020-05-26T14:20:19.532484Z"
    }
   },
   "outputs": [],
   "source": [
    "diff=sample_1000.join(phase_red_df, on=['customer_id', 'phase_id'], how='left_anti')"
   ]
  },
  {
   "cell_type": "code",
   "execution_count": 30,
   "metadata": {
    "ExecuteTime": {
     "end_time": "2020-05-26T14:20:19.535005Z",
     "start_time": "2020-05-26T14:20:19.532484Z"
    }
   },
   "outputs": [],
   "source": [
    "diff.count()"
   ]
  }
 ],
 "metadata": {
  "kernelspec": {
   "display_name": "Python 3",
   "language": "python",
   "name": "python3"
  },
  "language_info": {
   "codemirror_mode": {
    "name": "ipython",
    "version": 3
   },
   "file_extension": ".py",
   "mimetype": "text/x-python",
   "name": "python",
   "nbconvert_exporter": "python",
   "pygments_lexer": "ipython3",
   "version": "3.7.6"
  },
  "toc": {
   "base_numbering": 1,
   "nav_menu": {},
   "number_sections": true,
   "sideBar": true,
   "skip_h1_title": false,
   "title_cell": "Table of Contents",
   "title_sidebar": "Contents",
   "toc_cell": false,
   "toc_position": {},
   "toc_section_display": true,
   "toc_window_display": false
  }
 },
 "nbformat": 4,
 "nbformat_minor": 4
}
