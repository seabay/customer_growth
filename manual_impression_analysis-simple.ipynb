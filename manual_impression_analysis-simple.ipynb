{
 "cells": [
  {
   "cell_type": "code",
   "execution_count": 1,
   "metadata": {
    "ExecuteTime": {
     "end_time": "2020-09-01T00:24:05.141509Z",
     "start_time": "2020-09-01T00:23:58.774113Z"
    }
   },
   "outputs": [],
   "source": [
    "%%init_spark\n",
    "launcher.master = \"local[*]\"\n",
    "launcher.conf.spark.driver.memory= \"16G\"\n",
    "launcher.conf.set(\"spark.hadoop.fs.s3a.connection.maximum\", \"8192\")\n",
    "launcher.conf.set(\"spark.hadoop.fs.s3a.threads.max\", \"2048\")"
   ]
  },
  {
   "cell_type": "code",
   "execution_count": 2,
   "metadata": {
    "ExecuteTime": {
     "end_time": "2020-09-01T00:24:10.558805Z",
     "start_time": "2020-09-01T00:24:05.143133Z"
    }
   },
   "outputs": [
    {
     "data": {
      "text/plain": [
       "Intitializing Scala interpreter ..."
      ]
     },
     "metadata": {},
     "output_type": "display_data"
    },
    {
     "data": {
      "text/plain": [
       "Spark Web UI available at http://localhost:4041\n",
       "SparkContext available as 'sc' (version = 2.4.4, master = local[*], app id = local-1598919844691)\n",
       "SparkSession available as 'spark'\n"
      ]
     },
     "metadata": {},
     "output_type": "display_data"
    },
    {
     "data": {
      "text/plain": [
       "import java.time.LocalDate\n",
       "import org.apache.spark.sql.functions._\n",
       "import org.apache.spark.sql.{SparkSession, Row, DataFrame, Dataset}\n",
       "import org.apache.spark.rdd.RDD\n",
       "import org.apache.spark.sql.expressions.UserDefinedFunction\n",
       "import spark.implicits._\n",
       "import org.apache.spark.sql.types._\n"
      ]
     },
     "execution_count": 2,
     "metadata": {},
     "output_type": "execute_result"
    }
   ],
   "source": [
    "import java.time.LocalDate\n",
    "import org.apache.spark.sql.functions._\n",
    "import org.apache.spark.sql.{SparkSession, Row, DataFrame, Dataset}\n",
    "import org.apache.spark.rdd.RDD\n",
    "import org.apache.spark.sql.expressions.UserDefinedFunction\n",
    "import spark.implicits._\n",
    "import org.apache.spark.sql.types._"
   ]
  },
  {
   "cell_type": "code",
   "execution_count": 3,
   "metadata": {
    "ExecuteTime": {
     "end_time": "2020-09-01T00:24:10.718758Z",
     "start_time": "2020-09-01T00:24:10.560057Z"
    }
   },
   "outputs": [
    {
     "data": {
      "text/plain": [
       "model: String = manual\n"
      ]
     },
     "execution_count": 3,
     "metadata": {},
     "output_type": "execute_result"
    }
   ],
   "source": [
    "val model = \"manual\""
   ]
  },
  {
   "cell_type": "code",
   "execution_count": 4,
   "metadata": {
    "ExecuteTime": {
     "end_time": "2020-09-01T00:24:11.181889Z",
     "start_time": "2020-09-01T00:24:10.719862Z"
    }
   },
   "outputs": [
    {
     "data": {
      "text/plain": [
       "groundTruthPath: String = s3a://midgar-aws-workspace/prod/shinra/telescope/base/l1_banner_events_base_table\n"
      ]
     },
     "execution_count": 4,
     "metadata": {},
     "output_type": "execute_result"
    }
   ],
   "source": [
    "val groundTruthPath = s\"s3a://midgar-aws-workspace/prod/shinra/telescope/base/l1_banner_events_base_table\"\n"
   ]
  },
  {
   "cell_type": "markdown",
   "metadata": {},
   "source": [
    "# category meta"
   ]
  },
  {
   "cell_type": "code",
   "execution_count": 5,
   "metadata": {
    "ExecuteTime": {
     "end_time": "2020-09-01T00:24:15.379132Z",
     "start_time": "2020-09-01T00:24:11.182880Z"
    }
   },
   "outputs": [
    {
     "data": {
      "text/plain": [
       "cats: org.apache.spark.sql.DataFrame = [l1_category_cma_id: string, l1_category_cma_name: string ... 5 more fields]\n"
      ]
     },
     "execution_count": 5,
     "metadata": {},
     "output_type": "execute_result"
    }
   ],
   "source": [
    "val cats = spark.read.format(\"csv\")\n",
    "            .option(\"header\", \"true\")\n",
    ".load(\"s3a://midgar-aws-workspace/prod/shinra/modelling/journeyautomation/tenant/paytm-india/resources/phaseRules/dt=2020-08-20\")"
   ]
  },
  {
   "cell_type": "code",
   "execution_count": 6,
   "metadata": {
    "ExecuteTime": {
     "end_time": "2020-09-01T00:24:15.777903Z",
     "start_time": "2020-09-01T00:24:15.380908Z"
    }
   },
   "outputs": [
    {
     "data": {
      "text/plain": [
       "pairs: org.apache.spark.sql.DataFrame = [cma_id: string, category_name: string]\n"
      ]
     },
     "execution_count": 6,
     "metadata": {},
     "output_type": "execute_result"
    }
   ],
   "source": [
    "val pairs = cats.select($\"l1_category_cma_id\".alias(\"cma_id\"), \n",
    "                         $\"l1_category_cma_name\".alias(\"category_name\"))"
   ]
  },
  {
   "cell_type": "code",
   "execution_count": 8,
   "metadata": {
    "ExecuteTime": {
     "end_time": "2020-09-01T00:24:36.943658Z",
     "start_time": "2020-09-01T00:24:36.450501Z"
    }
   },
   "outputs": [
    {
     "name": "stdout",
     "output_type": "stream",
     "text": [
      "+------+-------------+\n",
      "|cma_id|category_name|\n",
      "+------+-------------+\n",
      "|    59|   O2OC-Deals|\n",
      "+------+-------------+\n",
      "\n"
     ]
    }
   ],
   "source": [
    "pairs.filter($\"cma_id\" === 59).show()"
   ]
  },
  {
   "cell_type": "markdown",
   "metadata": {},
   "source": [
    "# ground truth"
   ]
  },
  {
   "cell_type": "code",
   "execution_count": 23,
   "metadata": {
    "ExecuteTime": {
     "end_time": "2020-08-27T21:44:51.856833Z",
     "start_time": "2020-08-27T21:44:51.661232Z"
    }
   },
   "outputs": [
    {
     "data": {
      "text/plain": [
       "getUserSales: (spark: org.apache.spark.sql.SparkSession, startDateStr: String, endDateStr: String)org.apache.spark.sql.DataFrame\n"
      ]
     },
     "execution_count": 23,
     "metadata": {},
     "output_type": "execute_result"
    }
   ],
   "source": [
    "def getUserSales(spark:SparkSession, startDateStr: String,endDateStr: String): DataFrame={\n",
    "    spark.read.parquet(groundTruthPath)\n",
    "    .filter($\"dt\".between(startDateStr,endDateStr))\n",
    "    .filter($\"customer_id\".isNotNull && $\"customer_id\" =!= \"null\" && $\"sales\".isNotNull &&  $\"sales\" > 0)\n",
    "    .select($\"customer_id\".cast(LongType), $\"cma_id\")\n",
    "}"
   ]
  },
  {
   "cell_type": "code",
   "execution_count": 24,
   "metadata": {
    "ExecuteTime": {
     "end_time": "2020-08-27T21:44:52.583817Z",
     "start_time": "2020-08-27T21:44:52.339952Z"
    }
   },
   "outputs": [
    {
     "data": {
      "text/plain": [
       "getTopSalesCategories: (sales: org.apache.spark.sql.DataFrame)org.apache.spark.rdd.RDD[(Long, Array[String])]\n"
      ]
     },
     "execution_count": 24,
     "metadata": {},
     "output_type": "execute_result"
    }
   ],
   "source": [
    "def getTopSalesCategories(sales: DataFrame): RDD[(Long, Array[String])] = {\n",
    "  import org.apache.spark.mllib.rdd.MLPairRDDFunctions.fromPairRDD\n",
    "  import sales.sparkSession.implicits._\n",
    "    \n",
    "  sales.rdd.\n",
    "    map {\n",
    "      case Row(customerId: Long, cma_id: String) =>\n",
    "        (customerId, cma_id)\n",
    "    }\n",
    "    .groupByKey()\n",
    "    .map {\n",
    "      case (customerId: Long, recentCategories: Iterable[String]) =>\n",
    "        (customerId, recentCategories.toArray)\n",
    "    }\n",
    "}"
   ]
  },
  {
   "cell_type": "code",
   "execution_count": 25,
   "metadata": {
    "ExecuteTime": {
     "end_time": "2020-08-27T21:44:56.622534Z",
     "start_time": "2020-08-27T21:44:53.241518Z"
    }
   },
   "outputs": [
    {
     "data": {
      "text/plain": [
       "salesCategories: org.apache.spark.sql.DataFrame = [customer_id: bigint, cma_id: string]\n"
      ]
     },
     "execution_count": 25,
     "metadata": {},
     "output_type": "execute_result"
    }
   ],
   "source": [
    "val salesCategories = getUserSales(spark, \"2020-08-22\", \"2020-08-22\")\n"
   ]
  },
  {
   "cell_type": "code",
   "execution_count": 26,
   "metadata": {
    "ExecuteTime": {
     "end_time": "2020-08-27T21:45:07.495069Z",
     "start_time": "2020-08-27T21:44:56.623785Z"
    }
   },
   "outputs": [
    {
     "data": {
      "text/plain": [
       "t: Long = 9243874\n",
       "res5: Long = 9243874\n"
      ]
     },
     "execution_count": 26,
     "metadata": {},
     "output_type": "execute_result"
    }
   ],
   "source": [
    "val t = salesCategories.select(\"customer_id\").count()\n",
    "t"
   ]
  },
  {
   "cell_type": "code",
   "execution_count": 52,
   "metadata": {
    "ExecuteTime": {
     "end_time": "2020-08-27T22:17:39.393747Z",
     "start_time": "2020-08-27T22:17:39.208134Z"
    }
   },
   "outputs": [
    {
     "data": {
      "text/plain": [
       "actual_sales: org.apache.spark.sql.Dataset[org.apache.spark.sql.Row] = [cma_id: string, count: bigint ... 2 more fields]\n"
      ]
     },
     "execution_count": 52,
     "metadata": {},
     "output_type": "execute_result"
    }
   ],
   "source": [
    "val actual_sales =salesCategories.groupBy(\"cma_id\").agg(count(\"customer_id\").as(\"count\"))\n",
    ".withColumn(\"percent\", round($\"count\"/t, 6))\n",
    ".sort($\"percent\".desc)\n",
    ".join(pairs, Seq(\"cma_id\")).orderBy(desc(\"count\")).coalesce(1).cache()"
   ]
  },
  {
   "cell_type": "code",
   "execution_count": 53,
   "metadata": {
    "ExecuteTime": {
     "end_time": "2020-08-27T22:17:41.778967Z",
     "start_time": "2020-08-27T22:17:41.599164Z"
    }
   },
   "outputs": [
    {
     "data": {
      "text/plain": [
       "res19: Long = 51\n"
      ]
     },
     "execution_count": 53,
     "metadata": {},
     "output_type": "execute_result"
    }
   ],
   "source": [
    "actual_sales.count()"
   ]
  },
  {
   "cell_type": "code",
   "execution_count": 54,
   "metadata": {
    "ExecuteTime": {
     "end_time": "2020-08-27T22:17:43.468614Z",
     "start_time": "2020-08-27T22:17:43.317170Z"
    }
   },
   "outputs": [
    {
     "name": "stdout",
     "output_type": "stream",
     "text": [
      "+------+-------+--------+--------------------------------------+\n",
      "|cma_id|count  |percent |category_name                         |\n",
      "+------+-------+--------+--------------------------------------+\n",
      "|443   |1458358|0.157765|RU-Prepaid                            |\n",
      "|352   |1175501|0.127165|WLT-add money                         |\n",
      "|6797  |1175212|0.127134|PAYTM-UPI P2P                         |\n",
      "|357   |519627 |0.056213|WLT-P2P                               |\n",
      "|6808  |482024 |0.052145|3PP-ON-Digital Content & Entertainment|\n",
      "|420   |443737 |0.048003|3PP-OFF-Food                          |\n",
      "|421   |284924 |0.030823|3PP-OFF-Gas and Petrol                |\n",
      "|6809  |215447 |0.023307|3PP-ON-Food Delivery                  |\n",
      "|38    |213819 |0.023131|RU-DTH                                |\n",
      "|39    |179160 |0.019381|RU-Electricity                        |\n",
      "|429   |171286 |0.01853 |3PP-OFF-Milk Dairy and Cooperative    |\n",
      "|6810  |169122 |0.018296|3PP-ON-O2O                            |\n",
      "|423   |151646 |0.016405|3PP-OFF-Healthcare                    |\n",
      "|358   |91531  |0.009902|WLT-transfer to bank                  |\n",
      "|44    |90610  |0.009802|RU-Google Play                        |\n",
      "|391   |88438  |0.009567|3PP-ON-Others                         |\n",
      "|444   |59678  |0.006456|RU-Postpaid                           |\n",
      "|6811  |54754  |0.005923|3PP-ON-Travel & Transport             |\n",
      "|426   |44959  |0.004864|3PP-OFF-LFR and Brands                |\n",
      "|437   |37569  |0.004064|3PP-OFF-Transport                     |\n",
      "|445   |27979  |0.003027|RU-Credit Card                        |\n",
      "|43    |24541  |0.002655|RU-Gold Loan                          |\n",
      "|32    |21457  |0.002321|RU-Broadband/Landline                 |\n",
      "|45    |19590  |0.002119|RU-Insurance                          |\n",
      "|59    |17618  |0.001906|O2OC-Deals                            |\n",
      "|10    |15831  |0.001713|PAYTM-Games                           |\n",
      "|42    |9432   |0.00102 |RU-Gas                                |\n",
      "|12    |8830   |9.55E-4 |PAYTM-Gold                            |\n",
      "|51    |6295   |6.81E-4 |O2OC-Trains                           |\n",
      "|50    |4713   |5.1E-4  |RU-Water                              |\n",
      "|19    |4120   |4.46E-4 |EC-CE                                 |\n",
      "|17    |4073   |4.41E-4 |EC-GM                                 |\n",
      "|52    |3156   |3.41E-4 |O2OC-Buses                            |\n",
      "|53    |3070   |3.32E-4 |O2OC-Flights                          |\n",
      "|14    |2300   |2.49E-4 |EC-Apparel                            |\n",
      "|18    |1876   |2.03E-4 |EC-HnK                                |\n",
      "|34    |1817   |1.97E-4 |RU-Challan                            |\n",
      "|6803  |1764   |1.91E-4 |PAYTM-Mini Apps                       |\n",
      "|25    |1479   |1.6E-4  |EC-Groceries                          |\n",
      "|15    |1137   |1.23E-4 |EC-FashAcc                            |\n",
      "|16    |904    |9.8E-5  |EC-Footwear                           |\n",
      "|35    |494    |5.3E-5  |RU-Datacard                           |\n",
      "|20    |481    |5.2E-5  |EC-SA                                 |\n",
      "|23    |194    |2.1E-5  |EC-Mobiles                            |\n",
      "|48    |152    |1.6E-5  |RU-Municipality                       |\n",
      "|37    |95     |1.0E-5  |RU-Devotion/Flag                      |\n",
      "|24    |54     |6.0E-6  |EC-CarsBikes                          |\n",
      "|56    |26     |3.0E-6  |O2OC-Events                           |\n",
      "|22    |25     |3.0E-6  |EC-LA                                 |\n",
      "|26    |17     |2.0E-6  |EC-LaptopsPC                          |\n",
      "+------+-------+--------+--------------------------------------+\n",
      "only showing top 50 rows\n",
      "\n"
     ]
    }
   ],
   "source": [
    "actual_sales.show(50, false)"
   ]
  },
  {
   "cell_type": "markdown",
   "metadata": {},
   "source": [
    "# predictions"
   ]
  },
  {
   "cell_type": "code",
   "execution_count": 56,
   "metadata": {
    "ExecuteTime": {
     "end_time": "2020-08-27T22:19:24.898342Z",
     "start_time": "2020-08-27T22:19:24.314219Z"
    }
   },
   "outputs": [
    {
     "name": "stdout",
     "output_type": "stream",
     "text": [
      "root\n",
      " |-- customer_id: string (nullable = true)\n",
      " |-- category_name: string (nullable = true)\n",
      " |-- banner_id: string (nullable = true)\n",
      " |-- serving_strategy: string (nullable = true)\n",
      " |-- final_serving_strategy: string (nullable = true)\n",
      " |-- customer_autopilot_group: integer (nullable = true)\n",
      " |-- banner_event_click: long (nullable = true)\n",
      " |-- banner_event_impression: long (nullable = true)\n",
      " |-- clicks_180_days: long (nullable = true)\n",
      " |-- sales_180_days: long (nullable = true)\n",
      " |-- interactions_180_days: long (nullable = true)\n",
      " |-- cma_id: string (nullable = true)\n",
      " |-- category_clicks_180_days: long (nullable = true)\n",
      " |-- category_sales_180_days: long (nullable = true)\n",
      " |-- category_interactions_180_days: long (nullable = true)\n",
      " |-- pred_topk_cma_id: array (nullable = true)\n",
      " |    |-- element: string (containsNull = true)\n",
      " |-- pred_topk_category_name: array (nullable = true)\n",
      " |    |-- element: string (containsNull = true)\n",
      " |-- rank_shown_category: string (nullable = true)\n",
      " |-- last_interaction_dt: date (nullable = true)\n",
      " |-- last_interaction_dt_till_target_date: integer (nullable = true)\n",
      "\n"
     ]
    }
   ],
   "source": [
    "spark.read.parquet(\"s3a://midgar-aws-workspace/home/mchen/model_analysis/l1_base_event_add_dt/dt=2020-08-22\").printSchema"
   ]
  },
  {
   "cell_type": "code",
   "execution_count": 57,
   "metadata": {
    "ExecuteTime": {
     "end_time": "2020-08-27T22:27:33.964638Z",
     "start_time": "2020-08-27T22:27:32.894617Z"
    }
   },
   "outputs": [
    {
     "data": {
      "text/plain": [
       "autopilot_predictions: org.apache.spark.sql.Dataset[org.apache.spark.sql.Row] = [customer_id: bigint, cma_id: string ... 1 more field]\n",
       "manual_predictions: org.apache.spark.sql.Dataset[org.apache.spark.sql.Row] = [customer_id: bigint, cma_id: string ... 1 more field]\n"
      ]
     },
     "execution_count": 57,
     "metadata": {},
     "output_type": "execute_result"
    }
   ],
   "source": [
    "val autopilot_predictions = spark.read\n",
    ".parquet(\"s3a://midgar-aws-workspace/home/mchen/model_analysis/l1_base_event_add_dt/dt=2020-08-22\")\n",
    ".filter($\"customer_id\".isNotNull && $\"customer_id\" =!= \"null\" && $\"final_serving_strategy\" === \"autopilot\")\n",
    ".select(\"customer_id\", \"category_name\")\n",
    ".join(pairs, Seq(\"category_name\"))\n",
    ".select($\"customer_id\".cast(LongType), $\"cma_id\", $\"category_name\")\n",
    ".filter($\"customer_id\".isNotNull)\n",
    "\n",
    "val manual_predictions = spark.read\n",
    ".parquet(\"s3a://midgar-aws-workspace/home/mchen/model_analysis/l1_base_event_add_dt/dt=2020-08-22\")\n",
    ".filter($\"customer_id\".isNotNull && $\"customer_id\" =!= \"null\" && $\"final_serving_strategy\" === \"manual\")\n",
    ".select(\"customer_id\", \"category_name\")\n",
    ".join(pairs, Seq(\"category_name\"))\n",
    ".select($\"customer_id\".cast(LongType), $\"cma_id\", $\"category_name\")\n",
    ".filter($\"customer_id\".isNotNull)"
   ]
  },
  {
   "cell_type": "code",
   "execution_count": 58,
   "metadata": {
    "ExecuteTime": {
     "end_time": "2020-08-27T22:28:43.941480Z",
     "start_time": "2020-08-27T22:27:34.885543Z"
    }
   },
   "outputs": [
    {
     "data": {
      "text/plain": [
       "autopilot_total: Long = 2943276\n",
       "manual_total: Long = 21595834\n"
      ]
     },
     "execution_count": 58,
     "metadata": {},
     "output_type": "execute_result"
    }
   ],
   "source": [
    "val autopilot_total = autopilot_predictions.select(\"customer_id\").count()\n",
    "val manual_total = manual_predictions.select(\"customer_id\").count()\n",
    "//total"
   ]
  },
  {
   "cell_type": "code",
   "execution_count": 63,
   "metadata": {
    "ExecuteTime": {
     "end_time": "2020-08-27T22:43:57.474711Z",
     "start_time": "2020-08-27T22:43:57.175180Z"
    }
   },
   "outputs": [
    {
     "data": {
      "text/plain": [
       "autopilotCount: org.apache.spark.sql.Dataset[org.apache.spark.sql.Row] = [cma_id: string, category_name: string ... 2 more fields]\n",
       "manualCount: org.apache.spark.sql.Dataset[org.apache.spark.sql.Row] = [cma_id: string, category_name: string ... 2 more fields]\n"
      ]
     },
     "execution_count": 63,
     "metadata": {},
     "output_type": "execute_result"
    }
   ],
   "source": [
    "val autopilotCount = autopilot_predictions.groupBy(\"cma_id\", \"category_name\").agg(count(\"customer_id\").as(\"count\"))\n",
    ".withColumn(\"percent\", round($\"count\"/autopilot_total, 6))\n",
    ".sort($\"percent\".desc).coalesce(1).cache\n",
    "\n",
    "val manualCount = manual_predictions.groupBy(\"cma_id\", \"category_name\").agg(count(\"customer_id\").as(\"count\"))\n",
    ".withColumn(\"percent\", round($\"count\"/manual_total, 6))\n",
    ".sort($\"percent\".desc).coalesce(1).cache"
   ]
  },
  {
   "cell_type": "code",
   "execution_count": 64,
   "metadata": {
    "ExecuteTime": {
     "end_time": "2020-08-27T22:45:08.932765Z",
     "start_time": "2020-08-27T22:43:59.167977Z"
    }
   },
   "outputs": [
    {
     "data": {
      "text/plain": [
       "res25: Long = 33\n"
      ]
     },
     "execution_count": 64,
     "metadata": {},
     "output_type": "execute_result"
    }
   ],
   "source": [
    "autopilotCount.count()\n",
    "manualCount.count()"
   ]
  },
  {
   "cell_type": "code",
   "execution_count": 65,
   "metadata": {
    "ExecuteTime": {
     "end_time": "2020-08-27T22:45:09.103889Z",
     "start_time": "2020-08-27T22:45:08.934069Z"
    }
   },
   "outputs": [
    {
     "name": "stdout",
     "output_type": "stream",
     "text": [
      "+------+---------------+------+--------+\n",
      "|cma_id|category_name  |count |percent |\n",
      "+------+---------------+------+--------+\n",
      "|443   |RU-Prepaid     |518755|0.176251|\n",
      "|14    |EC-Apparel     |361743|0.122905|\n",
      "|59    |O2OC-Deals     |279755|0.095049|\n",
      "|352   |WLT-add money  |274753|0.093349|\n",
      "|23    |EC-Mobiles     |198769|0.067533|\n",
      "|9     |PAYTM-Money    |165211|0.056132|\n",
      "|39    |RU-Electricity |157869|0.053637|\n",
      "|19    |EC-CE          |134240|0.045609|\n",
      "|45    |RU-Insurance   |117290|0.03985 |\n",
      "|25    |EC-Groceries   |98753 |0.033552|\n",
      "|10    |PAYTM-Games    |90099 |0.030612|\n",
      "|18    |EC-HnK         |87187 |0.029622|\n",
      "|12    |PAYTM-Gold     |75910 |0.025791|\n",
      "|15    |EC-FashAcc     |56379 |0.019155|\n",
      "|445   |RU-Credit Card |52997 |0.018006|\n",
      "|53    |O2OC-Flights   |50431 |0.017134|\n",
      "|6803  |PAYTM-Mini Apps|40581 |0.013788|\n",
      "|56    |O2OC-Events    |38805 |0.013184|\n",
      "|22    |EC-LA          |33346 |0.01133 |\n",
      "|1     |PAYTM          |27993 |0.009511|\n",
      "|16    |EC-Footwear    |24870 |0.00845 |\n",
      "|40    |RU-FastTag     |16052 |0.005454|\n",
      "|26    |EC-LaptopsPC   |12265 |0.004167|\n",
      "|38    |RU-DTH         |10791 |0.003666|\n",
      "|24    |EC-CarsBikes   |6605  |0.002244|\n",
      "|444   |RU-Postpaid    |5232  |0.001778|\n",
      "|41    |RU-Fees        |3111  |0.001057|\n",
      "|446   |PAYTM-First    |1376  |4.68E-4 |\n",
      "|6797  |PAYTM-UPI P2P  |1072  |3.64E-4 |\n",
      "|55    |O2OC-Movies    |807   |2.74E-4 |\n",
      "|42    |RU-Gas         |229   |7.8E-5  |\n",
      "+------+---------------+------+--------+\n",
      "\n"
     ]
    }
   ],
   "source": [
    "autopilotCount.show(50, false)"
   ]
  },
  {
   "cell_type": "code",
   "execution_count": 66,
   "metadata": {
    "ExecuteTime": {
     "end_time": "2020-08-27T22:45:09.238024Z",
     "start_time": "2020-08-27T22:45:09.105251Z"
    }
   },
   "outputs": [
    {
     "name": "stdout",
     "output_type": "stream",
     "text": [
      "+------+---------------+-------+--------+\n",
      "|cma_id|category_name  |count  |percent |\n",
      "+------+---------------+-------+--------+\n",
      "|10    |PAYTM-Games    |4381249|0.202875|\n",
      "|1     |PAYTM          |2815187|0.130358|\n",
      "|352   |WLT-add money  |1596737|0.073937|\n",
      "|443   |RU-Prepaid     |1478787|0.068476|\n",
      "|25    |EC-Groceries   |1362711|0.063101|\n",
      "|23    |EC-Mobiles     |1256235|0.05817 |\n",
      "|14    |EC-Apparel     |1109263|0.051365|\n",
      "|19    |EC-CE          |930570 |0.04309 |\n",
      "|45    |RU-Insurance   |868589 |0.04022 |\n",
      "|22    |EC-LA          |779242 |0.036083|\n",
      "|18    |EC-HnK         |770794 |0.035692|\n",
      "|39    |RU-Electricity |765018 |0.035424|\n",
      "|12    |PAYTM-Gold     |706981 |0.032737|\n",
      "|16    |EC-Footwear    |463998 |0.021486|\n",
      "|9     |PAYTM-Money    |439709 |0.020361|\n",
      "|445   |RU-Credit Card |406662 |0.018831|\n",
      "|6803  |PAYTM-Mini Apps|373462 |0.017293|\n",
      "|15    |EC-FashAcc     |311806 |0.014438|\n",
      "|59    |O2OC-Deals     |233421 |0.010809|\n",
      "|26    |EC-LaptopsPC   |139786 |0.006473|\n",
      "|56    |O2OC-Events    |105928 |0.004905|\n",
      "|24    |EC-CarsBikes   |79168  |0.003666|\n",
      "|38    |RU-DTH         |56494  |0.002616|\n",
      "|40    |RU-FastTag     |53627  |0.002483|\n",
      "|444   |RU-Postpaid    |44674  |0.002069|\n",
      "|41    |RU-Fees        |27274  |0.001263|\n",
      "|6797  |PAYTM-UPI P2P  |19094  |8.84E-4 |\n",
      "|446   |PAYTM-First    |14734  |6.82E-4 |\n",
      "|55    |O2OC-Movies    |3216   |1.49E-4 |\n",
      "|42    |RU-Gas         |1369   |6.3E-5  |\n",
      "|17    |EC-GM          |35     |2.0E-6  |\n",
      "|53    |O2OC-Flights   |13     |1.0E-6  |\n",
      "|20    |EC-SA          |1      |0.0     |\n",
      "+------+---------------+-------+--------+\n",
      "\n"
     ]
    }
   ],
   "source": [
    "manualCount.show(50, false)"
   ]
  },
  {
   "cell_type": "code",
   "execution_count": 67,
   "metadata": {
    "ExecuteTime": {
     "end_time": "2020-08-27T22:45:09.376677Z",
     "start_time": "2020-08-27T22:45:09.239224Z"
    }
   },
   "outputs": [
    {
     "data": {
      "text/plain": [
       "import org.apache.commons.math3.stat.correlation.KendallsCorrelation\n",
       "computeKendall: (arrA: Seq[Long], arrB: Seq[Long])Double\n",
       "jc: (arrA: Set[Int], arrB: Set[Int])Double\n"
      ]
     },
     "execution_count": 67,
     "metadata": {},
     "output_type": "execute_result"
    }
   ],
   "source": [
    "import org.apache.commons.math3.stat.correlation.KendallsCorrelation\n",
    "\n",
    "def computeKendall(arrA: Seq[Long], arrB: Seq[Long]): Double = {\n",
    "    val x: Array[Double] = arrA.map(_.toDouble).toArray\n",
    "    val y: Array[Double] = arrB.map(_.toDouble).toArray\n",
    "    val kc = new KendallsCorrelation\n",
    "    kc.correlation(x, y)\n",
    "}\n",
    "\n",
    "def jc(arrA:Set[Int], arrB:Set[Int]):Double ={\n",
    "    (arrA.intersect(arrB).size.toDouble)/(arrA.union(arrB).size.toDouble)\n",
    "}"
   ]
  },
  {
   "cell_type": "code",
   "execution_count": 123,
   "metadata": {
    "ExecuteTime": {
     "end_time": "2020-08-27T23:18:46.963871Z",
     "start_time": "2020-08-27T23:18:46.578468Z"
    }
   },
   "outputs": [
    {
     "data": {
      "text/plain": [
       "import org.apache.spark.sql.functions.format_number\n",
       "evaluate: (predictionsPerCategory: org.apache.spark.sql.DataFrame, salesPerCategory: org.apache.spark.sql.DataFrame)org.apache.spark.sql.DataFrame\n"
      ]
     },
     "execution_count": 123,
     "metadata": {},
     "output_type": "execute_result"
    }
   ],
   "source": [
    "import org.apache.spark.sql.functions.format_number\n",
    "\n",
    "def evaluate(predictionsPerCategory: DataFrame, salesPerCategory: DataFrame) = {\n",
    "    val res1 = predictionsPerCategory\n",
    "    .select($\"cma_id\".cast(IntegerType), $\"count\".alias(\"pred_count\"))\n",
    "    .orderBy(desc(\"pred_count\")).coalesce(1).cache\n",
    "\n",
    "    val res2 = salesPerCategory\n",
    "    .select($\"cma_id\".cast(IntegerType), $\"count\".alias(\"test_count\"))\n",
    "    .orderBy(desc(\"test_count\")).coalesce(1).cache\n",
    "    val size = res2.count\n",
    "    (1.0 to 10.0 by 1.0).map(_/10).map(k => {\n",
    "        val topk = (size*k).toInt - 1\n",
    "        val joined = (res2.limit(topk).join(res1.limit(topk), Seq(\"cma_id\"), \"left\")\n",
    "                      .withColumn(\"pred_count\", coalesce($\"pred_count\", (round(rand()*topk)).cast(LongType))))\n",
    "\n",
    "        val cmaids1= joined.select(\"pred_count\").map(r => r.getLong(0)).collect.toSeq\n",
    "        val cmaids2= joined.select(\"test_count\").map(r => r.getLong(0)).collect.toSeq\n",
    "        val res1Ids = res1.limit(topk).select(\"cma_id\").map(r => r.getInt(0)).collect.toSet\n",
    "        val res2Ids = res2.limit(topk).select(\"cma_id\").map(r => r.getInt(0)).collect.toSet\n",
    "        val topSales = res2.limit(topk).map(r => (r.getInt(0), r.getLong(1))).collect.toSeq\n",
    "        val topPrediction = res1.limit(topk).map(r => (r.getInt(0), r.getLong(1))).collect.toSeq\n",
    "        (k*100, \"%1.2f\".format(computeKendall(cmaids1,cmaids2)), \"%1.2f\".format(jc(res1Ids,res2Ids)))\n",
    "    }).toDF(\"top_percent_category\", \"kendall\", \"jc_similarity\")\n",
    "}"
   ]
  },
  {
   "cell_type": "code",
   "execution_count": 124,
   "metadata": {
    "ExecuteTime": {
     "end_time": "2020-08-27T23:18:52.767307Z",
     "start_time": "2020-08-27T23:18:48.628419Z"
    }
   },
   "outputs": [
    {
     "data": {
      "text/plain": [
       "evalAutopilot: org.apache.spark.sql.DataFrame = [top_percent_category: double, kendall: string ... 1 more field]\n"
      ]
     },
     "execution_count": 124,
     "metadata": {},
     "output_type": "execute_result"
    }
   ],
   "source": [
    "val evalAutopilot = evaluate(autopilotCount, actual_sales)"
   ]
  },
  {
   "cell_type": "code",
   "execution_count": 125,
   "metadata": {
    "ExecuteTime": {
     "end_time": "2020-08-27T23:18:52.870343Z",
     "start_time": "2020-08-27T23:18:52.768466Z"
    }
   },
   "outputs": [
    {
     "name": "stdout",
     "output_type": "stream",
     "text": [
      "+--------------------+-------+-------------+\n",
      "|top_percent_category|kendall|jc_similarity|\n",
      "+--------------------+-------+-------------+\n",
      "|10.0                |1.00   |0.33         |\n",
      "|20.0                |0.46   |0.13         |\n",
      "|30.0                |0.15   |0.12         |\n",
      "|40.0                |0.34   |0.09         |\n",
      "|50.0                |0.10   |0.14         |\n",
      "|60.0                |0.19   |0.23         |\n",
      "|70.0                |-0.08  |0.27         |\n",
      "|80.0                |-0.17  |0.35         |\n",
      "|90.0                |-0.12  |0.39         |\n",
      "|100.0               |-0.06  |0.45         |\n",
      "+--------------------+-------+-------------+\n",
      "\n"
     ]
    }
   ],
   "source": [
    "evalAutopilot.show(10, false)"
   ]
  },
  {
   "cell_type": "code",
   "execution_count": 126,
   "metadata": {
    "ExecuteTime": {
     "end_time": "2020-08-27T23:18:56.932491Z",
     "start_time": "2020-08-27T23:18:52.871865Z"
    }
   },
   "outputs": [
    {
     "data": {
      "text/plain": [
       "evalManual: org.apache.spark.sql.DataFrame = [top_percent_category: double, kendall: string ... 1 more field]\n"
      ]
     },
     "execution_count": 126,
     "metadata": {},
     "output_type": "execute_result"
    }
   ],
   "source": [
    "val evalManual = evaluate(manualCount, actual_sales)"
   ]
  },
  {
   "cell_type": "code",
   "execution_count": 127,
   "metadata": {
    "ExecuteTime": {
     "end_time": "2020-08-27T23:18:57.069824Z",
     "start_time": "2020-08-27T23:18:56.933580Z"
    }
   },
   "outputs": [
    {
     "name": "stdout",
     "output_type": "stream",
     "text": [
      "+--------------------+-------+-------------+\n",
      "|top_percent_category|kendall|jc_similarity|\n",
      "+--------------------+-------+-------------+\n",
      "|10.0                |0.67   |0.33         |\n",
      "|20.0                |0.40   |0.13         |\n",
      "|30.0                |0.54   |0.12         |\n",
      "|40.0                |0.37   |0.09         |\n",
      "|50.0                |0.06   |0.14         |\n",
      "|60.0                |-0.12  |0.23         |\n",
      "|70.0                |-0.08  |0.29         |\n",
      "|80.0                |0.00   |0.36         |\n",
      "|90.0                |-0.14  |0.43         |\n",
      "|100.0               |-0.09  |0.48         |\n",
      "+--------------------+-------+-------------+\n",
      "\n"
     ]
    }
   ],
   "source": [
    "evalManual.show(10, false)"
   ]
  },
  {
   "cell_type": "code",
   "execution_count": 93,
   "metadata": {
    "ExecuteTime": {
     "end_time": "2020-08-27T22:55:39.484730Z",
     "start_time": "2020-08-27T22:55:39.332934Z"
    }
   },
   "outputs": [
    {
     "name": "stdout",
     "output_type": "stream",
     "text": [
      "+------+-------+--------+--------------------+\n",
      "|cma_id|  count| percent|       category_name|\n",
      "+------+-------+--------+--------------------+\n",
      "|   443|1458358|0.157765|          RU-Prepaid|\n",
      "|   352|1175501|0.127165|       WLT-add money|\n",
      "|  6797|1175212|0.127134|       PAYTM-UPI P2P|\n",
      "|   357| 519627|0.056213|             WLT-P2P|\n",
      "|  6808| 482024|0.052145|3PP-ON-Digital Co...|\n",
      "|   420| 443737|0.048003|        3PP-OFF-Food|\n",
      "|   421| 284924|0.030823|3PP-OFF-Gas and P...|\n",
      "|  6809| 215447|0.023307|3PP-ON-Food Delivery|\n",
      "|    38| 213819|0.023131|              RU-DTH|\n",
      "|    39| 179160|0.019381|      RU-Electricity|\n",
      "|   429| 171286| 0.01853|3PP-OFF-Milk Dair...|\n",
      "|  6810| 169122|0.018296|          3PP-ON-O2O|\n",
      "|   423| 151646|0.016405|  3PP-OFF-Healthcare|\n",
      "|   358|  91531|0.009902|WLT-transfer to bank|\n",
      "|    44|  90610|0.009802|      RU-Google Play|\n",
      "|   391|  88438|0.009567|       3PP-ON-Others|\n",
      "|   444|  59678|0.006456|         RU-Postpaid|\n",
      "|  6811|  54754|0.005923|3PP-ON-Travel & T...|\n",
      "|   426|  44959|0.004864|3PP-OFF-LFR and B...|\n",
      "|   437|  37569|0.004064|   3PP-OFF-Transport|\n",
      "+------+-------+--------+--------------------+\n",
      "only showing top 20 rows\n",
      "\n"
     ]
    }
   ],
   "source": [
    "actual_sales.show()"
   ]
  },
  {
   "cell_type": "code",
   "execution_count": 94,
   "metadata": {
    "ExecuteTime": {
     "end_time": "2020-08-27T22:55:48.375512Z",
     "start_time": "2020-08-27T22:55:48.234696Z"
    }
   },
   "outputs": [
    {
     "name": "stdout",
     "output_type": "stream",
     "text": [
      "+------+---------------+-------+--------+\n",
      "|cma_id|  category_name|  count| percent|\n",
      "+------+---------------+-------+--------+\n",
      "|    10|    PAYTM-Games|4381249|0.202875|\n",
      "|     1|          PAYTM|2815187|0.130358|\n",
      "|   352|  WLT-add money|1596737|0.073937|\n",
      "|   443|     RU-Prepaid|1478787|0.068476|\n",
      "|    25|   EC-Groceries|1362711|0.063101|\n",
      "|    23|     EC-Mobiles|1256235| 0.05817|\n",
      "|    14|     EC-Apparel|1109263|0.051365|\n",
      "|    19|          EC-CE| 930570| 0.04309|\n",
      "|    45|   RU-Insurance| 868589| 0.04022|\n",
      "|    22|          EC-LA| 779242|0.036083|\n",
      "|    18|         EC-HnK| 770794|0.035692|\n",
      "|    39| RU-Electricity| 765018|0.035424|\n",
      "|    12|     PAYTM-Gold| 706981|0.032737|\n",
      "|    16|    EC-Footwear| 463998|0.021486|\n",
      "|     9|    PAYTM-Money| 439709|0.020361|\n",
      "|   445| RU-Credit Card| 406662|0.018831|\n",
      "|  6803|PAYTM-Mini Apps| 373462|0.017293|\n",
      "|    15|     EC-FashAcc| 311806|0.014438|\n",
      "|    59|     O2OC-Deals| 233421|0.010809|\n",
      "|    26|   EC-LaptopsPC| 139786|0.006473|\n",
      "+------+---------------+-------+--------+\n",
      "only showing top 20 rows\n",
      "\n"
     ]
    }
   ],
   "source": [
    "manualCount.show()"
   ]
  },
  {
   "cell_type": "code",
   "execution_count": null,
   "metadata": {},
   "outputs": [],
   "source": []
  }
 ],
 "metadata": {
  "kernelspec": {
   "display_name": "spylon-kernel",
   "language": "scala",
   "name": "spylon-kernel"
  },
  "language_info": {
   "codemirror_mode": "text/x-scala",
   "file_extension": ".scala",
   "help_links": [
    {
     "text": "MetaKernel Magics",
     "url": "https://metakernel.readthedocs.io/en/latest/source/README.html"
    }
   ],
   "mimetype": "text/x-scala",
   "name": "scala",
   "pygments_lexer": "scala",
   "version": "0.4.1"
  },
  "toc": {
   "base_numbering": 1,
   "nav_menu": {},
   "number_sections": true,
   "sideBar": true,
   "skip_h1_title": false,
   "title_cell": "Table of Contents",
   "title_sidebar": "Contents",
   "toc_cell": false,
   "toc_position": {},
   "toc_section_display": true,
   "toc_window_display": false
  }
 },
 "nbformat": 4,
 "nbformat_minor": 4
}
