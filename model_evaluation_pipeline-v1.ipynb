{
 "cells": [
  {
   "cell_type": "code",
   "execution_count": 5,
   "metadata": {
    "ExecuteTime": {
     "end_time": "2020-09-25T01:53:57.925042Z",
     "start_time": "2020-09-25T01:53:57.184162Z"
    }
   },
   "outputs": [],
   "source": [
    "from datetime import date, timedelta\n",
    "import papermill as pm\n",
    "from analysis.pipeline import authorize_pipeline, run_with_argument, get_notebook_op, execute_pipeline, create_pipeline, create_parent_folder, get_default_pipeline_fn\n",
    "import kfp.dsl as dsl"
   ]
  },
  {
   "cell_type": "code",
   "execution_count": 6,
   "metadata": {
    "ExecuteTime": {
     "end_time": "2020-09-25T01:53:58.615010Z",
     "start_time": "2020-09-25T01:53:58.612622Z"
    }
   },
   "outputs": [],
   "source": [
    "#global parameters\n",
    "notebook_folder = '/home/jovyan/public/notebooks/model_evaluation/2020-09-22/'\n",
    "image_ver_to_use = '075790327284.dkr.ecr.ap-south-1.amazonaws.com/midgar-analysis-notebook:latest'\n",
    "spark_memory = '120G'\n",
    "cpu_cores = '16'"
   ]
  },
  {
   "cell_type": "code",
   "execution_count": 13,
   "metadata": {
    "ExecuteTime": {
     "end_time": "2020-09-25T03:23:19.852197Z",
     "start_time": "2020-09-25T03:23:19.850052Z"
    }
   },
   "outputs": [],
   "source": [
    "model_date = '2020-09-16'\n",
    "sales_date = '2020-09-17'"
   ]
  },
  {
   "cell_type": "code",
   "execution_count": 14,
   "metadata": {
    "ExecuteTime": {
     "end_time": "2020-09-25T03:23:20.409773Z",
     "start_time": "2020-09-25T03:23:20.407522Z"
    }
   },
   "outputs": [],
   "source": [
    "file_date = model_date.replace('-','_')"
   ]
  },
  {
   "cell_type": "code",
   "execution_count": 15,
   "metadata": {
    "ExecuteTime": {
     "end_time": "2020-09-25T03:23:21.042352Z",
     "start_time": "2020-09-25T03:23:21.038760Z"
    }
   },
   "outputs": [],
   "source": [
    "def pipeline_func():\n",
    "    task1 = get_notebook_op(notebook_folder+'allocation_metrics-v1.ipynb',\n",
    "                            notebook_folder+f'allocation_metrics_output_{file_date}_stg.ipynb',\n",
    "                            notebook_args=f'-p sparkMemory {spark_memory} -p model_date {model_date} -p sales_date {sales_date} -p model_env stg -p sales_env stg',\n",
    "                            image=image_ver_to_use,\n",
    "                            job_name=f'model_eval_alloc_{file_date}_stg' )\n",
    "    task1.set_memory_limit(spark_memory),\n",
    "    task1.set_cpu_limit(cpu_cores)\n",
    "    \n",
    "    task2 = get_notebook_op(notebook_folder+'allocation_metrics-v1.ipynb',\n",
    "                            notebook_folder+f'allocation_metrics_output_{file_date}_prod.ipynb',\n",
    "                            notebook_args=f'-p sparkMemory {spark_memory} -p model_date {model_date} -p sales_date {sales_date} -p model_env prod -p sales_env stg',\n",
    "                            image=image_ver_to_use,\n",
    "                            job_name=f'model_eval_alloc_{file_date}_prod' )\n",
    "    task2.set_memory_limit(spark_memory),\n",
    "    task2.set_cpu_limit(cpu_cores)"
   ]
  },
  {
   "cell_type": "code",
   "execution_count": 16,
   "metadata": {
    "ExecuteTime": {
     "end_time": "2020-09-25T03:23:22.856792Z",
     "start_time": "2020-09-25T03:23:22.805567Z"
    }
   },
   "outputs": [
    {
     "data": {
      "text/html": [
       "Experiment link <a href=\"/pipeline/#/experiments/details/317c9953-274a-4dee-8a94-7b3cbeadf15a\" target=\"_blank\" >here</a>"
      ],
      "text/plain": [
       "<IPython.core.display.HTML object>"
      ]
     },
     "metadata": {},
     "output_type": "display_data"
    },
    {
     "data": {
      "text/html": [
       "Run link <a href=\"/pipeline/#/runs/details/dadd889c-3053-40d0-ba14-3bb2d8831fc9\" target=\"_blank\" >here</a>"
      ],
      "text/plain": [
       "<IPython.core.display.HTML object>"
      ]
     },
     "metadata": {},
     "output_type": "display_data"
    }
   ],
   "source": [
    "pipeline = authorize_pipeline('alloc', pipeline_func)\n",
    "execute_pipeline('model_eval_alloc', 'amir_model_eval_exp', pipeline, dict())"
   ]
  },
  {
   "cell_type": "code",
   "execution_count": 17,
   "metadata": {
    "ExecuteTime": {
     "end_time": "2020-09-25T03:23:31.606537Z",
     "start_time": "2020-09-25T03:23:31.602346Z"
    }
   },
   "outputs": [],
   "source": [
    "def pipeline_func():\n",
    "    task1 = get_notebook_op(notebook_folder+'weighted_trend_eval_new_cats_support-v1.ipynb',\n",
    "                            notebook_folder+f'weight_metrics_new_cats_support_output_{file_date}_stg_nnc.ipynb',\n",
    "                            notebook_args=f'-p sparkMemory {spark_memory} -p model_date {model_date} -p start_date {sales_date} -p end_date {sales_date} -p test_env stg -p pred_env stg -p remove_new_cats 1',\n",
    "                            image=image_ver_to_use,\n",
    "                            job_name=f'weight_{file_date}_stg_nnc' )\n",
    "    task1.set_memory_limit(spark_memory),\n",
    "    task1.set_cpu_limit(cpu_cores)\n",
    "    \n",
    "    task2 = get_notebook_op(notebook_folder+'weighted_trend_eval_new_cats_support-v1.ipynb',\n",
    "                            notebook_folder+f'weight_new_cats_support_metrics_output_{file_date}_stg_wnc.ipynb',\n",
    "                            notebook_args=f'-p sparkMemory {spark_memory} -p model_date {model_date} -p start_date {sales_date} -p end_date {sales_date} -p test_env stg -p pred_env stg -p remove_new_cats 0',\n",
    "                            image=image_ver_to_use,\n",
    "                            job_name=f'weight_{file_date}_stg_wnc' )\n",
    "    task2.set_memory_limit(spark_memory),\n",
    "    task2.set_cpu_limit(cpu_cores)\n",
    "    \n",
    "    task3 = get_notebook_op(notebook_folder+'weighted_trend_eval_new_cats_support-v1.ipynb',\n",
    "                            notebook_folder+f'weight_new_cats_support_metrics_output_{file_date}_prod_nnc.ipynb',\n",
    "                            notebook_args=f'-p sparkMemory {spark_memory} -p model_date {model_date} -p start_date {sales_date} -p end_date {sales_date} -p test_env stg -p pred_env prod -p remove_new_cats 1',\n",
    "                            image=image_ver_to_use,\n",
    "                            job_name=f'weight_{file_date}_prod_nnc' )\n",
    "    task3.set_memory_limit(spark_memory),\n",
    "    task3.set_cpu_limit(cpu_cores)"
   ]
  },
  {
   "cell_type": "code",
   "execution_count": 18,
   "metadata": {
    "ExecuteTime": {
     "end_time": "2020-09-25T03:23:32.238578Z",
     "start_time": "2020-09-25T03:23:32.187183Z"
    }
   },
   "outputs": [
    {
     "data": {
      "text/html": [
       "Experiment link <a href=\"/pipeline/#/experiments/details/317c9953-274a-4dee-8a94-7b3cbeadf15a\" target=\"_blank\" >here</a>"
      ],
      "text/plain": [
       "<IPython.core.display.HTML object>"
      ]
     },
     "metadata": {},
     "output_type": "display_data"
    },
    {
     "data": {
      "text/html": [
       "Run link <a href=\"/pipeline/#/runs/details/31680cbb-ecb7-4971-9e0a-44cb5084b37e\" target=\"_blank\" >here</a>"
      ],
      "text/plain": [
       "<IPython.core.display.HTML object>"
      ]
     },
     "metadata": {},
     "output_type": "display_data"
    }
   ],
   "source": [
    "pipeline = authorize_pipeline('weight', pipeline_func)\n",
    "execute_pipeline('weight_trend_alloc', 'amir_model_eval_exp', pipeline, dict())"
   ]
  },
  {
   "cell_type": "code",
   "execution_count": null,
   "metadata": {},
   "outputs": [],
   "source": []
  }
 ],
 "metadata": {
  "kernelspec": {
   "display_name": "Python 3",
   "language": "python",
   "name": "python3"
  },
  "language_info": {
   "codemirror_mode": {
    "name": "ipython",
    "version": 3
   },
   "file_extension": ".py",
   "mimetype": "text/x-python",
   "name": "python",
   "nbconvert_exporter": "python",
   "pygments_lexer": "ipython3",
   "version": "3.7.8"
  },
  "toc": {
   "base_numbering": 1,
   "nav_menu": {},
   "number_sections": true,
   "sideBar": true,
   "skip_h1_title": false,
   "title_cell": "Table of Contents",
   "title_sidebar": "Contents",
   "toc_cell": false,
   "toc_position": {},
   "toc_section_display": true,
   "toc_window_display": false
  }
 },
 "nbformat": 4,
 "nbformat_minor": 4
}
