{
 "cells": [
  {
   "cell_type": "code",
   "execution_count": 1,
   "metadata": {
    "ExecuteTime": {
     "end_time": "2020-03-24T16:18:51.827860Z",
     "start_time": "2020-03-24T16:18:51.457378Z"
    }
   },
   "outputs": [],
   "source": [
    "import random\n",
    "import time, datetime\n",
    "from pyspark.sql import SparkSession\n",
    "import pyspark.sql.functions as F\n",
    "import pyspark.sql.column as col\n",
    "import os\n",
    "from functools import reduce\n",
    "from pyspark.sql import DataFrame\n",
    "import subprocess\n",
    "from datetime import datetime, timedelta\n",
    "from pyspark.sql.window import Window\n",
    "from pyspark.sql.types import FloatType, StructType, StructField, LongType\n",
    "from functools import reduce\n",
    "import pandas as pd\n",
    "import pathlib"
   ]
  },
  {
   "cell_type": "code",
   "execution_count": 2,
   "metadata": {
    "ExecuteTime": {
     "end_time": "2020-03-24T16:18:52.238011Z",
     "start_time": "2020-03-24T16:18:52.235921Z"
    }
   },
   "outputs": [],
   "source": [
    "from pyspark.sql.functions import from_json\n",
    "from pyspark.sql.types import *"
   ]
  },
  {
   "cell_type": "code",
   "execution_count": 4,
   "metadata": {
    "ExecuteTime": {
     "end_time": "2020-03-24T16:20:31.234019Z",
     "start_time": "2020-03-24T16:19:47.010227Z"
    }
   },
   "outputs": [
    {
     "ename": "Exception",
     "evalue": "Java gateway process exited before sending its port number",
     "output_type": "error",
     "traceback": [
      "\u001b[0;31m---------------------------------------------------------------------------\u001b[0m",
      "\u001b[0;31mException\u001b[0m                                 Traceback (most recent call last)",
      "\u001b[0;32m<ipython-input-4-8be891064234>\u001b[0m in \u001b[0;36m<module>\u001b[0;34m\u001b[0m\n\u001b[1;32m      3\u001b[0m spark = (SparkSession\n\u001b[1;32m      4\u001b[0m          \u001b[0;34m.\u001b[0m\u001b[0mbuilder\u001b[0m\u001b[0;34m\u001b[0m\u001b[0;34m\u001b[0m\u001b[0m\n\u001b[0;32m----> 5\u001b[0;31m          \u001b[0;34m.\u001b[0m\u001b[0mmaster\u001b[0m\u001b[0;34m(\u001b[0m\u001b[0;34m\"local[*]\"\u001b[0m\u001b[0;34m)\u001b[0m\u001b[0;34m\u001b[0m\u001b[0;34m\u001b[0m\u001b[0m\n\u001b[0m\u001b[1;32m      6\u001b[0m          .getOrCreate())\n",
      "\u001b[0;32m/usr/local/spark/python/pyspark/sql/session.py\u001b[0m in \u001b[0;36mgetOrCreate\u001b[0;34m(self)\u001b[0m\n\u001b[1;32m    171\u001b[0m                     \u001b[0;32mfor\u001b[0m \u001b[0mkey\u001b[0m\u001b[0;34m,\u001b[0m \u001b[0mvalue\u001b[0m \u001b[0;32min\u001b[0m \u001b[0mself\u001b[0m\u001b[0;34m.\u001b[0m\u001b[0m_options\u001b[0m\u001b[0;34m.\u001b[0m\u001b[0mitems\u001b[0m\u001b[0;34m(\u001b[0m\u001b[0;34m)\u001b[0m\u001b[0;34m:\u001b[0m\u001b[0;34m\u001b[0m\u001b[0;34m\u001b[0m\u001b[0m\n\u001b[1;32m    172\u001b[0m                         \u001b[0msparkConf\u001b[0m\u001b[0;34m.\u001b[0m\u001b[0mset\u001b[0m\u001b[0;34m(\u001b[0m\u001b[0mkey\u001b[0m\u001b[0;34m,\u001b[0m \u001b[0mvalue\u001b[0m\u001b[0;34m)\u001b[0m\u001b[0;34m\u001b[0m\u001b[0;34m\u001b[0m\u001b[0m\n\u001b[0;32m--> 173\u001b[0;31m                     \u001b[0msc\u001b[0m \u001b[0;34m=\u001b[0m \u001b[0mSparkContext\u001b[0m\u001b[0;34m.\u001b[0m\u001b[0mgetOrCreate\u001b[0m\u001b[0;34m(\u001b[0m\u001b[0msparkConf\u001b[0m\u001b[0;34m)\u001b[0m\u001b[0;34m\u001b[0m\u001b[0;34m\u001b[0m\u001b[0m\n\u001b[0m\u001b[1;32m    174\u001b[0m                     \u001b[0;31m# This SparkContext may be an existing one.\u001b[0m\u001b[0;34m\u001b[0m\u001b[0;34m\u001b[0m\u001b[0;34m\u001b[0m\u001b[0m\n\u001b[1;32m    175\u001b[0m                     \u001b[0;32mfor\u001b[0m \u001b[0mkey\u001b[0m\u001b[0;34m,\u001b[0m \u001b[0mvalue\u001b[0m \u001b[0;32min\u001b[0m \u001b[0mself\u001b[0m\u001b[0;34m.\u001b[0m\u001b[0m_options\u001b[0m\u001b[0;34m.\u001b[0m\u001b[0mitems\u001b[0m\u001b[0;34m(\u001b[0m\u001b[0;34m)\u001b[0m\u001b[0;34m:\u001b[0m\u001b[0;34m\u001b[0m\u001b[0;34m\u001b[0m\u001b[0m\n",
      "\u001b[0;32m/usr/local/spark/python/pyspark/context.py\u001b[0m in \u001b[0;36mgetOrCreate\u001b[0;34m(cls, conf)\u001b[0m\n\u001b[1;32m    365\u001b[0m         \u001b[0;32mwith\u001b[0m \u001b[0mSparkContext\u001b[0m\u001b[0;34m.\u001b[0m\u001b[0m_lock\u001b[0m\u001b[0;34m:\u001b[0m\u001b[0;34m\u001b[0m\u001b[0;34m\u001b[0m\u001b[0m\n\u001b[1;32m    366\u001b[0m             \u001b[0;32mif\u001b[0m \u001b[0mSparkContext\u001b[0m\u001b[0;34m.\u001b[0m\u001b[0m_active_spark_context\u001b[0m \u001b[0;32mis\u001b[0m \u001b[0;32mNone\u001b[0m\u001b[0;34m:\u001b[0m\u001b[0;34m\u001b[0m\u001b[0;34m\u001b[0m\u001b[0m\n\u001b[0;32m--> 367\u001b[0;31m                 \u001b[0mSparkContext\u001b[0m\u001b[0;34m(\u001b[0m\u001b[0mconf\u001b[0m\u001b[0;34m=\u001b[0m\u001b[0mconf\u001b[0m \u001b[0;32mor\u001b[0m \u001b[0mSparkConf\u001b[0m\u001b[0;34m(\u001b[0m\u001b[0;34m)\u001b[0m\u001b[0;34m)\u001b[0m\u001b[0;34m\u001b[0m\u001b[0;34m\u001b[0m\u001b[0m\n\u001b[0m\u001b[1;32m    368\u001b[0m             \u001b[0;32mreturn\u001b[0m \u001b[0mSparkContext\u001b[0m\u001b[0;34m.\u001b[0m\u001b[0m_active_spark_context\u001b[0m\u001b[0;34m\u001b[0m\u001b[0;34m\u001b[0m\u001b[0m\n\u001b[1;32m    369\u001b[0m \u001b[0;34m\u001b[0m\u001b[0m\n",
      "\u001b[0;32m/usr/local/spark/python/pyspark/context.py\u001b[0m in \u001b[0;36m__init__\u001b[0;34m(self, master, appName, sparkHome, pyFiles, environment, batchSize, serializer, conf, gateway, jsc, profiler_cls)\u001b[0m\n\u001b[1;32m    131\u001b[0m                     \" note this option will be removed in Spark 3.0\")\n\u001b[1;32m    132\u001b[0m \u001b[0;34m\u001b[0m\u001b[0m\n\u001b[0;32m--> 133\u001b[0;31m         \u001b[0mSparkContext\u001b[0m\u001b[0;34m.\u001b[0m\u001b[0m_ensure_initialized\u001b[0m\u001b[0;34m(\u001b[0m\u001b[0mself\u001b[0m\u001b[0;34m,\u001b[0m \u001b[0mgateway\u001b[0m\u001b[0;34m=\u001b[0m\u001b[0mgateway\u001b[0m\u001b[0;34m,\u001b[0m \u001b[0mconf\u001b[0m\u001b[0;34m=\u001b[0m\u001b[0mconf\u001b[0m\u001b[0;34m)\u001b[0m\u001b[0;34m\u001b[0m\u001b[0;34m\u001b[0m\u001b[0m\n\u001b[0m\u001b[1;32m    134\u001b[0m         \u001b[0;32mtry\u001b[0m\u001b[0;34m:\u001b[0m\u001b[0;34m\u001b[0m\u001b[0;34m\u001b[0m\u001b[0m\n\u001b[1;32m    135\u001b[0m             self._do_init(master, appName, sparkHome, pyFiles, environment, batchSize, serializer,\n",
      "\u001b[0;32m/usr/local/spark/python/pyspark/context.py\u001b[0m in \u001b[0;36m_ensure_initialized\u001b[0;34m(cls, instance, gateway, conf)\u001b[0m\n\u001b[1;32m    314\u001b[0m         \u001b[0;32mwith\u001b[0m \u001b[0mSparkContext\u001b[0m\u001b[0;34m.\u001b[0m\u001b[0m_lock\u001b[0m\u001b[0;34m:\u001b[0m\u001b[0;34m\u001b[0m\u001b[0;34m\u001b[0m\u001b[0m\n\u001b[1;32m    315\u001b[0m             \u001b[0;32mif\u001b[0m \u001b[0;32mnot\u001b[0m \u001b[0mSparkContext\u001b[0m\u001b[0;34m.\u001b[0m\u001b[0m_gateway\u001b[0m\u001b[0;34m:\u001b[0m\u001b[0;34m\u001b[0m\u001b[0;34m\u001b[0m\u001b[0m\n\u001b[0;32m--> 316\u001b[0;31m                 \u001b[0mSparkContext\u001b[0m\u001b[0;34m.\u001b[0m\u001b[0m_gateway\u001b[0m \u001b[0;34m=\u001b[0m \u001b[0mgateway\u001b[0m \u001b[0;32mor\u001b[0m \u001b[0mlaunch_gateway\u001b[0m\u001b[0;34m(\u001b[0m\u001b[0mconf\u001b[0m\u001b[0;34m)\u001b[0m\u001b[0;34m\u001b[0m\u001b[0;34m\u001b[0m\u001b[0m\n\u001b[0m\u001b[1;32m    317\u001b[0m                 \u001b[0mSparkContext\u001b[0m\u001b[0;34m.\u001b[0m\u001b[0m_jvm\u001b[0m \u001b[0;34m=\u001b[0m \u001b[0mSparkContext\u001b[0m\u001b[0;34m.\u001b[0m\u001b[0m_gateway\u001b[0m\u001b[0;34m.\u001b[0m\u001b[0mjvm\u001b[0m\u001b[0;34m\u001b[0m\u001b[0;34m\u001b[0m\u001b[0m\n\u001b[1;32m    318\u001b[0m \u001b[0;34m\u001b[0m\u001b[0m\n",
      "\u001b[0;32m/usr/local/spark/python/pyspark/java_gateway.py\u001b[0m in \u001b[0;36mlaunch_gateway\u001b[0;34m(conf)\u001b[0m\n\u001b[1;32m     44\u001b[0m     \u001b[0;34m:\u001b[0m\u001b[0;32mreturn\u001b[0m\u001b[0;34m:\u001b[0m \u001b[0ma\u001b[0m \u001b[0mJVM\u001b[0m \u001b[0mgateway\u001b[0m\u001b[0;34m\u001b[0m\u001b[0;34m\u001b[0m\u001b[0m\n\u001b[1;32m     45\u001b[0m     \"\"\"\n\u001b[0;32m---> 46\u001b[0;31m     \u001b[0;32mreturn\u001b[0m \u001b[0m_launch_gateway\u001b[0m\u001b[0;34m(\u001b[0m\u001b[0mconf\u001b[0m\u001b[0;34m)\u001b[0m\u001b[0;34m\u001b[0m\u001b[0;34m\u001b[0m\u001b[0m\n\u001b[0m\u001b[1;32m     47\u001b[0m \u001b[0;34m\u001b[0m\u001b[0m\n\u001b[1;32m     48\u001b[0m \u001b[0;34m\u001b[0m\u001b[0m\n",
      "\u001b[0;32m/usr/local/spark/python/pyspark/java_gateway.py\u001b[0m in \u001b[0;36m_launch_gateway\u001b[0;34m(conf, insecure)\u001b[0m\n\u001b[1;32m    106\u001b[0m \u001b[0;34m\u001b[0m\u001b[0m\n\u001b[1;32m    107\u001b[0m             \u001b[0;32mif\u001b[0m \u001b[0;32mnot\u001b[0m \u001b[0mos\u001b[0m\u001b[0;34m.\u001b[0m\u001b[0mpath\u001b[0m\u001b[0;34m.\u001b[0m\u001b[0misfile\u001b[0m\u001b[0;34m(\u001b[0m\u001b[0mconn_info_file\u001b[0m\u001b[0;34m)\u001b[0m\u001b[0;34m:\u001b[0m\u001b[0;34m\u001b[0m\u001b[0;34m\u001b[0m\u001b[0m\n\u001b[0;32m--> 108\u001b[0;31m                 \u001b[0;32mraise\u001b[0m \u001b[0mException\u001b[0m\u001b[0;34m(\u001b[0m\u001b[0;34m\"Java gateway process exited before sending its port number\"\u001b[0m\u001b[0;34m)\u001b[0m\u001b[0;34m\u001b[0m\u001b[0;34m\u001b[0m\u001b[0m\n\u001b[0m\u001b[1;32m    109\u001b[0m \u001b[0;34m\u001b[0m\u001b[0m\n\u001b[1;32m    110\u001b[0m             \u001b[0;32mwith\u001b[0m \u001b[0mopen\u001b[0m\u001b[0;34m(\u001b[0m\u001b[0mconn_info_file\u001b[0m\u001b[0;34m,\u001b[0m \u001b[0;34m\"rb\"\u001b[0m\u001b[0;34m)\u001b[0m \u001b[0;32mas\u001b[0m \u001b[0minfo\u001b[0m\u001b[0;34m:\u001b[0m\u001b[0;34m\u001b[0m\u001b[0;34m\u001b[0m\u001b[0m\n",
      "\u001b[0;31mException\u001b[0m: Java gateway process exited before sending its port number"
     ]
    }
   ],
   "source": [
    "os.environ['PYSPARK_SUBMIT_ARGS'] = '--conf spark.driver.memory=16G --conf spark.driver.maxResultSize=16G pyspark-shell'\n",
    "\n",
    "spark = (SparkSession\n",
    "         .builder\n",
    "         .master(\"local[*]\")\n",
    "         .getOrCreate())"
   ]
  },
  {
   "cell_type": "code",
   "execution_count": null,
   "metadata": {},
   "outputs": [],
   "source": []
  },
  {
   "cell_type": "markdown",
   "metadata": {},
   "source": [
    "## load transacion data"
   ]
  },
  {
   "cell_type": "code",
   "execution_count": null,
   "metadata": {
    "ExecuteTime": {
     "end_time": "2020-03-24T16:20:31.235621Z",
     "start_time": "2020-03-24T16:19:51.524Z"
    }
   },
   "outputs": [],
   "source": [
    "path = 's3a://midgar-aws-workspace/home/pengcheng/cltv-test/sales_table'"
   ]
  },
  {
   "cell_type": "code",
   "execution_count": null,
   "metadata": {
    "ExecuteTime": {
     "end_time": "2020-03-24T16:20:31.236208Z",
     "start_time": "2020-03-24T16:19:51.725Z"
    }
   },
   "outputs": [],
   "source": [
    "df = spark.read.parquet(path)\n"
   ]
  },
  {
   "cell_type": "markdown",
   "metadata": {},
   "source": [
    "## category"
   ]
  },
  {
   "cell_type": "code",
   "execution_count": null,
   "metadata": {
    "ExecuteTime": {
     "end_time": "2020-03-24T16:19:44.801653Z",
     "start_time": "2020-03-24T16:19:22.872Z"
    }
   },
   "outputs": [],
   "source": [
    "df = df.select(df.customer_id, df.selling_price.cast(IntegerType()).alias('price'), df.category_id, df.dt).coalesce(1)"
   ]
  },
  {
   "cell_type": "code",
   "execution_count": null,
   "metadata": {
    "ExecuteTime": {
     "end_time": "2020-03-24T16:19:44.802233Z",
     "start_time": "2020-03-24T16:19:23.329Z"
    }
   },
   "outputs": [],
   "source": [
    "df.show(1)"
   ]
  },
  {
   "cell_type": "code",
   "execution_count": null,
   "metadata": {},
   "outputs": [],
   "source": []
  },
  {
   "cell_type": "code",
   "execution_count": 17,
   "metadata": {
    "ExecuteTime": {
     "end_time": "2020-03-02T19:18:58.169327Z",
     "start_time": "2020-03-02T19:17:09.123798Z"
    }
   },
   "outputs": [
    {
     "data": {
      "text/plain": [
       "3170420532"
      ]
     },
     "execution_count": 17,
     "metadata": {},
     "output_type": "execute_result"
    }
   ],
   "source": [
    "df.count()"
   ]
  },
  {
   "cell_type": "code",
   "execution_count": 18,
   "metadata": {
    "ExecuteTime": {
     "end_time": "2020-03-02T19:18:58.177543Z",
     "start_time": "2020-03-02T19:18:58.170579Z"
    }
   },
   "outputs": [],
   "source": [
    "cnames = df.select('category_id').distinct()"
   ]
  },
  {
   "cell_type": "code",
   "execution_count": 19,
   "metadata": {
    "ExecuteTime": {
     "end_time": "2020-03-02T19:22:57.533717Z",
     "start_time": "2020-03-02T19:18:58.178739Z"
    }
   },
   "outputs": [
    {
     "data": {
      "text/plain": [
       "2427"
      ]
     },
     "execution_count": 19,
     "metadata": {},
     "output_type": "execute_result"
    }
   ],
   "source": [
    "cnames.count()"
   ]
  },
  {
   "cell_type": "code",
   "execution_count": null,
   "metadata": {},
   "outputs": [],
   "source": []
  },
  {
   "cell_type": "code",
   "execution_count": 20,
   "metadata": {
    "ExecuteTime": {
     "end_time": "2020-03-02T19:22:57.579234Z",
     "start_time": "2020-03-02T19:22:57.534863Z"
    }
   },
   "outputs": [],
   "source": [
    "catdf = df.groupBy('category_id').agg(\n",
    "                        F.count('dt').alias('cnt')\n",
    "                    ).orderBy('cnt', ascending=False)"
   ]
  },
  {
   "cell_type": "code",
   "execution_count": 21,
   "metadata": {
    "ExecuteTime": {
     "end_time": "2020-03-02T19:27:12.234617Z",
     "start_time": "2020-03-02T19:22:57.580383Z"
    }
   },
   "outputs": [
    {
     "name": "stdout",
     "output_type": "stream",
     "text": [
      "+-----------+----------+\n",
      "|category_id|       cnt|\n",
      "+-----------+----------+\n",
      "|     205716|1264392615|\n",
      "|         17| 818519392|\n",
      "|         26| 148497864|\n",
      "|      98945| 129012258|\n",
      "|         18| 113533144|\n",
      "|      82653|  60069597|\n",
      "|     122254|  59955181|\n",
      "|         21|  48966158|\n",
      "|      80491|  41515962|\n",
      "|     126747|  37183492|\n",
      "|      77409|  33211511|\n",
      "|     113926|  29905722|\n",
      "|     100123|  26851209|\n",
      "|      37217|  22875444|\n",
      "|     106022|  21725858|\n",
      "|      25173|  19627366|\n",
      "|     156705|  18977034|\n",
      "|     200604|  15378781|\n",
      "|      69089|  13222374|\n",
      "|      64739|  13131309|\n",
      "+-----------+----------+\n",
      "only showing top 20 rows\n",
      "\n"
     ]
    },
    {
     "data": {
      "text/plain": [
       "'\\n+-----------+---------+\\n|category_id|      cnt|\\n+-----------+---------+\\n|         17|760750995|\\n|         26|135873546|\\n|         18|113533144|\\n|      98945| 87996115|\\n|      82653| 60069597|\\n|     122254| 59950949|\\n|         21| 44045340|\\n|      80491| 40574247|\\n|      77409| 33137547|\\n|     126747| 31837532|\\n|     113926| 29905722|\\n|     100123| 26851209|\\n|      37217| 20225230|\\n|      25173| 18603704|\\n|     106022| 17982724|\\n|     156705| 17174837|\\n|     200604| 15167349|\\n|      69089| 13185369|\\n|      64739| 12986611|\\n|      99932| 10580326|\\n+-----------+---------+\\n'"
      ]
     },
     "execution_count": 21,
     "metadata": {},
     "output_type": "execute_result"
    }
   ],
   "source": [
    "catdf.show()\n",
    "\n",
    "\n",
    "'''\n",
    "+-----------+----------+\n",
    "|category_id|       cnt|\n",
    "+-----------+----------+\n",
    "|     205716|1264392615|\n",
    "|         17| 818519392|\n",
    "|         26| 148497864|\n",
    "|      98945| 129012258|\n",
    "|         18| 113533144|\n",
    "|      82653|  60069597|\n",
    "|     122254|  59955181|\n",
    "|         21|  48966158|\n",
    "|      80491|  41515962|\n",
    "|     126747|  37183492|\n",
    "|      77409|  33211511|\n",
    "|     113926|  29905722|\n",
    "|     100123|  26851209|\n",
    "|      37217|  22875444|\n",
    "|     106022|  21725858|\n",
    "|      25173|  19627366|\n",
    "|     156705|  18977034|\n",
    "|     200604|  15378781|\n",
    "|      69089|  13222374|\n",
    "|      64739|  13131309|\n",
    "+-----------+----------+\n",
    "'''"
   ]
  },
  {
   "cell_type": "markdown",
   "metadata": {},
   "source": [
    "### category data"
   ]
  },
  {
   "cell_type": "code",
   "execution_count": 6,
   "metadata": {
    "ExecuteTime": {
     "end_time": "2020-03-09T14:18:18.870324Z",
     "start_time": "2020-03-09T14:18:18.868000Z"
    }
   },
   "outputs": [],
   "source": [
    "traing_start_date = '2019-01-01'\n",
    "traing_end_date = '2019-06-30'\n",
    "testing_start_date = '2019-07-01'\n",
    "testing_end_date = '2019-12-31'\n",
    "date_format_str ='yyyy-MM-dd'"
   ]
  },
  {
   "cell_type": "code",
   "execution_count": 7,
   "metadata": {
    "ExecuteTime": {
     "end_time": "2020-03-09T14:18:19.503224Z",
     "start_time": "2020-03-09T14:18:19.500415Z"
    }
   },
   "outputs": [
    {
     "name": "stdout",
     "output_type": "stream",
     "text": [
      "2019-01-01 2019-06-30\n"
     ]
    }
   ],
   "source": [
    "print(traing_start_date, traing_end_date)"
   ]
  },
  {
   "cell_type": "code",
   "execution_count": 8,
   "metadata": {
    "ExecuteTime": {
     "end_time": "2020-03-09T14:18:20.437776Z",
     "start_time": "2020-03-09T14:18:20.435301Z"
    }
   },
   "outputs": [
    {
     "name": "stdout",
     "output_type": "stream",
     "text": [
      "2019-07-01 2019-12-31\n"
     ]
    }
   ],
   "source": [
    "print(testing_start_date, testing_end_date)"
   ]
  },
  {
   "cell_type": "code",
   "execution_count": 9,
   "metadata": {
    "ExecuteTime": {
     "end_time": "2020-03-09T14:18:20.973413Z",
     "start_time": "2020-03-09T14:18:20.966447Z"
    }
   },
   "outputs": [],
   "source": [
    "def history_by_category(df, start_date, end_date, category_id):\n",
    "        \n",
    "    df_agg = df.where((df.dt >= start_date) & (df.dt <= end_date) & (df.category_id == category_id)).groupBy('customer_id')\\\n",
    "                    .agg(\n",
    "                        F.countDistinct('dt').alias('tx_cnt'),\n",
    "                        F.avg('price').cast(FloatType()).alias('monetary_value'),\n",
    "                        F.sum('price').cast(FloatType()).alias('total_value'),\n",
    "                        F.max('dt').alias('max_dt'),\n",
    "                        F.min('dt').alias('min_dt')\n",
    "                    ).withColumn('last_date', F.lit(end_date)).withColumn('first_date', F.lit(start_date))\n",
    "        \n",
    "    df_agg = df_agg.withColumn('frequency', F.col('tx_cnt')-1)\\\n",
    "                   .withColumn('T', \n",
    "                               F.datediff(\n",
    "                                   F.to_date('last_date', date_format_str),\n",
    "                                   F.to_date('min_dt', date_format_str)))\\\n",
    "                   .withColumn('recency',\n",
    "                               F.when(df_agg.tx_cnt == 1, 0.0).\n",
    "                               otherwise(F.datediff(\n",
    "                                   F.to_date('max_dt', date_format_str),\n",
    "                                   F.to_date('min_dt', date_format_str)\n",
    "                               ))\n",
    "                              )\n",
    " \n",
    "    \n",
    "    return df_agg.select(df_agg.customer_id, df_agg.frequency, df_agg.recency, df_agg.monetary_value, df_agg.T, df_agg.total_value)\n",
    "    #return df_agg"
   ]
  },
  {
   "cell_type": "code",
   "execution_count": 10,
   "metadata": {
    "ExecuteTime": {
     "end_time": "2020-03-09T14:18:21.560489Z",
     "start_time": "2020-03-09T14:18:21.554662Z"
    }
   },
   "outputs": [],
   "source": [
    "def history_by_category_agg(df, start_date, end_date):\n",
    "        \n",
    "    df_agg = df.where((df.dt >= start_date) & (df.dt <= end_date)).groupBy('customer_id', 'category_id')\\\n",
    "                    .agg(\n",
    "                        F.countDistinct('dt').alias('tx_cnt'),\n",
    "                        F.avg('price').cast(FloatType()).alias('monetary_value'),\n",
    "                        F.max('dt').alias('max_dt'),\n",
    "                        F.min('dt').alias('min_dt')\n",
    "                    ).withColumn('last_date', F.lit(end_date)).withColumn('first_date', F.lit(start_date))\n",
    "        \n",
    "    df_agg = df_agg.withColumn('frequency', F.col('tx_cnt')-1)\\\n",
    "                   .withColumn('T', \n",
    "                               F.datediff(\n",
    "                                   F.to_date('last_date', date_format_str),\n",
    "                                   F.to_date('min_dt', date_format_str)))\\\n",
    "                   .withColumn('recency',\n",
    "                               F.when(df_agg.tx_cnt == 1, 0.0).\n",
    "                               otherwise(F.datediff(\n",
    "                                   F.to_date('max_dt', date_format_str),\n",
    "                                   F.to_date('min_dt', date_format_str)\n",
    "                               ))\n",
    "                              )\n",
    " \n",
    "    \n",
    "    return df_agg.select(df_agg.customer_id, df.category_id, df_agg.frequency, df_agg.recency, df_agg.monetary_value, df_agg.T)"
   ]
  },
  {
   "cell_type": "code",
   "execution_count": 11,
   "metadata": {
    "ExecuteTime": {
     "end_time": "2020-03-09T14:18:22.146112Z",
     "start_time": "2020-03-09T14:18:22.139463Z"
    }
   },
   "outputs": [],
   "source": [
    "def gen_train_test_data(df, traing_start_date, traing_end_date, \n",
    "                        testing_start_date, testing_end_date, \n",
    "                        cid, sample_ratio=1.0):\n",
    "    \n",
    "    df_train = history_by_category(df, traing_start_date, traing_end_date, cid)\n",
    "    df_test = history_by_category(df, testing_start_date, testing_end_date, cid)\n",
    "    \n",
    "    train_path = '/tmp/data/pengcheng/cltv-summary/' + str(cid) + \".pkl\"\n",
    "    test_path = '/tmp/data/pengcheng/cltv-summary/' + str(cid) + \"_testing.pkl\"\n",
    "    \n",
    "    if sample_ratio == 1.0:\n",
    "        if os.path.exists(train_path):\n",
    "            os.remove(train_path)\n",
    "        df_train.toPandas().to_pickle(train_path)\n",
    "        \n",
    "        if os.path.exists(test_path):\n",
    "            os.remove(test_path)\n",
    "        df_test.toPandas().to_pickle(test_path)\n",
    "        \n",
    "        gen_customer_category_date(df, df_train, cid)\n",
    "        \n",
    "    else:\n",
    "        part_train, _ = df_train.randomSplit([sample_ratio, 1-sample_ratio])\n",
    "        if os.path.exists(train_path):\n",
    "            os.remove(train_path)\n",
    "        part_train.toPandas().to_pickle(train_path)\n",
    "        \n",
    "        part_test = part_train.select(part_train.customer_id).join(df_test, on=['customer_id'])\n",
    "        if os.path.exists(test_path):\n",
    "            os.remove(test_path)\n",
    "        part_test.toPandas().to_pickle(test_path)\n",
    "        \n",
    "        gen_customer_category_date(df, part_train, cid)\n",
    "    "
   ]
  },
  {
   "cell_type": "code",
   "execution_count": 12,
   "metadata": {
    "ExecuteTime": {
     "end_time": "2020-03-09T14:18:23.937207Z",
     "start_time": "2020-03-09T14:18:23.932329Z"
    }
   },
   "outputs": [],
   "source": [
    "def gen_customer_category_date(df, df_summary, cid):\n",
    "    \n",
    "    id1 = df_summary.where(df_summary.frequency == 2).select('customer_id').collect()[0].customer_id\n",
    "    id2 = df_summary.where(df_summary.frequency == 10).select('customer_id').collect()[0].customer_id\n",
    "\n",
    "    txns = df.where(df.customer_id.isin([id1, id2]))\n",
    "    folder = '/tmp/data/pengcheng/cltv-customer/'\n",
    "    \n",
    "    if not os.path.exists(folder):\n",
    "        os.mkdir(folder)\n",
    "        \n",
    "    path = folder + str(cid) + '.csv'\n",
    "    txns.coalesce(1).write.mode('overwrite').format(\"com.databricks.spark.csv\").option(\"header\", \"true\").save(path)\n",
    "    "
   ]
  },
  {
   "cell_type": "code",
   "execution_count": 30,
   "metadata": {
    "ExecuteTime": {
     "end_time": "2020-03-09T18:24:49.790484Z",
     "start_time": "2020-03-09T18:24:49.779439Z"
    }
   },
   "outputs": [],
   "source": [
    "df = df.select(df.customer_id, \n",
    "               df.selling_price.cast(IntegerType())\n",
    "               .alias('price'), \n",
    "               df.category_id, \n",
    "               df.dt).filter(df.category_id == 26)\n"
   ]
  },
  {
   "cell_type": "code",
   "execution_count": 31,
   "metadata": {
    "ExecuteTime": {
     "end_time": "2020-03-09T18:33:23.472604Z",
     "start_time": "2020-03-09T18:24:50.995354Z"
    }
   },
   "outputs": [],
   "source": [
    "gen_train_test_data(df, traing_start_date, traing_end_date, \n",
    "                        testing_start_date, testing_end_date, 26, sample_ratio=0.3)"
   ]
  },
  {
   "cell_type": "code",
   "execution_count": 42,
   "metadata": {
    "ExecuteTime": {
     "end_time": "2020-03-05T21:40:00.903463Z",
     "start_time": "2020-03-05T21:35:24.641136Z"
    }
   },
   "outputs": [],
   "source": [
    "#gen_customer_category_date(df, [87935,1135220295], 17)"
   ]
  },
  {
   "cell_type": "code",
   "execution_count": 31,
   "metadata": {
    "ExecuteTime": {
     "end_time": "2020-03-05T20:49:20.795231Z",
     "start_time": "2020-03-05T20:45:11.772517Z"
    }
   },
   "outputs": [],
   "source": [
    "#gen_customer_category_date(df, 3708702, 17)"
   ]
  },
  {
   "cell_type": "code",
   "execution_count": 74,
   "metadata": {
    "ExecuteTime": {
     "end_time": "2020-03-06T15:52:01.244330Z",
     "start_time": "2020-03-06T15:52:01.206757Z"
    }
   },
   "outputs": [],
   "source": [
    "cst=df.where(df.customer_id.isin([15432,13452]))"
   ]
  },
  {
   "cell_type": "code",
   "execution_count": 75,
   "metadata": {
    "ExecuteTime": {
     "end_time": "2020-03-06T15:52:20.016224Z",
     "start_time": "2020-03-06T15:52:01.918549Z"
    }
   },
   "outputs": [
    {
     "data": {
      "text/plain": [
       "[Row(customer_id=15432), Row(customer_id=13452)]"
      ]
     },
     "execution_count": 75,
     "metadata": {},
     "output_type": "execute_result"
    }
   ],
   "source": [
    "cst.select('customer_id').distinct().head(4)"
   ]
  },
  {
   "cell_type": "code",
   "execution_count": 76,
   "metadata": {
    "ExecuteTime": {
     "end_time": "2020-03-06T15:56:08.160198Z",
     "start_time": "2020-03-06T15:52:20.017554Z"
    }
   },
   "outputs": [],
   "source": [
    "(cst.coalesce(1).write.mode('overwrite')\n",
    ".format(\"com.databricks.spark.csv\")\n",
    ".option(\"header\", \"true\")\n",
    ".save('/tmp/data/pengcheng/cltv-customer/26.csv'))"
   ]
  },
  {
   "cell_type": "code",
   "execution_count": null,
   "metadata": {},
   "outputs": [],
   "source": []
  },
  {
   "cell_type": "code",
   "execution_count": null,
   "metadata": {},
   "outputs": [],
   "source": []
  },
  {
   "cell_type": "code",
   "execution_count": 51,
   "metadata": {
    "ExecuteTime": {
     "end_time": "2020-03-10T14:26:31.150715Z",
     "start_time": "2020-03-10T14:26:31.147628Z"
    }
   },
   "outputs": [],
   "source": [
    "ddd = pd.DataFrame(list(range(5)), columns=['d'])"
   ]
  },
  {
   "cell_type": "code",
   "execution_count": 52,
   "metadata": {
    "ExecuteTime": {
     "end_time": "2020-03-10T14:26:31.670742Z",
     "start_time": "2020-03-10T14:26:31.661693Z"
    }
   },
   "outputs": [
    {
     "data": {
      "text/html": [
       "<div>\n",
       "<style scoped>\n",
       "    .dataframe tbody tr th:only-of-type {\n",
       "        vertical-align: middle;\n",
       "    }\n",
       "\n",
       "    .dataframe tbody tr th {\n",
       "        vertical-align: top;\n",
       "    }\n",
       "\n",
       "    .dataframe thead th {\n",
       "        text-align: right;\n",
       "    }\n",
       "</style>\n",
       "<table border=\"1\" class=\"dataframe\">\n",
       "  <thead>\n",
       "    <tr style=\"text-align: right;\">\n",
       "      <th></th>\n",
       "      <th>d</th>\n",
       "    </tr>\n",
       "  </thead>\n",
       "  <tbody>\n",
       "    <tr>\n",
       "      <th>count</th>\n",
       "      <td>5.000000</td>\n",
       "    </tr>\n",
       "    <tr>\n",
       "      <th>mean</th>\n",
       "      <td>2.000000</td>\n",
       "    </tr>\n",
       "    <tr>\n",
       "      <th>std</th>\n",
       "      <td>1.581139</td>\n",
       "    </tr>\n",
       "    <tr>\n",
       "      <th>min</th>\n",
       "      <td>0.000000</td>\n",
       "    </tr>\n",
       "    <tr>\n",
       "      <th>25%</th>\n",
       "      <td>1.000000</td>\n",
       "    </tr>\n",
       "    <tr>\n",
       "      <th>50%</th>\n",
       "      <td>2.000000</td>\n",
       "    </tr>\n",
       "    <tr>\n",
       "      <th>75%</th>\n",
       "      <td>3.000000</td>\n",
       "    </tr>\n",
       "    <tr>\n",
       "      <th>max</th>\n",
       "      <td>4.000000</td>\n",
       "    </tr>\n",
       "  </tbody>\n",
       "</table>\n",
       "</div>"
      ],
      "text/plain": [
       "              d\n",
       "count  5.000000\n",
       "mean   2.000000\n",
       "std    1.581139\n",
       "min    0.000000\n",
       "25%    1.000000\n",
       "50%    2.000000\n",
       "75%    3.000000\n",
       "max    4.000000"
      ]
     },
     "execution_count": 52,
     "metadata": {},
     "output_type": "execute_result"
    }
   ],
   "source": [
    "ddd.describe()"
   ]
  },
  {
   "cell_type": "code",
   "execution_count": 54,
   "metadata": {
    "ExecuteTime": {
     "end_time": "2020-03-10T14:29:31.725385Z",
     "start_time": "2020-03-10T14:29:31.720491Z"
    }
   },
   "outputs": [
    {
     "data": {
      "text/plain": [
       "0    0.2\n",
       "1    0.4\n",
       "2    0.6\n",
       "3    0.8\n",
       "4    1.0\n",
       "Name: d, dtype: float64"
      ]
     },
     "execution_count": 54,
     "metadata": {},
     "output_type": "execute_result"
    }
   ],
   "source": [
    "ddd['d'].rank(pct=True)"
   ]
  },
  {
   "cell_type": "code",
   "execution_count": null,
   "metadata": {},
   "outputs": [],
   "source": []
  }
 ],
 "metadata": {
  "kernelspec": {
   "display_name": "Python 3",
   "language": "python",
   "name": "python3"
  },
  "language_info": {
   "codemirror_mode": {
    "name": "ipython",
    "version": 3
   },
   "file_extension": ".py",
   "mimetype": "text/x-python",
   "name": "python",
   "nbconvert_exporter": "python",
   "pygments_lexer": "ipython3",
   "version": "3.7.6"
  },
  "toc": {
   "base_numbering": 1,
   "nav_menu": {},
   "number_sections": true,
   "sideBar": true,
   "skip_h1_title": false,
   "title_cell": "Table of Contents",
   "title_sidebar": "Contents",
   "toc_cell": false,
   "toc_position": {},
   "toc_section_display": true,
   "toc_window_display": false
  }
 },
 "nbformat": 4,
 "nbformat_minor": 2
}
