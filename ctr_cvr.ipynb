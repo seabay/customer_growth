{
 "cells": [
  {
   "cell_type": "markdown",
   "id": "e18f0aab",
   "metadata": {},
   "source": [
    "Realtime adjust tries to rerank the categories based on customers' realtime actions, we initially only consider sales action. <p>\n",
    "The assumptions here are: <br>\n",
    "- If a certain customer purchased one category, this category should be demoted by a factor, and all categories will be ranked again. because this customer highly likely will not puchase this category again within a samll time window. <br>\n",
    "- We also assume if we give more impression chances for the low ranking categories to show more diverse categories, there is a long-term gain of the whole platform. There is chance that model woll choose one of long-tailed categories as the topmost. <br>\n",
    "    \n",
    "We add these additonal metrics to evaluate the performance of the realtime rerankings.\n",
    "It includes impressions, clicks, sales changes at category level, such as total clicks, sales, and click ratio and sale ratio. <br>\n",
    "The distribution should become evener(exploration)\n"
   ]
  },
  {
   "cell_type": "code",
   "execution_count": 1,
   "id": "61a5e29a",
   "metadata": {},
   "outputs": [
    {
     "data": {
      "text/html": [
       "Current session configs: <tt>{'driverMemory': '4G', 'executorMemory': '20G', 'executorCores': 4, 'numExecutors': 10, 'proxyUser': 'assumed-role_PaiGmDeveloper_pengcheng_jia_paytm_com', 'kind': 'pyspark'}</tt><br>"
      ],
      "text/plain": [
       "<IPython.core.display.HTML object>"
      ]
     },
     "metadata": {},
     "output_type": "display_data"
    },
    {
     "data": {
      "text/html": [
       "<table>\n",
       "<tr><th>ID</th><th>YARN Application ID</th><th>Kind</th><th>State</th><th>Spark UI</th><th>Driver log</th><th>Current session?</th></tr><tr><td>28</td><td>application_1623160956156_0149</td><td>pyspark</td><td>idle</td><td><a target=\"_blank\" href=\"http://ip-10-175-19-48.ap-south-1.compute.internal:20888/proxy/application_1623160956156_0149/\">Link</a></td><td><a target=\"_blank\" href=\"http://ip-10-175-18-95.ap-south-1.compute.internal:8042/node/containerlogs/container_1623160956156_0149_01_000001/livy\">Link</a></td><td></td></tr><tr><td>29</td><td>application_1623160956156_0153</td><td>pyspark</td><td>idle</td><td><a target=\"_blank\" href=\"http://ip-10-175-19-48.ap-south-1.compute.internal:20888/proxy/application_1623160956156_0153/\">Link</a></td><td><a target=\"_blank\" href=\"http://ip-10-175-18-199.ap-south-1.compute.internal:8042/node/containerlogs/container_1623160956156_0153_01_000001/livy\">Link</a></td><td></td></tr></table>"
      ],
      "text/plain": [
       "<IPython.core.display.HTML object>"
      ]
     },
     "metadata": {},
     "output_type": "display_data"
    }
   ],
   "source": [
    "%%configure -f\n",
    "{\n",
    "    \"driverMemory\":\"4G\",\n",
    "    \"executorMemory\":\"20G\",\n",
    "    \"executorCores\":4,\n",
    "    \"numExecutors\":10\n",
    "}"
   ]
  },
  {
   "cell_type": "code",
   "execution_count": 2,
   "id": "d81bed78",
   "metadata": {},
   "outputs": [
    {
     "data": {
      "application/vnd.jupyter.widget-view+json": {
       "model_id": "9ddcfae7137944f9969a785c3dab0259",
       "version_major": 2,
       "version_minor": 0
      },
      "text/plain": [
       "VBox()"
      ]
     },
     "metadata": {},
     "output_type": "display_data"
    },
    {
     "name": "stdout",
     "output_type": "stream",
     "text": [
      "Starting Spark application\n"
     ]
    },
    {
     "data": {
      "text/html": [
       "<table>\n",
       "<tr><th>ID</th><th>YARN Application ID</th><th>Kind</th><th>State</th><th>Spark UI</th><th>Driver log</th><th>Current session?</th></tr><tr><td>30</td><td>application_1623160956156_0156</td><td>pyspark</td><td>idle</td><td><a target=\"_blank\" href=\"http://ip-10-175-19-48.ap-south-1.compute.internal:20888/proxy/application_1623160956156_0156/\">Link</a></td><td><a target=\"_blank\" href=\"http://ip-10-175-18-199.ap-south-1.compute.internal:8042/node/containerlogs/container_1623160956156_0156_01_000001/livy\">Link</a></td><td>✔</td></tr></table>"
      ],
      "text/plain": [
       "<IPython.core.display.HTML object>"
      ]
     },
     "metadata": {},
     "output_type": "display_data"
    },
    {
     "data": {
      "application/vnd.jupyter.widget-view+json": {
       "model_id": "",
       "version_major": 2,
       "version_minor": 0
      },
      "text/plain": [
       "FloatProgress(value=0.0, bar_style='info', description='Progress:', layout=Layout(height='25px', width='50%'),…"
      ]
     },
     "metadata": {},
     "output_type": "display_data"
    },
    {
     "name": "stdout",
     "output_type": "stream",
     "text": [
      "SparkSession available as 'spark'.\n"
     ]
    },
    {
     "data": {
      "application/vnd.jupyter.widget-view+json": {
       "model_id": "",
       "version_major": 2,
       "version_minor": 0
      },
      "text/plain": [
       "FloatProgress(value=0.0, bar_style='info', description='Progress:', layout=Layout(height='25px', width='50%'),…"
      ]
     },
     "metadata": {},
     "output_type": "display_data"
    },
    {
     "name": "stdout",
     "output_type": "stream",
     "text": [
      "<pyspark.sql.session.SparkSession object at 0x7faba7e12e10>"
     ]
    }
   ],
   "source": [
    "spark"
   ]
  },
  {
   "cell_type": "code",
   "execution_count": 3,
   "id": "ce9a1919",
   "metadata": {},
   "outputs": [
    {
     "data": {
      "application/vnd.jupyter.widget-view+json": {
       "model_id": "e24c757a9231448f88ec510bd74181ce",
       "version_major": 2,
       "version_minor": 0
      },
      "text/plain": [
       "VBox()"
      ]
     },
     "metadata": {},
     "output_type": "display_data"
    },
    {
     "data": {
      "application/vnd.jupyter.widget-view+json": {
       "model_id": "",
       "version_major": 2,
       "version_minor": 0
      },
      "text/plain": [
       "FloatProgress(value=0.0, bar_style='info', description='Progress:', layout=Layout(height='25px', width='50%'),…"
      ]
     },
     "metadata": {},
     "output_type": "display_data"
    }
   ],
   "source": [
    "from pyspark.sql import functions as F \n",
    "from pyspark.sql.window import Window"
   ]
  },
  {
   "cell_type": "code",
   "execution_count": 4,
   "id": "43320f7d",
   "metadata": {},
   "outputs": [
    {
     "data": {
      "application/vnd.jupyter.widget-view+json": {
       "model_id": "e3966d55a20e4003bc25cae7f89a9ea0",
       "version_major": 2,
       "version_minor": 0
      },
      "text/plain": [
       "VBox()"
      ]
     },
     "metadata": {},
     "output_type": "display_data"
    },
    {
     "data": {
      "application/vnd.jupyter.widget-view+json": {
       "model_id": "",
       "version_major": 2,
       "version_minor": 0
      },
      "text/plain": [
       "FloatProgress(value=0.0, bar_style='info', description='Progress:', layout=Layout(height='25px', width='50%'),…"
      ]
     },
     "metadata": {},
     "output_type": "display_data"
    }
   ],
   "source": [
    "#sc.install_pypi_package('scipy')"
   ]
  },
  {
   "cell_type": "code",
   "execution_count": 155,
   "id": "d458f1b5",
   "metadata": {},
   "outputs": [
    {
     "data": {
      "application/vnd.jupyter.widget-view+json": {
       "model_id": "03e4c5c342624bd299257c44ec830be8",
       "version_major": 2,
       "version_minor": 0
      },
      "text/plain": [
       "VBox()"
      ]
     },
     "metadata": {},
     "output_type": "display_data"
    },
    {
     "data": {
      "application/vnd.jupyter.widget-view+json": {
       "model_id": "",
       "version_major": 2,
       "version_minor": 0
      },
      "text/plain": [
       "FloatProgress(value=0.0, bar_style='info', description='Progress:', layout=Layout(height='25px', width='50%'),…"
      ]
     },
     "metadata": {},
     "output_type": "display_data"
    }
   ],
   "source": [
    "date=\"2021-06-02\""
   ]
  },
  {
   "cell_type": "code",
   "execution_count": 156,
   "id": "d925e1a5",
   "metadata": {},
   "outputs": [
    {
     "data": {
      "application/vnd.jupyter.widget-view+json": {
       "model_id": "0c6e0d3858a740949b21972a52dbf9eb",
       "version_major": 2,
       "version_minor": 0
      },
      "text/plain": [
       "VBox()"
      ]
     },
     "metadata": {},
     "output_type": "display_data"
    },
    {
     "data": {
      "application/vnd.jupyter.widget-view+json": {
       "model_id": "",
       "version_major": 2,
       "version_minor": 0
      },
      "text/plain": [
       "FloatProgress(value=0.0, bar_style='info', description='Progress:', layout=Layout(height='25px', width='50%'),…"
      ]
     },
     "metadata": {},
     "output_type": "display_data"
    }
   ],
   "source": [
    "outpath='s3a://pai-gm-midgar-shared-ml-team/pengcheng/rt/'"
   ]
  },
  {
   "cell_type": "code",
   "execution_count": 157,
   "id": "29917790",
   "metadata": {},
   "outputs": [
    {
     "data": {
      "application/vnd.jupyter.widget-view+json": {
       "model_id": "9e2b6d290ecd4883894c40159ba5502a",
       "version_major": 2,
       "version_minor": 0
      },
      "text/plain": [
       "VBox()"
      ]
     },
     "metadata": {},
     "output_type": "display_data"
    },
    {
     "data": {
      "application/vnd.jupyter.widget-view+json": {
       "model_id": "",
       "version_major": 2,
       "version_minor": 0
      },
      "text/plain": [
       "FloatProgress(value=0.0, bar_style='info', description='Progress:', layout=Layout(height='25px', width='50%'),…"
      ]
     },
     "metadata": {},
     "output_type": "display_data"
    }
   ],
   "source": [
    "raw_index=\"temp_ranked_l1_trendfiltered_scores_raw\"\n",
    "rt_index=\"temp_ranked_l1_trendfiltered_scores_rt\""
   ]
  },
  {
   "cell_type": "markdown",
   "id": "86fc0034",
   "metadata": {},
   "source": [
    "# load customers affected by rt"
   ]
  },
  {
   "cell_type": "code",
   "execution_count": 158,
   "id": "6b9b618e",
   "metadata": {},
   "outputs": [
    {
     "data": {
      "application/vnd.jupyter.widget-view+json": {
       "model_id": "1d616698d97e426aad3f6a75f4b35d36",
       "version_major": 2,
       "version_minor": 0
      },
      "text/plain": [
       "VBox()"
      ]
     },
     "metadata": {},
     "output_type": "display_data"
    },
    {
     "data": {
      "application/vnd.jupyter.widget-view+json": {
       "model_id": "",
       "version_major": 2,
       "version_minor": 0
      },
      "text/plain": [
       "FloatProgress(value=0.0, bar_style='info', description='Progress:', layout=Layout(height='25px', width='50%'),…"
      ]
     },
     "metadata": {},
     "output_type": "display_data"
    }
   ],
   "source": [
    "customer_df=spark.read.parquet(outpath+f\"/parsed_logs/dt={date}\").select('customer_id').distinct()"
   ]
  },
  {
   "cell_type": "code",
   "execution_count": 159,
   "id": "c14ebb1e",
   "metadata": {},
   "outputs": [
    {
     "data": {
      "application/vnd.jupyter.widget-view+json": {
       "model_id": "00e5d359acfc41528e63fc5258ecbfd1",
       "version_major": 2,
       "version_minor": 0
      },
      "text/plain": [
       "VBox()"
      ]
     },
     "metadata": {},
     "output_type": "display_data"
    },
    {
     "data": {
      "application/vnd.jupyter.widget-view+json": {
       "model_id": "",
       "version_major": 2,
       "version_minor": 0
      },
      "text/plain": [
       "FloatProgress(value=0.0, bar_style='info', description='Progress:', layout=Layout(height='25px', width='50%'),…"
      ]
     },
     "metadata": {},
     "output_type": "display_data"
    },
    {
     "name": "stdout",
     "output_type": "stream",
     "text": [
      "12048"
     ]
    }
   ],
   "source": [
    "customer_df.count()"
   ]
  },
  {
   "cell_type": "markdown",
   "id": "56ee99de",
   "metadata": {},
   "source": [
    "# model info"
   ]
  },
  {
   "cell_type": "code",
   "execution_count": 160,
   "id": "bd0832d9",
   "metadata": {},
   "outputs": [
    {
     "data": {
      "application/vnd.jupyter.widget-view+json": {
       "model_id": "b115f35ff4c7419f96a11781086e1216",
       "version_major": 2,
       "version_minor": 0
      },
      "text/plain": [
       "VBox()"
      ]
     },
     "metadata": {},
     "output_type": "display_data"
    },
    {
     "data": {
      "application/vnd.jupyter.widget-view+json": {
       "model_id": "",
       "version_major": 2,
       "version_minor": 0
      },
      "text/plain": [
       "FloatProgress(value=0.0, bar_style='info', description='Progress:', layout=Layout(height='25px', width='50%'),…"
      ]
     },
     "metadata": {},
     "output_type": "display_data"
    }
   ],
   "source": [
    "cols=['l1_category_cma_id', 'l1_category_name', 'banner_id', 'customer_id', 'date', 'experiment_group_name']"
   ]
  },
  {
   "cell_type": "code",
   "execution_count": 161,
   "id": "f609dd83",
   "metadata": {},
   "outputs": [
    {
     "data": {
      "application/vnd.jupyter.widget-view+json": {
       "model_id": "8a7b6b84efa54305995aa9ebc4a6a4b3",
       "version_major": 2,
       "version_minor": 0
      },
      "text/plain": [
       "VBox()"
      ]
     },
     "metadata": {},
     "output_type": "display_data"
    },
    {
     "data": {
      "application/vnd.jupyter.widget-view+json": {
       "model_id": "",
       "version_major": 2,
       "version_minor": 0
      },
      "text/plain": [
       "FloatProgress(value=0.0, bar_style='info', description='Progress:', layout=Layout(height='25px', width='50%'),…"
      ]
     },
     "metadata": {},
     "output_type": "display_data"
    }
   ],
   "source": [
    "p1=\"s3a://midgar-aws-workspace/prod/telescope/dashboard/ab_testing/banner_events_adjust/\""
   ]
  },
  {
   "cell_type": "code",
   "execution_count": 162,
   "id": "4e7af357",
   "metadata": {},
   "outputs": [
    {
     "data": {
      "application/vnd.jupyter.widget-view+json": {
       "model_id": "b3ebf459f1e848ed975d277e02c3af7f",
       "version_major": 2,
       "version_minor": 0
      },
      "text/plain": [
       "VBox()"
      ]
     },
     "metadata": {},
     "output_type": "display_data"
    },
    {
     "data": {
      "application/vnd.jupyter.widget-view+json": {
       "model_id": "",
       "version_major": 2,
       "version_minor": 0
      },
      "text/plain": [
       "FloatProgress(value=0.0, bar_style='info', description='Progress:', layout=Layout(height='25px', width='50%'),…"
      ]
     },
     "metadata": {},
     "output_type": "display_data"
    }
   ],
   "source": [
    "model_df=spark.read.parquet(p1+f\"/dt={date}\").select(cols).join(customer_df, on=['customer_id'])  ## only consider affected customers"
   ]
  },
  {
   "cell_type": "code",
   "execution_count": 163,
   "id": "9047eeda",
   "metadata": {},
   "outputs": [
    {
     "data": {
      "application/vnd.jupyter.widget-view+json": {
       "model_id": "1d5981d2360c433eaf9b3536ed0ba3e8",
       "version_major": 2,
       "version_minor": 0
      },
      "text/plain": [
       "VBox()"
      ]
     },
     "metadata": {},
     "output_type": "display_data"
    },
    {
     "data": {
      "application/vnd.jupyter.widget-view+json": {
       "model_id": "",
       "version_major": 2,
       "version_minor": 0
      },
      "text/plain": [
       "FloatProgress(value=0.0, bar_style='info', description='Progress:', layout=Layout(height='25px', width='50%'),…"
      ]
     },
     "metadata": {},
     "output_type": "display_data"
    },
    {
     "name": "stdout",
     "output_type": "stream",
     "text": [
      "+-----------+------------------+----------------+---------+----------+----------------------------------------------------+\n",
      "|customer_id|l1_category_cma_id|l1_category_name|banner_id|date      |experiment_group_name                               |\n",
      "+-----------+------------------+----------------+---------+----------+----------------------------------------------------+\n",
      "|10585129   |6801              |CL-PP           |729305   |2021-06-02|temp_ranked_l1_trendfiltered_ids_banner_events_sales|\n",
      "|133397418  |18                |EC-HnK          |821527   |2021-06-02|temp_ranked_l1_trendfiltered_ids_banner_events_sales|\n",
      "+-----------+------------------+----------------+---------+----------+----------------------------------------------------+\n",
      "only showing top 2 rows"
     ]
    }
   ],
   "source": [
    "model_df.show(2,False)"
   ]
  },
  {
   "cell_type": "code",
   "execution_count": 164,
   "id": "f810ba61",
   "metadata": {},
   "outputs": [
    {
     "data": {
      "application/vnd.jupyter.widget-view+json": {
       "model_id": "86f28c0cc39e480ca24d1dc153f7e522",
       "version_major": 2,
       "version_minor": 0
      },
      "text/plain": [
       "VBox()"
      ]
     },
     "metadata": {},
     "output_type": "display_data"
    },
    {
     "data": {
      "application/vnd.jupyter.widget-view+json": {
       "model_id": "",
       "version_major": 2,
       "version_minor": 0
      },
      "text/plain": [
       "FloatProgress(value=0.0, bar_style='info', description='Progress:', layout=Layout(height='25px', width='50%'),…"
      ]
     },
     "metadata": {},
     "output_type": "display_data"
    },
    {
     "name": "stdout",
     "output_type": "stream",
     "text": [
      "+----------------------------------------------------+\n",
      "|experiment_group_name                               |\n",
      "+----------------------------------------------------+\n",
      "|temp_ranked_l1_trendfiltered_scores_raw             |\n",
      "|temp_extreme_affinity_dampening                     |\n",
      "|temp_ranked_l1_trendfiltered_scores_rt              |\n",
      "|temp_ranked_l1_trendfiltered_ids_banner_events_sales|\n",
      "+----------------------------------------------------+"
     ]
    }
   ],
   "source": [
    "model_df.select('experiment_group_name').distinct().show(10,False)"
   ]
  },
  {
   "cell_type": "markdown",
   "id": "a5f648dc",
   "metadata": {},
   "source": [
    "# valid categories"
   ]
  },
  {
   "cell_type": "code",
   "execution_count": 165,
   "id": "df450127",
   "metadata": {},
   "outputs": [
    {
     "data": {
      "application/vnd.jupyter.widget-view+json": {
       "model_id": "ddc4d4632ce14304a4dd8b5d204f4a34",
       "version_major": 2,
       "version_minor": 0
      },
      "text/plain": [
       "VBox()"
      ]
     },
     "metadata": {},
     "output_type": "display_data"
    },
    {
     "data": {
      "application/vnd.jupyter.widget-view+json": {
       "model_id": "",
       "version_major": 2,
       "version_minor": 0
      },
      "text/plain": [
       "FloatProgress(value=0.0, bar_style='info', description='Progress:', layout=Layout(height='25px', width='50%'),…"
      ]
     },
     "metadata": {},
     "output_type": "display_data"
    }
   ],
   "source": [
    "valid_categories=spark.read.option(\"header\",\"true\").csv(outpath+f\"/valid_categories/dt={date}\").distinct()"
   ]
  },
  {
   "cell_type": "code",
   "execution_count": 166,
   "id": "a66cd36b",
   "metadata": {},
   "outputs": [
    {
     "data": {
      "application/vnd.jupyter.widget-view+json": {
       "model_id": "8e3d1d23291241c3b8c313ceeb7be31a",
       "version_major": 2,
       "version_minor": 0
      },
      "text/plain": [
       "VBox()"
      ]
     },
     "metadata": {},
     "output_type": "display_data"
    },
    {
     "data": {
      "application/vnd.jupyter.widget-view+json": {
       "model_id": "",
       "version_major": 2,
       "version_minor": 0
      },
      "text/plain": [
       "FloatProgress(value=0.0, bar_style='info', description='Progress:', layout=Layout(height='25px', width='50%'),…"
      ]
     },
     "metadata": {},
     "output_type": "display_data"
    },
    {
     "name": "stdout",
     "output_type": "stream",
     "text": [
      "25"
     ]
    }
   ],
   "source": [
    "valid_categories.count()"
   ]
  },
  {
   "cell_type": "code",
   "execution_count": 167,
   "id": "d6e98efb",
   "metadata": {},
   "outputs": [
    {
     "data": {
      "application/vnd.jupyter.widget-view+json": {
       "model_id": "a39eb8c612d8411b88dc54d6b585df62",
       "version_major": 2,
       "version_minor": 0
      },
      "text/plain": [
       "VBox()"
      ]
     },
     "metadata": {},
     "output_type": "display_data"
    },
    {
     "data": {
      "application/vnd.jupyter.widget-view+json": {
       "model_id": "",
       "version_major": 2,
       "version_minor": 0
      },
      "text/plain": [
       "FloatProgress(value=0.0, bar_style='info', description='Progress:', layout=Layout(height='25px', width='50%'),…"
      ]
     },
     "metadata": {},
     "output_type": "display_data"
    },
    {
     "name": "stdout",
     "output_type": "stream",
     "text": [
      "+-------------------+\n",
      "|sale_l1_category_id|\n",
      "+-------------------+\n",
      "|443                |\n",
      "+-------------------+\n",
      "only showing top 1 row"
     ]
    }
   ],
   "source": [
    "valid_categories.show(1,False)"
   ]
  },
  {
   "cell_type": "code",
   "execution_count": 168,
   "id": "07f9140d",
   "metadata": {},
   "outputs": [
    {
     "data": {
      "application/vnd.jupyter.widget-view+json": {
       "model_id": "d7c7d57b75c7444a99cb7a5047e65b53",
       "version_major": 2,
       "version_minor": 0
      },
      "text/plain": [
       "VBox()"
      ]
     },
     "metadata": {},
     "output_type": "display_data"
    },
    {
     "data": {
      "application/vnd.jupyter.widget-view+json": {
       "model_id": "",
       "version_major": 2,
       "version_minor": 0
      },
      "text/plain": [
       "FloatProgress(value=0.0, bar_style='info', description='Progress:', layout=Layout(height='25px', width='50%'),…"
      ]
     },
     "metadata": {},
     "output_type": "display_data"
    }
   ],
   "source": [
    "#model_df=model_df.join(valid_categories, model_df.l1_category_cma_id==valid_categories.sale_l1_category_id)"
   ]
  },
  {
   "cell_type": "markdown",
   "id": "0776b9d1",
   "metadata": {},
   "source": [
    "# ctr, cvr"
   ]
  },
  {
   "cell_type": "code",
   "execution_count": 169,
   "id": "b340ab76",
   "metadata": {},
   "outputs": [
    {
     "data": {
      "application/vnd.jupyter.widget-view+json": {
       "model_id": "10e5f59089b742c7848e2819e67dbabf",
       "version_major": 2,
       "version_minor": 0
      },
      "text/plain": [
       "VBox()"
      ]
     },
     "metadata": {},
     "output_type": "display_data"
    },
    {
     "data": {
      "application/vnd.jupyter.widget-view+json": {
       "model_id": "",
       "version_major": 2,
       "version_minor": 0
      },
      "text/plain": [
       "FloatProgress(value=0.0, bar_style='info', description='Progress:', layout=Layout(height='25px', width='50%'),…"
      ]
     },
     "metadata": {},
     "output_type": "display_data"
    }
   ],
   "source": [
    "bpath=\"s3a://midgar-aws-workspace/prod/shinra/telescope/dashboard/banner_campaigns/customer_level/banner_campaign_base_customer_level_full/\""
   ]
  },
  {
   "cell_type": "code",
   "execution_count": 170,
   "id": "e9b526ad",
   "metadata": {},
   "outputs": [
    {
     "data": {
      "application/vnd.jupyter.widget-view+json": {
       "model_id": "c2d54ae76ba142949a0723d89241866e",
       "version_major": 2,
       "version_minor": 0
      },
      "text/plain": [
       "VBox()"
      ]
     },
     "metadata": {},
     "output_type": "display_data"
    },
    {
     "data": {
      "application/vnd.jupyter.widget-view+json": {
       "model_id": "",
       "version_major": 2,
       "version_minor": 0
      },
      "text/plain": [
       "FloatProgress(value=0.0, bar_style='info', description='Progress:', layout=Layout(height='25px', width='50%'),…"
      ]
     },
     "metadata": {},
     "output_type": "display_data"
    }
   ],
   "source": [
    "cols=['customer_id', 'banner_id', 'l1_category_name', 'date', 'impressions_adjust', 'clicks_adjust', 'category_sales_adjust', 'category_gmv_adjust']"
   ]
  },
  {
   "cell_type": "code",
   "execution_count": 171,
   "id": "025ecbf1",
   "metadata": {},
   "outputs": [
    {
     "data": {
      "application/vnd.jupyter.widget-view+json": {
       "model_id": "de5b3ad5e7ff4638833cad675e947f78",
       "version_major": 2,
       "version_minor": 0
      },
      "text/plain": [
       "VBox()"
      ]
     },
     "metadata": {},
     "output_type": "display_data"
    },
    {
     "data": {
      "application/vnd.jupyter.widget-view+json": {
       "model_id": "",
       "version_major": 2,
       "version_minor": 0
      },
      "text/plain": [
       "FloatProgress(value=0.0, bar_style='info', description='Progress:', layout=Layout(height='25px', width='50%'),…"
      ]
     },
     "metadata": {},
     "output_type": "display_data"
    }
   ],
   "source": [
    "df=spark.read.parquet(bpath+f\"/dt={date}\").select(cols)"
   ]
  },
  {
   "cell_type": "code",
   "execution_count": 172,
   "id": "33cc2388",
   "metadata": {},
   "outputs": [
    {
     "data": {
      "application/vnd.jupyter.widget-view+json": {
       "model_id": "99ebc9d98c97482ba4cc62f0668d8cd2",
       "version_major": 2,
       "version_minor": 0
      },
      "text/plain": [
       "VBox()"
      ]
     },
     "metadata": {},
     "output_type": "display_data"
    },
    {
     "data": {
      "application/vnd.jupyter.widget-view+json": {
       "model_id": "",
       "version_major": 2,
       "version_minor": 0
      },
      "text/plain": [
       "FloatProgress(value=0.0, bar_style='info', description='Progress:', layout=Layout(height='25px', width='50%'),…"
      ]
     },
     "metadata": {},
     "output_type": "display_data"
    },
    {
     "name": "stdout",
     "output_type": "stream",
     "text": [
      "root\n",
      " |-- customer_id: string (nullable = true)\n",
      " |-- banner_id: string (nullable = true)\n",
      " |-- l1_category_name: string (nullable = true)\n",
      " |-- date: date (nullable = true)\n",
      " |-- impressions_adjust: double (nullable = true)\n",
      " |-- clicks_adjust: double (nullable = true)\n",
      " |-- category_sales_adjust: double (nullable = true)\n",
      " |-- category_gmv_adjust: double (nullable = true)"
     ]
    }
   ],
   "source": [
    "df.printSchema()"
   ]
  },
  {
   "cell_type": "code",
   "execution_count": 173,
   "id": "1a92385a",
   "metadata": {},
   "outputs": [
    {
     "data": {
      "application/vnd.jupyter.widget-view+json": {
       "model_id": "df36e03037ad43e1afd034691a0302f9",
       "version_major": 2,
       "version_minor": 0
      },
      "text/plain": [
       "VBox()"
      ]
     },
     "metadata": {},
     "output_type": "display_data"
    },
    {
     "data": {
      "application/vnd.jupyter.widget-view+json": {
       "model_id": "",
       "version_major": 2,
       "version_minor": 0
      },
      "text/plain": [
       "FloatProgress(value=0.0, bar_style='info', description='Progress:', layout=Layout(height='25px', width='50%'),…"
      ]
     },
     "metadata": {},
     "output_type": "display_data"
    }
   ],
   "source": [
    "df=df.join(model_df, on=['customer_id', 'banner_id', 'date', 'l1_category_name'])"
   ]
  },
  {
   "cell_type": "code",
   "execution_count": 174,
   "id": "aca89f81",
   "metadata": {},
   "outputs": [
    {
     "data": {
      "application/vnd.jupyter.widget-view+json": {
       "model_id": "315745cd2d824142ac58e2eb307e549c",
       "version_major": 2,
       "version_minor": 0
      },
      "text/plain": [
       "VBox()"
      ]
     },
     "metadata": {},
     "output_type": "display_data"
    },
    {
     "data": {
      "application/vnd.jupyter.widget-view+json": {
       "model_id": "",
       "version_major": 2,
       "version_minor": 0
      },
      "text/plain": [
       "FloatProgress(value=0.0, bar_style='info', description='Progress:', layout=Layout(height='25px', width='50%'),…"
      ]
     },
     "metadata": {},
     "output_type": "display_data"
    },
    {
     "name": "stdout",
     "output_type": "stream",
     "text": [
      "+-----------+---------+----------+----------------+------------------+-------------+---------------------+-------------------+------------------+----------------------------------------------------+\n",
      "|customer_id|banner_id|date      |l1_category_name|impressions_adjust|clicks_adjust|category_sales_adjust|category_gmv_adjust|l1_category_cma_id|experiment_group_name                               |\n",
      "+-----------+---------+----------+----------------+------------------+-------------+---------------------+-------------------+------------------+----------------------------------------------------+\n",
      "|1234366207 |805675   |2021-06-02|RU-Prepaid      |1.0               |0.0          |0.0                  |0.0                |443               |temp_ranked_l1_trendfiltered_ids_banner_events_sales|\n",
      "+-----------+---------+----------+----------------+------------------+-------------+---------------------+-------------------+------------------+----------------------------------------------------+\n",
      "only showing top 1 row"
     ]
    }
   ],
   "source": [
    "df.show(1,False)"
   ]
  },
  {
   "cell_type": "code",
   "execution_count": 175,
   "id": "20028218",
   "metadata": {},
   "outputs": [
    {
     "data": {
      "application/vnd.jupyter.widget-view+json": {
       "model_id": "40d0602e24b54252bff9dc37d37ad85d",
       "version_major": 2,
       "version_minor": 0
      },
      "text/plain": [
       "VBox()"
      ]
     },
     "metadata": {},
     "output_type": "display_data"
    },
    {
     "data": {
      "application/vnd.jupyter.widget-view+json": {
       "model_id": "",
       "version_major": 2,
       "version_minor": 0
      },
      "text/plain": [
       "FloatProgress(value=0.0, bar_style='info', description='Progress:', layout=Layout(height='25px', width='50%'),…"
      ]
     },
     "metadata": {},
     "output_type": "display_data"
    }
   ],
   "source": [
    "## save customers\n",
    "\n",
    "#(df.select('customer_id').distinct().write.mode('overwrite').parquet(outpath+f\"/banner_customers/dt={date}\"))"
   ]
  },
  {
   "cell_type": "code",
   "execution_count": 176,
   "id": "5e84435b",
   "metadata": {},
   "outputs": [
    {
     "data": {
      "application/vnd.jupyter.widget-view+json": {
       "model_id": "8dacc97d5f0643228de3fd5f66b8e95b",
       "version_major": 2,
       "version_minor": 0
      },
      "text/plain": [
       "VBox()"
      ]
     },
     "metadata": {},
     "output_type": "display_data"
    },
    {
     "data": {
      "application/vnd.jupyter.widget-view+json": {
       "model_id": "",
       "version_major": 2,
       "version_minor": 0
      },
      "text/plain": [
       "FloatProgress(value=0.0, bar_style='info', description='Progress:', layout=Layout(height='25px', width='50%'),…"
      ]
     },
     "metadata": {},
     "output_type": "display_data"
    }
   ],
   "source": [
    "df2=df.groupBy('l1_category_name', 'l1_category_cma_id', 'date', 'experiment_group_name')\\\n",
    ".agg(F.sum('impressions_adjust').alias('impressions_total'),\n",
    "     F.sum('clicks_adjust').alias('clicks_total'),\n",
    "     F.sum('category_sales_adjust').alias('category_sales_total'),\n",
    "     F.sum('category_gmv_adjust').alias('category_gmv_total'))\\\n",
    ".withColumn('ctr', F.col('clicks_total')/F.col('impressions_total'))\\\n",
    ".withColumn('cvr', F.col('category_sales_total')/F.col('impressions_total'))\\\n",
    ".withColumn('gmv_per_impression', F.col('category_gmv_total')/F.col('impressions_total'))\\\n",
    ".withColumn('gmv_per_click', F.col('category_gmv_total')/F.col('clicks_total'))\\\n",
    ".sort(F.col('l1_category_cma_id'))"
   ]
  },
  {
   "cell_type": "code",
   "execution_count": 177,
   "id": "8f230f7b",
   "metadata": {},
   "outputs": [
    {
     "data": {
      "application/vnd.jupyter.widget-view+json": {
       "model_id": "3ea4c507395b412f8340fa63cb55eac6",
       "version_major": 2,
       "version_minor": 0
      },
      "text/plain": [
       "VBox()"
      ]
     },
     "metadata": {},
     "output_type": "display_data"
    },
    {
     "data": {
      "application/vnd.jupyter.widget-view+json": {
       "model_id": "",
       "version_major": 2,
       "version_minor": 0
      },
      "text/plain": [
       "FloatProgress(value=0.0, bar_style='info', description='Progress:', layout=Layout(height='25px', width='50%'),…"
      ]
     },
     "metadata": {},
     "output_type": "display_data"
    }
   ],
   "source": [
    "(df2.coalesce(1)\n",
    ".write.mode('overwrite')\n",
    ".option(\"header\",\"true\")\n",
    ".csv(outpath+f\"/ctr_cvr/dt={date}\"))"
   ]
  },
  {
   "cell_type": "code",
   "execution_count": 178,
   "id": "8ba07fa6",
   "metadata": {},
   "outputs": [
    {
     "data": {
      "application/vnd.jupyter.widget-view+json": {
       "model_id": "61b18ef2f73b4cb29725ae9f5d0a6459",
       "version_major": 2,
       "version_minor": 0
      },
      "text/plain": [
       "VBox()"
      ]
     },
     "metadata": {},
     "output_type": "display_data"
    },
    {
     "data": {
      "application/vnd.jupyter.widget-view+json": {
       "model_id": "",
       "version_major": 2,
       "version_minor": 0
      },
      "text/plain": [
       "FloatProgress(value=0.0, bar_style='info', description='Progress:', layout=Layout(height='25px', width='50%'),…"
      ]
     },
     "metadata": {},
     "output_type": "display_data"
    }
   ],
   "source": [
    "df3=spark.read.option(\"header\",\"true\").csv(outpath+f\"/ctr_cvr/dt={date}\").drop('date')\n",
    "df3=df3.join(valid_categories, df3.l1_category_cma_id==valid_categories.sale_l1_category_id, 'left') ## valid categories"
   ]
  },
  {
   "cell_type": "code",
   "execution_count": 179,
   "id": "f8c3ad2b",
   "metadata": {},
   "outputs": [
    {
     "data": {
      "application/vnd.jupyter.widget-view+json": {
       "model_id": "90b9cc3b60bb41989cd0e43d2da4e0cf",
       "version_major": 2,
       "version_minor": 0
      },
      "text/plain": [
       "VBox()"
      ]
     },
     "metadata": {},
     "output_type": "display_data"
    },
    {
     "data": {
      "application/vnd.jupyter.widget-view+json": {
       "model_id": "",
       "version_major": 2,
       "version_minor": 0
      },
      "text/plain": [
       "FloatProgress(value=0.0, bar_style='info', description='Progress:', layout=Layout(height='25px', width='50%'),…"
      ]
     },
     "metadata": {},
     "output_type": "display_data"
    },
    {
     "name": "stdout",
     "output_type": "stream",
     "text": [
      "+----------------------------------------------------+\n",
      "|experiment_group_name                               |\n",
      "+----------------------------------------------------+\n",
      "|temp_ranked_l1_trendfiltered_scores_raw             |\n",
      "|temp_extreme_affinity_dampening                     |\n",
      "|temp_ranked_l1_trendfiltered_scores_rt              |\n",
      "|temp_ranked_l1_trendfiltered_ids_banner_events_sales|\n",
      "+----------------------------------------------------+"
     ]
    }
   ],
   "source": [
    "df3.select('experiment_group_name').distinct().show(10, False)"
   ]
  },
  {
   "cell_type": "code",
   "execution_count": 180,
   "id": "079212b9",
   "metadata": {},
   "outputs": [
    {
     "data": {
      "application/vnd.jupyter.widget-view+json": {
       "model_id": "ec1cdd077e02444985701e31d2eeafaf",
       "version_major": 2,
       "version_minor": 0
      },
      "text/plain": [
       "VBox()"
      ]
     },
     "metadata": {},
     "output_type": "display_data"
    },
    {
     "data": {
      "application/vnd.jupyter.widget-view+json": {
       "model_id": "",
       "version_major": 2,
       "version_minor": 0
      },
      "text/plain": [
       "FloatProgress(value=0.0, bar_style='info', description='Progress:', layout=Layout(height='25px', width='50%'),…"
      ]
     },
     "metadata": {},
     "output_type": "display_data"
    }
   ],
   "source": [
    "raw_df=df3.filter(F.col('experiment_group_name')==raw_index).drop('experiment_group_name')\n",
    "raw_df=raw_df.withColumn('impression_ratio', F.col('impressions_total')/F.sum(F.col('impressions_total')).over(Window.partitionBy()))\\\n",
    "    .withColumn('clicks_ratio', F.col('clicks_total')/F.sum(F.col('clicks_total')).over(Window.partitionBy()))\n",
    "raw_df=raw_df.toDF(*(c+'_raw' for c in raw_df.columns))"
   ]
  },
  {
   "cell_type": "code",
   "execution_count": 181,
   "id": "dbf7945a",
   "metadata": {},
   "outputs": [
    {
     "data": {
      "application/vnd.jupyter.widget-view+json": {
       "model_id": "4a05a7d119344032980512e7d8bcb950",
       "version_major": 2,
       "version_minor": 0
      },
      "text/plain": [
       "VBox()"
      ]
     },
     "metadata": {},
     "output_type": "display_data"
    },
    {
     "data": {
      "application/vnd.jupyter.widget-view+json": {
       "model_id": "",
       "version_major": 2,
       "version_minor": 0
      },
      "text/plain": [
       "FloatProgress(value=0.0, bar_style='info', description='Progress:', layout=Layout(height='25px', width='50%'),…"
      ]
     },
     "metadata": {},
     "output_type": "display_data"
    },
    {
     "name": "stdout",
     "output_type": "stream",
     "text": [
      "['l1_category_name_raw', 'l1_category_cma_id_raw', 'impressions_total_raw', 'clicks_total_raw', 'category_sales_total_raw', 'category_gmv_total_raw', 'ctr_raw', 'cvr_raw', 'gmv_per_impression_raw', 'gmv_per_click_raw', 'sale_l1_category_id_raw', 'impression_ratio_raw', 'clicks_ratio_raw']"
     ]
    }
   ],
   "source": [
    "raw_df.columns"
   ]
  },
  {
   "cell_type": "code",
   "execution_count": 182,
   "id": "33835c26",
   "metadata": {},
   "outputs": [
    {
     "data": {
      "application/vnd.jupyter.widget-view+json": {
       "model_id": "d0a8b2ac6a6a44b192493c3316c7fa2f",
       "version_major": 2,
       "version_minor": 0
      },
      "text/plain": [
       "VBox()"
      ]
     },
     "metadata": {},
     "output_type": "display_data"
    },
    {
     "data": {
      "application/vnd.jupyter.widget-view+json": {
       "model_id": "",
       "version_major": 2,
       "version_minor": 0
      },
      "text/plain": [
       "FloatProgress(value=0.0, bar_style='info', description='Progress:', layout=Layout(height='25px', width='50%'),…"
      ]
     },
     "metadata": {},
     "output_type": "display_data"
    }
   ],
   "source": [
    "rt_df=df3.filter(F.col('experiment_group_name')==rt_index).drop('experiment_group_name', 'l1_category_cma_id')\n",
    "rt_df=rt_df.withColumn('impression_ratio', F.col('impressions_total')/F.sum(F.col('impressions_total')).over(Window.partitionBy()))\\\n",
    "    .withColumn('clicks_ratio', F.col('clicks_total')/F.sum(F.col('clicks_total')).over(Window.partitionBy()))\n",
    "rt_df=rt_df.toDF(*(c+'_rt' for c in rt_df.columns))"
   ]
  },
  {
   "cell_type": "code",
   "execution_count": 183,
   "id": "7d0d48d0",
   "metadata": {},
   "outputs": [
    {
     "data": {
      "application/vnd.jupyter.widget-view+json": {
       "model_id": "ca96d21376b04d7a876a2d259ca92386",
       "version_major": 2,
       "version_minor": 0
      },
      "text/plain": [
       "VBox()"
      ]
     },
     "metadata": {},
     "output_type": "display_data"
    },
    {
     "data": {
      "application/vnd.jupyter.widget-view+json": {
       "model_id": "",
       "version_major": 2,
       "version_minor": 0
      },
      "text/plain": [
       "FloatProgress(value=0.0, bar_style='info', description='Progress:', layout=Layout(height='25px', width='50%'),…"
      ]
     },
     "metadata": {},
     "output_type": "display_data"
    },
    {
     "name": "stdout",
     "output_type": "stream",
     "text": [
      "['l1_category_name_rt', 'impressions_total_rt', 'clicks_total_rt', 'category_sales_total_rt', 'category_gmv_total_rt', 'ctr_rt', 'cvr_rt', 'gmv_per_impression_rt', 'gmv_per_click_rt', 'sale_l1_category_id_rt', 'impression_ratio_rt', 'clicks_ratio_rt']"
     ]
    }
   ],
   "source": [
    "rt_df.columns"
   ]
  },
  {
   "cell_type": "code",
   "execution_count": 184,
   "id": "57fecb74",
   "metadata": {},
   "outputs": [
    {
     "data": {
      "application/vnd.jupyter.widget-view+json": {
       "model_id": "f9998dd76b244ab2a3e4c6884d6fd2ef",
       "version_major": 2,
       "version_minor": 0
      },
      "text/plain": [
       "VBox()"
      ]
     },
     "metadata": {},
     "output_type": "display_data"
    },
    {
     "data": {
      "application/vnd.jupyter.widget-view+json": {
       "model_id": "",
       "version_major": 2,
       "version_minor": 0
      },
      "text/plain": [
       "FloatProgress(value=0.0, bar_style='info', description='Progress:', layout=Layout(height='25px', width='50%'),…"
      ]
     },
     "metadata": {},
     "output_type": "display_data"
    }
   ],
   "source": [
    "agg_df=raw_df.join(rt_df, raw_df.l1_category_name_raw==rt_df.l1_category_name_rt, \"outer\")"
   ]
  },
  {
   "cell_type": "code",
   "execution_count": 185,
   "id": "29e7a283",
   "metadata": {},
   "outputs": [
    {
     "data": {
      "application/vnd.jupyter.widget-view+json": {
       "model_id": "35db1cc54dd246a2888324ae600518d9",
       "version_major": 2,
       "version_minor": 0
      },
      "text/plain": [
       "VBox()"
      ]
     },
     "metadata": {},
     "output_type": "display_data"
    },
    {
     "data": {
      "application/vnd.jupyter.widget-view+json": {
       "model_id": "",
       "version_major": 2,
       "version_minor": 0
      },
      "text/plain": [
       "FloatProgress(value=0.0, bar_style='info', description='Progress:', layout=Layout(height='25px', width='50%'),…"
      ]
     },
     "metadata": {},
     "output_type": "display_data"
    }
   ],
   "source": [
    "agg_df=agg_df.withColumn('impressions_total_raw', F.col('impressions_total_raw').cast('float'))"
   ]
  },
  {
   "cell_type": "code",
   "execution_count": 186,
   "id": "e7af4921",
   "metadata": {},
   "outputs": [
    {
     "data": {
      "application/vnd.jupyter.widget-view+json": {
       "model_id": "d0c97f7aa5464aae8f7b0ce709c65abf",
       "version_major": 2,
       "version_minor": 0
      },
      "text/plain": [
       "VBox()"
      ]
     },
     "metadata": {},
     "output_type": "display_data"
    },
    {
     "data": {
      "application/vnd.jupyter.widget-view+json": {
       "model_id": "",
       "version_major": 2,
       "version_minor": 0
      },
      "text/plain": [
       "FloatProgress(value=0.0, bar_style='info', description='Progress:', layout=Layout(height='25px', width='50%'),…"
      ]
     },
     "metadata": {},
     "output_type": "display_data"
    }
   ],
   "source": [
    "cols=['l1_category_name_raw', 'l1_category_cma_id_raw', 'sale_l1_category_id_raw', 'sale_l1_category_id_rt',\n",
    "      'l1_category_name_rt',\n",
    "      'impressions_total_raw', 'impressions_total_rt',\n",
    " 'clicks_total_raw', 'clicks_total_rt',\n",
    " 'category_sales_total_raw', 'category_sales_total_rt', \n",
    " 'category_gmv_total_raw', 'category_gmv_total_rt', \n",
    " 'ctr_raw', 'ctr_rt',\n",
    " 'cvr_raw', 'cvr_rt',\n",
    " 'gmv_per_impression_raw', 'gmv_per_impression_rt',\n",
    " 'gmv_per_click_raw', 'gmv_per_click_rt',\n",
    " 'impression_ratio_raw', 'impression_ratio_rt',\n",
    " 'clicks_ratio_raw', 'clicks_ratio_rt']"
   ]
  },
  {
   "cell_type": "code",
   "execution_count": 187,
   "id": "cd356dad",
   "metadata": {},
   "outputs": [
    {
     "data": {
      "application/vnd.jupyter.widget-view+json": {
       "model_id": "790bdfab2dc64749b8a5a3224c995230",
       "version_major": 2,
       "version_minor": 0
      },
      "text/plain": [
       "VBox()"
      ]
     },
     "metadata": {},
     "output_type": "display_data"
    },
    {
     "data": {
      "application/vnd.jupyter.widget-view+json": {
       "model_id": "",
       "version_major": 2,
       "version_minor": 0
      },
      "text/plain": [
       "FloatProgress(value=0.0, bar_style='info', description='Progress:', layout=Layout(height='25px', width='50%'),…"
      ]
     },
     "metadata": {},
     "output_type": "display_data"
    }
   ],
   "source": [
    "(agg_df.select(cols).sort(F.col('impressions_total_raw').desc()).coalesce(1)\n",
    ".write.mode('overwrite')\n",
    ".option(\"header\",\"true\")\n",
    ".csv(outpath+f\"/ctr_cvr_agg/dt={date}\"))"
   ]
  },
  {
   "cell_type": "markdown",
   "id": "151d8647",
   "metadata": {},
   "source": [
    "# entropy of impression ratio"
   ]
  },
  {
   "cell_type": "code",
   "execution_count": 8,
   "id": "4bc4d992",
   "metadata": {},
   "outputs": [
    {
     "data": {
      "application/vnd.jupyter.widget-view+json": {
       "model_id": "136ea41c6c284e6b8068701394321169",
       "version_major": 2,
       "version_minor": 0
      },
      "text/plain": [
       "VBox()"
      ]
     },
     "metadata": {},
     "output_type": "display_data"
    },
    {
     "data": {
      "application/vnd.jupyter.widget-view+json": {
       "model_id": "",
       "version_major": 2,
       "version_minor": 0
      },
      "text/plain": [
       "FloatProgress(value=0.0, bar_style='info', description='Progress:', layout=Layout(height='25px', width='50%'),…"
      ]
     },
     "metadata": {},
     "output_type": "display_data"
    }
   ],
   "source": [
    "def get_entropy(exp, col_name, date):\n",
    "    import math\n",
    "    rdf=spark.read.option(\"header\",\"true\").csv(outpath+f\"/ctr_cvr/dt={date}\").filter(F.col('experiment_group_name')==exp)\n",
    "    #rdf=rdf.join(categories, rdf.l1_category_cma_id==categories.sale_l1_category_id, ) ## valid categories\n",
    "    rdf=rdf.withColumn('impression_ratio', F.col('impressions_total')/F.sum(F.col('impressions_total')).over(Window.partitionBy()))\\\n",
    "    .withColumn('clicks_ratio', F.col('clicks_total')/F.sum(F.col('clicks_total')).over(Window.partitionBy()))\n",
    "    rdf=rdf.select(col_name)\n",
    "    print(rdf.count())\n",
    "    rdf.show(20,False)\n",
    "    vs=[row[0] for row in rdf.select(col_name).collect()]\n",
    "    vs=list(map(float, vs))\n",
    "    return sum([-i * math.log(i) for i in vs])"
   ]
  },
  {
   "cell_type": "code",
   "execution_count": 15,
   "id": "00041ce6",
   "metadata": {},
   "outputs": [
    {
     "data": {
      "application/vnd.jupyter.widget-view+json": {
       "model_id": "8702760ffe9941ce92b21f464354eee1",
       "version_major": 2,
       "version_minor": 0
      },
      "text/plain": [
       "VBox()"
      ]
     },
     "metadata": {},
     "output_type": "display_data"
    },
    {
     "data": {
      "application/vnd.jupyter.widget-view+json": {
       "model_id": "",
       "version_major": 2,
       "version_minor": 0
      },
      "text/plain": [
       "FloatProgress(value=0.0, bar_style='info', description='Progress:', layout=Layout(height='25px', width='50%'),…"
      ]
     },
     "metadata": {},
     "output_type": "display_data"
    },
    {
     "name": "stdout",
     "output_type": "stream",
     "text": [
      "51\n",
      "+---------------------+\n",
      "|impression_ratio     |\n",
      "+---------------------+\n",
      "|0.01623511581085401  |\n",
      "|0.019982335971068767 |\n",
      "|0.02258317458671049  |\n",
      "|0.017374530823420862 |\n",
      "|0.017162438626788172 |\n",
      "|0.017077292124490377 |\n",
      "|0.020120118492968835 |\n",
      "|0.017330409454048366 |\n",
      "|0.01864708400321699  |\n",
      "|0.018192711304591488 |\n",
      "|0.01769421723659349  |\n",
      "|0.036023937003973244 |\n",
      "|0.0172746771979989   |\n",
      "|0.00582092452072195  |\n",
      "|4.7991664931484156E-5|\n",
      "|0.021144198697877762 |\n",
      "|0.006190924776161457 |\n",
      "|0.016406956933673198 |\n",
      "|0.001711444696185669 |\n",
      "|0.019822105734926553 |\n",
      "+---------------------+\n",
      "only showing top 20 rows\n",
      "\n",
      "3.7541446253370703"
     ]
    }
   ],
   "source": [
    "get_entropy(raw_index, 'impression_ratio', '2021-06-01')"
   ]
  },
  {
   "cell_type": "code",
   "execution_count": 16,
   "id": "915769d9",
   "metadata": {},
   "outputs": [
    {
     "data": {
      "application/vnd.jupyter.widget-view+json": {
       "model_id": "7e89bebe31bc4416b6c0781f08eb7f3d",
       "version_major": 2,
       "version_minor": 0
      },
      "text/plain": [
       "VBox()"
      ]
     },
     "metadata": {},
     "output_type": "display_data"
    },
    {
     "data": {
      "application/vnd.jupyter.widget-view+json": {
       "model_id": "",
       "version_major": 2,
       "version_minor": 0
      },
      "text/plain": [
       "FloatProgress(value=0.0, bar_style='info', description='Progress:', layout=Layout(height='25px', width='50%'),…"
      ]
     },
     "metadata": {},
     "output_type": "display_data"
    },
    {
     "name": "stdout",
     "output_type": "stream",
     "text": [
      "51\n",
      "+---------------------+\n",
      "|impression_ratio     |\n",
      "+---------------------+\n",
      "|0.01625307965414196  |\n",
      "|0.020394414311453345 |\n",
      "|0.019921341964171405 |\n",
      "|0.01749352843274098  |\n",
      "|0.017340521534940218 |\n",
      "|0.017144579028062715 |\n",
      "|0.024519355372571796 |\n",
      "|0.017679322522927615 |\n",
      "|0.01882219037180676  |\n",
      "|0.01818908529978423  |\n",
      "|0.018214846665230277 |\n",
      "|0.03677161690819898  |\n",
      "|0.017646535330541738 |\n",
      "|0.005832217007497338 |\n",
      "|4.371625651450287E-5 |\n",
      "|0.020977557947459306 |\n",
      "|0.006261573098264777 |\n",
      "|0.017182830752512906 |\n",
      "|0.0016167208435988471|\n",
      "|0.020028290663144384 |\n",
      "+---------------------+\n",
      "only showing top 20 rows\n",
      "\n",
      "3.7626334347168444"
     ]
    }
   ],
   "source": [
    "get_entropy(rt_index, 'impression_ratio', '2021-06-01')"
   ]
  },
  {
   "cell_type": "code",
   "execution_count": null,
   "id": "0214b2e3",
   "metadata": {},
   "outputs": [],
   "source": []
  },
  {
   "cell_type": "code",
   "execution_count": null,
   "id": "58b80ae1",
   "metadata": {},
   "outputs": [],
   "source": []
  }
 ],
 "metadata": {
  "kernelspec": {
   "display_name": "PySpark",
   "language": "",
   "name": "pysparkkernel"
  },
  "language_info": {
   "codemirror_mode": {
    "name": "python",
    "version": 2
   },
   "mimetype": "text/x-python",
   "name": "pyspark",
   "pygments_lexer": "python2"
  }
 },
 "nbformat": 4,
 "nbformat_minor": 5
}
