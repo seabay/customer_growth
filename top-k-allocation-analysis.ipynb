{
 "cells": [
  {
   "cell_type": "code",
   "execution_count": 1,
   "metadata": {
    "ExecuteTime": {
     "end_time": "2020-11-17T01:03:52.464937Z",
     "start_time": "2020-11-17T01:03:52.424271Z"
    }
   },
   "outputs": [
    {
     "data": {
      "text/html": [
       "Current session configs: <tt>{'driverMemory': '8G', 'executorMemory': '16G', 'executorCores': 2, 'numExecutors': 15, 'name': 'allocation-analysis', 'heartbeatTimeoutInSecond': 18000, 'conf': {'spark.dynamicAllocation.enabled': 'false'}, 'kind': 'pyspark'}</tt><br>"
      ],
      "text/plain": [
       "<IPython.core.display.HTML object>"
      ]
     },
     "metadata": {},
     "output_type": "display_data"
    },
    {
     "data": {
      "text/html": [
       "<table>\n",
       "<tr><th>ID</th><th>YARN Application ID</th><th>Kind</th><th>State</th><th>Spark UI</th><th>Driver log</th><th>Current session?</th></tr><tr><td>88</td><td>application_1627924993397_0012</td><td>pyspark</td><td>idle</td><td><a target=\"_blank\" href=\"http://ip-10-175-16-133.ap-south-1.compute.internal:20888/proxy/application_1627924993397_0012/\">Link</a></td><td><a target=\"_blank\" href=\"http://ip-10-175-19-191.ap-south-1.compute.internal:8042/node/containerlogs/container_1627924993397_0012_01_000001/livy\">Link</a></td><td></td></tr><tr><td>101</td><td>None</td><td>pyspark</td><td>starting</td><td></td><td></td><td></td></tr></table>"
      ],
      "text/plain": [
       "<IPython.core.display.HTML object>"
      ]
     },
     "metadata": {},
     "output_type": "display_data"
    }
   ],
   "source": [
    "%%configure -f\n",
    "{\"driverMemory\": \"8G\", \n",
    " \"executorMemory\": \"16G\", \n",
    " \"executorCores\": 2, \n",
    " \"numExecutors\": 15,\n",
    " \"name\": \"allocation-analysis\",\n",
    " \"heartbeatTimeoutInSecond\": 18000,\n",
    " \"conf\": {\"spark.dynamicAllocation.enabled\":\"false\"}\n",
    "}"
   ]
  },
  {
   "cell_type": "code",
   "execution_count": 2,
   "metadata": {},
   "outputs": [
    {
     "data": {
      "application/vnd.jupyter.widget-view+json": {
       "model_id": "9ea747ae68ae492c88e9fd6955ec48a9",
       "version_major": 2,
       "version_minor": 0
      },
      "text/plain": [
       "VBox()"
      ]
     },
     "metadata": {},
     "output_type": "display_data"
    },
    {
     "name": "stdout",
     "output_type": "stream",
     "text": [
      "Starting Spark application\n"
     ]
    },
    {
     "data": {
      "text/html": [
       "<table>\n",
       "<tr><th>ID</th><th>YARN Application ID</th><th>Kind</th><th>State</th><th>Spark UI</th><th>Driver log</th><th>Current session?</th></tr><tr><td>102</td><td>application_1627924993397_0026</td><td>pyspark</td><td>idle</td><td><a target=\"_blank\" href=\"http://ip-10-175-16-133.ap-south-1.compute.internal:20888/proxy/application_1627924993397_0026/\">Link</a></td><td><a target=\"_blank\" href=\"http://ip-10-175-17-95.ap-south-1.compute.internal:8042/node/containerlogs/container_1627924993397_0026_01_000001/livy\">Link</a></td><td>✔</td></tr></table>"
      ],
      "text/plain": [
       "<IPython.core.display.HTML object>"
      ]
     },
     "metadata": {},
     "output_type": "display_data"
    },
    {
     "data": {
      "application/vnd.jupyter.widget-view+json": {
       "model_id": "",
       "version_major": 2,
       "version_minor": 0
      },
      "text/plain": [
       "FloatProgress(value=0.0, bar_style='info', description='Progress:', layout=Layout(height='25px', width='50%'),…"
      ]
     },
     "metadata": {},
     "output_type": "display_data"
    },
    {
     "name": "stdout",
     "output_type": "stream",
     "text": [
      "SparkSession available as 'spark'.\n"
     ]
    },
    {
     "data": {
      "application/vnd.jupyter.widget-view+json": {
       "model_id": "",
       "version_major": 2,
       "version_minor": 0
      },
      "text/plain": [
       "FloatProgress(value=0.0, bar_style='info', description='Progress:', layout=Layout(height='25px', width='50%'),…"
      ]
     },
     "metadata": {},
     "output_type": "display_data"
    },
    {
     "name": "stdout",
     "output_type": "stream",
     "text": [
      "<pyspark.sql.session.SparkSession object at 0x7f0d3d841590>"
     ]
    }
   ],
   "source": [
    "spark"
   ]
  },
  {
   "cell_type": "code",
   "execution_count": 2,
   "metadata": {
    "ExecuteTime": {
     "end_time": "2020-11-16T20:00:17.616452Z",
     "start_time": "2020-11-16T19:59:24.513851Z"
    }
   },
   "outputs": [
    {
     "name": "stdout",
     "output_type": "stream",
     "text": [
      "Starting Spark application\n"
     ]
    },
    {
     "data": {
      "text/html": [
       "<table>\n",
       "<tr><th>ID</th><th>YARN Application ID</th><th>Kind</th><th>State</th><th>Spark UI</th><th>Driver log</th><th>Current session?</th></tr><tr><td>1580</td><td>application_1600172976670_1235</td><td>pyspark</td><td>idle</td><td><a target=\"_blank\" href=\"http://ip-192-168-66-222.ap-south-1.compute.internal:20888/proxy/application_1600172976670_1235/\">Link</a></td><td><a target=\"_blank\" href=\"http://ip-192-168-78-21.ap-south-1.compute.internal:8042/node/containerlogs/container_1600172976670_1235_01_000001/livy\">Link</a></td><td>✔</td></tr></table>"
      ],
      "text/plain": [
       "<IPython.core.display.HTML object>"
      ]
     },
     "metadata": {},
     "output_type": "display_data"
    },
    {
     "data": {
      "application/vnd.jupyter.widget-view+json": {
       "model_id": "",
       "version_major": 2,
       "version_minor": 0
      },
      "text/plain": [
       "FloatProgress(value=0.0, bar_style='info', description='Progress:', layout=Layout(height='25px', width='50%'),…"
      ]
     },
     "metadata": {},
     "output_type": "display_data"
    },
    {
     "name": "stdout",
     "output_type": "stream",
     "text": [
      "SparkSession available as 'spark'.\n"
     ]
    },
    {
     "data": {
      "application/vnd.jupyter.widget-view+json": {
       "model_id": "",
       "version_major": 2,
       "version_minor": 0
      },
      "text/plain": [
       "FloatProgress(value=0.0, bar_style='info', description='Progress:', layout=Layout(height='25px', width='50%'),…"
      ]
     },
     "metadata": {},
     "output_type": "display_data"
    }
   ],
   "source": [
    "import pyspark.sql.functions as F\n",
    "from pyspark.sql.types import DoubleType\n",
    "from datetime import date, timedelta, datetime"
   ]
  },
  {
   "cell_type": "code",
   "execution_count": 3,
   "metadata": {
    "ExecuteTime": {
     "end_time": "2020-11-16T20:00:17.661053Z",
     "start_time": "2020-11-16T20:00:17.618182Z"
    }
   },
   "outputs": [
    {
     "data": {
      "application/vnd.jupyter.widget-view+json": {
       "model_id": "",
       "version_major": 2,
       "version_minor": 0
      },
      "text/plain": [
       "FloatProgress(value=0.0, bar_style='info', description='Progress:', layout=Layout(height='25px', width='50%'),…"
      ]
     },
     "metadata": {},
     "output_type": "display_data"
    }
   ],
   "source": [
    "k=2\n",
    "col_id=55"
   ]
  },
  {
   "cell_type": "code",
   "execution_count": 4,
   "metadata": {
    "ExecuteTime": {
     "end_time": "2020-11-16T20:00:18.159331Z",
     "start_time": "2020-11-16T20:00:17.662752Z"
    }
   },
   "outputs": [
    {
     "data": {
      "application/vnd.jupyter.widget-view+json": {
       "model_id": "",
       "version_major": 2,
       "version_minor": 0
      },
      "text/plain": [
       "FloatProgress(value=0.0, bar_style='info', description='Progress:', layout=Layout(height='25px', width='50%'),…"
      ]
     },
     "metadata": {},
     "output_type": "display_data"
    }
   ],
   "source": [
    "run_date = date.today().strftime(\"%Y-%m-%d\")"
   ]
  },
  {
   "cell_type": "code",
   "execution_count": 5,
   "metadata": {
    "ExecuteTime": {
     "end_time": "2020-11-16T20:00:18.251518Z",
     "start_time": "2020-11-16T20:00:18.160882Z"
    }
   },
   "outputs": [
    {
     "data": {
      "application/vnd.jupyter.widget-view+json": {
       "model_id": "",
       "version_major": 2,
       "version_minor": 0
      },
      "text/plain": [
       "FloatProgress(value=0.0, bar_style='info', description='Progress:', layout=Layout(height='25px', width='50%'),…"
      ]
     },
     "metadata": {},
     "output_type": "display_data"
    }
   ],
   "source": [
    "rdate=datetime.strptime(run_date, '%Y-%m-%d')"
   ]
  },
  {
   "cell_type": "code",
   "execution_count": 7,
   "metadata": {
    "ExecuteTime": {
     "end_time": "2020-11-16T20:00:48.927650Z",
     "start_time": "2020-11-16T20:00:48.840583Z"
    }
   },
   "outputs": [
    {
     "data": {
      "application/vnd.jupyter.widget-view+json": {
       "model_id": "",
       "version_major": 2,
       "version_minor": 0
      },
      "text/plain": [
       "FloatProgress(value=0.0, bar_style='info', description='Progress:', layout=Layout(height='25px', width='50%'),…"
      ]
     },
     "metadata": {},
     "output_type": "display_data"
    },
    {
     "name": "stdout",
     "output_type": "stream",
     "text": [
      "'2020-10-17'"
     ]
    }
   ],
   "source": [
    "start_date=rdate-timedelta(days=30)\n",
    "start_date_str = start_date.strftime(\"%Y-%m-%d\")\n",
    "start_date_str"
   ]
  },
  {
   "cell_type": "code",
   "execution_count": 8,
   "metadata": {
    "ExecuteTime": {
     "end_time": "2020-11-16T20:00:51.358871Z",
     "start_time": "2020-11-16T20:00:51.307304Z"
    }
   },
   "outputs": [
    {
     "data": {
      "application/vnd.jupyter.widget-view+json": {
       "model_id": "",
       "version_major": 2,
       "version_minor": 0
      },
      "text/plain": [
       "FloatProgress(value=0.0, bar_style='info', description='Progress:', layout=Layout(height='25px', width='50%'),…"
      ]
     },
     "metadata": {},
     "output_type": "display_data"
    }
   ],
   "source": [
    "model_output_path='s3a://midgar-aws-workspace/prod/shinra/modelling/journeyautomation/tenant/paytm-india/scores/customerCombinedScores/'\n",
    "\n"
   ]
  },
  {
   "cell_type": "code",
   "execution_count": 15,
   "metadata": {
    "ExecuteTime": {
     "end_time": "2020-11-16T20:27:41.907607Z",
     "start_time": "2020-11-16T20:27:41.847540Z"
    }
   },
   "outputs": [
    {
     "data": {
      "application/vnd.jupyter.widget-view+json": {
       "model_id": "",
       "version_major": 2,
       "version_minor": 0
      },
      "text/plain": [
       "FloatProgress(value=0.0, bar_style='info', description='Progress:', layout=Layout(height='25px', width='50%'),…"
      ]
     },
     "metadata": {},
     "output_type": "display_data"
    },
    {
     "name": "stdout",
     "output_type": "stream",
     "text": [
      "'s3a://midgar-aws-workspace/stg/shinra/telescope/analysis/push_allocation_metrics//topk_allocation'"
     ]
    }
   ],
   "source": [
    "output_path=\"s3a://midgar-aws-workspace/stg/shinra/telescope/analysis/push_allocation_metrics/\"\n",
    "topk_allocation_path=output_path+'/topk_allocation'\n",
    "topk_allocation_path"
   ]
  },
  {
   "cell_type": "code",
   "execution_count": 10,
   "metadata": {
    "ExecuteTime": {
     "end_time": "2020-11-16T20:01:06.400000Z",
     "start_time": "2020-11-16T20:00:55.077060Z"
    }
   },
   "outputs": [
    {
     "data": {
      "application/vnd.jupyter.widget-view+json": {
       "model_id": "",
       "version_major": 2,
       "version_minor": 0
      },
      "text/plain": [
       "FloatProgress(value=0.0, bar_style='info', description='Progress:', layout=Layout(height='25px', width='50%'),…"
      ]
     },
     "metadata": {},
     "output_type": "display_data"
    },
    {
     "name": "stdout",
     "output_type": "stream",
     "text": [
      "root\n",
      " |-- customer_id: long (nullable = true)\n",
      " |-- scores: array (nullable = true)\n",
      " |    |-- element: struct (containsNull = true)\n",
      " |    |    |-- l1_category_id: integer (nullable = true)\n",
      " |    |    |-- probability: double (nullable = true)"
     ]
    }
   ],
   "source": [
    "# spark.read.parquet(model_output_path).select('customer_id', 'scores').printSchema()"
   ]
  },
  {
   "cell_type": "code",
   "execution_count": 11,
   "metadata": {
    "ExecuteTime": {
     "end_time": "2020-11-16T20:01:16.337396Z",
     "start_time": "2020-11-16T20:01:11.051119Z"
    }
   },
   "outputs": [
    {
     "data": {
      "application/vnd.jupyter.widget-view+json": {
       "model_id": "",
       "version_major": 2,
       "version_minor": 0
      },
      "text/plain": [
       "FloatProgress(value=0.0, bar_style='info', description='Progress:', layout=Layout(height='25px', width='50%'),…"
      ]
     },
     "metadata": {},
     "output_type": "display_data"
    }
   ],
   "source": [
    "model_output=spark.read.parquet(model_output_path)\\\n",
    "    .filter(F.col('dt').between(start_date_str, rdate))\\\n",
    "    .select('customer_id', 'scores.l1_category_id', 'dt')\\\n",
    "    .withColumn(\"tops\", F.slice(\"l1_category_id\", 1, k))\\\n",
    "    .filter(F.array_contains(F.col('tops'), col_id))\\\n",
    "    .groupBy('dt')\\\n",
    "    .agg(F.count('customer_id').alias('customer_size'))\\\n",
    "    .withColumn('model_topk', F.lit(k))\\\n",
    "    .withColumn('cma_id', F.lit(col_id))"
   ]
  },
  {
   "cell_type": "code",
   "execution_count": 12,
   "metadata": {
    "ExecuteTime": {
     "end_time": "2020-11-16T20:20:51.472627Z",
     "start_time": "2020-11-16T20:01:18.029526Z"
    }
   },
   "outputs": [
    {
     "data": {
      "application/vnd.jupyter.widget-view+json": {
       "model_id": "",
       "version_major": 2,
       "version_minor": 0
      },
      "text/plain": [
       "FloatProgress(value=0.0, bar_style='info', description='Progress:', layout=Layout(height='25px', width='50%'),…"
      ]
     },
     "metadata": {},
     "output_type": "display_data"
    }
   ],
   "source": [
    "model_output.coalesce(1).write.mode(\"overwrite\").option(\"header\",\"true\").csv(topk_allocation_path)"
   ]
  },
  {
   "cell_type": "code",
   "execution_count": 13,
   "metadata": {
    "ExecuteTime": {
     "end_time": "2020-11-16T20:20:53.783787Z",
     "start_time": "2020-11-16T20:20:51.474099Z"
    }
   },
   "outputs": [
    {
     "data": {
      "application/vnd.jupyter.widget-view+json": {
       "model_id": "",
       "version_major": 2,
       "version_minor": 0
      },
      "text/plain": [
       "FloatProgress(value=0.0, bar_style='info', description='Progress:', layout=Layout(height='25px', width='50%'),…"
      ]
     },
     "metadata": {},
     "output_type": "display_data"
    }
   ],
   "source": [
    "model_output=spark.read.option(\"header\",\"true\").csv(topk_allocation_path)"
   ]
  },
  {
   "cell_type": "code",
   "execution_count": 16,
   "metadata": {
    "ExecuteTime": {
     "end_time": "2020-11-16T20:28:07.559145Z",
     "start_time": "2020-11-16T20:28:06.809760Z"
    }
   },
   "outputs": [
    {
     "data": {
      "application/vnd.jupyter.widget-view+json": {
       "model_id": "",
       "version_major": 2,
       "version_minor": 0
      },
      "text/plain": [
       "FloatProgress(value=0.0, bar_style='info', description='Progress:', layout=Layout(height='25px', width='50%'),…"
      ]
     },
     "metadata": {},
     "output_type": "display_data"
    },
    {
     "name": "stdout",
     "output_type": "stream",
     "text": [
      "+----------+-------------+----------+------+\n",
      "|dt        |customer_size|model_topk|cma_id|\n",
      "+----------+-------------+----------+------+\n",
      "|2020-11-11|455742       |2         |55    |\n",
      "|2020-11-08|783484       |2         |55    |\n",
      "|2020-11-12|457966       |2         |55    |\n",
      "|2020-11-10|450463       |2         |55    |\n",
      "|2020-11-03|647170       |2         |55    |\n",
      "|2020-10-21|922390       |2         |55    |\n",
      "|2020-11-07|749392       |2         |55    |\n",
      "|2020-10-20|934526       |2         |55    |\n",
      "|2020-11-05|674103       |2         |55    |\n",
      "|2020-10-28|770082       |2         |55    |\n",
      "|2020-11-02|650422       |2         |55    |\n",
      "|2020-11-04|666259       |2         |55    |\n",
      "|2020-10-22|824636       |2         |55    |\n",
      "|2020-10-17|928328       |2         |55    |\n",
      "|2020-10-26|785211       |2         |55    |\n",
      "|2020-10-18|934392       |2         |55    |\n",
      "|2020-10-25|795610       |2         |55    |\n",
      "|2020-11-13|466715       |2         |55    |\n",
      "|2020-11-14|467179       |2         |55    |\n",
      "|2020-10-31|699987       |2         |55    |\n",
      "|2020-10-19|933278       |2         |55    |\n",
      "|2020-11-06|707607       |2         |55    |\n",
      "|2020-10-29|750466       |2         |55    |\n",
      "|2020-10-30|695638       |2         |55    |\n",
      "|2020-11-01|654512       |2         |55    |\n",
      "|2020-10-24|809949       |2         |55    |\n",
      "|2020-11-15|471181       |2         |55    |\n",
      "|2020-10-23|812938       |2         |55    |\n",
      "|2020-10-27|782970       |2         |55    |\n",
      "+----------+-------------+----------+------+"
     ]
    }
   ],
   "source": [
    "model_output.show(30,False)"
   ]
  },
  {
   "cell_type": "code",
   "execution_count": null,
   "metadata": {},
   "outputs": [],
   "source": []
  }
 ],
 "metadata": {
  "kernelspec": {
   "display_name": "PySpark",
   "language": "",
   "name": "pysparkkernel"
  },
  "language_info": {
   "codemirror_mode": {
    "name": "python",
    "version": 2
   },
   "mimetype": "text/x-python",
   "name": "pyspark",
   "pygments_lexer": "python2"
  },
  "toc": {
   "base_numbering": 1,
   "nav_menu": {},
   "number_sections": true,
   "sideBar": true,
   "skip_h1_title": false,
   "title_cell": "Table of Contents",
   "title_sidebar": "Contents",
   "toc_cell": false,
   "toc_position": {},
   "toc_section_display": true,
   "toc_window_display": false
  }
 },
 "nbformat": 4,
 "nbformat_minor": 4
}
