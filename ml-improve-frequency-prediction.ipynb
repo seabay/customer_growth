{
 "cells": [
  {
   "cell_type": "code",
   "execution_count": 2,
   "metadata": {
    "ExecuteTime": {
     "end_time": "2020-02-26T22:21:23.065829Z",
     "start_time": "2020-02-26T22:21:21.131501Z"
    }
   },
   "outputs": [],
   "source": [
    "import random\n",
    "import time, datetime\n",
    "import os\n",
    "from functools import reduce\n",
    "import subprocess\n",
    "from datetime import datetime, timedelta\n",
    "from functools import reduce\n",
    "import pandas as pd\n",
    "import pathlib\n",
    "from dfply import *\n",
    "from lifetimes import BetaGeoFitter\n",
    "import seaborn as sb\n",
    "import matplotlib.pyplot as plt\n",
    "import scipy\n",
    "import numpy as np\n",
    "from sklearn.metrics import mean_absolute_error"
   ]
  },
  {
   "cell_type": "code",
   "execution_count": 3,
   "metadata": {
    "ExecuteTime": {
     "end_time": "2020-02-26T22:21:23.070027Z",
     "start_time": "2020-02-26T22:21:23.067103Z"
    }
   },
   "outputs": [],
   "source": [
    "%matplotlib inline"
   ]
  },
  {
   "cell_type": "markdown",
   "metadata": {},
   "source": [
    "## training and testing data"
   ]
  },
  {
   "cell_type": "code",
   "execution_count": 4,
   "metadata": {
    "ExecuteTime": {
     "end_time": "2020-02-26T22:21:23.180411Z",
     "start_time": "2020-02-26T22:21:23.071271Z"
    }
   },
   "outputs": [],
   "source": [
    "path = '/tmp/data/pengcheng/cltv-summary/'"
   ]
  },
  {
   "cell_type": "code",
   "execution_count": 5,
   "metadata": {
    "ExecuteTime": {
     "end_time": "2020-02-26T22:21:23.278567Z",
     "start_time": "2020-02-26T22:21:23.181604Z"
    }
   },
   "outputs": [],
   "source": [
    "test_start_date = datetime.strptime('2019-07-01', \"%Y-%m-%d\").date()\n",
    "test_end_date = datetime.strptime('2019-12-31', \"%Y-%m-%d\").date()\n",
    "test_duration = (test_end_date - test_start_date).days/7.0\n"
   ]
  },
  {
   "cell_type": "code",
   "execution_count": 6,
   "metadata": {
    "ExecuteTime": {
     "end_time": "2020-02-26T22:21:23.382043Z",
     "start_time": "2020-02-26T22:21:23.279651Z"
    }
   },
   "outputs": [],
   "source": [
    "training_path = os.path.join(path,'17.pkl')\n",
    "testing_path = os.path.join(path,'17_testing.pkl')"
   ]
  },
  {
   "cell_type": "markdown",
   "metadata": {},
   "source": [
    "### training data"
   ]
  },
  {
   "cell_type": "code",
   "execution_count": 7,
   "metadata": {
    "ExecuteTime": {
     "end_time": "2020-02-26T22:21:32.267793Z",
     "start_time": "2020-02-26T22:21:24.046076Z"
    }
   },
   "outputs": [],
   "source": [
    "training_df = pd.read_pickle(training_path)\n"
   ]
  },
  {
   "cell_type": "code",
   "execution_count": 10,
   "metadata": {
    "ExecuteTime": {
     "end_time": "2020-02-26T22:21:45.929307Z",
     "start_time": "2020-02-26T22:21:45.832896Z"
    }
   },
   "outputs": [
    {
     "data": {
      "text/plain": [
       "58625648"
      ]
     },
     "execution_count": 10,
     "metadata": {},
     "output_type": "execute_result"
    }
   ],
   "source": [
    "len(training_df)"
   ]
  },
  {
   "cell_type": "code",
   "execution_count": 11,
   "metadata": {
    "ExecuteTime": {
     "end_time": "2020-02-26T22:21:47.306862Z",
     "start_time": "2020-02-26T22:21:45.930344Z"
    }
   },
   "outputs": [
    {
     "data": {
      "text/plain": [
       "0.25     0.000000\n",
       "0.50     4.142857\n",
       "0.75    16.428571\n",
       "0.85    21.000000\n",
       "0.95    24.142857\n",
       "0.99    25.285714\n",
       "Name: recency, dtype: float64"
      ]
     },
     "execution_count": 11,
     "metadata": {},
     "output_type": "execute_result"
    }
   ],
   "source": [
    "training_df.recency.quantile([.25, .5, .75, .85, .95, .99])"
   ]
  },
  {
   "cell_type": "code",
   "execution_count": 12,
   "metadata": {
    "ExecuteTime": {
     "end_time": "2020-02-26T22:21:48.551444Z",
     "start_time": "2020-02-26T22:21:47.307963Z"
    }
   },
   "outputs": [
    {
     "data": {
      "text/plain": [
       "0.25     0.0\n",
       "0.50     2.0\n",
       "0.75     7.0\n",
       "0.85    12.0\n",
       "0.95    24.0\n",
       "0.99    48.0\n",
       "Name: frequency, dtype: float64"
      ]
     },
     "execution_count": 12,
     "metadata": {},
     "output_type": "execute_result"
    }
   ],
   "source": [
    "training_df.frequency.quantile([.25, .5, .75, .85, .95, .99])"
   ]
  },
  {
   "cell_type": "code",
   "execution_count": 13,
   "metadata": {
    "ExecuteTime": {
     "end_time": "2020-02-26T22:21:49.611935Z",
     "start_time": "2020-02-26T22:21:48.552514Z"
    }
   },
   "outputs": [
    {
     "data": {
      "text/html": [
       "<div>\n",
       "<style scoped>\n",
       "    .dataframe tbody tr th:only-of-type {\n",
       "        vertical-align: middle;\n",
       "    }\n",
       "\n",
       "    .dataframe tbody tr th {\n",
       "        vertical-align: top;\n",
       "    }\n",
       "\n",
       "    .dataframe thead th {\n",
       "        text-align: right;\n",
       "    }\n",
       "</style>\n",
       "<table border=\"1\" class=\"dataframe\">\n",
       "  <thead>\n",
       "    <tr style=\"text-align: right;\">\n",
       "      <th></th>\n",
       "      <th>customer_id</th>\n",
       "      <th>frequency</th>\n",
       "      <th>recency</th>\n",
       "      <th>monetary_value</th>\n",
       "      <th>T</th>\n",
       "    </tr>\n",
       "  </thead>\n",
       "  <tbody>\n",
       "    <tr>\n",
       "      <th>15</th>\n",
       "      <td>318796688</td>\n",
       "      <td>2952</td>\n",
       "      <td>23.714286</td>\n",
       "      <td>129.730103</td>\n",
       "      <td>23.714286</td>\n",
       "    </tr>\n",
       "    <tr>\n",
       "      <th>48</th>\n",
       "      <td>1010352655</td>\n",
       "      <td>2564</td>\n",
       "      <td>25.571429</td>\n",
       "      <td>118.245613</td>\n",
       "      <td>25.714286</td>\n",
       "    </tr>\n",
       "  </tbody>\n",
       "</table>\n",
       "</div>"
      ],
      "text/plain": [
       "    customer_id  frequency    recency  monetary_value          T\n",
       "15    318796688       2952  23.714286      129.730103  23.714286\n",
       "48   1010352655       2564  25.571429      118.245613  25.714286"
      ]
     },
     "execution_count": 13,
     "metadata": {},
     "output_type": "execute_result"
    }
   ],
   "source": [
    "training_df >> mask (training_df.frequency > 1000) >> head(2)"
   ]
  },
  {
   "cell_type": "code",
   "execution_count": 14,
   "metadata": {
    "ExecuteTime": {
     "end_time": "2020-02-26T22:21:51.828256Z",
     "start_time": "2020-02-26T22:21:49.613485Z"
    }
   },
   "outputs": [],
   "source": [
    "training_df_filter = training_df[training_df.frequency < training_df.frequency.quantile(.99)]"
   ]
  },
  {
   "cell_type": "code",
   "execution_count": 15,
   "metadata": {
    "ExecuteTime": {
     "end_time": "2020-02-26T22:21:53.067071Z",
     "start_time": "2020-02-26T22:21:51.829528Z"
    }
   },
   "outputs": [
    {
     "data": {
      "text/plain": [
       "0.25     0.0\n",
       "0.50     2.0\n",
       "0.75     7.0\n",
       "0.85    11.0\n",
       "0.95    22.0\n",
       "0.99    36.0\n",
       "Name: frequency, dtype: float64"
      ]
     },
     "execution_count": 15,
     "metadata": {},
     "output_type": "execute_result"
    }
   ],
   "source": [
    "training_df_filter.frequency.quantile([.25, .5, .75, .85, .95, .99])"
   ]
  },
  {
   "cell_type": "code",
   "execution_count": 16,
   "metadata": {
    "ExecuteTime": {
     "end_time": "2020-02-26T22:21:54.194412Z",
     "start_time": "2020-02-26T22:21:53.068135Z"
    }
   },
   "outputs": [
    {
     "data": {
      "text/plain": [
       "0.25     35.000000\n",
       "0.50     89.800003\n",
       "0.75    160.666672\n",
       "0.85    214.517242\n",
       "0.95    399.000000\n",
       "0.99    499.000000\n",
       "Name: monetary_value, dtype: float64"
      ]
     },
     "execution_count": 16,
     "metadata": {},
     "output_type": "execute_result"
    }
   ],
   "source": [
    "training_df_filter.monetary_value.quantile([.25, .5, .75, .85, .95, .99])"
   ]
  },
  {
   "cell_type": "code",
   "execution_count": null,
   "metadata": {},
   "outputs": [],
   "source": []
  },
  {
   "cell_type": "markdown",
   "metadata": {},
   "source": [
    "### testing data"
   ]
  },
  {
   "cell_type": "code",
   "execution_count": 17,
   "metadata": {
    "ExecuteTime": {
     "end_time": "2020-02-26T22:22:03.679890Z",
     "start_time": "2020-02-26T22:21:57.692122Z"
    }
   },
   "outputs": [],
   "source": [
    "testing_df = pd.read_pickle(testing_path)\n"
   ]
  },
  {
   "cell_type": "code",
   "execution_count": 18,
   "metadata": {
    "ExecuteTime": {
     "end_time": "2020-02-26T22:22:03.683869Z",
     "start_time": "2020-02-26T22:22:03.681172Z"
    }
   },
   "outputs": [
    {
     "data": {
      "text/plain": [
       "46885522"
      ]
     },
     "execution_count": 18,
     "metadata": {},
     "output_type": "execute_result"
    }
   ],
   "source": [
    "len(testing_df)"
   ]
  },
  {
   "cell_type": "code",
   "execution_count": 19,
   "metadata": {
    "ExecuteTime": {
     "end_time": "2020-02-26T22:22:03.789629Z",
     "start_time": "2020-02-26T22:22:03.685086Z"
    }
   },
   "outputs": [
    {
     "data": {
      "text/html": [
       "<div>\n",
       "<style scoped>\n",
       "    .dataframe tbody tr th:only-of-type {\n",
       "        vertical-align: middle;\n",
       "    }\n",
       "\n",
       "    .dataframe tbody tr th {\n",
       "        vertical-align: top;\n",
       "    }\n",
       "\n",
       "    .dataframe thead th {\n",
       "        text-align: right;\n",
       "    }\n",
       "</style>\n",
       "<table border=\"1\" class=\"dataframe\">\n",
       "  <thead>\n",
       "    <tr style=\"text-align: right;\">\n",
       "      <th></th>\n",
       "      <th>customer_id</th>\n",
       "      <th>frequency</th>\n",
       "      <th>recency</th>\n",
       "      <th>monetary_value</th>\n",
       "      <th>T</th>\n",
       "    </tr>\n",
       "  </thead>\n",
       "  <tbody>\n",
       "    <tr>\n",
       "      <th>0</th>\n",
       "      <td>378479488</td>\n",
       "      <td>50</td>\n",
       "      <td>21.142857</td>\n",
       "      <td>95.333336</td>\n",
       "      <td>21.285714</td>\n",
       "    </tr>\n",
       "    <tr>\n",
       "      <th>1</th>\n",
       "      <td>307326802</td>\n",
       "      <td>14</td>\n",
       "      <td>24.428571</td>\n",
       "      <td>52.133335</td>\n",
       "      <td>25.857143</td>\n",
       "    </tr>\n",
       "    <tr>\n",
       "      <th>2</th>\n",
       "      <td>9167224</td>\n",
       "      <td>4</td>\n",
       "      <td>2.571429</td>\n",
       "      <td>75.400002</td>\n",
       "      <td>9.000000</td>\n",
       "    </tr>\n",
       "    <tr>\n",
       "      <th>3</th>\n",
       "      <td>562141206</td>\n",
       "      <td>1</td>\n",
       "      <td>0.428571</td>\n",
       "      <td>109.000000</td>\n",
       "      <td>17.428571</td>\n",
       "    </tr>\n",
       "    <tr>\n",
       "      <th>4</th>\n",
       "      <td>319550044</td>\n",
       "      <td>71</td>\n",
       "      <td>25.428571</td>\n",
       "      <td>118.569443</td>\n",
       "      <td>25.857143</td>\n",
       "    </tr>\n",
       "  </tbody>\n",
       "</table>\n",
       "</div>"
      ],
      "text/plain": [
       "   customer_id  frequency    recency  monetary_value          T\n",
       "0    378479488         50  21.142857       95.333336  21.285714\n",
       "1    307326802         14  24.428571       52.133335  25.857143\n",
       "2      9167224          4   2.571429       75.400002   9.000000\n",
       "3    562141206          1   0.428571      109.000000  17.428571\n",
       "4    319550044         71  25.428571      118.569443  25.857143"
      ]
     },
     "execution_count": 19,
     "metadata": {},
     "output_type": "execute_result"
    }
   ],
   "source": [
    "testing_df.head(5)"
   ]
  },
  {
   "cell_type": "code",
   "execution_count": 20,
   "metadata": {
    "ExecuteTime": {
     "end_time": "2020-02-26T22:22:15.148759Z",
     "start_time": "2020-02-26T22:22:03.790910Z"
    }
   },
   "outputs": [
    {
     "data": {
      "text/html": [
       "<div>\n",
       "<style scoped>\n",
       "    .dataframe tbody tr th:only-of-type {\n",
       "        vertical-align: middle;\n",
       "    }\n",
       "\n",
       "    .dataframe tbody tr th {\n",
       "        vertical-align: top;\n",
       "    }\n",
       "\n",
       "    .dataframe thead th {\n",
       "        text-align: right;\n",
       "    }\n",
       "</style>\n",
       "<table border=\"1\" class=\"dataframe\">\n",
       "  <thead>\n",
       "    <tr style=\"text-align: right;\">\n",
       "      <th></th>\n",
       "      <th>customer_id</th>\n",
       "      <th>frequency</th>\n",
       "      <th>recency</th>\n",
       "      <th>monetary_value</th>\n",
       "      <th>T</th>\n",
       "    </tr>\n",
       "  </thead>\n",
       "  <tbody>\n",
       "    <tr>\n",
       "      <th>count</th>\n",
       "      <td>4.688552e+07</td>\n",
       "      <td>4.688552e+07</td>\n",
       "      <td>4.688552e+07</td>\n",
       "      <td>4.688552e+07</td>\n",
       "      <td>4.688552e+07</td>\n",
       "    </tr>\n",
       "    <tr>\n",
       "      <th>mean</th>\n",
       "      <td>6.460814e+08</td>\n",
       "      <td>7.623310e+00</td>\n",
       "      <td>9.788681e+00</td>\n",
       "      <td>2.654792e+02</td>\n",
       "      <td>1.812018e+01</td>\n",
       "    </tr>\n",
       "    <tr>\n",
       "      <th>std</th>\n",
       "      <td>4.155291e+08</td>\n",
       "      <td>4.463335e+01</td>\n",
       "      <td>9.529886e+00</td>\n",
       "      <td>8.245251e+03</td>\n",
       "      <td>7.579343e+00</td>\n",
       "    </tr>\n",
       "    <tr>\n",
       "      <th>min</th>\n",
       "      <td>3.840000e+02</td>\n",
       "      <td>0.000000e+00</td>\n",
       "      <td>0.000000e+00</td>\n",
       "      <td>0.000000e+00</td>\n",
       "      <td>0.000000e+00</td>\n",
       "    </tr>\n",
       "    <tr>\n",
       "      <th>25%</th>\n",
       "      <td>2.953372e+08</td>\n",
       "      <td>1.000000e+00</td>\n",
       "      <td>0.000000e+00</td>\n",
       "      <td>4.925000e+01</td>\n",
       "      <td>1.257143e+01</td>\n",
       "    </tr>\n",
       "    <tr>\n",
       "      <th>50%</th>\n",
       "      <td>5.672284e+08</td>\n",
       "      <td>3.000000e+00</td>\n",
       "      <td>7.428571e+00</td>\n",
       "      <td>1.159091e+02</td>\n",
       "      <td>2.100000e+01</td>\n",
       "    </tr>\n",
       "    <tr>\n",
       "      <th>75%</th>\n",
       "      <td>1.115404e+09</td>\n",
       "      <td>9.000000e+00</td>\n",
       "      <td>1.942857e+01</td>\n",
       "      <td>1.914444e+02</td>\n",
       "      <td>2.457143e+01</td>\n",
       "    </tr>\n",
       "    <tr>\n",
       "      <th>max</th>\n",
       "      <td>1.193621e+09</td>\n",
       "      <td>2.653700e+05</td>\n",
       "      <td>2.614286e+01</td>\n",
       "      <td>9.999990e+05</td>\n",
       "      <td>2.614286e+01</td>\n",
       "    </tr>\n",
       "  </tbody>\n",
       "</table>\n",
       "</div>"
      ],
      "text/plain": [
       "        customer_id     frequency       recency  monetary_value             T\n",
       "count  4.688552e+07  4.688552e+07  4.688552e+07    4.688552e+07  4.688552e+07\n",
       "mean   6.460814e+08  7.623310e+00  9.788681e+00    2.654792e+02  1.812018e+01\n",
       "std    4.155291e+08  4.463335e+01  9.529886e+00    8.245251e+03  7.579343e+00\n",
       "min    3.840000e+02  0.000000e+00  0.000000e+00    0.000000e+00  0.000000e+00\n",
       "25%    2.953372e+08  1.000000e+00  0.000000e+00    4.925000e+01  1.257143e+01\n",
       "50%    5.672284e+08  3.000000e+00  7.428571e+00    1.159091e+02  2.100000e+01\n",
       "75%    1.115404e+09  9.000000e+00  1.942857e+01    1.914444e+02  2.457143e+01\n",
       "max    1.193621e+09  2.653700e+05  2.614286e+01    9.999990e+05  2.614286e+01"
      ]
     },
     "execution_count": 20,
     "metadata": {},
     "output_type": "execute_result"
    }
   ],
   "source": [
    "testing_df.describe()"
   ]
  },
  {
   "cell_type": "code",
   "execution_count": 21,
   "metadata": {
    "ExecuteTime": {
     "end_time": "2020-02-26T22:22:16.224733Z",
     "start_time": "2020-02-26T22:22:15.149848Z"
    }
   },
   "outputs": [
    {
     "data": {
      "text/plain": [
       "0.25     1.0\n",
       "0.50     3.0\n",
       "0.75     9.0\n",
       "0.85    15.0\n",
       "0.95    28.0\n",
       "0.99    55.0\n",
       "Name: frequency, dtype: float64"
      ]
     },
     "execution_count": 21,
     "metadata": {},
     "output_type": "execute_result"
    }
   ],
   "source": [
    "testing_df.frequency.quantile([.25, .5, .75, .85, .95, .99])"
   ]
  },
  {
   "cell_type": "code",
   "execution_count": 22,
   "metadata": {
    "ExecuteTime": {
     "end_time": "2020-02-26T22:22:18.196558Z",
     "start_time": "2020-02-26T22:22:16.225793Z"
    }
   },
   "outputs": [],
   "source": [
    "testing_df_filter = testing_df[testing_df.frequency < testing_df.frequency.quantile(.99)]"
   ]
  },
  {
   "cell_type": "code",
   "execution_count": 23,
   "metadata": {
    "ExecuteTime": {
     "end_time": "2020-02-26T22:22:19.212061Z",
     "start_time": "2020-02-26T22:22:18.198018Z"
    }
   },
   "outputs": [
    {
     "data": {
      "text/plain": [
       "0.25     1.0\n",
       "0.50     3.0\n",
       "0.75     9.0\n",
       "0.85    14.0\n",
       "0.95    26.0\n",
       "0.99    42.0\n",
       "Name: frequency, dtype: float64"
      ]
     },
     "execution_count": 23,
     "metadata": {},
     "output_type": "execute_result"
    }
   ],
   "source": [
    "testing_df_filter.frequency.quantile([.25, .5, .75, .85, .95, .99])"
   ]
  },
  {
   "cell_type": "code",
   "execution_count": 24,
   "metadata": {
    "ExecuteTime": {
     "end_time": "2020-02-26T22:22:20.226935Z",
     "start_time": "2020-02-26T22:22:19.213418Z"
    }
   },
   "outputs": [
    {
     "data": {
      "text/plain": [
       "0.25     49.000000\n",
       "0.50    116.107140\n",
       "0.75    192.791672\n",
       "0.85    256.750000\n",
       "0.95    399.000000\n",
       "0.99    559.000000\n",
       "Name: monetary_value, dtype: float64"
      ]
     },
     "execution_count": 24,
     "metadata": {},
     "output_type": "execute_result"
    }
   ],
   "source": [
    "testing_df_filter.monetary_value.quantile([.25, .5, .75, .85, .95, .99])"
   ]
  },
  {
   "cell_type": "markdown",
   "metadata": {},
   "source": [
    "### as one"
   ]
  },
  {
   "cell_type": "code",
   "execution_count": 25,
   "metadata": {
    "ExecuteTime": {
     "end_time": "2020-02-26T22:22:23.382042Z",
     "start_time": "2020-02-26T22:22:20.228104Z"
    }
   },
   "outputs": [
    {
     "data": {
      "text/html": [
       "<div>\n",
       "<style scoped>\n",
       "    .dataframe tbody tr th:only-of-type {\n",
       "        vertical-align: middle;\n",
       "    }\n",
       "\n",
       "    .dataframe tbody tr th {\n",
       "        vertical-align: top;\n",
       "    }\n",
       "\n",
       "    .dataframe thead th {\n",
       "        text-align: right;\n",
       "    }\n",
       "</style>\n",
       "<table border=\"1\" class=\"dataframe\">\n",
       "  <thead>\n",
       "    <tr style=\"text-align: right;\">\n",
       "      <th></th>\n",
       "      <th>frequency_holdout</th>\n",
       "      <th>id</th>\n",
       "      <th>money_holdout</th>\n",
       "    </tr>\n",
       "  </thead>\n",
       "  <tbody>\n",
       "    <tr>\n",
       "      <th>0</th>\n",
       "      <td>50</td>\n",
       "      <td>378479488</td>\n",
       "      <td>95.333336</td>\n",
       "    </tr>\n",
       "  </tbody>\n",
       "</table>\n",
       "</div>"
      ],
      "text/plain": [
       "   frequency_holdout         id  money_holdout\n",
       "0                 50  378479488      95.333336"
      ]
     },
     "execution_count": 25,
     "metadata": {},
     "output_type": "execute_result"
    }
   ],
   "source": [
    "post_df = ( testing_df_filter >> rename(frequency_holdout = X.frequency, id=X.customer_id, money_holdout=X.monetary_value) \n",
    "          >> select(X.frequency_holdout, X.id, X.money_holdout))\n",
    "post_df.head(1)"
   ]
  },
  {
   "cell_type": "code",
   "execution_count": 26,
   "metadata": {
    "ExecuteTime": {
     "end_time": "2020-02-26T22:22:25.618178Z",
     "start_time": "2020-02-26T22:22:23.383181Z"
    }
   },
   "outputs": [
    {
     "data": {
      "text/html": [
       "<div>\n",
       "<style scoped>\n",
       "    .dataframe tbody tr th:only-of-type {\n",
       "        vertical-align: middle;\n",
       "    }\n",
       "\n",
       "    .dataframe tbody tr th {\n",
       "        vertical-align: top;\n",
       "    }\n",
       "\n",
       "    .dataframe thead th {\n",
       "        text-align: right;\n",
       "    }\n",
       "</style>\n",
       "<table border=\"1\" class=\"dataframe\">\n",
       "  <thead>\n",
       "    <tr style=\"text-align: right;\">\n",
       "      <th></th>\n",
       "      <th>id</th>\n",
       "      <th>frequency_cal</th>\n",
       "      <th>recency_cal</th>\n",
       "      <th>monetary_value</th>\n",
       "      <th>T_cal</th>\n",
       "    </tr>\n",
       "  </thead>\n",
       "  <tbody>\n",
       "    <tr>\n",
       "      <th>0</th>\n",
       "      <td>445827048</td>\n",
       "      <td>41</td>\n",
       "      <td>22.285714</td>\n",
       "      <td>135.857147</td>\n",
       "      <td>25.714286</td>\n",
       "    </tr>\n",
       "  </tbody>\n",
       "</table>\n",
       "</div>"
      ],
      "text/plain": [
       "          id  frequency_cal  recency_cal  monetary_value      T_cal\n",
       "0  445827048             41    22.285714      135.857147  25.714286"
      ]
     },
     "execution_count": 26,
     "metadata": {},
     "output_type": "execute_result"
    }
   ],
   "source": [
    "pre_df = ( training_df_filter >> rename(frequency_cal = 'frequency', recency_cal = 'recency', T_cal='T', id='customer_id') ) \n",
    "pre_df.head(1)"
   ]
  },
  {
   "cell_type": "code",
   "execution_count": 27,
   "metadata": {
    "ExecuteTime": {
     "end_time": "2020-02-26T22:23:07.950298Z",
     "start_time": "2020-02-26T22:22:25.619215Z"
    }
   },
   "outputs": [],
   "source": [
    "pre_post_df = pre_df >> left_join(post_df, by='id')"
   ]
  },
  {
   "cell_type": "code",
   "execution_count": 28,
   "metadata": {
    "ExecuteTime": {
     "end_time": "2020-02-26T22:23:07.959508Z",
     "start_time": "2020-02-26T22:23:07.951588Z"
    }
   },
   "outputs": [
    {
     "data": {
      "text/html": [
       "<div>\n",
       "<style scoped>\n",
       "    .dataframe tbody tr th:only-of-type {\n",
       "        vertical-align: middle;\n",
       "    }\n",
       "\n",
       "    .dataframe tbody tr th {\n",
       "        vertical-align: top;\n",
       "    }\n",
       "\n",
       "    .dataframe thead th {\n",
       "        text-align: right;\n",
       "    }\n",
       "</style>\n",
       "<table border=\"1\" class=\"dataframe\">\n",
       "  <thead>\n",
       "    <tr style=\"text-align: right;\">\n",
       "      <th></th>\n",
       "      <th>id</th>\n",
       "      <th>frequency_cal</th>\n",
       "      <th>recency_cal</th>\n",
       "      <th>monetary_value</th>\n",
       "      <th>T_cal</th>\n",
       "      <th>frequency_holdout</th>\n",
       "      <th>money_holdout</th>\n",
       "    </tr>\n",
       "  </thead>\n",
       "  <tbody>\n",
       "    <tr>\n",
       "      <th>0</th>\n",
       "      <td>445827048</td>\n",
       "      <td>41</td>\n",
       "      <td>22.285714</td>\n",
       "      <td>135.857147</td>\n",
       "      <td>25.714286</td>\n",
       "      <td>NaN</td>\n",
       "      <td>NaN</td>\n",
       "    </tr>\n",
       "  </tbody>\n",
       "</table>\n",
       "</div>"
      ],
      "text/plain": [
       "          id  frequency_cal  recency_cal  monetary_value      T_cal  \\\n",
       "0  445827048             41    22.285714      135.857147  25.714286   \n",
       "\n",
       "   frequency_holdout  money_holdout  \n",
       "0                NaN            NaN  "
      ]
     },
     "execution_count": 28,
     "metadata": {},
     "output_type": "execute_result"
    }
   ],
   "source": [
    "pre_post_df.head(1)"
   ]
  },
  {
   "cell_type": "code",
   "execution_count": 29,
   "metadata": {
    "ExecuteTime": {
     "end_time": "2020-02-26T22:23:08.316702Z",
     "start_time": "2020-02-26T22:23:07.960465Z"
    }
   },
   "outputs": [],
   "source": [
    "pre_post_df.frequency_holdout.fillna(0.0, inplace=True)"
   ]
  },
  {
   "cell_type": "code",
   "execution_count": 30,
   "metadata": {
    "ExecuteTime": {
     "end_time": "2020-02-26T22:23:08.432809Z",
     "start_time": "2020-02-26T22:23:08.318444Z"
    }
   },
   "outputs": [],
   "source": [
    "pre_post_df['duration_holdout'] = test_duration"
   ]
  },
  {
   "cell_type": "code",
   "execution_count": 31,
   "metadata": {
    "ExecuteTime": {
     "end_time": "2020-02-26T22:23:08.679799Z",
     "start_time": "2020-02-26T22:23:08.434171Z"
    }
   },
   "outputs": [],
   "source": [
    "pre_post_df.money_holdout.fillna(0.0, inplace=True)"
   ]
  },
  {
   "cell_type": "code",
   "execution_count": 32,
   "metadata": {
    "ExecuteTime": {
     "end_time": "2020-02-26T22:23:08.689986Z",
     "start_time": "2020-02-26T22:23:08.681026Z"
    }
   },
   "outputs": [
    {
     "data": {
      "text/html": [
       "<div>\n",
       "<style scoped>\n",
       "    .dataframe tbody tr th:only-of-type {\n",
       "        vertical-align: middle;\n",
       "    }\n",
       "\n",
       "    .dataframe tbody tr th {\n",
       "        vertical-align: top;\n",
       "    }\n",
       "\n",
       "    .dataframe thead th {\n",
       "        text-align: right;\n",
       "    }\n",
       "</style>\n",
       "<table border=\"1\" class=\"dataframe\">\n",
       "  <thead>\n",
       "    <tr style=\"text-align: right;\">\n",
       "      <th></th>\n",
       "      <th>id</th>\n",
       "      <th>frequency_cal</th>\n",
       "      <th>recency_cal</th>\n",
       "      <th>monetary_value</th>\n",
       "      <th>T_cal</th>\n",
       "      <th>frequency_holdout</th>\n",
       "      <th>money_holdout</th>\n",
       "      <th>duration_holdout</th>\n",
       "    </tr>\n",
       "  </thead>\n",
       "  <tbody>\n",
       "    <tr>\n",
       "      <th>0</th>\n",
       "      <td>445827048</td>\n",
       "      <td>41</td>\n",
       "      <td>22.285714</td>\n",
       "      <td>135.857147</td>\n",
       "      <td>25.714286</td>\n",
       "      <td>0.0</td>\n",
       "      <td>0.000000</td>\n",
       "      <td>26.142857</td>\n",
       "    </tr>\n",
       "    <tr>\n",
       "      <th>1</th>\n",
       "      <td>531467720</td>\n",
       "      <td>40</td>\n",
       "      <td>22.000000</td>\n",
       "      <td>149.414627</td>\n",
       "      <td>24.000000</td>\n",
       "      <td>54.0</td>\n",
       "      <td>91.945457</td>\n",
       "      <td>26.142857</td>\n",
       "    </tr>\n",
       "    <tr>\n",
       "      <th>2</th>\n",
       "      <td>243358458</td>\n",
       "      <td>9</td>\n",
       "      <td>21.285714</td>\n",
       "      <td>887.099976</td>\n",
       "      <td>22.000000</td>\n",
       "      <td>9.0</td>\n",
       "      <td>500.600006</td>\n",
       "      <td>26.142857</td>\n",
       "    </tr>\n",
       "    <tr>\n",
       "      <th>3</th>\n",
       "      <td>493553170</td>\n",
       "      <td>19</td>\n",
       "      <td>23.857143</td>\n",
       "      <td>197.850006</td>\n",
       "      <td>24.714286</td>\n",
       "      <td>21.0</td>\n",
       "      <td>181.727280</td>\n",
       "      <td>26.142857</td>\n",
       "    </tr>\n",
       "    <tr>\n",
       "      <th>4</th>\n",
       "      <td>428777360</td>\n",
       "      <td>14</td>\n",
       "      <td>12.714286</td>\n",
       "      <td>46.599998</td>\n",
       "      <td>15.428571</td>\n",
       "      <td>0.0</td>\n",
       "      <td>0.000000</td>\n",
       "      <td>26.142857</td>\n",
       "    </tr>\n",
       "  </tbody>\n",
       "</table>\n",
       "</div>"
      ],
      "text/plain": [
       "          id  frequency_cal  recency_cal  monetary_value      T_cal  \\\n",
       "0  445827048             41    22.285714      135.857147  25.714286   \n",
       "1  531467720             40    22.000000      149.414627  24.000000   \n",
       "2  243358458              9    21.285714      887.099976  22.000000   \n",
       "3  493553170             19    23.857143      197.850006  24.714286   \n",
       "4  428777360             14    12.714286       46.599998  15.428571   \n",
       "\n",
       "   frequency_holdout  money_holdout  duration_holdout  \n",
       "0                0.0       0.000000         26.142857  \n",
       "1               54.0      91.945457         26.142857  \n",
       "2                9.0     500.600006         26.142857  \n",
       "3               21.0     181.727280         26.142857  \n",
       "4                0.0       0.000000         26.142857  "
      ]
     },
     "execution_count": 32,
     "metadata": {},
     "output_type": "execute_result"
    }
   ],
   "source": [
    "pre_post_df.head(5)"
   ]
  },
  {
   "cell_type": "code",
   "execution_count": 33,
   "metadata": {
    "ExecuteTime": {
     "end_time": "2020-02-26T22:23:08.790777Z",
     "start_time": "2020-02-26T22:23:08.691057Z"
    }
   },
   "outputs": [
    {
     "data": {
      "text/plain": [
       "58021012"
      ]
     },
     "execution_count": 33,
     "metadata": {},
     "output_type": "execute_result"
    }
   ],
   "source": [
    "len(pre_post_df)"
   ]
  },
  {
   "cell_type": "markdown",
   "metadata": {},
   "source": [
    "## feature n"
   ]
  },
  {
   "cell_type": "code",
   "execution_count": 34,
   "metadata": {
    "ExecuteTime": {
     "end_time": "2020-02-26T22:23:18.111791Z",
     "start_time": "2020-02-26T22:23:16.769755Z"
    }
   },
   "outputs": [],
   "source": [
    "pre_post_df['y'] = np.log((pre_post_df['frequency_holdout'] + 1) * pre_post_df['money_holdout'] + 1)"
   ]
  },
  {
   "cell_type": "code",
   "execution_count": 35,
   "metadata": {
    "ExecuteTime": {
     "end_time": "2020-02-26T22:23:20.873818Z",
     "start_time": "2020-02-26T22:23:18.340055Z"
    }
   },
   "outputs": [
    {
     "data": {
      "text/html": [
       "<div>\n",
       "<style scoped>\n",
       "    .dataframe tbody tr th:only-of-type {\n",
       "        vertical-align: middle;\n",
       "    }\n",
       "\n",
       "    .dataframe tbody tr th {\n",
       "        vertical-align: top;\n",
       "    }\n",
       "\n",
       "    .dataframe thead th {\n",
       "        text-align: right;\n",
       "    }\n",
       "</style>\n",
       "<table border=\"1\" class=\"dataframe\">\n",
       "  <thead>\n",
       "    <tr style=\"text-align: right;\">\n",
       "      <th></th>\n",
       "      <th>frequency_cal</th>\n",
       "      <th>recency_cal</th>\n",
       "      <th>monetary_value</th>\n",
       "      <th>T_cal</th>\n",
       "    </tr>\n",
       "  </thead>\n",
       "  <tbody>\n",
       "    <tr>\n",
       "      <th>0</th>\n",
       "      <td>41</td>\n",
       "      <td>22.285714</td>\n",
       "      <td>135.857147</td>\n",
       "      <td>25.714286</td>\n",
       "    </tr>\n",
       "    <tr>\n",
       "      <th>1</th>\n",
       "      <td>40</td>\n",
       "      <td>22.000000</td>\n",
       "      <td>149.414627</td>\n",
       "      <td>24.000000</td>\n",
       "    </tr>\n",
       "    <tr>\n",
       "      <th>2</th>\n",
       "      <td>9</td>\n",
       "      <td>21.285714</td>\n",
       "      <td>887.099976</td>\n",
       "      <td>22.000000</td>\n",
       "    </tr>\n",
       "    <tr>\n",
       "      <th>3</th>\n",
       "      <td>19</td>\n",
       "      <td>23.857143</td>\n",
       "      <td>197.850006</td>\n",
       "      <td>24.714286</td>\n",
       "    </tr>\n",
       "    <tr>\n",
       "      <th>4</th>\n",
       "      <td>14</td>\n",
       "      <td>12.714286</td>\n",
       "      <td>46.599998</td>\n",
       "      <td>15.428571</td>\n",
       "    </tr>\n",
       "  </tbody>\n",
       "</table>\n",
       "</div>"
      ],
      "text/plain": [
       "   frequency_cal  recency_cal  monetary_value      T_cal\n",
       "0             41    22.285714      135.857147  25.714286\n",
       "1             40    22.000000      149.414627  24.000000\n",
       "2              9    21.285714      887.099976  22.000000\n",
       "3             19    23.857143      197.850006  24.714286\n",
       "4             14    12.714286       46.599998  15.428571"
      ]
     },
     "execution_count": 35,
     "metadata": {},
     "output_type": "execute_result"
    }
   ],
   "source": [
    "X = pre_post_df[['frequency_cal', 'recency_cal', 'monetary_value', \"T_cal\"]]\n",
    "X.head(5)"
   ]
  },
  {
   "cell_type": "code",
   "execution_count": 36,
   "metadata": {
    "ExecuteTime": {
     "end_time": "2020-02-26T22:23:24.170084Z",
     "start_time": "2020-02-26T22:23:20.875086Z"
    }
   },
   "outputs": [
    {
     "data": {
      "text/plain": [
       "count    5.802101e+07\n",
       "mean     3.075114e+00\n",
       "std      3.375993e+00\n",
       "min      0.000000e+00\n",
       "25%      0.000000e+00\n",
       "50%      0.000000e+00\n",
       "75%      6.614726e+00\n",
       "max      1.774734e+01\n",
       "Name: y, dtype: float64"
      ]
     },
     "execution_count": 36,
     "metadata": {},
     "output_type": "execute_result"
    }
   ],
   "source": [
    "y=pre_post_df['y']\n",
    "y.describe()"
   ]
  },
  {
   "cell_type": "code",
   "execution_count": 37,
   "metadata": {
    "ExecuteTime": {
     "end_time": "2020-02-26T22:23:33.659030Z",
     "start_time": "2020-02-26T22:23:24.171418Z"
    }
   },
   "outputs": [],
   "source": [
    "from sklearn.model_selection import train_test_split\n",
    "X_train, X_test, y_train, y_test = train_test_split(X, y, test_size=0.33, random_state=42)"
   ]
  },
  {
   "cell_type": "code",
   "execution_count": 38,
   "metadata": {
    "ExecuteTime": {
     "end_time": "2020-02-26T22:23:33.667327Z",
     "start_time": "2020-02-26T22:23:33.660404Z"
    }
   },
   "outputs": [],
   "source": [
    "def pipe(X, y, freq_scaler=None, recency_scaler=None, t_scaler=None, money_scaler=None, training=True):\n",
    "    \n",
    "    from sklearn.preprocessing import StandardScaler\n",
    "    \n",
    "    if training:\n",
    "        freq_scaler = StandardScaler()\n",
    "        X['sfrequency'] = freq_scaler.fit_transform(X[['frequency_cal']])\n",
    "        \n",
    "        recency_scaler = StandardScaler()\n",
    "        X['srecency'] = recency_scaler.fit_transform(X[['recency_cal']])\n",
    "\n",
    "        t_scaler = StandardScaler()\n",
    "        X['T'] = t_scaler.fit_transform(X[['T_cal']])\n",
    "\n",
    "        money_scaler = StandardScaler()\n",
    "        X['smonetary_value'] = money_scaler.fit_transform(X[['monetary_value']])  \n",
    "    else:\n",
    "        X['sfrequency'] = freq_scaler.transform(X[['frequency_cal']])\n",
    "        X['srecency'] = recency_scaler.transform(X[['recency_cal']])\n",
    "        X['T'] = t_scaler.transform(X[['T_cal']])\n",
    "        X['smonetary_value'] = money_scaler.transform(X[['monetary_value']])\n",
    "        \n",
    "        \n",
    "    X['sqrt_freq'] = np.sqrt(X['frequency_cal']+1)\n",
    "    X['log_freq'] = np.log(X['frequency_cal']+1)\n",
    "    X['total'] = np.log((X['frequency_cal']+1) * X['monetary_value']+1)\n",
    "    \n",
    "    return X, y, freq_scaler, recency_scaler, t_scaler, money_scaler"
   ]
  },
  {
   "cell_type": "code",
   "execution_count": 39,
   "metadata": {
    "ExecuteTime": {
     "end_time": "2020-02-26T22:23:42.351862Z",
     "start_time": "2020-02-26T22:23:33.668304Z"
    }
   },
   "outputs": [],
   "source": [
    "X_train_p, y_train_p, freq_scaler, recency_scaler, t_scaler, money_scaler = pipe(X_train, y_train)"
   ]
  },
  {
   "cell_type": "code",
   "execution_count": 40,
   "metadata": {
    "ExecuteTime": {
     "end_time": "2020-02-26T22:23:44.951514Z",
     "start_time": "2020-02-26T22:23:42.353008Z"
    }
   },
   "outputs": [
    {
     "data": {
      "text/html": [
       "<div>\n",
       "<style scoped>\n",
       "    .dataframe tbody tr th:only-of-type {\n",
       "        vertical-align: middle;\n",
       "    }\n",
       "\n",
       "    .dataframe tbody tr th {\n",
       "        vertical-align: top;\n",
       "    }\n",
       "\n",
       "    .dataframe thead th {\n",
       "        text-align: right;\n",
       "    }\n",
       "</style>\n",
       "<table border=\"1\" class=\"dataframe\">\n",
       "  <thead>\n",
       "    <tr style=\"text-align: right;\">\n",
       "      <th></th>\n",
       "      <th>sfrequency</th>\n",
       "      <th>T</th>\n",
       "      <th>smonetary_value</th>\n",
       "      <th>srecency</th>\n",
       "      <th>sqrt_freq</th>\n",
       "      <th>log_freq</th>\n",
       "      <th>total</th>\n",
       "    </tr>\n",
       "  </thead>\n",
       "  <tbody>\n",
       "    <tr>\n",
       "      <th>30840800</th>\n",
       "      <td>-0.540411</td>\n",
       "      <td>-0.310374</td>\n",
       "      <td>-0.025485</td>\n",
       "      <td>0.387569</td>\n",
       "      <td>1.414214</td>\n",
       "      <td>0.693147</td>\n",
       "      <td>4.262680</td>\n",
       "    </tr>\n",
       "    <tr>\n",
       "      <th>39097024</th>\n",
       "      <td>-0.410567</td>\n",
       "      <td>1.081122</td>\n",
       "      <td>-0.025485</td>\n",
       "      <td>-0.893268</td>\n",
       "      <td>1.732051</td>\n",
       "      <td>1.098612</td>\n",
       "      <td>4.663439</td>\n",
       "    </tr>\n",
       "    <tr>\n",
       "      <th>16143208</th>\n",
       "      <td>1.017722</td>\n",
       "      <td>1.160636</td>\n",
       "      <td>-0.012322</td>\n",
       "      <td>1.540323</td>\n",
       "      <td>3.741657</td>\n",
       "      <td>2.639057</td>\n",
       "      <td>7.603399</td>\n",
       "    </tr>\n",
       "    <tr>\n",
       "      <th>25796527</th>\n",
       "      <td>-0.410567</td>\n",
       "      <td>0.464888</td>\n",
       "      <td>0.008030</td>\n",
       "      <td>0.419590</td>\n",
       "      <td>1.732051</td>\n",
       "      <td>1.098612</td>\n",
       "      <td>6.837333</td>\n",
       "    </tr>\n",
       "    <tr>\n",
       "      <th>42422898</th>\n",
       "      <td>-0.540411</td>\n",
       "      <td>0.564280</td>\n",
       "      <td>-0.023051</td>\n",
       "      <td>-0.605080</td>\n",
       "      <td>1.414214</td>\n",
       "      <td>0.693147</td>\n",
       "      <td>4.709530</td>\n",
       "    </tr>\n",
       "  </tbody>\n",
       "</table>\n",
       "</div>"
      ],
      "text/plain": [
       "          sfrequency         T  smonetary_value  srecency  sqrt_freq  \\\n",
       "30840800   -0.540411 -0.310374        -0.025485  0.387569   1.414214   \n",
       "39097024   -0.410567  1.081122        -0.025485 -0.893268   1.732051   \n",
       "16143208    1.017722  1.160636        -0.012322  1.540323   3.741657   \n",
       "25796527   -0.410567  0.464888         0.008030  0.419590   1.732051   \n",
       "42422898   -0.540411  0.564280        -0.023051 -0.605080   1.414214   \n",
       "\n",
       "          log_freq     total  \n",
       "30840800  0.693147  4.262680  \n",
       "39097024  1.098612  4.663439  \n",
       "16143208  2.639057  7.603399  \n",
       "25796527  1.098612  6.837333  \n",
       "42422898  0.693147  4.709530  "
      ]
     },
     "execution_count": 40,
     "metadata": {},
     "output_type": "execute_result"
    }
   ],
   "source": [
    "X_train_p = X_train_p[['sfrequency', 'T', 'smonetary_value', 'srecency', 'sqrt_freq', 'log_freq', 'total']]\n",
    "X_train_p.head(5)"
   ]
  },
  {
   "cell_type": "code",
   "execution_count": 41,
   "metadata": {
    "ExecuteTime": {
     "end_time": "2020-02-26T22:23:47.833046Z",
     "start_time": "2020-02-26T22:23:44.952957Z"
    }
   },
   "outputs": [],
   "source": [
    "X_test_p, y_test_p, *arg = pipe(X_test, y_test, freq_scaler, recency_scaler, t_scaler, money_scaler, False)"
   ]
  },
  {
   "cell_type": "code",
   "execution_count": 42,
   "metadata": {
    "ExecuteTime": {
     "end_time": "2020-02-26T22:23:49.121997Z",
     "start_time": "2020-02-26T22:23:47.834402Z"
    }
   },
   "outputs": [
    {
     "data": {
      "text/html": [
       "<div>\n",
       "<style scoped>\n",
       "    .dataframe tbody tr th:only-of-type {\n",
       "        vertical-align: middle;\n",
       "    }\n",
       "\n",
       "    .dataframe tbody tr th {\n",
       "        vertical-align: top;\n",
       "    }\n",
       "\n",
       "    .dataframe thead th {\n",
       "        text-align: right;\n",
       "    }\n",
       "</style>\n",
       "<table border=\"1\" class=\"dataframe\">\n",
       "  <thead>\n",
       "    <tr style=\"text-align: right;\">\n",
       "      <th></th>\n",
       "      <th>sfrequency</th>\n",
       "      <th>T</th>\n",
       "      <th>smonetary_value</th>\n",
       "      <th>srecency</th>\n",
       "      <th>sqrt_freq</th>\n",
       "      <th>log_freq</th>\n",
       "      <th>total</th>\n",
       "    </tr>\n",
       "  </thead>\n",
       "  <tbody>\n",
       "    <tr>\n",
       "      <th>44280220</th>\n",
       "      <td>1.666944</td>\n",
       "      <td>1.101000</td>\n",
       "      <td>-0.015312</td>\n",
       "      <td>1.652396</td>\n",
       "      <td>4.358899</td>\n",
       "      <td>2.944439</td>\n",
       "      <td>7.720462</td>\n",
       "    </tr>\n",
       "    <tr>\n",
       "      <th>39550098</th>\n",
       "      <td>0.108811</td>\n",
       "      <td>0.524523</td>\n",
       "      <td>-0.012896</td>\n",
       "      <td>1.412239</td>\n",
       "      <td>2.645751</td>\n",
       "      <td>1.945910</td>\n",
       "      <td>6.877296</td>\n",
       "    </tr>\n",
       "    <tr>\n",
       "      <th>22519280</th>\n",
       "      <td>0.887877</td>\n",
       "      <td>1.140757</td>\n",
       "      <td>-0.017058</td>\n",
       "      <td>1.492291</td>\n",
       "      <td>3.605551</td>\n",
       "      <td>2.564949</td>\n",
       "      <td>7.212295</td>\n",
       "    </tr>\n",
       "    <tr>\n",
       "      <th>13937755</th>\n",
       "      <td>-0.670255</td>\n",
       "      <td>0.126953</td>\n",
       "      <td>0.000077</td>\n",
       "      <td>-0.893268</td>\n",
       "      <td>1.000000</td>\n",
       "      <td>0.000000</td>\n",
       "      <td>5.505332</td>\n",
       "    </tr>\n",
       "    <tr>\n",
       "      <th>36388177</th>\n",
       "      <td>-0.021033</td>\n",
       "      <td>-1.344057</td>\n",
       "      <td>-0.025587</td>\n",
       "      <td>-0.028703</td>\n",
       "      <td>2.449490</td>\n",
       "      <td>1.791759</td>\n",
       "      <td>5.327876</td>\n",
       "    </tr>\n",
       "  </tbody>\n",
       "</table>\n",
       "</div>"
      ],
      "text/plain": [
       "          sfrequency         T  smonetary_value  srecency  sqrt_freq  \\\n",
       "44280220    1.666944  1.101000        -0.015312  1.652396   4.358899   \n",
       "39550098    0.108811  0.524523        -0.012896  1.412239   2.645751   \n",
       "22519280    0.887877  1.140757        -0.017058  1.492291   3.605551   \n",
       "13937755   -0.670255  0.126953         0.000077 -0.893268   1.000000   \n",
       "36388177   -0.021033 -1.344057        -0.025587 -0.028703   2.449490   \n",
       "\n",
       "          log_freq     total  \n",
       "44280220  2.944439  7.720462  \n",
       "39550098  1.945910  6.877296  \n",
       "22519280  2.564949  7.212295  \n",
       "13937755  0.000000  5.505332  \n",
       "36388177  1.791759  5.327876  "
      ]
     },
     "execution_count": 42,
     "metadata": {},
     "output_type": "execute_result"
    }
   ],
   "source": [
    "X_test_p = X_test_p[['sfrequency', 'T', 'smonetary_value', 'srecency', 'sqrt_freq', 'log_freq', 'total']]\n",
    "X_test_p.head(5)"
   ]
  },
  {
   "cell_type": "markdown",
   "metadata": {},
   "source": [
    "## train"
   ]
  },
  {
   "cell_type": "code",
   "execution_count": 43,
   "metadata": {
    "ExecuteTime": {
     "end_time": "2020-02-26T22:23:52.348401Z",
     "start_time": "2020-02-26T22:23:49.123144Z"
    }
   },
   "outputs": [
    {
     "data": {
      "text/plain": [
       "Ridge(alpha=0.5, copy_X=True, fit_intercept=True, max_iter=None,\n",
       "      normalize=False, random_state=None, solver='auto', tol=0.001)"
      ]
     },
     "execution_count": 43,
     "metadata": {},
     "output_type": "execute_result"
    }
   ],
   "source": [
    "from sklearn import linear_model\n",
    "reg = linear_model.Ridge(alpha=.5)\n",
    "reg.fit(X_train_p, y_train_p)"
   ]
  },
  {
   "cell_type": "code",
   "execution_count": 44,
   "metadata": {
    "ExecuteTime": {
     "end_time": "2020-02-26T22:23:52.352229Z",
     "start_time": "2020-02-26T22:23:52.349443Z"
    }
   },
   "outputs": [
    {
     "data": {
      "text/plain": [
       "array([-1.49297231, -0.74293903, -0.06501071,  1.75757866,  2.22103053,\n",
       "       -1.07603965,  0.46013828])"
      ]
     },
     "execution_count": 44,
     "metadata": {},
     "output_type": "execute_result"
    }
   ],
   "source": [
    "reg.coef_"
   ]
  },
  {
   "cell_type": "code",
   "execution_count": 45,
   "metadata": {
    "ExecuteTime": {
     "end_time": "2020-02-26T22:23:53.840209Z",
     "start_time": "2020-02-26T22:23:52.353206Z"
    }
   },
   "outputs": [
    {
     "data": {
      "text/plain": [
       "1.9840700742370003"
      ]
     },
     "execution_count": 45,
     "metadata": {},
     "output_type": "execute_result"
    }
   ],
   "source": [
    "from sklearn.metrics import mean_absolute_error\n",
    "y_pred=reg.predict(X_train_p)\n",
    "mean_absolute_error(y_train_p, y_pred)"
   ]
  },
  {
   "cell_type": "markdown",
   "metadata": {},
   "source": [
    "## evaluation"
   ]
  },
  {
   "cell_type": "code",
   "execution_count": 46,
   "metadata": {
    "ExecuteTime": {
     "end_time": "2020-02-26T22:24:07.872544Z",
     "start_time": "2020-02-26T22:24:07.163655Z"
    }
   },
   "outputs": [
    {
     "data": {
      "text/plain": [
       "1.9843516433078083"
      ]
     },
     "execution_count": 46,
     "metadata": {},
     "output_type": "execute_result"
    }
   ],
   "source": [
    "y_pred=reg.predict(X_test_p)\n",
    "mean_absolute_error(y_test_p, y_pred)"
   ]
  },
  {
   "cell_type": "code",
   "execution_count": null,
   "metadata": {},
   "outputs": [],
   "source": []
  },
  {
   "cell_type": "code",
   "execution_count": null,
   "metadata": {},
   "outputs": [],
   "source": []
  },
  {
   "cell_type": "code",
   "execution_count": null,
   "metadata": {},
   "outputs": [],
   "source": []
  }
 ],
 "metadata": {
  "kernelspec": {
   "display_name": "Python 3",
   "language": "python",
   "name": "python3"
  },
  "language_info": {
   "codemirror_mode": {
    "name": "ipython",
    "version": 3
   },
   "file_extension": ".py",
   "mimetype": "text/x-python",
   "name": "python",
   "nbconvert_exporter": "python",
   "pygments_lexer": "ipython3",
   "version": "3.7.6"
  },
  "toc": {
   "base_numbering": 1,
   "nav_menu": {},
   "number_sections": true,
   "sideBar": true,
   "skip_h1_title": false,
   "title_cell": "Table of Contents",
   "title_sidebar": "Contents",
   "toc_cell": false,
   "toc_position": {},
   "toc_section_display": true,
   "toc_window_display": false
  }
 },
 "nbformat": 4,
 "nbformat_minor": 2
}
