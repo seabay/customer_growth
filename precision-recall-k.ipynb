{
 "cells": [
  {
   "cell_type": "code",
   "execution_count": 1,
   "id": "7ff5d560",
   "metadata": {},
   "outputs": [
    {
     "data": {
      "text/html": [
       "Current session configs: <tt>{'driverMemory': '4G', 'executorMemory': '2G', 'executorCores': 2, 'numExecutors': 2, 'conf': {'spark.dynamicAllocation.enabled': 'false', 'spark.sql.broadcastTimeout': 2000}, 'kind': 'pyspark'}</tt><br>"
      ],
      "text/plain": [
       "<IPython.core.display.HTML object>"
      ]
     },
     "metadata": {},
     "output_type": "display_data"
    },
    {
     "data": {
      "text/html": [
       "<table>\n",
       "<tr><th>ID</th><th>YARN Application ID</th><th>Kind</th><th>State</th><th>Spark UI</th><th>Driver log</th><th>Current session?</th></tr><tr><td>139</td><td>application_1627924993397_0063</td><td>pyspark</td><td>idle</td><td><a target=\"_blank\" href=\"http://ip-10-175-16-133.ap-south-1.compute.internal:20888/proxy/application_1627924993397_0063/\">Link</a></td><td><a target=\"_blank\" href=\"http://ip-10-175-17-105.ap-south-1.compute.internal:8042/node/containerlogs/container_1627924993397_0063_01_000001/livy\">Link</a></td><td></td></tr><tr><td>140</td><td>application_1627924993397_0072</td><td>pyspark</td><td>shutting_down</td><td><a target=\"_blank\" href=\"http://ip-10-175-16-133.ap-south-1.compute.internal:20888/proxy/application_1627924993397_0072/\">Link</a></td><td><a target=\"_blank\" href=\"http://ip-10-175-17-81.ap-south-1.compute.internal:8042/node/containerlogs/container_1627924993397_0072_01_000001/livy\">Link</a></td><td></td></tr></table>"
      ],
      "text/plain": [
       "<IPython.core.display.HTML object>"
      ]
     },
     "metadata": {},
     "output_type": "display_data"
    }
   ],
   "source": [
    "%%configure -f\n",
    "{\"driverMemory\": \"4G\", \n",
    " \"executorMemory\": \"2G\", \n",
    " \"executorCores\": 2, \n",
    " \"numExecutors\": 2,\n",
    " \"conf\": {\"spark.dynamicAllocation.enabled\":\"false\", \"spark.sql.broadcastTimeout\":2000}\n",
    "}"
   ]
  },
  {
   "cell_type": "code",
   "execution_count": 2,
   "id": "2d3eb8d8",
   "metadata": {},
   "outputs": [
    {
     "data": {
      "application/vnd.jupyter.widget-view+json": {
       "model_id": "775c44946f00480cbcc9d934798602ed",
       "version_major": 2,
       "version_minor": 0
      },
      "text/plain": [
       "VBox()"
      ]
     },
     "metadata": {},
     "output_type": "display_data"
    },
    {
     "name": "stdout",
     "output_type": "stream",
     "text": [
      "Starting Spark application\n"
     ]
    },
    {
     "data": {
      "text/html": [
       "<table>\n",
       "<tr><th>ID</th><th>YARN Application ID</th><th>Kind</th><th>State</th><th>Spark UI</th><th>Driver log</th><th>Current session?</th></tr><tr><td>141</td><td>application_1627924993397_0076</td><td>pyspark</td><td>idle</td><td><a target=\"_blank\" href=\"http://ip-10-175-16-133.ap-south-1.compute.internal:20888/proxy/application_1627924993397_0076/\">Link</a></td><td><a target=\"_blank\" href=\"http://ip-10-175-16-4.ap-south-1.compute.internal:8042/node/containerlogs/container_1627924993397_0076_01_000001/livy\">Link</a></td><td>✔</td></tr></table>"
      ],
      "text/plain": [
       "<IPython.core.display.HTML object>"
      ]
     },
     "metadata": {},
     "output_type": "display_data"
    },
    {
     "data": {
      "application/vnd.jupyter.widget-view+json": {
       "model_id": "",
       "version_major": 2,
       "version_minor": 0
      },
      "text/plain": [
       "FloatProgress(value=0.0, bar_style='info', description='Progress:', layout=Layout(height='25px', width='50%'),…"
      ]
     },
     "metadata": {},
     "output_type": "display_data"
    },
    {
     "name": "stdout",
     "output_type": "stream",
     "text": [
      "SparkSession available as 'spark'.\n"
     ]
    },
    {
     "data": {
      "application/vnd.jupyter.widget-view+json": {
       "model_id": "",
       "version_major": 2,
       "version_minor": 0
      },
      "text/plain": [
       "FloatProgress(value=0.0, bar_style='info', description='Progress:', layout=Layout(height='25px', width='50%'),…"
      ]
     },
     "metadata": {},
     "output_type": "display_data"
    },
    {
     "name": "stdout",
     "output_type": "stream",
     "text": [
      "<pyspark.sql.session.SparkSession object at 0x7fe3aade6310>"
     ]
    }
   ],
   "source": [
    "spark"
   ]
  },
  {
   "cell_type": "code",
   "execution_count": 3,
   "id": "2a70015e",
   "metadata": {},
   "outputs": [
    {
     "data": {
      "application/vnd.jupyter.widget-view+json": {
       "model_id": "7f0d7e58840a48549984a7aa19c256a4",
       "version_major": 2,
       "version_minor": 0
      },
      "text/plain": [
       "VBox()"
      ]
     },
     "metadata": {},
     "output_type": "display_data"
    },
    {
     "data": {
      "application/vnd.jupyter.widget-view+json": {
       "model_id": "",
       "version_major": 2,
       "version_minor": 0
      },
      "text/plain": [
       "FloatProgress(value=0.0, bar_style='info', description='Progress:', layout=Layout(height='25px', width='50%'),…"
      ]
     },
     "metadata": {},
     "output_type": "display_data"
    }
   ],
   "source": [
    "from pyspark.sql import SparkSession\n",
    "import pyspark.sql.functions as F\n",
    "from pyspark.sql.types import ArrayType, StringType, LongType, IntegerType, DoubleType, StructType, StructField"
   ]
  },
  {
   "cell_type": "code",
   "execution_count": null,
   "id": "aacababf",
   "metadata": {},
   "outputs": [],
   "source": []
  },
  {
   "cell_type": "code",
   "execution_count": null,
   "id": "dca31f47",
   "metadata": {},
   "outputs": [],
   "source": []
  },
  {
   "cell_type": "code",
   "execution_count": 287,
   "id": "9fbb38f4",
   "metadata": {},
   "outputs": [
    {
     "data": {
      "application/vnd.jupyter.widget-view+json": {
       "model_id": "75f1d2ec0b9a439686640853a7c70297",
       "version_major": 2,
       "version_minor": 0
      },
      "text/plain": [
       "VBox()"
      ]
     },
     "metadata": {},
     "output_type": "display_data"
    },
    {
     "data": {
      "application/vnd.jupyter.widget-view+json": {
       "model_id": "",
       "version_major": 2,
       "version_minor": 0
      },
      "text/plain": [
       "FloatProgress(value=0.0, bar_style='info', description='Progress:', layout=Layout(height='25px', width='50%'),…"
      ]
     },
     "metadata": {},
     "output_type": "display_data"
    }
   ],
   "source": [
    "def get_top_user_categories(spark, model_predictions_path, top_k):\n",
    "    transform_expr = \"TRANSFORM(category_trend_scores, x -> struct(x.probability*(-1.00) as probability, x.category_id as category_id))\"\n",
    "\n",
    "    top_predictions_per_user = (spark.read.parquet(model_predictions_path)\n",
    "                                .select(\"customer_id\", F.expr(transform_expr).alias(\"category_transform\"))\n",
    "                                .withColumn(\"category_sorted\", F.array_sort(F.col(\"category_transform\")))\n",
    "                                .withColumn(\"topk_rank_cat\",\n",
    "                                            F.array([F.col(\"category_sorted\")[i] for i in range(top_k)]))\n",
    "                                .select('customer_id',\n",
    "                                        F.posexplode(F.col(\"topk_rank_cat\")).alias(\"pos\", \"cma_id_prob\"))\n",
    "                                .withColumn(\"cma_id\", F.col(\"cma_id_prob\").getItem(\"category_id\"))\n",
    "                                .withColumn(\"prob\", F.col(\"cma_id_prob\").getItem(\"probability\") * -1.00)\n",
    "                                .withColumn('rank', (F.col('pos') + 1))\n",
    "                                .select(\"rank\",\"customer_id\",\"cma_id\",\"prob\"))\n",
    "    return top_predictions_per_user"
   ]
  },
  {
   "cell_type": "code",
   "execution_count": 288,
   "id": "b5f8058a",
   "metadata": {},
   "outputs": [
    {
     "data": {
      "application/vnd.jupyter.widget-view+json": {
       "model_id": "226ed1e70a5348fb8bad44141706c6e1",
       "version_major": 2,
       "version_minor": 0
      },
      "text/plain": [
       "VBox()"
      ]
     },
     "metadata": {},
     "output_type": "display_data"
    },
    {
     "data": {
      "application/vnd.jupyter.widget-view+json": {
       "model_id": "",
       "version_major": 2,
       "version_minor": 0
      },
      "text/plain": [
       "FloatProgress(value=0.0, bar_style='info', description='Progress:', layout=Layout(height='25px', width='50%'),…"
      ]
     },
     "metadata": {},
     "output_type": "display_data"
    }
   ],
   "source": [
    "def get_user_sales(spark, l1_banner_events_base_table_path):\n",
    "    \n",
    "    user_sales = (spark.read.parquet(l1_banner_events_base_table_path)\n",
    "                .filter((F.col('sales').isNotNull()) & (F.col('sales') > 0))\n",
    "                .select(F.col(\"customer_id\").cast(LongType()), F.col(\"cma_id\").cast(IntegerType()))\n",
    "                .distinct())\n",
    "    return user_sales"
   ]
  },
  {
   "cell_type": "code",
   "execution_count": 289,
   "id": "969f25f1",
   "metadata": {},
   "outputs": [
    {
     "data": {
      "application/vnd.jupyter.widget-view+json": {
       "model_id": "40f48c91a6fb42088f0c03b03b600b9f",
       "version_major": 2,
       "version_minor": 0
      },
      "text/plain": [
       "VBox()"
      ]
     },
     "metadata": {},
     "output_type": "display_data"
    },
    {
     "data": {
      "application/vnd.jupyter.widget-view+json": {
       "model_id": "",
       "version_major": 2,
       "version_minor": 0
      },
      "text/plain": [
       "FloatProgress(value=0.0, bar_style='info', description='Progress:', layout=Layout(height='25px', width='50%'),…"
      ]
     },
     "metadata": {},
     "output_type": "display_data"
    }
   ],
   "source": [
    "def get_sales_category_rank_per_cust (user_sales, model_predictions):\n",
    "\n",
    "    sales_category_rank_per_cust = (user_sales\n",
    "                                .join(model_predictions.select(\"customer_id\").distinct(), on = \"customer_id\")\n",
    "                                .join(model_predictions,on = [\"customer_id\",\"cma_id\"], how = \"left\")\n",
    "                                .fillna(999999, subset= \"rank\" ) # 999999 means the category is not belongs to topk rank\n",
    "                                .select(\"customer_id\",\"cma_id\",\"rank\"))\n",
    "\n",
    "    return sales_category_rank_per_cust"
   ]
  },
  {
   "cell_type": "code",
   "execution_count": 290,
   "id": "9f2521da",
   "metadata": {},
   "outputs": [
    {
     "data": {
      "application/vnd.jupyter.widget-view+json": {
       "model_id": "dd71f05c436e4d6b964e5144ad4930c5",
       "version_major": 2,
       "version_minor": 0
      },
      "text/plain": [
       "VBox()"
      ]
     },
     "metadata": {},
     "output_type": "display_data"
    },
    {
     "data": {
      "application/vnd.jupyter.widget-view+json": {
       "model_id": "",
       "version_major": 2,
       "version_minor": 0
      },
      "text/plain": [
       "FloatProgress(value=0.0, bar_style='info', description='Progress:', layout=Layout(height='25px', width='50%'),…"
      ]
     },
     "metadata": {},
     "output_type": "display_data"
    }
   ],
   "source": [
    "def get_model_servable_category (model_serve_category_pre):\n",
    "        \n",
    "    model_servable_category = (model_serve_category_pre\n",
    "                            .select(\"cma_id\")\n",
    "                            .distinct())\n",
    "\n",
    "    return model_servable_category"
   ]
  },
  {
   "cell_type": "code",
   "execution_count": 291,
   "id": "2509649e",
   "metadata": {},
   "outputs": [
    {
     "data": {
      "application/vnd.jupyter.widget-view+json": {
       "model_id": "c775aa54a14d464eb7ef990c12bb6a69",
       "version_major": 2,
       "version_minor": 0
      },
      "text/plain": [
       "VBox()"
      ]
     },
     "metadata": {},
     "output_type": "display_data"
    },
    {
     "data": {
      "application/vnd.jupyter.widget-view+json": {
       "model_id": "",
       "version_major": 2,
       "version_minor": 0
      },
      "text/plain": [
       "FloatProgress(value=0.0, bar_style='info', description='Progress:', layout=Layout(height='25px', width='50%'),…"
      ]
     },
     "metadata": {},
     "output_type": "display_data"
    }
   ],
   "source": [
    "def get_precision_recall_at_k_per_cust (sales_category_rank_per_cust, model_servable_category, k):\n",
    "        \n",
    "    count_model_serve_category = (sales_category_rank_per_cust\n",
    "                                .join(model_servable_category, on = \"cma_id\")\n",
    "                                .groupBy(\"customer_id\")\n",
    "                                .agg(F.countDistinct(F.col(\"cma_id\")).alias(\"count_cat\")))\n",
    "\n",
    "    precision_per_cust_only_for_rank_les_k = (sales_category_rank_per_cust\n",
    "                                            .filter(F.col(\"rank\")<=k)\n",
    "                                            .groupBy(\"customer_id\")\n",
    "                                            .agg(F.countDistinct(F.col(\"cma_id\")).alias(\"count_cat_les_k_rank\"))\n",
    "                                            .withColumn(\"precision\",F.when(F.col(\"count_cat_les_k_rank\")>0,1)\n",
    "                                                                    .otherwise(0)))\n",
    "\n",
    "    precision_at_k_per_cust = (sales_category_rank_per_cust\n",
    "                            .select(\"customer_id\")\n",
    "                            .distinct()\n",
    "                            .join(precision_per_cust_only_for_rank_les_k, on = \"customer_id\", how = \"left\")\n",
    "                            .fillna(0, subset = [\"count_cat_les_k_rank\",\"precision\"])\n",
    "                            .withColumn(\"k\",F.lit(k)))\n",
    "\n",
    "    precision_recall_at_k_per_cust = (precision_at_k_per_cust\n",
    "                                    .join(count_model_serve_category, on = \"customer_id\")\n",
    "                                    .withColumn(\"recall\",F.col(\"count_cat_les_k_rank\")/F.col(\"count_cat\")))\n",
    "\n",
    "    return precision_recall_at_k_per_cust"
   ]
  },
  {
   "cell_type": "code",
   "execution_count": 292,
   "id": "bf6f77a9",
   "metadata": {},
   "outputs": [
    {
     "data": {
      "application/vnd.jupyter.widget-view+json": {
       "model_id": "861da287082b4f5296b205f7fbaf9bc8",
       "version_major": 2,
       "version_minor": 0
      },
      "text/plain": [
       "VBox()"
      ]
     },
     "metadata": {},
     "output_type": "display_data"
    },
    {
     "data": {
      "application/vnd.jupyter.widget-view+json": {
       "model_id": "",
       "version_major": 2,
       "version_minor": 0
      },
      "text/plain": [
       "FloatProgress(value=0.0, bar_style='info', description='Progress:', layout=Layout(height='25px', width='50%'),…"
      ]
     },
     "metadata": {},
     "output_type": "display_data"
    }
   ],
   "source": [
    "def get_precision_recall_at_k (precision_recall_at_k_per_cust):\n",
    "        \n",
    "    precision_recall_at_k = (precision_recall_at_k_per_cust\n",
    "                            .groupBy(F.col('k'))\n",
    "                            .agg(F.mean('precision').alias('precision_at_k'),\n",
    "                                F.mean('recall').alias(\"recall_at_k\"))\n",
    "                            .select('k', 'precision_at_k', 'recall_at_k')\n",
    "                            .orderBy(F.col('k')))\n",
    "\n",
    "    return precision_recall_at_k"
   ]
  },
  {
   "cell_type": "markdown",
   "id": "96b7130f",
   "metadata": {},
   "source": [
    "# configs"
   ]
  },
  {
   "cell_type": "code",
   "execution_count": 359,
   "id": "40f764af",
   "metadata": {},
   "outputs": [
    {
     "data": {
      "application/vnd.jupyter.widget-view+json": {
       "model_id": "f2e2be15a8784acbb3a3b66bc467c795",
       "version_major": 2,
       "version_minor": 0
      },
      "text/plain": [
       "VBox()"
      ]
     },
     "metadata": {},
     "output_type": "display_data"
    },
    {
     "data": {
      "application/vnd.jupyter.widget-view+json": {
       "model_id": "",
       "version_major": 2,
       "version_minor": 0
      },
      "text/plain": [
       "FloatProgress(value=0.0, bar_style='info', description='Progress:', layout=Layout(height='25px', width='50%'),…"
      ]
     },
     "metadata": {},
     "output_type": "display_data"
    }
   ],
   "source": [
    "top_k=6\n",
    "model_name='boosting'"
   ]
  },
  {
   "cell_type": "code",
   "execution_count": 442,
   "id": "07937808",
   "metadata": {},
   "outputs": [
    {
     "data": {
      "application/vnd.jupyter.widget-view+json": {
       "model_id": "30ef62cce02747f7a459a4febc36e3bb",
       "version_major": 2,
       "version_minor": 0
      },
      "text/plain": [
       "VBox()"
      ]
     },
     "metadata": {},
     "output_type": "display_data"
    },
    {
     "data": {
      "application/vnd.jupyter.widget-view+json": {
       "model_id": "",
       "version_major": 2,
       "version_minor": 0
      },
      "text/plain": [
       "FloatProgress(value=0.0, bar_style='info', description='Progress:', layout=Layout(height='25px', width='50%'),…"
      ]
     },
     "metadata": {},
     "output_type": "display_data"
    }
   ],
   "source": [
    "model_date=\"2021-07-29\"\n",
    "target_date=\"2021-07-30\""
   ]
  },
  {
   "cell_type": "markdown",
   "id": "9473285a",
   "metadata": {},
   "source": [
    "# input"
   ]
  },
  {
   "cell_type": "code",
   "execution_count": 443,
   "id": "08ff5310",
   "metadata": {},
   "outputs": [
    {
     "data": {
      "application/vnd.jupyter.widget-view+json": {
       "model_id": "a3ad8e5a061c4a8897f0f0728396b2b8",
       "version_major": 2,
       "version_minor": 0
      },
      "text/plain": [
       "VBox()"
      ]
     },
     "metadata": {},
     "output_type": "display_data"
    },
    {
     "data": {
      "application/vnd.jupyter.widget-view+json": {
       "model_id": "",
       "version_major": 2,
       "version_minor": 0
      },
      "text/plain": [
       "FloatProgress(value=0.0, bar_style='info', description='Progress:', layout=Layout(height='25px', width='50%'),…"
      ]
     },
     "metadata": {},
     "output_type": "display_data"
    }
   ],
   "source": [
    "model_predictions_path = f\"s3a://pai-gm-midgar-production-ml-jobs/shinra/modelling/weighted_trendfiltering_banner_events/user_categories_boosting/model_date={model_date}\"\n",
    "\n",
    "l1_banner_events_base_table_path = f\"s3a://midgar-aws-workspace/prod/shinra/telescope/base/l1_banner_events_base_table/dt={target_date}\"  "
   ]
  },
  {
   "cell_type": "code",
   "execution_count": 444,
   "id": "cd5f9be5",
   "metadata": {},
   "outputs": [
    {
     "data": {
      "application/vnd.jupyter.widget-view+json": {
       "model_id": "65988610ba5e4d898cd7429a8ef1669f",
       "version_major": 2,
       "version_minor": 0
      },
      "text/plain": [
       "VBox()"
      ]
     },
     "metadata": {},
     "output_type": "display_data"
    },
    {
     "data": {
      "application/vnd.jupyter.widget-view+json": {
       "model_id": "",
       "version_major": 2,
       "version_minor": 0
      },
      "text/plain": [
       "FloatProgress(value=0.0, bar_style='info', description='Progress:', layout=Layout(height='25px', width='50%'),…"
      ]
     },
     "metadata": {},
     "output_type": "display_data"
    },
    {
     "name": "stdout",
     "output_type": "stream",
     "text": [
      "'s3a://pai-gm-midgar-production-ml-jobs/shinra/modelling/weighted_trendfiltering_banner_events/user_categories_boosting/model_date=2021-07-29'"
     ]
    }
   ],
   "source": [
    "model_predictions_path"
   ]
  },
  {
   "cell_type": "code",
   "execution_count": 445,
   "id": "ef0b1b45",
   "metadata": {},
   "outputs": [
    {
     "data": {
      "application/vnd.jupyter.widget-view+json": {
       "model_id": "6ca9f7f904fb45a6bf6c6921164aa647",
       "version_major": 2,
       "version_minor": 0
      },
      "text/plain": [
       "VBox()"
      ]
     },
     "metadata": {},
     "output_type": "display_data"
    },
    {
     "data": {
      "application/vnd.jupyter.widget-view+json": {
       "model_id": "",
       "version_major": 2,
       "version_minor": 0
      },
      "text/plain": [
       "FloatProgress(value=0.0, bar_style='info', description='Progress:', layout=Layout(height='25px', width='50%'),…"
      ]
     },
     "metadata": {},
     "output_type": "display_data"
    },
    {
     "name": "stdout",
     "output_type": "stream",
     "text": [
      "'s3a://midgar-aws-workspace/prod/shinra/telescope/base/l1_banner_events_base_table/dt=2021-07-30'"
     ]
    }
   ],
   "source": [
    "l1_banner_events_base_table_path"
   ]
  },
  {
   "cell_type": "markdown",
   "id": "ef99ea4b",
   "metadata": {},
   "source": [
    "# Output Path\n"
   ]
  },
  {
   "cell_type": "code",
   "execution_count": 446,
   "id": "9684166b",
   "metadata": {},
   "outputs": [
    {
     "data": {
      "application/vnd.jupyter.widget-view+json": {
       "model_id": "72af2e69b6d94422a6cd6c536aaf4152",
       "version_major": 2,
       "version_minor": 0
      },
      "text/plain": [
       "VBox()"
      ]
     },
     "metadata": {},
     "output_type": "display_data"
    },
    {
     "data": {
      "application/vnd.jupyter.widget-view+json": {
       "model_id": "",
       "version_major": 2,
       "version_minor": 0
      },
      "text/plain": [
       "FloatProgress(value=0.0, bar_style='info', description='Progress:', layout=Layout(height='25px', width='50%'),…"
      ]
     },
     "metadata": {},
     "output_type": "display_data"
    },
    {
     "name": "stdout",
     "output_type": "stream",
     "text": [
      "'s3://pai-gm-midgar-shared-ml-team/pengcheng/eval/model_eval/30_day_trends/precisionrecallatkv/model=boosting//dt=2021-07-29'"
     ]
    }
   ],
   "source": [
    "precisionrecallatkv_path = f\"s3://pai-gm-midgar-shared-ml-team/pengcheng/eval/model_eval/30_day_trends/precisionrecallatkv/model={model_name}/\"\n",
    "\n",
    "precision_recall_at_k_path = f\"{precisionrecallatkv_path}/dt={model_date}\"\n",
    "precision_recall_at_k_path\n"
   ]
  },
  {
   "cell_type": "code",
   "execution_count": null,
   "id": "e3889098",
   "metadata": {},
   "outputs": [],
   "source": []
  },
  {
   "cell_type": "markdown",
   "id": "8afb8d5d",
   "metadata": {},
   "source": [
    "# work"
   ]
  },
  {
   "cell_type": "code",
   "execution_count": 447,
   "id": "dffa5511",
   "metadata": {},
   "outputs": [
    {
     "data": {
      "application/vnd.jupyter.widget-view+json": {
       "model_id": "90ff597151ec4f429e89693941ee560d",
       "version_major": 2,
       "version_minor": 0
      },
      "text/plain": [
       "VBox()"
      ]
     },
     "metadata": {},
     "output_type": "display_data"
    },
    {
     "data": {
      "application/vnd.jupyter.widget-view+json": {
       "model_id": "",
       "version_major": 2,
       "version_minor": 0
      },
      "text/plain": [
       "FloatProgress(value=0.0, bar_style='info', description='Progress:', layout=Layout(height='25px', width='50%'),…"
      ]
     },
     "metadata": {},
     "output_type": "display_data"
    }
   ],
   "source": [
    "model_predictions = get_top_user_categories(spark, model_predictions_path, top_k).cache()\n"
   ]
  },
  {
   "cell_type": "code",
   "execution_count": 448,
   "id": "9b9e5ec8",
   "metadata": {},
   "outputs": [
    {
     "data": {
      "application/vnd.jupyter.widget-view+json": {
       "model_id": "02444460d55f4350b48e7ad38ff51397",
       "version_major": 2,
       "version_minor": 0
      },
      "text/plain": [
       "VBox()"
      ]
     },
     "metadata": {},
     "output_type": "display_data"
    },
    {
     "data": {
      "application/vnd.jupyter.widget-view+json": {
       "model_id": "",
       "version_major": 2,
       "version_minor": 0
      },
      "text/plain": [
       "FloatProgress(value=0.0, bar_style='info', description='Progress:', layout=Layout(height='25px', width='50%'),…"
      ]
     },
     "metadata": {},
     "output_type": "display_data"
    }
   ],
   "source": [
    "user_sales = get_user_sales(spark, l1_banner_events_base_table_path)\n",
    "        "
   ]
  },
  {
   "cell_type": "code",
   "execution_count": 449,
   "id": "53c98df8",
   "metadata": {},
   "outputs": [
    {
     "data": {
      "application/vnd.jupyter.widget-view+json": {
       "model_id": "bfe40e0e57bc42bcad85af962d104add",
       "version_major": 2,
       "version_minor": 0
      },
      "text/plain": [
       "VBox()"
      ]
     },
     "metadata": {},
     "output_type": "display_data"
    },
    {
     "data": {
      "application/vnd.jupyter.widget-view+json": {
       "model_id": "",
       "version_major": 2,
       "version_minor": 0
      },
      "text/plain": [
       "FloatProgress(value=0.0, bar_style='info', description='Progress:', layout=Layout(height='25px', width='50%'),…"
      ]
     },
     "metadata": {},
     "output_type": "display_data"
    }
   ],
   "source": [
    "sales_category_rank_per_cust = get_sales_category_rank_per_cust(user_sales, model_predictions).cache()\n"
   ]
  },
  {
   "cell_type": "code",
   "execution_count": 450,
   "id": "867a6f4b",
   "metadata": {},
   "outputs": [
    {
     "data": {
      "application/vnd.jupyter.widget-view+json": {
       "model_id": "02abd1fdc52c49bf9e13ec111ea1ead5",
       "version_major": 2,
       "version_minor": 0
      },
      "text/plain": [
       "VBox()"
      ]
     },
     "metadata": {},
     "output_type": "display_data"
    },
    {
     "data": {
      "application/vnd.jupyter.widget-view+json": {
       "model_id": "",
       "version_major": 2,
       "version_minor": 0
      },
      "text/plain": [
       "FloatProgress(value=0.0, bar_style='info', description='Progress:', layout=Layout(height='25px', width='50%'),…"
      ]
     },
     "metadata": {},
     "output_type": "display_data"
    }
   ],
   "source": [
    "model_servable_category = get_model_servable_category(model_predictions).cache()"
   ]
  },
  {
   "cell_type": "code",
   "execution_count": 451,
   "id": "fce4d730",
   "metadata": {},
   "outputs": [
    {
     "data": {
      "application/vnd.jupyter.widget-view+json": {
       "model_id": "31548748c3014a529c98de5aabacd619",
       "version_major": 2,
       "version_minor": 0
      },
      "text/plain": [
       "VBox()"
      ]
     },
     "metadata": {},
     "output_type": "display_data"
    },
    {
     "data": {
      "application/vnd.jupyter.widget-view+json": {
       "model_id": "",
       "version_major": 2,
       "version_minor": 0
      },
      "text/plain": [
       "FloatProgress(value=0.0, bar_style='info', description='Progress:', layout=Layout(height='25px', width='50%'),…"
      ]
     },
     "metadata": {},
     "output_type": "display_data"
    }
   ],
   "source": [
    "for k in range(1,top_k+1):\n",
    "    if k == 1:\n",
    "        precision_recall_at_k_per_cust = get_precision_recall_at_k_per_cust(sales_category_rank_per_cust, model_servable_category, k)\n",
    "    else:\n",
    "        precision_recall_at_k_per_cust_add = get_precision_recall_at_k_per_cust(sales_category_rank_per_cust, model_servable_category, k)\n",
    "        precision_recall_at_k_per_cust = precision_recall_at_k_per_cust.union(precision_recall_at_k_per_cust_add)"
   ]
  },
  {
   "cell_type": "code",
   "execution_count": 452,
   "id": "bf7b9716",
   "metadata": {},
   "outputs": [
    {
     "data": {
      "application/vnd.jupyter.widget-view+json": {
       "model_id": "0e6cdaad1b7940e7a96993bd4a360ed9",
       "version_major": 2,
       "version_minor": 0
      },
      "text/plain": [
       "VBox()"
      ]
     },
     "metadata": {},
     "output_type": "display_data"
    },
    {
     "data": {
      "application/vnd.jupyter.widget-view+json": {
       "model_id": "",
       "version_major": 2,
       "version_minor": 0
      },
      "text/plain": [
       "FloatProgress(value=0.0, bar_style='info', description='Progress:', layout=Layout(height='25px', width='50%'),…"
      ]
     },
     "metadata": {},
     "output_type": "display_data"
    }
   ],
   "source": [
    "precision_recall_at_k = get_precision_recall_at_k(precision_recall_at_k_per_cust)"
   ]
  },
  {
   "cell_type": "code",
   "execution_count": 453,
   "id": "74a17f2c",
   "metadata": {},
   "outputs": [
    {
     "data": {
      "application/vnd.jupyter.widget-view+json": {
       "model_id": "29618d98ebdb4f8e8d345266f14d0080",
       "version_major": 2,
       "version_minor": 0
      },
      "text/plain": [
       "VBox()"
      ]
     },
     "metadata": {},
     "output_type": "display_data"
    },
    {
     "data": {
      "application/vnd.jupyter.widget-view+json": {
       "model_id": "",
       "version_major": 2,
       "version_minor": 0
      },
      "text/plain": [
       "FloatProgress(value=0.0, bar_style='info', description='Progress:', layout=Layout(height='25px', width='50%'),…"
      ]
     },
     "metadata": {},
     "output_type": "display_data"
    },
    {
     "name": "stdout",
     "output_type": "stream",
     "text": [
      "'s3://pai-gm-midgar-shared-ml-team/pengcheng/eval/model_eval/30_day_trends/precisionrecallatkv/model=boosting//dt=2021-07-29'"
     ]
    }
   ],
   "source": [
    "precision_recall_at_k_path"
   ]
  },
  {
   "cell_type": "code",
   "execution_count": 454,
   "id": "3c2d01c6",
   "metadata": {},
   "outputs": [
    {
     "data": {
      "application/vnd.jupyter.widget-view+json": {
       "model_id": "69361eb89f57443f94c3c8217f56ffb9",
       "version_major": 2,
       "version_minor": 0
      },
      "text/plain": [
       "VBox()"
      ]
     },
     "metadata": {},
     "output_type": "display_data"
    },
    {
     "data": {
      "application/vnd.jupyter.widget-view+json": {
       "model_id": "",
       "version_major": 2,
       "version_minor": 0
      },
      "text/plain": [
       "FloatProgress(value=0.0, bar_style='info', description='Progress:', layout=Layout(height='25px', width='50%'),…"
      ]
     },
     "metadata": {},
     "output_type": "display_data"
    }
   ],
   "source": [
    "precision_recall_at_k.coalesce(1).write.mode(\"overwrite\").parquet(precision_recall_at_k_path)"
   ]
  },
  {
   "cell_type": "code",
   "execution_count": null,
   "id": "ea6fd1d4",
   "metadata": {},
   "outputs": [],
   "source": []
  },
  {
   "cell_type": "markdown",
   "id": "8402da60",
   "metadata": {},
   "source": [
    "# validation"
   ]
  },
  {
   "cell_type": "code",
   "execution_count": 455,
   "id": "fb7ca5d0",
   "metadata": {},
   "outputs": [
    {
     "data": {
      "application/vnd.jupyter.widget-view+json": {
       "model_id": "6915cd81514746dca191666d928cf1a2",
       "version_major": 2,
       "version_minor": 0
      },
      "text/plain": [
       "VBox()"
      ]
     },
     "metadata": {},
     "output_type": "display_data"
    },
    {
     "data": {
      "application/vnd.jupyter.widget-view+json": {
       "model_id": "",
       "version_major": 2,
       "version_minor": 0
      },
      "text/plain": [
       "FloatProgress(value=0.0, bar_style='info', description='Progress:', layout=Layout(height='25px', width='50%'),…"
      ]
     },
     "metadata": {},
     "output_type": "display_data"
    }
   ],
   "source": [
    "df=spark.read.parquet(precision_recall_at_k_path)"
   ]
  },
  {
   "cell_type": "code",
   "execution_count": 456,
   "id": "642a89ba",
   "metadata": {},
   "outputs": [
    {
     "data": {
      "application/vnd.jupyter.widget-view+json": {
       "model_id": "5f4750b700f5479ba5d1bf0b6e84ce8f",
       "version_major": 2,
       "version_minor": 0
      },
      "text/plain": [
       "VBox()"
      ]
     },
     "metadata": {},
     "output_type": "display_data"
    },
    {
     "data": {
      "application/vnd.jupyter.widget-view+json": {
       "model_id": "",
       "version_major": 2,
       "version_minor": 0
      },
      "text/plain": [
       "FloatProgress(value=0.0, bar_style='info', description='Progress:', layout=Layout(height='25px', width='50%'),…"
      ]
     },
     "metadata": {},
     "output_type": "display_data"
    },
    {
     "name": "stdout",
     "output_type": "stream",
     "text": [
      "+---+------------------+------------------+\n",
      "|k  |precision_at_k    |recall_at_k       |\n",
      "+---+------------------+------------------+\n",
      "|1  |0.5685242622949499|0.4910470909584802|\n",
      "|2  |0.7566855894276004|0.6924275461054982|\n",
      "|3  |0.8459769787769785|0.7992512318924055|\n",
      "|4  |0.8965903181754773|0.8623577861226651|\n",
      "|5  |0.9275064154832501|0.9025763086221568|\n",
      "|6  |0.9480750327906953|0.9300546664393394|\n",
      "+---+------------------+------------------+"
     ]
    }
   ],
   "source": [
    "df.show(20,False)"
   ]
  },
  {
   "cell_type": "code",
   "execution_count": null,
   "id": "a17abdf5",
   "metadata": {},
   "outputs": [],
   "source": []
  },
  {
   "cell_type": "code",
   "execution_count": null,
   "id": "fb2a5ffd",
   "metadata": {},
   "outputs": [],
   "source": []
  },
  {
   "cell_type": "markdown",
   "id": "77b85970",
   "metadata": {},
   "source": [
    "# analysis"
   ]
  },
  {
   "cell_type": "code",
   "execution_count": 4,
   "id": "54c2a46a",
   "metadata": {},
   "outputs": [
    {
     "data": {
      "application/vnd.jupyter.widget-view+json": {
       "model_id": "923c517a15b0481d96839a7298a97aaa",
       "version_major": 2,
       "version_minor": 0
      },
      "text/plain": [
       "VBox()"
      ]
     },
     "metadata": {},
     "output_type": "display_data"
    },
    {
     "data": {
      "application/vnd.jupyter.widget-view+json": {
       "model_id": "",
       "version_major": 2,
       "version_minor": 0
      },
      "text/plain": [
       "FloatProgress(value=0.0, bar_style='info', description='Progress:', layout=Layout(height='25px', width='50%'),…"
      ]
     },
     "metadata": {},
     "output_type": "display_data"
    },
    {
     "name": "stdout",
     "output_type": "stream",
     "text": [
      "'s3://pai-gm-midgar-shared-ml-team/pengcheng/eval/model_eval/30_day_trends/precisionrecallatkv'"
     ]
    }
   ],
   "source": [
    "base_path=f\"s3://pai-gm-midgar-shared-ml-team/pengcheng/eval/model_eval/30_day_trends/precisionrecallatkv\"\n",
    "base_path"
   ]
  },
  {
   "cell_type": "code",
   "execution_count": 5,
   "id": "96b8027e",
   "metadata": {},
   "outputs": [
    {
     "data": {
      "application/vnd.jupyter.widget-view+json": {
       "model_id": "dc0108f109564843a4eee90492656719",
       "version_major": 2,
       "version_minor": 0
      },
      "text/plain": [
       "VBox()"
      ]
     },
     "metadata": {},
     "output_type": "display_data"
    },
    {
     "data": {
      "application/vnd.jupyter.widget-view+json": {
       "model_id": "",
       "version_major": 2,
       "version_minor": 0
      },
      "text/plain": [
       "FloatProgress(value=0.0, bar_style='info', description='Progress:', layout=Layout(height='25px', width='50%'),…"
      ]
     },
     "metadata": {},
     "output_type": "display_data"
    }
   ],
   "source": [
    "df=spark.read.parquet(base_path)"
   ]
  },
  {
   "cell_type": "code",
   "execution_count": 6,
   "id": "efb0aad1",
   "metadata": {},
   "outputs": [
    {
     "data": {
      "application/vnd.jupyter.widget-view+json": {
       "model_id": "40c1bb58a4e141ed912f683e29ad55c8",
       "version_major": 2,
       "version_minor": 0
      },
      "text/plain": [
       "VBox()"
      ]
     },
     "metadata": {},
     "output_type": "display_data"
    },
    {
     "data": {
      "application/vnd.jupyter.widget-view+json": {
       "model_id": "",
       "version_major": 2,
       "version_minor": 0
      },
      "text/plain": [
       "FloatProgress(value=0.0, bar_style='info', description='Progress:', layout=Layout(height='25px', width='50%'),…"
      ]
     },
     "metadata": {},
     "output_type": "display_data"
    },
    {
     "name": "stdout",
     "output_type": "stream",
     "text": [
      "+---+------------------+------------------+--------+----------+\n",
      "|k  |precision_at_k    |recall_at_k       |model   |dt        |\n",
      "+---+------------------+------------------+--------+----------+\n",
      "|1  |0.6213197297507095|0.4624938343534486|dampened|2021-07-25|\n",
      "|2  |0.793544457456024 |0.678032992884694 |dampened|2021-07-25|\n",
      "+---+------------------+------------------+--------+----------+\n",
      "only showing top 2 rows"
     ]
    }
   ],
   "source": [
    "df.show(2,False)"
   ]
  },
  {
   "cell_type": "code",
   "execution_count": 22,
   "id": "3db07fd4",
   "metadata": {},
   "outputs": [
    {
     "data": {
      "application/vnd.jupyter.widget-view+json": {
       "model_id": "589ba20dcd8f4839b9988e4d3c445614",
       "version_major": 2,
       "version_minor": 0
      },
      "text/plain": [
       "VBox()"
      ]
     },
     "metadata": {},
     "output_type": "display_data"
    },
    {
     "data": {
      "application/vnd.jupyter.widget-view+json": {
       "model_id": "",
       "version_major": 2,
       "version_minor": 0
      },
      "text/plain": [
       "FloatProgress(value=0.0, bar_style='info', description='Progress:', layout=Layout(height='25px', width='50%'),…"
      ]
     },
     "metadata": {},
     "output_type": "display_data"
    }
   ],
   "source": [
    "df.filter(F.col('k')==6).sort(F.col('dt')).coalesce(1).write.mode(\"overwrite\").option(\"header\",\"true\")\\\n",
    ".csv(f\"s3://pai-gm-midgar-shared-ml-team/pengcheng/eval/model_eval/30_day_trends/precisionrecall6\")"
   ]
  },
  {
   "cell_type": "code",
   "execution_count": 26,
   "id": "f4c8359a",
   "metadata": {},
   "outputs": [
    {
     "data": {
      "application/vnd.jupyter.widget-view+json": {
       "model_id": "57e185a4d9354ccfa0fab2b0b420e87c",
       "version_major": 2,
       "version_minor": 0
      },
      "text/plain": [
       "VBox()"
      ]
     },
     "metadata": {},
     "output_type": "display_data"
    },
    {
     "data": {
      "application/vnd.jupyter.widget-view+json": {
       "model_id": "",
       "version_major": 2,
       "version_minor": 0
      },
      "text/plain": [
       "FloatProgress(value=0.0, bar_style='info', description='Progress:', layout=Layout(height='25px', width='50%'),…"
      ]
     },
     "metadata": {},
     "output_type": "display_data"
    }
   ],
   "source": [
    "dfa=df.groupBy('model', 'k').agg(F.mean('precision_at_k').alias('mean_precision_at_k'),\n",
    "                                                      F.mean('recall_at_k').alias('mean_recall_at_k'))\\\n",
    ".sort(F.col('k'))\n"
   ]
  },
  {
   "cell_type": "code",
   "execution_count": 27,
   "id": "c0c5e777",
   "metadata": {},
   "outputs": [
    {
     "data": {
      "application/vnd.jupyter.widget-view+json": {
       "model_id": "e4f80b60c33a49b296358d6e7a387b58",
       "version_major": 2,
       "version_minor": 0
      },
      "text/plain": [
       "VBox()"
      ]
     },
     "metadata": {},
     "output_type": "display_data"
    },
    {
     "data": {
      "application/vnd.jupyter.widget-view+json": {
       "model_id": "",
       "version_major": 2,
       "version_minor": 0
      },
      "text/plain": [
       "FloatProgress(value=0.0, bar_style='info', description='Progress:', layout=Layout(height='25px', width='50%'),…"
      ]
     },
     "metadata": {},
     "output_type": "display_data"
    },
    {
     "name": "stdout",
     "output_type": "stream",
     "text": [
      "+--------+---+-------------------+-------------------+\n",
      "|model   |k  |mean_precision_at_k|mean_recall_at_k   |\n",
      "+--------+---+-------------------+-------------------+\n",
      "|dampened|1  |0.6131867269407321 |0.46635353475042035|\n",
      "|raw     |1  |0.6128997531774739 |0.4661199835185502 |\n",
      "|boosting|1  |0.6109813574809771 |0.4644059231415015 |\n",
      "|prod    |1  |0.2982890577122333 |0.23560034991360662|\n",
      "|raw     |2  |0.7878333162810274 |0.6788979905086405 |\n",
      "|dampened|2  |0.7877724412775217 |0.678846383581239  |\n",
      "|boosting|2  |0.7868471943742877 |0.6778132758988765 |\n",
      "|prod    |2  |0.6048450903366591 |0.5027177199340968 |\n",
      "|raw     |3  |0.8728991800159542 |0.7959962945974194 |\n",
      "|dampened|3  |0.872491066224466  |0.7956004676664492 |\n",
      "|prod    |3  |0.7915448151952488 |0.6934409599568471 |\n",
      "|boosting|3  |0.8719509718421331 |0.794927184332761  |\n",
      "|raw     |4  |0.918467717594605  |0.8649081133684238 |\n",
      "|dampened|4  |0.9176245088045277 |0.8638296776299959 |\n",
      "|prod    |4  |0.8776294649388305 |0.8032063275106125 |\n",
      "|boosting|4  |0.9173277912253555 |0.8634184573682893 |\n",
      "|prod    |5  |0.9213959518057028 |0.8684976225741916 |\n",
      "|raw     |5  |0.9451089272969121 |0.9078787975321306 |\n",
      "|dampened|5  |0.9441524757213483 |0.9066543769637853 |\n",
      "|boosting|5  |0.9439891120001429 |0.9064097397507286 |\n",
      "|dampened|6  |0.9608373260108222 |0.9346452137445035 |\n",
      "|boosting|6  |0.9608373260108222 |0.9346452137445039 |\n",
      "|raw     |6  |0.9618871830034671 |0.9360175482798299 |\n",
      "|prod    |6  |0.9471943077193531 |0.9102839348175003 |\n",
      "+--------+---+-------------------+-------------------+"
     ]
    }
   ],
   "source": [
    "dfa.show(30,False)"
   ]
  },
  {
   "cell_type": "code",
   "execution_count": 28,
   "id": "fb23a6f6",
   "metadata": {},
   "outputs": [
    {
     "data": {
      "application/vnd.jupyter.widget-view+json": {
       "model_id": "7d1c131dc5c64b19b6b429b4edc89713",
       "version_major": 2,
       "version_minor": 0
      },
      "text/plain": [
       "VBox()"
      ]
     },
     "metadata": {},
     "output_type": "display_data"
    },
    {
     "data": {
      "application/vnd.jupyter.widget-view+json": {
       "model_id": "",
       "version_major": 2,
       "version_minor": 0
      },
      "text/plain": [
       "FloatProgress(value=0.0, bar_style='info', description='Progress:', layout=Layout(height='25px', width='50%'),…"
      ]
     },
     "metadata": {},
     "output_type": "display_data"
    }
   ],
   "source": [
    "dfa.coalesce(1).write.mode(\"overwrite\").option(\"header\",\"true\").csv(f\"s3://pai-gm-midgar-shared-ml-team/pengcheng/eval/model_eval/30_day_trends/precisionrecallagg\")"
   ]
  },
  {
   "cell_type": "code",
   "execution_count": null,
   "id": "9cc4561c",
   "metadata": {},
   "outputs": [],
   "source": []
  }
 ],
 "metadata": {
  "kernelspec": {
   "display_name": "PySpark",
   "language": "",
   "name": "pysparkkernel"
  },
  "language_info": {
   "codemirror_mode": {
    "name": "python",
    "version": 2
   },
   "mimetype": "text/x-python",
   "name": "pyspark",
   "pygments_lexer": "python2"
  }
 },
 "nbformat": 4,
 "nbformat_minor": 5
}
