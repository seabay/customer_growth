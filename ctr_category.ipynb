{
 "cells": [
  {
   "cell_type": "code",
   "execution_count": 1,
   "id": "7a073ec7",
   "metadata": {},
   "outputs": [
    {
     "data": {
      "text/html": [
       "Current session configs: <tt>{'driverMemory': '4G', 'executorMemory': '20G', 'executorCores': 8, 'numExecutors': 10, 'kind': 'pyspark'}</tt><br>"
      ],
      "text/plain": [
       "<IPython.core.display.HTML object>"
      ]
     },
     "metadata": {},
     "output_type": "display_data"
    },
    {
     "data": {
      "text/html": [
       "No active sessions."
      ],
      "text/plain": [
       "<IPython.core.display.HTML object>"
      ]
     },
     "metadata": {},
     "output_type": "display_data"
    }
   ],
   "source": [
    "%%configure -f\n",
    "{\n",
    "    \"driverMemory\":\"4G\",\n",
    "    \"executorMemory\":\"20G\",\n",
    "    \"executorCores\":8,\n",
    "    \"numExecutors\":10\n",
    "}"
   ]
  },
  {
   "cell_type": "code",
   "execution_count": 2,
   "id": "b499a80c",
   "metadata": {},
   "outputs": [
    {
     "data": {
      "application/vnd.jupyter.widget-view+json": {
       "model_id": "b8cdefa54edb40c38250204a16c64042",
       "version_major": 2,
       "version_minor": 0
      },
      "text/plain": [
       "VBox()"
      ]
     },
     "metadata": {},
     "output_type": "display_data"
    },
    {
     "name": "stdout",
     "output_type": "stream",
     "text": [
      "Starting Spark application\n"
     ]
    },
    {
     "data": {
      "text/html": [
       "<table>\n",
       "<tr><th>ID</th><th>YARN Application ID</th><th>Kind</th><th>State</th><th>Spark UI</th><th>Driver log</th><th>Current session?</th></tr><tr><td>21</td><td>application_1625762687750_0088</td><td>pyspark</td><td>idle</td><td><a target=\"_blank\" href=\"http://ip-10-175-17-200.ap-south-1.compute.internal:20888/proxy/application_1625762687750_0088/\">Link</a></td><td><a target=\"_blank\" href=\"http://ip-10-175-19-224.ap-south-1.compute.internal:8042/node/containerlogs/container_1625762687750_0088_01_000001/livy\">Link</a></td><td>✔</td></tr></table>"
      ],
      "text/plain": [
       "<IPython.core.display.HTML object>"
      ]
     },
     "metadata": {},
     "output_type": "display_data"
    },
    {
     "data": {
      "application/vnd.jupyter.widget-view+json": {
       "model_id": "",
       "version_major": 2,
       "version_minor": 0
      },
      "text/plain": [
       "FloatProgress(value=0.0, bar_style='info', description='Progress:', layout=Layout(height='25px', width='50%'),…"
      ]
     },
     "metadata": {},
     "output_type": "display_data"
    },
    {
     "name": "stdout",
     "output_type": "stream",
     "text": [
      "SparkSession available as 'spark'.\n"
     ]
    },
    {
     "data": {
      "application/vnd.jupyter.widget-view+json": {
       "model_id": "",
       "version_major": 2,
       "version_minor": 0
      },
      "text/plain": [
       "FloatProgress(value=0.0, bar_style='info', description='Progress:', layout=Layout(height='25px', width='50%'),…"
      ]
     },
     "metadata": {},
     "output_type": "display_data"
    },
    {
     "name": "stdout",
     "output_type": "stream",
     "text": [
      "<pyspark.sql.session.SparkSession object at 0x7ff5ed302490>"
     ]
    }
   ],
   "source": [
    "spark"
   ]
  },
  {
   "cell_type": "code",
   "execution_count": 3,
   "id": "bff6cd7d",
   "metadata": {},
   "outputs": [
    {
     "data": {
      "application/vnd.jupyter.widget-view+json": {
       "model_id": "0b5ec7e1a0f54f31a7f2773a45156eb5",
       "version_major": 2,
       "version_minor": 0
      },
      "text/plain": [
       "VBox()"
      ]
     },
     "metadata": {},
     "output_type": "display_data"
    },
    {
     "data": {
      "application/vnd.jupyter.widget-view+json": {
       "model_id": "",
       "version_major": 2,
       "version_minor": 0
      },
      "text/plain": [
       "FloatProgress(value=0.0, bar_style='info', description='Progress:', layout=Layout(height='25px', width='50%'),…"
      ]
     },
     "metadata": {},
     "output_type": "display_data"
    }
   ],
   "source": [
    "from pyspark.sql import functions as F \n",
    "from pyspark.sql.window import Window\n",
    "from pyspark.sql.types import *\n",
    "from datetime import datetime, timedelta\n"
   ]
  },
  {
   "cell_type": "code",
   "execution_count": 4,
   "id": "4d1b143d",
   "metadata": {},
   "outputs": [
    {
     "data": {
      "application/vnd.jupyter.widget-view+json": {
       "model_id": "76f75f4af4704406b0db0d9482ef4043",
       "version_major": 2,
       "version_minor": 0
      },
      "text/plain": [
       "VBox()"
      ]
     },
     "metadata": {},
     "output_type": "display_data"
    },
    {
     "data": {
      "application/vnd.jupyter.widget-view+json": {
       "model_id": "",
       "version_major": 2,
       "version_minor": 0
      },
      "text/plain": [
       "FloatProgress(value=0.0, bar_style='info', description='Progress:', layout=Layout(height='25px', width='50%'),…"
      ]
     },
     "metadata": {},
     "output_type": "display_data"
    }
   ],
   "source": [
    "date='2021-06-18'"
   ]
  },
  {
   "cell_type": "code",
   "execution_count": 5,
   "id": "bc712324",
   "metadata": {},
   "outputs": [
    {
     "data": {
      "application/vnd.jupyter.widget-view+json": {
       "model_id": "cdd539e3ee6a455583fa7f785c05348f",
       "version_major": 2,
       "version_minor": 0
      },
      "text/plain": [
       "VBox()"
      ]
     },
     "metadata": {},
     "output_type": "display_data"
    },
    {
     "data": {
      "application/vnd.jupyter.widget-view+json": {
       "model_id": "",
       "version_major": 2,
       "version_minor": 0
      },
      "text/plain": [
       "FloatProgress(value=0.0, bar_style='info', description='Progress:', layout=Layout(height='25px', width='50%'),…"
      ]
     },
     "metadata": {},
     "output_type": "display_data"
    },
    {
     "name": "stdout",
     "output_type": "stream",
     "text": [
      "'2021-06-17'"
     ]
    }
   ],
   "source": [
    "model_date = (datetime.strptime(date, \"%Y-%m-%d\") - timedelta(1)).strftime('%Y-%m-%d')\n",
    "model_date"
   ]
  },
  {
   "cell_type": "code",
   "execution_count": 6,
   "id": "a4ad863b",
   "metadata": {},
   "outputs": [
    {
     "data": {
      "application/vnd.jupyter.widget-view+json": {
       "model_id": "554a22fa56a34f3cbc0ef0ab9c342a81",
       "version_major": 2,
       "version_minor": 0
      },
      "text/plain": [
       "VBox()"
      ]
     },
     "metadata": {},
     "output_type": "display_data"
    },
    {
     "data": {
      "application/vnd.jupyter.widget-view+json": {
       "model_id": "",
       "version_major": 2,
       "version_minor": 0
      },
      "text/plain": [
       "FloatProgress(value=0.0, bar_style='info', description='Progress:', layout=Layout(height='25px', width='50%'),…"
      ]
     },
     "metadata": {},
     "output_type": "display_data"
    }
   ],
   "source": [
    "outpath='s3a://pai-gm-midgar-shared-ml-team/pengcheng/dampen_intent/'"
   ]
  },
  {
   "cell_type": "markdown",
   "id": "8d3de6d1",
   "metadata": {},
   "source": [
    "# model ranking"
   ]
  },
  {
   "cell_type": "code",
   "execution_count": 29,
   "id": "d7fa1941",
   "metadata": {},
   "outputs": [
    {
     "data": {
      "application/vnd.jupyter.widget-view+json": {
       "model_id": "10be7b05f7964784ad0d02d0521945be",
       "version_major": 2,
       "version_minor": 0
      },
      "text/plain": [
       "VBox()"
      ]
     },
     "metadata": {},
     "output_type": "display_data"
    },
    {
     "data": {
      "application/vnd.jupyter.widget-view+json": {
       "model_id": "",
       "version_major": 2,
       "version_minor": 0
      },
      "text/plain": [
       "FloatProgress(value=0.0, bar_style='info', description='Progress:', layout=Layout(height='25px', width='50%'),…"
      ]
     },
     "metadata": {},
     "output_type": "display_data"
    }
   ],
   "source": [
    "def takeSecond(elem):\n",
    "    return elem[1]\n",
    "\n",
    "def _sort(x, n):\n",
    "    x.sort(key=takeSecond, reverse=True)\n",
    "    return [x[i][0] for i in range(n)]\n",
    "\n",
    "schema = ArrayType(StructType([\n",
    "    StructField(\"topn\", ArrayType(StringType(), False), False)\n",
    "]))\n",
    "\n",
    "def _get_top_n_udf(n):\n",
    "    return F.udf(lambda x: _sort(x, n), ArrayType(StringType(), False))"
   ]
  },
  {
   "cell_type": "code",
   "execution_count": 30,
   "id": "4b272e89",
   "metadata": {},
   "outputs": [
    {
     "data": {
      "application/vnd.jupyter.widget-view+json": {
       "model_id": "4bedbae8a8c64742aa5c04375c6a2caa",
       "version_major": 2,
       "version_minor": 0
      },
      "text/plain": [
       "VBox()"
      ]
     },
     "metadata": {},
     "output_type": "display_data"
    },
    {
     "data": {
      "application/vnd.jupyter.widget-view+json": {
       "model_id": "",
       "version_major": 2,
       "version_minor": 0
      },
      "text/plain": [
       "FloatProgress(value=0.0, bar_style='info', description='Progress:', layout=Layout(height='25px', width='50%'),…"
      ]
     },
     "metadata": {},
     "output_type": "display_data"
    }
   ],
   "source": [
    "def load_model_ranking(date, n=10):\n",
    "    path='s3a://pai-gm-midgar-production-ml-jobs/shinra/modelling/weighted_trendfiltering_banner_events/user_categories/'\n",
    "    #spark.read.parquet(path+f'/model_date={date}').printSchema()\n",
    "    df=spark.read.parquet(path+f'/model_date={date}')\n",
    "    df2=df.withColumn('topn', _get_top_n_udf(n)('category_trend_scores')).select('customer_id', 'topn')\n",
    "    return df2"
   ]
  },
  {
   "cell_type": "code",
   "execution_count": 9,
   "id": "6528e748",
   "metadata": {},
   "outputs": [
    {
     "data": {
      "application/vnd.jupyter.widget-view+json": {
       "model_id": "693cbb78caaa43c6bf0b047793f032ce",
       "version_major": 2,
       "version_minor": 0
      },
      "text/plain": [
       "VBox()"
      ]
     },
     "metadata": {},
     "output_type": "display_data"
    },
    {
     "data": {
      "application/vnd.jupyter.widget-view+json": {
       "model_id": "",
       "version_major": 2,
       "version_minor": 0
      },
      "text/plain": [
       "FloatProgress(value=0.0, bar_style='info', description='Progress:', layout=Layout(height='25px', width='50%'),…"
      ]
     },
     "metadata": {},
     "output_type": "display_data"
    }
   ],
   "source": [
    "model_df=load_model_ranking(model_date)"
   ]
  },
  {
   "cell_type": "code",
   "execution_count": 10,
   "id": "1d82a174",
   "metadata": {},
   "outputs": [
    {
     "data": {
      "application/vnd.jupyter.widget-view+json": {
       "model_id": "f1140e86283141a2b1289abe8dbd3eda",
       "version_major": 2,
       "version_minor": 0
      },
      "text/plain": [
       "VBox()"
      ]
     },
     "metadata": {},
     "output_type": "display_data"
    },
    {
     "data": {
      "application/vnd.jupyter.widget-view+json": {
       "model_id": "",
       "version_major": 2,
       "version_minor": 0
      },
      "text/plain": [
       "FloatProgress(value=0.0, bar_style='info', description='Progress:', layout=Layout(height='25px', width='50%'),…"
      ]
     },
     "metadata": {},
     "output_type": "display_data"
    },
    {
     "name": "stdout",
     "output_type": "stream",
     "text": [
      "root\n",
      " |-- customer_id: long (nullable = true)\n",
      " |-- topn: array (nullable = true)\n",
      " |    |-- element: string (containsNull = false)"
     ]
    }
   ],
   "source": [
    "model_df.printSchema()"
   ]
  },
  {
   "cell_type": "code",
   "execution_count": 11,
   "id": "f2143e42",
   "metadata": {},
   "outputs": [
    {
     "data": {
      "application/vnd.jupyter.widget-view+json": {
       "model_id": "db51fe09ab0447e6a9807189b72cef22",
       "version_major": 2,
       "version_minor": 0
      },
      "text/plain": [
       "VBox()"
      ]
     },
     "metadata": {},
     "output_type": "display_data"
    },
    {
     "data": {
      "application/vnd.jupyter.widget-view+json": {
       "model_id": "",
       "version_major": 2,
       "version_minor": 0
      },
      "text/plain": [
       "FloatProgress(value=0.0, bar_style='info', description='Progress:', layout=Layout(height='25px', width='50%'),…"
      ]
     },
     "metadata": {},
     "output_type": "display_data"
    },
    {
     "name": "stdout",
     "output_type": "stream",
     "text": [
      "+-----------+----------------------------------------------------------+\n",
      "|customer_id|topn                                                      |\n",
      "+-----------+----------------------------------------------------------+\n",
      "|5336       |[6802, 10, 6843, 443, 6841, 6797, 6821, 6842, 59, 6826]   |\n",
      "|7427       |[6842, 6797, 6802, 6843, 444, 6841, 443, 29, 6851, 14]    |\n",
      "|13326      |[10, 6843, 443, 6841, 6797, 6821, 6842, 59, 6826, 6851]   |\n",
      "|28455      |[6841, 6843, 443, 6797, 6821, 6842, 10, 59, 6826, 6851]   |\n",
      "|34132      |[6797, 6843, 6826, 6841, 6852, 6795, 445, 443, 6851, 6842]|\n",
      "+-----------+----------------------------------------------------------+\n",
      "only showing top 5 rows"
     ]
    }
   ],
   "source": [
    "model_df.show(5,False)"
   ]
  },
  {
   "cell_type": "markdown",
   "id": "1059e3ce",
   "metadata": {},
   "source": [
    "# l1 mapping"
   ]
  },
  {
   "cell_type": "code",
   "execution_count": 7,
   "id": "fe35b540",
   "metadata": {},
   "outputs": [
    {
     "data": {
      "application/vnd.jupyter.widget-view+json": {
       "model_id": "bc9ce52361f24d7ba82ba52047030a09",
       "version_major": 2,
       "version_minor": 0
      },
      "text/plain": [
       "VBox()"
      ]
     },
     "metadata": {},
     "output_type": "display_data"
    },
    {
     "data": {
      "application/vnd.jupyter.widget-view+json": {
       "model_id": "",
       "version_major": 2,
       "version_minor": 0
      },
      "text/plain": [
       "FloatProgress(value=0.0, bar_style='info', description='Progress:', layout=Layout(height='25px', width='50%'),…"
      ]
     },
     "metadata": {},
     "output_type": "display_data"
    }
   ],
   "source": [
    "mps=spark.read.csv('s3a://midgar-aws-workspace/prod/shinra/base/l1_cma_name_to_id_map/2021-06-26')\\\n",
    ".select(F.col('_c0').alias('l1_category_cma_name'), F.col('_c1').alias('l1_category_cma_id'))"
   ]
  },
  {
   "cell_type": "code",
   "execution_count": 14,
   "id": "b4e1f6a2",
   "metadata": {},
   "outputs": [
    {
     "data": {
      "application/vnd.jupyter.widget-view+json": {
       "model_id": "9b8194bc4b834dcc824bfba02d81bbdc",
       "version_major": 2,
       "version_minor": 0
      },
      "text/plain": [
       "VBox()"
      ]
     },
     "metadata": {},
     "output_type": "display_data"
    },
    {
     "data": {
      "application/vnd.jupyter.widget-view+json": {
       "model_id": "",
       "version_major": 2,
       "version_minor": 0
      },
      "text/plain": [
       "FloatProgress(value=0.0, bar_style='info', description='Progress:', layout=Layout(height='25px', width='50%'),…"
      ]
     },
     "metadata": {},
     "output_type": "display_data"
    },
    {
     "name": "stdout",
     "output_type": "stream",
     "text": [
      "123"
     ]
    }
   ],
   "source": [
    "spark.read.csv('s3a://midgar-aws-workspace/prod/shinra/base/l1_cma_name_to_id_map/2021-06-26').count()"
   ]
  },
  {
   "cell_type": "code",
   "execution_count": 8,
   "id": "78e76f01",
   "metadata": {},
   "outputs": [
    {
     "data": {
      "application/vnd.jupyter.widget-view+json": {
       "model_id": "c0224c8760724126a173f55789efc11e",
       "version_major": 2,
       "version_minor": 0
      },
      "text/plain": [
       "VBox()"
      ]
     },
     "metadata": {},
     "output_type": "display_data"
    },
    {
     "data": {
      "application/vnd.jupyter.widget-view+json": {
       "model_id": "",
       "version_major": 2,
       "version_minor": 0
      },
      "text/plain": [
       "FloatProgress(value=0.0, bar_style='info', description='Progress:', layout=Layout(height='25px', width='50%'),…"
      ]
     },
     "metadata": {},
     "output_type": "display_data"
    },
    {
     "name": "stdout",
     "output_type": "stream",
     "text": [
      "+--------------------+------------------+\n",
      "|l1_category_cma_name|l1_category_cma_id|\n",
      "+--------------------+------------------+\n",
      "|PAYTM               |1                 |\n",
      "+--------------------+------------------+"
     ]
    }
   ],
   "source": [
    "mps.filter(F.col('l1_category_cma_id')==1).show(1,False)"
   ]
  },
  {
   "cell_type": "code",
   "execution_count": 9,
   "id": "a83d6134",
   "metadata": {},
   "outputs": [
    {
     "data": {
      "application/vnd.jupyter.widget-view+json": {
       "model_id": "009a661c34444fe5b8fee280ad2c66fd",
       "version_major": 2,
       "version_minor": 0
      },
      "text/plain": [
       "VBox()"
      ]
     },
     "metadata": {},
     "output_type": "display_data"
    },
    {
     "data": {
      "application/vnd.jupyter.widget-view+json": {
       "model_id": "",
       "version_major": 2,
       "version_minor": 0
      },
      "text/plain": [
       "FloatProgress(value=0.0, bar_style='info', description='Progress:', layout=Layout(height='25px', width='50%'),…"
      ]
     },
     "metadata": {},
     "output_type": "display_data"
    },
    {
     "name": "stdout",
     "output_type": "stream",
     "text": [
      "+--------------------+------------------+\n",
      "|l1_category_cma_name|l1_category_cma_id|\n",
      "+--------------------+------------------+\n",
      "|PAYTM-Bank          |5                 |\n",
      "+--------------------+------------------+"
     ]
    }
   ],
   "source": [
    "mps.filter(F.col('l1_category_cma_id')==5).show(1,False)"
   ]
  },
  {
   "cell_type": "code",
   "execution_count": 10,
   "id": "a8da87f0",
   "metadata": {},
   "outputs": [
    {
     "data": {
      "application/vnd.jupyter.widget-view+json": {
       "model_id": "9b7bae2f11dc4f61bb7aa1f7a0f714f9",
       "version_major": 2,
       "version_minor": 0
      },
      "text/plain": [
       "VBox()"
      ]
     },
     "metadata": {},
     "output_type": "display_data"
    },
    {
     "data": {
      "application/vnd.jupyter.widget-view+json": {
       "model_id": "",
       "version_major": 2,
       "version_minor": 0
      },
      "text/plain": [
       "FloatProgress(value=0.0, bar_style='info', description='Progress:', layout=Layout(height='25px', width='50%'),…"
      ]
     },
     "metadata": {},
     "output_type": "display_data"
    },
    {
     "name": "stdout",
     "output_type": "stream",
     "text": [
      "+--------------------+------------------+\n",
      "|l1_category_cma_name|l1_category_cma_id|\n",
      "+--------------------+------------------+\n",
      "|EC-SA               |20                |\n",
      "+--------------------+------------------+"
     ]
    }
   ],
   "source": [
    "mps.filter(F.col('l1_category_cma_id')==20).show(1,False)"
   ]
  },
  {
   "cell_type": "code",
   "execution_count": 11,
   "id": "f04acb46",
   "metadata": {},
   "outputs": [
    {
     "data": {
      "application/vnd.jupyter.widget-view+json": {
       "model_id": "93c86c8ea12a4f8999b669fcd0aa7857",
       "version_major": 2,
       "version_minor": 0
      },
      "text/plain": [
       "VBox()"
      ]
     },
     "metadata": {},
     "output_type": "display_data"
    },
    {
     "data": {
      "application/vnd.jupyter.widget-view+json": {
       "model_id": "",
       "version_major": 2,
       "version_minor": 0
      },
      "text/plain": [
       "FloatProgress(value=0.0, bar_style='info', description='Progress:', layout=Layout(height='25px', width='50%'),…"
      ]
     },
     "metadata": {},
     "output_type": "display_data"
    },
    {
     "name": "stdout",
     "output_type": "stream",
     "text": [
      "+--------------------+------------------+\n",
      "|l1_category_cma_name|l1_category_cma_id|\n",
      "+--------------------+------------------+\n",
      "|EC-Others           |29                |\n",
      "+--------------------+------------------+"
     ]
    }
   ],
   "source": [
    "mps.filter(F.col('l1_category_cma_id')==29).show(1,False)"
   ]
  },
  {
   "cell_type": "code",
   "execution_count": 31,
   "id": "141a00e6",
   "metadata": {},
   "outputs": [
    {
     "data": {
      "application/vnd.jupyter.widget-view+json": {
       "model_id": "4ed43d61e89346a2aae7ea1e64e37d56",
       "version_major": 2,
       "version_minor": 0
      },
      "text/plain": [
       "VBox()"
      ]
     },
     "metadata": {},
     "output_type": "display_data"
    },
    {
     "data": {
      "application/vnd.jupyter.widget-view+json": {
       "model_id": "",
       "version_major": 2,
       "version_minor": 0
      },
      "text/plain": [
       "FloatProgress(value=0.0, bar_style='info', description='Progress:', layout=Layout(height='25px', width='50%'),…"
      ]
     },
     "metadata": {},
     "output_type": "display_data"
    }
   ],
   "source": [
    "phaseRules_path = \"s3a://midgar-aws-workspace/prod/mapfeatures/lifecycle/tenant/paytm-india/resources/phaseRules\"\n",
    "\n",
    "def get_cma_mapping (phaseRules_path):\n",
    "\n",
    "\n",
    "    last_date_phaseRules = (spark.read.option(\"header\", \"true\").csv(phaseRules_path)\n",
    "                                     .agg(F.max('dt'))\n",
    "                                     .distinct()\n",
    "                                     .collect()[0][0]\n",
    "                                     .strftime(\"%Y-%m-%d\"))\n",
    "\n",
    "\n",
    "    cma_mapping = (spark.read.option(\"header\", \"true\").csv(phaseRules_path)\n",
    "                   .filter(F.col(\"dt\")==last_date_phaseRules)\n",
    "                  .select(\"l1_category_cma_id\",\"l1_category_cma_name\"))\n",
    "\n",
    "    return cma_mapping"
   ]
  },
  {
   "cell_type": "code",
   "execution_count": 32,
   "id": "92ba825d",
   "metadata": {},
   "outputs": [
    {
     "data": {
      "application/vnd.jupyter.widget-view+json": {
       "model_id": "0b74d1306f164482adc44459b21ad809",
       "version_major": 2,
       "version_minor": 0
      },
      "text/plain": [
       "VBox()"
      ]
     },
     "metadata": {},
     "output_type": "display_data"
    },
    {
     "data": {
      "application/vnd.jupyter.widget-view+json": {
       "model_id": "",
       "version_major": 2,
       "version_minor": 0
      },
      "text/plain": [
       "FloatProgress(value=0.0, bar_style='info', description='Progress:', layout=Layout(height='25px', width='50%'),…"
      ]
     },
     "metadata": {},
     "output_type": "display_data"
    }
   ],
   "source": [
    "cma_mapping=get_cma_mapping(phaseRules_path)"
   ]
  },
  {
   "cell_type": "code",
   "execution_count": 33,
   "id": "2dc91c63",
   "metadata": {},
   "outputs": [
    {
     "data": {
      "application/vnd.jupyter.widget-view+json": {
       "model_id": "bc8fb29c99194fabb4e616bedcd95ec5",
       "version_major": 2,
       "version_minor": 0
      },
      "text/plain": [
       "VBox()"
      ]
     },
     "metadata": {},
     "output_type": "display_data"
    },
    {
     "data": {
      "application/vnd.jupyter.widget-view+json": {
       "model_id": "",
       "version_major": 2,
       "version_minor": 0
      },
      "text/plain": [
       "FloatProgress(value=0.0, bar_style='info', description='Progress:', layout=Layout(height='25px', width='50%'),…"
      ]
     },
     "metadata": {},
     "output_type": "display_data"
    },
    {
     "name": "stdout",
     "output_type": "stream",
     "text": [
      "+------------------+--------------------+\n",
      "|l1_category_cma_id|l1_category_cma_name|\n",
      "+------------------+--------------------+\n",
      "|1                 |PAYTM               |\n",
      "|9                 |PAYTM-Money         |\n",
      "|10                |PAYTM-Games         |\n",
      "|12                |PAYTM-Gold          |\n",
      "|14                |EC-Apparel          |\n",
      "+------------------+--------------------+\n",
      "only showing top 5 rows"
     ]
    }
   ],
   "source": [
    "cma_mapping.show(5,False)"
   ]
  },
  {
   "cell_type": "markdown",
   "id": "b1fc9ad4",
   "metadata": {},
   "source": [
    "# banner events"
   ]
  },
  {
   "cell_type": "code",
   "execution_count": 34,
   "id": "8a0075a4",
   "metadata": {},
   "outputs": [
    {
     "data": {
      "application/vnd.jupyter.widget-view+json": {
       "model_id": "89108efab8cc4d9c89caa6d21283e091",
       "version_major": 2,
       "version_minor": 0
      },
      "text/plain": [
       "VBox()"
      ]
     },
     "metadata": {},
     "output_type": "display_data"
    },
    {
     "data": {
      "application/vnd.jupyter.widget-view+json": {
       "model_id": "",
       "version_major": 2,
       "version_minor": 0
      },
      "text/plain": [
       "FloatProgress(value=0.0, bar_style='info', description='Progress:', layout=Layout(height='25px', width='50%'),…"
      ]
     },
     "metadata": {},
     "output_type": "display_data"
    }
   ],
   "source": [
    "def load_banner_events(date):\n",
    "    bpath=\"s3a://midgar-aws-workspace/prod/shinra/telescope/dashboard/banner_campaigns/customer_level/banner_campaign_base_customer_level_full/\"\n",
    "    cols=['customer_id', 'l1_category_name', 'date', 'impressions_adjust', 'clicks_adjust', 'category_sales_adjust']\n",
    "    df=spark.read.parquet(bpath+f'/dt={date}').select(cols).fillna(0)\n",
    "    df=df.join(cma_mapping, df.l1_category_name==cma_mapping.l1_category_cma_name).drop('l1_category_name')\\\n",
    "         .groupBy('customer_id', 'l1_category_cma_id').agg(F.sum('impressions_adjust').alias('impressions_adjust'),\n",
    "                                                 F.sum('clicks_adjust').alias('clicks_adjust'),\n",
    "                                                  F.sum('category_sales_adjust').alias('category_sales_adjust'))\n",
    "    \n",
    "    return df"
   ]
  },
  {
   "cell_type": "code",
   "execution_count": 16,
   "id": "5a3458e6",
   "metadata": {},
   "outputs": [
    {
     "data": {
      "application/vnd.jupyter.widget-view+json": {
       "model_id": "dba02466af5b4b3ab2022da9ab323f37",
       "version_major": 2,
       "version_minor": 0
      },
      "text/plain": [
       "VBox()"
      ]
     },
     "metadata": {},
     "output_type": "display_data"
    },
    {
     "data": {
      "application/vnd.jupyter.widget-view+json": {
       "model_id": "",
       "version_major": 2,
       "version_minor": 0
      },
      "text/plain": [
       "FloatProgress(value=0.0, bar_style='info', description='Progress:', layout=Layout(height='25px', width='50%'),…"
      ]
     },
     "metadata": {},
     "output_type": "display_data"
    }
   ],
   "source": [
    "banner_df=load_banner_events(date)"
   ]
  },
  {
   "cell_type": "code",
   "execution_count": 17,
   "id": "a57dcf38",
   "metadata": {},
   "outputs": [
    {
     "data": {
      "application/vnd.jupyter.widget-view+json": {
       "model_id": "0e495f21d67e480cb2b0e0aeb9599c69",
       "version_major": 2,
       "version_minor": 0
      },
      "text/plain": [
       "VBox()"
      ]
     },
     "metadata": {},
     "output_type": "display_data"
    },
    {
     "data": {
      "application/vnd.jupyter.widget-view+json": {
       "model_id": "",
       "version_major": 2,
       "version_minor": 0
      },
      "text/plain": [
       "FloatProgress(value=0.0, bar_style='info', description='Progress:', layout=Layout(height='25px', width='50%'),…"
      ]
     },
     "metadata": {},
     "output_type": "display_data"
    },
    {
     "name": "stdout",
     "output_type": "stream",
     "text": [
      "root\n",
      " |-- customer_id: string (nullable = true)\n",
      " |-- l1_category_cma_id: string (nullable = true)\n",
      " |-- impressions_adjust: double (nullable = true)\n",
      " |-- clicks_adjust: double (nullable = true)\n",
      " |-- category_sales_adjust: double (nullable = true)"
     ]
    }
   ],
   "source": [
    "banner_df.printSchema()"
   ]
  },
  {
   "cell_type": "code",
   "execution_count": 18,
   "id": "b802a252",
   "metadata": {},
   "outputs": [
    {
     "data": {
      "application/vnd.jupyter.widget-view+json": {
       "model_id": "bcd06ecdcc96415f84c2caf222520467",
       "version_major": 2,
       "version_minor": 0
      },
      "text/plain": [
       "VBox()"
      ]
     },
     "metadata": {},
     "output_type": "display_data"
    },
    {
     "data": {
      "application/vnd.jupyter.widget-view+json": {
       "model_id": "",
       "version_major": 2,
       "version_minor": 0
      },
      "text/plain": [
       "FloatProgress(value=0.0, bar_style='info', description='Progress:', layout=Layout(height='25px', width='50%'),…"
      ]
     },
     "metadata": {},
     "output_type": "display_data"
    },
    {
     "name": "stdout",
     "output_type": "stream",
     "text": [
      "+-----------+------------------+------------------+-------------+---------------------+\n",
      "|customer_id|l1_category_cma_id|impressions_adjust|clicks_adjust|category_sales_adjust|\n",
      "+-----------+------------------+------------------+-------------+---------------------+\n",
      "|1286373187 |38                |2.0               |0.0          |0.0                  |\n",
      "|517247594  |20                |0.2857142857142857|0.0          |0.0                  |\n",
      "+-----------+------------------+------------------+-------------+---------------------+\n",
      "only showing top 2 rows"
     ]
    }
   ],
   "source": [
    "banner_df.show(2,False)"
   ]
  },
  {
   "cell_type": "code",
   "execution_count": null,
   "id": "acbb68ee",
   "metadata": {},
   "outputs": [],
   "source": []
  },
  {
   "cell_type": "markdown",
   "id": "8727a4b8",
   "metadata": {},
   "source": [
    "# join banner with model"
   ]
  },
  {
   "cell_type": "code",
   "execution_count": 35,
   "id": "e69c812c",
   "metadata": {},
   "outputs": [
    {
     "data": {
      "application/vnd.jupyter.widget-view+json": {
       "model_id": "06207f40c47341f5a4febb7e4ac4acf4",
       "version_major": 2,
       "version_minor": 0
      },
      "text/plain": [
       "VBox()"
      ]
     },
     "metadata": {},
     "output_type": "display_data"
    },
    {
     "data": {
      "application/vnd.jupyter.widget-view+json": {
       "model_id": "",
       "version_major": 2,
       "version_minor": 0
      },
      "text/plain": [
       "FloatProgress(value=0.0, bar_style='info', description='Progress:', layout=Layout(height='25px', width='50%'),…"
      ]
     },
     "metadata": {},
     "output_type": "display_data"
    }
   ],
   "source": [
    "def _rank(x, y):\n",
    "    for i in range(len(y)):\n",
    "        if y[i]==x:\n",
    "            return i+1\n",
    "    return len(y)+1\n",
    "\n",
    "_get_rank=F.udf(_rank, IntegerType())"
   ]
  },
  {
   "cell_type": "code",
   "execution_count": 36,
   "id": "b61ba4e5",
   "metadata": {},
   "outputs": [
    {
     "data": {
      "application/vnd.jupyter.widget-view+json": {
       "model_id": "fa268b5f014c4bbb9a061404d707d26b",
       "version_major": 2,
       "version_minor": 0
      },
      "text/plain": [
       "VBox()"
      ]
     },
     "metadata": {},
     "output_type": "display_data"
    },
    {
     "data": {
      "application/vnd.jupyter.widget-view+json": {
       "model_id": "",
       "version_major": 2,
       "version_minor": 0
      },
      "text/plain": [
       "FloatProgress(value=0.0, bar_style='info', description='Progress:', layout=Layout(height='25px', width='50%'),…"
      ]
     },
     "metadata": {},
     "output_type": "display_data"
    }
   ],
   "source": [
    "def join_df(date):\n",
    "    model_date = (datetime.strptime(date, \"%Y-%m-%d\") - timedelta(1)).strftime('%Y-%m-%d')\n",
    "    model_df=load_model_ranking(model_date)\n",
    "    banner_df=load_banner_events(date)\n",
    "    join_df=banner_df.join(model_df, on=['customer_id'])\n",
    "    \n",
    "    join_df=join_df.withColumn('rank', _get_rank('l1_category_cma_id', 'topn'))\n",
    "    join_df.coalesce(200).write.mode('overwrite').parquet(outpath+f\"/ctr_category_base/dt={date}\")\n",
    "    "
   ]
  },
  {
   "cell_type": "code",
   "execution_count": 37,
   "id": "bba11726",
   "metadata": {},
   "outputs": [
    {
     "data": {
      "application/vnd.jupyter.widget-view+json": {
       "model_id": "7690c0cff5d14e5b81f7c769aac48d56",
       "version_major": 2,
       "version_minor": 0
      },
      "text/plain": [
       "VBox()"
      ]
     },
     "metadata": {},
     "output_type": "display_data"
    },
    {
     "data": {
      "application/vnd.jupyter.widget-view+json": {
       "model_id": "",
       "version_major": 2,
       "version_minor": 0
      },
      "text/plain": [
       "FloatProgress(value=0.0, bar_style='info', description='Progress:', layout=Layout(height='25px', width='50%'),…"
      ]
     },
     "metadata": {},
     "output_type": "display_data"
    },
    {
     "name": "stdout",
     "output_type": "stream",
     "text": [
      "['2021-06-01', '2021-06-02', '2021-06-03', '2021-06-04', '2021-06-05', '2021-06-06', '2021-06-07', '2021-06-08', '2021-06-09', '2021-06-10']"
     ]
    }
   ],
   "source": [
    "base = datetime.strptime('2021-06-01', \"%Y-%m-%d\")\n",
    "date_list = [(base + timedelta(days=x)).strftime('%Y-%m-%d') for x in range(10)]\n",
    "date_list"
   ]
  },
  {
   "cell_type": "code",
   "execution_count": 38,
   "id": "21ecd926",
   "metadata": {},
   "outputs": [
    {
     "data": {
      "application/vnd.jupyter.widget-view+json": {
       "model_id": "a08426426e9740c4a382c2e56282e999",
       "version_major": 2,
       "version_minor": 0
      },
      "text/plain": [
       "VBox()"
      ]
     },
     "metadata": {},
     "output_type": "display_data"
    },
    {
     "data": {
      "application/vnd.jupyter.widget-view+json": {
       "model_id": "",
       "version_major": 2,
       "version_minor": 0
      },
      "text/plain": [
       "FloatProgress(value=0.0, bar_style='info', description='Progress:', layout=Layout(height='25px', width='50%'),…"
      ]
     },
     "metadata": {},
     "output_type": "display_data"
    }
   ],
   "source": [
    "for d in date_list[:3]:\n",
    "    join_df(d)"
   ]
  },
  {
   "cell_type": "code",
   "execution_count": 39,
   "id": "ce48336e",
   "metadata": {},
   "outputs": [
    {
     "data": {
      "application/vnd.jupyter.widget-view+json": {
       "model_id": "967e99a603cb44e4bdaa0aafd13382c3",
       "version_major": 2,
       "version_minor": 0
      },
      "text/plain": [
       "VBox()"
      ]
     },
     "metadata": {},
     "output_type": "display_data"
    },
    {
     "data": {
      "application/vnd.jupyter.widget-view+json": {
       "model_id": "",
       "version_major": 2,
       "version_minor": 0
      },
      "text/plain": [
       "FloatProgress(value=0.0, bar_style='info', description='Progress:', layout=Layout(height='25px', width='50%'),…"
      ]
     },
     "metadata": {},
     "output_type": "display_data"
    }
   ],
   "source": [
    "for d in date_list[3:5]:\n",
    "    join_df(d)"
   ]
  },
  {
   "cell_type": "code",
   "execution_count": 40,
   "id": "7732f01f",
   "metadata": {},
   "outputs": [
    {
     "data": {
      "application/vnd.jupyter.widget-view+json": {
       "model_id": "8353134e6ea049638bdcd8820bf67e67",
       "version_major": 2,
       "version_minor": 0
      },
      "text/plain": [
       "VBox()"
      ]
     },
     "metadata": {},
     "output_type": "display_data"
    },
    {
     "data": {
      "application/vnd.jupyter.widget-view+json": {
       "model_id": "",
       "version_major": 2,
       "version_minor": 0
      },
      "text/plain": [
       "FloatProgress(value=0.0, bar_style='info', description='Progress:', layout=Layout(height='25px', width='50%'),…"
      ]
     },
     "metadata": {},
     "output_type": "display_data"
    }
   ],
   "source": [
    "for d in date_list[5:7]:\n",
    "    join_df(d)"
   ]
  },
  {
   "cell_type": "code",
   "execution_count": 41,
   "id": "87a7368b",
   "metadata": {},
   "outputs": [
    {
     "data": {
      "application/vnd.jupyter.widget-view+json": {
       "model_id": "f2465901c31348a7912bbd75209a8ce5",
       "version_major": 2,
       "version_minor": 0
      },
      "text/plain": [
       "VBox()"
      ]
     },
     "metadata": {},
     "output_type": "display_data"
    },
    {
     "data": {
      "application/vnd.jupyter.widget-view+json": {
       "model_id": "",
       "version_major": 2,
       "version_minor": 0
      },
      "text/plain": [
       "FloatProgress(value=0.0, bar_style='info', description='Progress:', layout=Layout(height='25px', width='50%'),…"
      ]
     },
     "metadata": {},
     "output_type": "display_data"
    }
   ],
   "source": [
    "join_df(date_list[7])"
   ]
  },
  {
   "cell_type": "code",
   "execution_count": 42,
   "id": "073ac7ee",
   "metadata": {},
   "outputs": [
    {
     "data": {
      "application/vnd.jupyter.widget-view+json": {
       "model_id": "075d38474f764675883c4c74c914274d",
       "version_major": 2,
       "version_minor": 0
      },
      "text/plain": [
       "VBox()"
      ]
     },
     "metadata": {},
     "output_type": "display_data"
    },
    {
     "data": {
      "application/vnd.jupyter.widget-view+json": {
       "model_id": "",
       "version_major": 2,
       "version_minor": 0
      },
      "text/plain": [
       "FloatProgress(value=0.0, bar_style='info', description='Progress:', layout=Layout(height='25px', width='50%'),…"
      ]
     },
     "metadata": {},
     "output_type": "display_data"
    }
   ],
   "source": [
    "join_df(date_list[8])"
   ]
  },
  {
   "cell_type": "code",
   "execution_count": 43,
   "id": "af3c179d",
   "metadata": {},
   "outputs": [
    {
     "data": {
      "application/vnd.jupyter.widget-view+json": {
       "model_id": "074b4752bcec48f49427e5d337892b56",
       "version_major": 2,
       "version_minor": 0
      },
      "text/plain": [
       "VBox()"
      ]
     },
     "metadata": {},
     "output_type": "display_data"
    },
    {
     "data": {
      "application/vnd.jupyter.widget-view+json": {
       "model_id": "",
       "version_major": 2,
       "version_minor": 0
      },
      "text/plain": [
       "FloatProgress(value=0.0, bar_style='info', description='Progress:', layout=Layout(height='25px', width='50%'),…"
      ]
     },
     "metadata": {},
     "output_type": "display_data"
    }
   ],
   "source": [
    "join_df(date_list[9])"
   ]
  },
  {
   "cell_type": "code",
   "execution_count": null,
   "id": "7bf18e4b",
   "metadata": {},
   "outputs": [],
   "source": []
  },
  {
   "cell_type": "markdown",
   "id": "ac781fe9",
   "metadata": {},
   "source": [
    "# analysis"
   ]
  },
  {
   "cell_type": "code",
   "execution_count": 7,
   "id": "01f15cc2",
   "metadata": {},
   "outputs": [
    {
     "data": {
      "application/vnd.jupyter.widget-view+json": {
       "model_id": "2a0504788f584655abe99758bf38fafc",
       "version_major": 2,
       "version_minor": 0
      },
      "text/plain": [
       "VBox()"
      ]
     },
     "metadata": {},
     "output_type": "display_data"
    },
    {
     "data": {
      "application/vnd.jupyter.widget-view+json": {
       "model_id": "",
       "version_major": 2,
       "version_minor": 0
      },
      "text/plain": [
       "FloatProgress(value=0.0, bar_style='info', description='Progress:', layout=Layout(height='25px', width='50%'),…"
      ]
     },
     "metadata": {},
     "output_type": "display_data"
    }
   ],
   "source": [
    "df=spark.read.parquet(outpath+f\"/ctr_category_base/\")"
   ]
  },
  {
   "cell_type": "code",
   "execution_count": 8,
   "id": "f12dd931",
   "metadata": {},
   "outputs": [
    {
     "data": {
      "application/vnd.jupyter.widget-view+json": {
       "model_id": "e045db2d84c44b6bb07ad6c3017b4f8a",
       "version_major": 2,
       "version_minor": 0
      },
      "text/plain": [
       "VBox()"
      ]
     },
     "metadata": {},
     "output_type": "display_data"
    },
    {
     "data": {
      "application/vnd.jupyter.widget-view+json": {
       "model_id": "",
       "version_major": 2,
       "version_minor": 0
      },
      "text/plain": [
       "FloatProgress(value=0.0, bar_style='info', description='Progress:', layout=Layout(height='25px', width='50%'),…"
      ]
     },
     "metadata": {},
     "output_type": "display_data"
    },
    {
     "name": "stdout",
     "output_type": "stream",
     "text": [
      "10"
     ]
    }
   ],
   "source": [
    "df.select('dt').distinct().count()"
   ]
  },
  {
   "cell_type": "code",
   "execution_count": 9,
   "id": "3c38743b",
   "metadata": {},
   "outputs": [
    {
     "data": {
      "application/vnd.jupyter.widget-view+json": {
       "model_id": "47c594c268e540a9ac325e301f1b4917",
       "version_major": 2,
       "version_minor": 0
      },
      "text/plain": [
       "VBox()"
      ]
     },
     "metadata": {},
     "output_type": "display_data"
    },
    {
     "data": {
      "application/vnd.jupyter.widget-view+json": {
       "model_id": "",
       "version_major": 2,
       "version_minor": 0
      },
      "text/plain": [
       "FloatProgress(value=0.0, bar_style='info', description='Progress:', layout=Layout(height='25px', width='50%'),…"
      ]
     },
     "metadata": {},
     "output_type": "display_data"
    },
    {
     "name": "stdout",
     "output_type": "stream",
     "text": [
      "root\n",
      " |-- customer_id: string (nullable = true)\n",
      " |-- l1_category_cma_id: string (nullable = true)\n",
      " |-- impressions_adjust: double (nullable = true)\n",
      " |-- clicks_adjust: double (nullable = true)\n",
      " |-- category_sales_adjust: double (nullable = true)\n",
      " |-- topn: array (nullable = true)\n",
      " |    |-- element: string (containsNull = true)\n",
      " |-- rank: integer (nullable = true)\n",
      " |-- dt: date (nullable = true)"
     ]
    }
   ],
   "source": [
    "df.printSchema()"
   ]
  },
  {
   "cell_type": "code",
   "execution_count": 10,
   "id": "35f14ae0",
   "metadata": {},
   "outputs": [
    {
     "data": {
      "application/vnd.jupyter.widget-view+json": {
       "model_id": "8c64a694fabf4b859f4a6cd2d206c08f",
       "version_major": 2,
       "version_minor": 0
      },
      "text/plain": [
       "VBox()"
      ]
     },
     "metadata": {},
     "output_type": "display_data"
    },
    {
     "data": {
      "application/vnd.jupyter.widget-view+json": {
       "model_id": "",
       "version_major": 2,
       "version_minor": 0
      },
      "text/plain": [
       "FloatProgress(value=0.0, bar_style='info', description='Progress:', layout=Layout(height='25px', width='50%'),…"
      ]
     },
     "metadata": {},
     "output_type": "display_data"
    },
    {
     "name": "stdout",
     "output_type": "stream",
     "text": [
      "+-----------+------------------+------------------+-------------+---------------------+-------------------------------------------------------+----+----------+\n",
      "|customer_id|l1_category_cma_id|impressions_adjust|clicks_adjust|category_sales_adjust|topn                                                   |rank|dt        |\n",
      "+-----------+------------------+------------------+-------------+---------------------+-------------------------------------------------------+----+----------+\n",
      "|5101       |6852              |6.0               |0.0          |0.0                  |[6841, 6843, 6797, 6802, 6852, 443, 40, 38, 6842, 6821]|5   |2021-06-09|\n",
      "|5101       |20                |1.0               |0.0          |0.0                  |[6841, 6843, 6797, 6802, 6852, 443, 40, 38, 6842, 6821]|11  |2021-06-09|\n",
      "|5101       |9                 |1.0               |0.0          |0.0                  |[6841, 6843, 6797, 6802, 6852, 443, 40, 38, 6842, 6821]|11  |2021-06-09|\n",
      "|5101       |38                |3.0               |0.0          |0.0                  |[6841, 6843, 6797, 6802, 6852, 443, 40, 38, 6842, 6821]|8   |2021-06-09|\n",
      "|5101       |46                |1.0               |0.0          |0.0                  |[6841, 6843, 6797, 6802, 6852, 443, 40, 38, 6842, 6821]|11  |2021-06-09|\n",
      "+-----------+------------------+------------------+-------------+---------------------+-------------------------------------------------------+----+----------+\n",
      "only showing top 5 rows"
     ]
    }
   ],
   "source": [
    "df.show(5,False)"
   ]
  },
  {
   "cell_type": "code",
   "execution_count": 24,
   "id": "08206765",
   "metadata": {},
   "outputs": [
    {
     "data": {
      "application/vnd.jupyter.widget-view+json": {
       "model_id": "7fae880c17b34d8db08379adca495b9f",
       "version_major": 2,
       "version_minor": 0
      },
      "text/plain": [
       "VBox()"
      ]
     },
     "metadata": {},
     "output_type": "display_data"
    },
    {
     "data": {
      "application/vnd.jupyter.widget-view+json": {
       "model_id": "",
       "version_major": 2,
       "version_minor": 0
      },
      "text/plain": [
       "FloatProgress(value=0.0, bar_style='info', description='Progress:', layout=Layout(height='25px', width='50%'),…"
      ]
     },
     "metadata": {},
     "output_type": "display_data"
    }
   ],
   "source": [
    "windowSpec  = Window.partitionBy('l1_category_cma_id')\n",
    "df1=df.groupBy('l1_category_cma_id', 'rank')\\\n",
    "        .agg(F.sum('impressions_adjust').alias('impressions_total'),\n",
    "             F.sum('clicks_adjust').alias('clicks_total'),\n",
    "             F.sum('category_sales_adjust').alias('category_sales_total'))\\\n",
    "        .withColumn('ctr', F.col('clicks_total')/F.col('impressions_total'))\\\n",
    "        .withColumn('cvr', F.col('category_sales_total')/F.col('impressions_total'))\\\n",
    "        .withColumn('impression_rate', F.col('impressions_total')/F.sum('impressions_total').over(windowSpec))\n"
   ]
  },
  {
   "cell_type": "code",
   "execution_count": 18,
   "id": "11f24cf5",
   "metadata": {},
   "outputs": [
    {
     "data": {
      "application/vnd.jupyter.widget-view+json": {
       "model_id": "9e5e16db51754f6aa894302143f7bb6a",
       "version_major": 2,
       "version_minor": 0
      },
      "text/plain": [
       "VBox()"
      ]
     },
     "metadata": {},
     "output_type": "display_data"
    },
    {
     "data": {
      "application/vnd.jupyter.widget-view+json": {
       "model_id": "",
       "version_major": 2,
       "version_minor": 0
      },
      "text/plain": [
       "FloatProgress(value=0.0, bar_style='info', description='Progress:', layout=Layout(height='25px', width='50%'),…"
      ]
     },
     "metadata": {},
     "output_type": "display_data"
    },
    {
     "name": "stdout",
     "output_type": "stream",
     "text": [
      "+------------------+----+-----------------+------------+--------------------+-------------------+--------------------+--------------------+\n",
      "|l1_category_cma_id|rank|impressions_total|clicks_total|category_sales_total|ctr                |cvr                 |impression_rate     |\n",
      "+------------------+----+-----------------+------------+--------------------+-------------------+--------------------+--------------------+\n",
      "|443               |6   |1.7530262E7      |936107.0    |323323.8200000003   |0.05339948712688949|0.01844375286575867 |0.050931325656874124|\n",
      "|443               |8   |6456885.0        |304968.0    |92363.60999999997   |0.04723144364503937|0.014304670131185544|0.018759429417768297|\n",
      "+------------------+----+-----------------+------------+--------------------+-------------------+--------------------+--------------------+\n",
      "only showing top 2 rows"
     ]
    }
   ],
   "source": [
    "df1.show(2,False)"
   ]
  },
  {
   "cell_type": "code",
   "execution_count": 25,
   "id": "9fc506fc",
   "metadata": {},
   "outputs": [
    {
     "data": {
      "application/vnd.jupyter.widget-view+json": {
       "model_id": "73d7d6abf89a414b979accf66075631b",
       "version_major": 2,
       "version_minor": 0
      },
      "text/plain": [
       "VBox()"
      ]
     },
     "metadata": {},
     "output_type": "display_data"
    },
    {
     "data": {
      "application/vnd.jupyter.widget-view+json": {
       "model_id": "",
       "version_major": 2,
       "version_minor": 0
      },
      "text/plain": [
       "FloatProgress(value=0.0, bar_style='info', description='Progress:', layout=Layout(height='25px', width='50%'),…"
      ]
     },
     "metadata": {},
     "output_type": "display_data"
    }
   ],
   "source": [
    "#df1.write.mode('overwrite').parquet(outpath+f\"/ctr_impression_category_rank/\")\n",
    "(df1.sort(F.col('l1_category_cma_id'), F.col('rank'))\n",
    ".coalesce(1)\n",
    ".write.mode('overwrite')\n",
    ".option(\"header\",\"true\")\n",
    ".csv(outpath+f\"/ctr_impression_category_rank/\"))"
   ]
  },
  {
   "cell_type": "code",
   "execution_count": 20,
   "id": "d9448203",
   "metadata": {},
   "outputs": [
    {
     "data": {
      "application/vnd.jupyter.widget-view+json": {
       "model_id": "eb46c8ada325434c9ff514b64668d969",
       "version_major": 2,
       "version_minor": 0
      },
      "text/plain": [
       "VBox()"
      ]
     },
     "metadata": {},
     "output_type": "display_data"
    },
    {
     "data": {
      "application/vnd.jupyter.widget-view+json": {
       "model_id": "",
       "version_major": 2,
       "version_minor": 0
      },
      "text/plain": [
       "FloatProgress(value=0.0, bar_style='info', description='Progress:', layout=Layout(height='25px', width='50%'),…"
      ]
     },
     "metadata": {},
     "output_type": "display_data"
    }
   ],
   "source": [
    "df1=spark.read.parquet(outpath+f\"/ctr_impression_category_rank/\")"
   ]
  },
  {
   "cell_type": "code",
   "execution_count": 23,
   "id": "43d36798",
   "metadata": {},
   "outputs": [
    {
     "data": {
      "application/vnd.jupyter.widget-view+json": {
       "model_id": "20005246087c42e7936ca72debd7ec18",
       "version_major": 2,
       "version_minor": 0
      },
      "text/plain": [
       "VBox()"
      ]
     },
     "metadata": {},
     "output_type": "display_data"
    },
    {
     "data": {
      "application/vnd.jupyter.widget-view+json": {
       "model_id": "",
       "version_major": 2,
       "version_minor": 0
      },
      "text/plain": [
       "FloatProgress(value=0.0, bar_style='info', description='Progress:', layout=Layout(height='25px', width='50%'),…"
      ]
     },
     "metadata": {},
     "output_type": "display_data"
    },
    {
     "name": "stdout",
     "output_type": "stream",
     "text": [
      "+----+--------------------+--------------------+--------------------+--------------------+\n",
      "|rank|impressions_total   |clicks_total        |ctra                |impression_rate     |\n",
      "+----+--------------------+--------------------+--------------------+--------------------+\n",
      "|1   |2.099215019767316E8 |1.83762387770202E7  |0.08753862088437746 |0.04112077128201094 |\n",
      "|2   |1.4395574046403322E8|9176803.22900433    |0.06374739346568203 |0.028198974486235255|\n",
      "|3   |2.0877354604999998E8|1.445626104285714E7 |0.06924373952720501 |0.04089590230641552 |\n",
      "|4   |1.3380840638069992E8|5729114.370670995   |0.04281580302489383 |0.026211249550801275|\n",
      "|5   |1.527004958914865E8 |4437416.832575758   |0.029059609837345374|0.029911953311478647|\n",
      "|6   |1.1113760267435089E8|2986804.871861472   |0.026874836238939204|0.021770346998134342|\n",
      "|7   |9.591175431352833E7 |2414116.555952381   |0.025170184543396163|0.01878781008731629 |\n",
      "|8   |9.147040949166688E7 |2167424.935714286   |0.02369536714396957 |0.017917810954857002|\n",
      "|9   |8.668361204285738E7 |1748359.4869047618  |0.0201694350950714  |0.016980142344389326|\n",
      "|10  |8.554291359166682E7 |1593337.5583333333  |0.018626178270464578|0.01675669500968823 |\n",
      "|11  |3.785093155808048E9 |3.7337674033044755E7|0.009864400292434506|0.7414483436686732  |\n",
      "+----+--------------------+--------------------+--------------------+--------------------+"
     ]
    }
   ],
   "source": [
    "\n",
    "df1.groupBy('rank').agg(F.sum('impressions_total').alias('impressions_total'),\n",
    "             F.sum('clicks_total').alias('clicks_total'))\\\n",
    "        .withColumn('ctra', F.col('clicks_total')/F.col('impressions_total'))\\\n",
    "        .withColumn('impression_rate', F.col('impressions_total')/F.sum('impressions_total').over(Window.partitionBy()))\\\n",
    "        .sort(F.col('rank'))\\\n",
    "        .show(20,False)"
   ]
  },
  {
   "cell_type": "code",
   "execution_count": 19,
   "id": "0fcc6cde",
   "metadata": {},
   "outputs": [
    {
     "data": {
      "application/vnd.jupyter.widget-view+json": {
       "model_id": "81b7be67b5a046c7adc56494c37642a9",
       "version_major": 2,
       "version_minor": 0
      },
      "text/plain": [
       "VBox()"
      ]
     },
     "metadata": {},
     "output_type": "display_data"
    },
    {
     "data": {
      "application/vnd.jupyter.widget-view+json": {
       "model_id": "",
       "version_major": 2,
       "version_minor": 0
      },
      "text/plain": [
       "FloatProgress(value=0.0, bar_style='info', description='Progress:', layout=Layout(height='25px', width='50%'),…"
      ]
     },
     "metadata": {},
     "output_type": "display_data"
    },
    {
     "name": "stdout",
     "output_type": "stream",
     "text": [
      "+------------------+----+--------------------+------------------+--------------------+--------------------+---------------------+\n",
      "|l1_category_cma_id|rank|impressions_total   |clicks_total      |category_sales_total|ctr                 |cvr                  |\n",
      "+------------------+----+--------------------+------------------+--------------------+--------------------+---------------------+\n",
      "|1                 |11  |3.4628308E7         |870414.0          |511972.3299999994   |0.02513590903719581 |0.014784791968466937 |\n",
      "|10                |1   |930538.0            |39268.0           |0.0                 |0.04219924387827257 |0.0                  |\n",
      "|10                |2   |694386.0            |19947.0           |0.0                 |0.028726097588373037|0.0                  |\n",
      "|10                |3   |842582.0            |21220.0           |0.0                 |0.025184492429223507|0.0                  |\n",
      "|10                |4   |923744.0            |20918.0           |0.0                 |0.022644802023071328|0.0                  |\n",
      "|10                |5   |1146436.0           |21981.0           |0.0                 |0.019173333705501224|0.0                  |\n",
      "|10                |6   |1459541.0           |24809.0           |0.0                 |0.016997809585342243|0.0                  |\n",
      "|10                |7   |1883361.0           |29236.0           |0.0                 |0.015523311781437546|0.0                  |\n",
      "|10                |8   |4816219.0           |57904.0           |0.0                 |0.012022709100229869|0.0                  |\n",
      "|10                |9   |6004414.0           |74476.0           |0.0                 |0.012403541794419905|0.0                  |\n",
      "|10                |10  |1.1240349E7         |115750.0          |0.0                 |0.010297722962160695|0.0                  |\n",
      "|10                |11  |2.7701395E7         |351117.0          |0.0                 |0.012675065642001061|0.0                  |\n",
      "|12                |1   |190920.0            |81671.0           |6460.78             |0.42777603184579926 |0.03384024722396815  |\n",
      "|12                |2   |160030.0            |40676.0           |3361.6800000000007  |0.25417734174842216 |0.021006561269761925 |\n",
      "|12                |3   |160961.0            |23963.0           |2317.4400000000005  |0.14887457210131647 |0.014397524866271957 |\n",
      "|12                |4   |162676.0            |18060.0           |1905.8999999999994  |0.11101822026605031 |0.011715926135385671 |\n",
      "|12                |5   |169906.0            |18332.0           |1664.1              |0.10789495368027027 |0.009794239167539697 |\n",
      "|12                |6   |184419.0            |17943.0           |1600.6700000000005  |0.097294747287427   |0.00867952868196878  |\n",
      "|12                |7   |184024.0            |13986.0           |1286.8200000000002  |0.0760009563969917  |0.006992674868495414 |\n",
      "|12                |8   |193380.0            |15069.0           |1247.4299999999998  |0.07792429413589823 |0.0064506670803599125|\n",
      "|12                |9   |190313.0            |9833.0            |1013.1              |0.05166751614445676 |0.005323335767919165 |\n",
      "|12                |10  |188056.0            |8067.0            |697.6400000000002   |0.04289679669885566 |0.0037097460330965254|\n",
      "|12                |11  |6.87673795E7        |371720.0          |25915.419999999984  |0.005405469900158112|3.768562971052283E-4 |\n",
      "|14                |1   |2016473.6773809278  |86861.76944444448 |907.3755238095237   |0.04307607404886327 |4.4998133820822164E-4|\n",
      "|14                |2   |2726453.8960317625  |83289.13452380957 |1023.3630952380958  |0.03054852115600904 |3.75345828047031E-4  |\n",
      "|14                |3   |3167107.7460318226  |67449.63571428579 |676.7529047619048   |0.021296918552517117|2.1368168026800844E-4|\n",
      "|14                |4   |3551519.777128546   |59743.743290043356|505.47200000000004  |0.016822021849571964|1.4232554841879026E-4|\n",
      "|14                |5   |4182170.0257938425  |57584.70000000006 |516.21              |0.013769095862875533|1.234311366626026E-4 |\n",
      "|14                |6   |4507856.060714477   |54230.88809523816 |437.96809523809543  |0.012030306062310868|9.715662819293287E-5 |\n",
      "|14                |7   |4235400.605158938   |43666.44761904764 |385.94104761904754  |0.010309874245628533|9.112267848971625E-5 |\n",
      "|14                |8   |4459166.2246033875  |45961.21547619048 |469.3032857142856   |0.010307132132146166|1.0524462692709486E-4|\n",
      "|14                |9   |4142352.2654764014  |36431.077380952374|399.15328571428586  |0.00879478012639819 |9.635908781610591E-5 |\n",
      "|14                |10  |3745955.094047781   |32102.04880952379 |327.65309523809526  |0.00856979008118198 |8.746850589819589E-5 |\n",
      "|14                |11  |1.1658890005176418E8|714432.264285717  |5810.367571428572   |0.00612778972928398 |4.983637009053892E-5 |\n",
      "|15                |1   |16025.178571428583  |870.4761904761906 |3.3471428571428574  |0.05431928178498862 |2.088677416119721E-4 |\n",
      "|15                |2   |41713.42142857144   |1698.7476190476175|15.132142857142856  |0.04072424559938081 |3.6276436549455895E-4|\n",
      "|15                |3   |67221.0392857144    |2389.7142857142862|13.534761904761902  |0.03555009430242684 |2.0134710871151713E-4|\n",
      "|15                |4   |88396.34880952392   |2763.071428571429 |21.129999999999995  |0.03125775516503836 |2.3903702228166495E-4|\n",
      "|15                |5   |114605.19404761908  |3386.738095238096 |26.832857142857144  |0.029551349076123792|2.3413299341134528E-4|\n",
      "|15                |6   |150278.36190476132  |4104.004761904761 |39.73428571428572   |0.027309352523456887|2.644045703630125E-4 |\n",
      "|15                |7   |167996.16547618955  |4279.095238095239 |41.94857142857143   |0.025471386361504332|2.496995768306205E-4 |\n",
      "|15                |8   |196413.51190476038  |4639.533333333335 |40.87357142857144   |0.023621253387002286|2.0809959066558906E-4|\n",
      "|15                |9   |224874.37619047417  |4895.285714285716 |50.61285714285715   |0.021768979628605117|2.2507169558521334E-4|\n",
      "|15                |10  |245682.38214285512  |4755.266666666668 |45.19404761904763   |0.01935534255729277 |1.8395314806402758E-4|\n",
      "|15                |11  |3.34937268335226E7  |235131.21352813655|1833.2843333333337  |0.007020156780307966|5.473515510667117E-5 |\n",
      "|16                |1   |161496.66904761893  |10585.476190476194|83.97047619047618   |0.06554609610774671 |5.199517530960136E-4 |\n",
      "|16                |2   |250406.84484126917  |13388.38095238096 |65.32142857142858   |0.05346651350871716 |2.6086119416118716E-4|\n",
      "|16                |3   |314567.4666666667   |15053.257142857141|80.80619047619045   |0.04785382704184224 |2.568803167487667E-4 |\n",
      "|16                |4   |359824.5111111125   |14691.319047619045|81.37809523809523   |0.04082912251378678 |2.2616051081902525E-4|\n",
      "|16                |5   |417312.3595238127   |15620.057142857144|92.10761904761901   |0.03743013305592218 |2.207162499397844E-4 |\n",
      "+------------------+----+--------------------+------------------+--------------------+--------------------+---------------------+\n",
      "only showing top 50 rows"
     ]
    }
   ],
   "source": [
    "df1.sort(F.col('l1_category_cma_id'), F.col('rank')).show(50,False)"
   ]
  },
  {
   "cell_type": "code",
   "execution_count": 29,
   "id": "21df17da",
   "metadata": {},
   "outputs": [
    {
     "data": {
      "application/vnd.jupyter.widget-view+json": {
       "model_id": "485c6546420449e3a2325b06578004a3",
       "version_major": 2,
       "version_minor": 0
      },
      "text/plain": [
       "VBox()"
      ]
     },
     "metadata": {},
     "output_type": "display_data"
    },
    {
     "data": {
      "application/vnd.jupyter.widget-view+json": {
       "model_id": "",
       "version_major": 2,
       "version_minor": 0
      },
      "text/plain": [
       "FloatProgress(value=0.0, bar_style='info', description='Progress:', layout=Layout(height='25px', width='50%'),…"
      ]
     },
     "metadata": {},
     "output_type": "display_data"
    }
   ],
   "source": [
    "(df1.sort(F.col('l1_category_cma_id'), F.col('rank'))\n",
    ".coalesce(1)\n",
    ".write.mode('overwrite')\n",
    ".option(\"header\",\"true\")\n",
    ".csv(outpath+f\"/ctr_rank/\"))"
   ]
  },
  {
   "cell_type": "markdown",
   "id": "8aa50eb3",
   "metadata": {},
   "source": [
    "# diff"
   ]
  },
  {
   "cell_type": "code",
   "execution_count": 20,
   "id": "765f0851",
   "metadata": {},
   "outputs": [
    {
     "data": {
      "application/vnd.jupyter.widget-view+json": {
       "model_id": "06db5449c4b44b42a170bf7098bf9e0d",
       "version_major": 2,
       "version_minor": 0
      },
      "text/plain": [
       "VBox()"
      ]
     },
     "metadata": {},
     "output_type": "display_data"
    },
    {
     "data": {
      "application/vnd.jupyter.widget-view+json": {
       "model_id": "",
       "version_major": 2,
       "version_minor": 0
      },
      "text/plain": [
       "FloatProgress(value=0.0, bar_style='info', description='Progress:', layout=Layout(height='25px', width='50%'),…"
      ]
     },
     "metadata": {},
     "output_type": "display_data"
    }
   ],
   "source": [
    "df2=df.withColumn('diff', F.col('impressions_adjust')-F.col('clicks_adjust'))"
   ]
  },
  {
   "cell_type": "code",
   "execution_count": 21,
   "id": "900b7642",
   "metadata": {},
   "outputs": [
    {
     "data": {
      "application/vnd.jupyter.widget-view+json": {
       "model_id": "3236f0341ff24424a9cf86ed2cc6b814",
       "version_major": 2,
       "version_minor": 0
      },
      "text/plain": [
       "VBox()"
      ]
     },
     "metadata": {},
     "output_type": "display_data"
    },
    {
     "data": {
      "application/vnd.jupyter.widget-view+json": {
       "model_id": "",
       "version_major": 2,
       "version_minor": 0
      },
      "text/plain": [
       "FloatProgress(value=0.0, bar_style='info', description='Progress:', layout=Layout(height='25px', width='50%'),…"
      ]
     },
     "metadata": {},
     "output_type": "display_data"
    }
   ],
   "source": [
    "df2=df2.groupBy('l1_category_cma_id', 'rank').agg(F.mean('diff').alias('avg_diff'))\\\n",
    ".sort(F.col('l1_category_cma_id'), F.col('rank'))"
   ]
  },
  {
   "cell_type": "code",
   "execution_count": 22,
   "id": "467e564d",
   "metadata": {},
   "outputs": [
    {
     "data": {
      "application/vnd.jupyter.widget-view+json": {
       "model_id": "a695d657af97459991f1d16a26552642",
       "version_major": 2,
       "version_minor": 0
      },
      "text/plain": [
       "VBox()"
      ]
     },
     "metadata": {},
     "output_type": "display_data"
    },
    {
     "data": {
      "application/vnd.jupyter.widget-view+json": {
       "model_id": "",
       "version_major": 2,
       "version_minor": 0
      },
      "text/plain": [
       "FloatProgress(value=0.0, bar_style='info', description='Progress:', layout=Layout(height='25px', width='50%'),…"
      ]
     },
     "metadata": {},
     "output_type": "display_data"
    }
   ],
   "source": [
    "(df2.coalesce(1)\n",
    ".write.mode('overwrite')\n",
    ".option(\"header\",\"true\")\n",
    ".csv(outpath+f\"/impression_click_diff_rank/\"))"
   ]
  },
  {
   "cell_type": "markdown",
   "id": "d8c5c1d2",
   "metadata": {},
   "source": [
    "# impression by category"
   ]
  },
  {
   "cell_type": "code",
   "execution_count": 14,
   "id": "767b96e2",
   "metadata": {},
   "outputs": [
    {
     "data": {
      "application/vnd.jupyter.widget-view+json": {
       "model_id": "3c46d11f4dc9446db8b1eba344990d31",
       "version_major": 2,
       "version_minor": 0
      },
      "text/plain": [
       "VBox()"
      ]
     },
     "metadata": {},
     "output_type": "display_data"
    },
    {
     "data": {
      "application/vnd.jupyter.widget-view+json": {
       "model_id": "",
       "version_major": 2,
       "version_minor": 0
      },
      "text/plain": [
       "FloatProgress(value=0.0, bar_style='info', description='Progress:', layout=Layout(height='25px', width='50%'),…"
      ]
     },
     "metadata": {},
     "output_type": "display_data"
    }
   ],
   "source": [
    "df3=df.groupBy('l1_category_cma_id').agg(F.sum('impressions_adjust').alias('impressions_total'),\n",
    "                                        F.sum('clicks_adjust').alias('clicks_total'))"
   ]
  },
  {
   "cell_type": "code",
   "execution_count": 15,
   "id": "17c4c2a0",
   "metadata": {},
   "outputs": [
    {
     "data": {
      "application/vnd.jupyter.widget-view+json": {
       "model_id": "8dad32db986c41e5a629eb2380d46249",
       "version_major": 2,
       "version_minor": 0
      },
      "text/plain": [
       "VBox()"
      ]
     },
     "metadata": {},
     "output_type": "display_data"
    },
    {
     "data": {
      "application/vnd.jupyter.widget-view+json": {
       "model_id": "",
       "version_major": 2,
       "version_minor": 0
      },
      "text/plain": [
       "FloatProgress(value=0.0, bar_style='info', description='Progress:', layout=Layout(height='25px', width='50%'),…"
      ]
     },
     "metadata": {},
     "output_type": "display_data"
    }
   ],
   "source": [
    "df3=df3.withColumn('ratio',  F.col('impressions_total')/F.sum('impressions_total').over(Window.partitionBy()))\\\n",
    ".withColumn('ctr', F.col('clicks_total')/F.col('impressions_total'))\\\n",
    ".withColumn('factor', F.col('ctr')/F.col('ratio'))\\\n",
    ".sort(F.col('factor').desc())"
   ]
  },
  {
   "cell_type": "code",
   "execution_count": 16,
   "id": "619f3a89",
   "metadata": {},
   "outputs": [
    {
     "data": {
      "application/vnd.jupyter.widget-view+json": {
       "model_id": "44eb0130bb8f44afbe50ce9b37f2ffeb",
       "version_major": 2,
       "version_minor": 0
      },
      "text/plain": [
       "VBox()"
      ]
     },
     "metadata": {},
     "output_type": "display_data"
    },
    {
     "data": {
      "application/vnd.jupyter.widget-view+json": {
       "model_id": "",
       "version_major": 2,
       "version_minor": 0
      },
      "text/plain": [
       "FloatProgress(value=0.0, bar_style='info', description='Progress:', layout=Layout(height='25px', width='50%'),…"
      ]
     },
     "metadata": {},
     "output_type": "display_data"
    }
   ],
   "source": [
    "(df3.coalesce(1)\n",
    ".write.mode('overwrite')\n",
    ".option(\"header\",\"true\")\n",
    ".csv(outpath+f\"/ctr_impression_category/\"))"
   ]
  },
  {
   "cell_type": "code",
   "execution_count": 20,
   "id": "a099d4ed",
   "metadata": {},
   "outputs": [
    {
     "data": {
      "application/vnd.jupyter.widget-view+json": {
       "model_id": "eb99b285a0cc4f879eec6860399b5384",
       "version_major": 2,
       "version_minor": 0
      },
      "text/plain": [
       "VBox()"
      ]
     },
     "metadata": {},
     "output_type": "display_data"
    },
    {
     "data": {
      "application/vnd.jupyter.widget-view+json": {
       "model_id": "",
       "version_major": 2,
       "version_minor": 0
      },
      "text/plain": [
       "FloatProgress(value=0.0, bar_style='info', description='Progress:', layout=Layout(height='25px', width='50%'),…"
      ]
     },
     "metadata": {},
     "output_type": "display_data"
    }
   ],
   "source": [
    "df3=spark.read.option(\"header\",\"true\").csv(outpath+f\"/ctr_impression_category/\").select('l1_category_cma_id', F.col('factor').cast('double'))"
   ]
  },
  {
   "cell_type": "code",
   "execution_count": 25,
   "id": "96c23543",
   "metadata": {},
   "outputs": [
    {
     "data": {
      "application/vnd.jupyter.widget-view+json": {
       "model_id": "094352ecd6de47ef9cd80bc753c1bdab",
       "version_major": 2,
       "version_minor": 0
      },
      "text/plain": [
       "VBox()"
      ]
     },
     "metadata": {},
     "output_type": "display_data"
    },
    {
     "data": {
      "application/vnd.jupyter.widget-view+json": {
       "model_id": "",
       "version_major": 2,
       "version_minor": 0
      },
      "text/plain": [
       "FloatProgress(value=0.0, bar_style='info', description='Progress:', layout=Layout(height='25px', width='50%'),…"
      ]
     },
     "metadata": {},
     "output_type": "display_data"
    },
    {
     "name": "stdout",
     "output_type": "stream",
     "text": [
      "60"
     ]
    }
   ],
   "source": [
    "df3.count()"
   ]
  },
  {
   "cell_type": "code",
   "execution_count": 17,
   "id": "98e71ae9",
   "metadata": {},
   "outputs": [
    {
     "data": {
      "application/vnd.jupyter.widget-view+json": {
       "model_id": "4ffbbaac085a42a8ac3e4640066dc9a7",
       "version_major": 2,
       "version_minor": 0
      },
      "text/plain": [
       "VBox()"
      ]
     },
     "metadata": {},
     "output_type": "display_data"
    },
    {
     "data": {
      "application/vnd.jupyter.widget-view+json": {
       "model_id": "",
       "version_major": 2,
       "version_minor": 0
      },
      "text/plain": [
       "FloatProgress(value=0.0, bar_style='info', description='Progress:', layout=Layout(height='25px', width='50%'),…"
      ]
     },
     "metadata": {},
     "output_type": "display_data"
    },
    {
     "name": "stdout",
     "output_type": "stream",
     "text": [
      "+-------+-------------------+\n",
      "|summary|factor             |\n",
      "+-------+-------------------+\n",
      "|count  |60                 |\n",
      "|mean   |1032.4085624426339 |\n",
      "|stddev |3843.0207685230157 |\n",
      "|min    |0.09137288198098248|\n",
      "|25%    |0.49548672684804557|\n",
      "|50%    |1.5338269103131958 |\n",
      "|75%    |6.644734595901197  |\n",
      "|max    |19975.113769138818 |\n",
      "+-------+-------------------+"
     ]
    }
   ],
   "source": [
    "df3.select('factor').summary().show(10,False)"
   ]
  },
  {
   "cell_type": "code",
   "execution_count": 11,
   "id": "599e9c2d",
   "metadata": {},
   "outputs": [
    {
     "data": {
      "application/vnd.jupyter.widget-view+json": {
       "model_id": "6652a5b9d94b4e9bb4fdbbe376d79b57",
       "version_major": 2,
       "version_minor": 0
      },
      "text/plain": [
       "VBox()"
      ]
     },
     "metadata": {},
     "output_type": "display_data"
    },
    {
     "data": {
      "application/vnd.jupyter.widget-view+json": {
       "model_id": "",
       "version_major": 2,
       "version_minor": 0
      },
      "text/plain": [
       "FloatProgress(value=0.0, bar_style='info', description='Progress:', layout=Layout(height='25px', width='50%'),…"
      ]
     },
     "metadata": {},
     "output_type": "display_data"
    }
   ],
   "source": [
    "from pyspark.ml.feature import QuantileDiscretizer\n"
   ]
  },
  {
   "cell_type": "code",
   "execution_count": 12,
   "id": "b6c0013d",
   "metadata": {},
   "outputs": [
    {
     "data": {
      "application/vnd.jupyter.widget-view+json": {
       "model_id": "98373796a5054f638a9b07261aa60ed3",
       "version_major": 2,
       "version_minor": 0
      },
      "text/plain": [
       "VBox()"
      ]
     },
     "metadata": {},
     "output_type": "display_data"
    },
    {
     "data": {
      "application/vnd.jupyter.widget-view+json": {
       "model_id": "",
       "version_major": 2,
       "version_minor": 0
      },
      "text/plain": [
       "FloatProgress(value=0.0, bar_style='info', description='Progress:', layout=Layout(height='25px', width='50%'),…"
      ]
     },
     "metadata": {},
     "output_type": "display_data"
    }
   ],
   "source": [
    "discretizer = QuantileDiscretizer(numBuckets=10, inputCol=\"factor\", outputCol=\"result\")"
   ]
  },
  {
   "cell_type": "code",
   "execution_count": 21,
   "id": "fa73150d",
   "metadata": {},
   "outputs": [
    {
     "data": {
      "application/vnd.jupyter.widget-view+json": {
       "model_id": "8f0788cc9f9d4f8daa21b54102ae29e9",
       "version_major": 2,
       "version_minor": 0
      },
      "text/plain": [
       "VBox()"
      ]
     },
     "metadata": {},
     "output_type": "display_data"
    },
    {
     "data": {
      "application/vnd.jupyter.widget-view+json": {
       "model_id": "",
       "version_major": 2,
       "version_minor": 0
      },
      "text/plain": [
       "FloatProgress(value=0.0, bar_style='info', description='Progress:', layout=Layout(height='25px', width='50%'),…"
      ]
     },
     "metadata": {},
     "output_type": "display_data"
    }
   ],
   "source": [
    "result = discretizer.fit(df3).transform(df3)"
   ]
  },
  {
   "cell_type": "code",
   "execution_count": 26,
   "id": "3d05a974",
   "metadata": {},
   "outputs": [
    {
     "data": {
      "application/vnd.jupyter.widget-view+json": {
       "model_id": "588bf694ea3b4cd09099d7f848acb5f4",
       "version_major": 2,
       "version_minor": 0
      },
      "text/plain": [
       "VBox()"
      ]
     },
     "metadata": {},
     "output_type": "display_data"
    },
    {
     "data": {
      "application/vnd.jupyter.widget-view+json": {
       "model_id": "",
       "version_major": 2,
       "version_minor": 0
      },
      "text/plain": [
       "FloatProgress(value=0.0, bar_style='info', description='Progress:', layout=Layout(height='25px', width='50%'),…"
      ]
     },
     "metadata": {},
     "output_type": "display_data"
    },
    {
     "name": "stdout",
     "output_type": "stream",
     "text": [
      "root\n",
      " |-- l1_category_cma_id: string (nullable = true)\n",
      " |-- factor: double (nullable = true)\n",
      " |-- result: double (nullable = true)"
     ]
    }
   ],
   "source": [
    "result.printSchema()"
   ]
  },
  {
   "cell_type": "code",
   "execution_count": 24,
   "id": "cef5fe0e",
   "metadata": {},
   "outputs": [
    {
     "data": {
      "application/vnd.jupyter.widget-view+json": {
       "model_id": "b0e84b6a2a29476981cfc03ed5764368",
       "version_major": 2,
       "version_minor": 0
      },
      "text/plain": [
       "VBox()"
      ]
     },
     "metadata": {},
     "output_type": "display_data"
    },
    {
     "data": {
      "application/vnd.jupyter.widget-view+json": {
       "model_id": "",
       "version_major": 2,
       "version_minor": 0
      },
      "text/plain": [
       "FloatProgress(value=0.0, bar_style='info', description='Progress:', layout=Layout(height='25px', width='50%'),…"
      ]
     },
     "metadata": {},
     "output_type": "display_data"
    },
    {
     "name": "stdout",
     "output_type": "stream",
     "text": [
      "+------------------+-------------------+------+\n",
      "|l1_category_cma_id|factor             |result|\n",
      "+------------------+-------------------+------+\n",
      "|6810              |19975.113769138818 |9.0   |\n",
      "|6811              |16222.65244710502  |9.0   |\n",
      "|6808              |14924.439752180362 |9.0   |\n",
      "|6816              |5539.278579302361  |9.0   |\n",
      "|6842              |4425.002680249869  |9.0   |\n",
      "|442               |284.9789531886355  |9.0   |\n",
      "|49                |135.60232614491716 |9.0   |\n",
      "|391               |112.1890982712995  |8.0   |\n",
      "|6809              |107.761978443923   |8.0   |\n",
      "|6838              |48.99171682992649  |8.0   |\n",
      "|6822              |33.693677173323934 |8.0   |\n",
      "|6826              |30.709089281459907 |8.0   |\n",
      "|36                |19.020343014111553 |8.0   |\n",
      "|6839              |7.303432252488425  |7.0   |\n",
      "|44                |7.07706808776292   |7.0   |\n",
      "|35                |6.644734595901198  |7.0   |\n",
      "|60                |5.750736519757597  |7.0   |\n",
      "|34                |4.981285102856705  |7.0   |\n",
      "|55                |4.91608652632781   |6.0   |\n",
      "|6841              |4.684760140659901  |6.0   |\n",
      "|1                 |3.7056039233840288 |6.0   |\n",
      "|6804              |3.238318633477875  |6.0   |\n",
      "|6843              |2.8016120195591565 |6.0   |\n",
      "|51                |2.7741191322284267 |6.0   |\n",
      "|59                |2.67036577783723   |5.0   |\n",
      "|6798              |2.4212059726493047 |5.0   |\n",
      "|446               |2.01183815373637   |5.0   |\n",
      "|23                |1.8418290068724337 |5.0   |\n",
      "|6802              |1.6861327145782472 |5.0   |\n",
      "|6800              |1.590083535859186  |5.0   |\n",
      "|443               |1.5338269103131963 |5.0   |\n",
      "|6821              |1.3497401170398238 |4.0   |\n",
      "|40                |1.299708766388748  |4.0   |\n",
      "|6801              |1.2569979800994173 |4.0   |\n",
      "|29                |1.2346212204717024 |4.0   |\n",
      "|10                |1.1932047557263097 |4.0   |\n",
      "|15                |1.133120764717883  |4.0   |\n",
      "|16                |1.116506982987061  |3.0   |\n",
      "|53                |0.9339258265064876 |3.0   |\n",
      "|20                |0.8223745003606183 |3.0   |\n",
      "|12                |0.6351719706939146 |3.0   |\n",
      "|6795              |0.6206298634710397 |3.0   |\n",
      "|6797              |0.6104552251613982 |2.0   |\n",
      "|52                |0.5267245741280814 |2.0   |\n",
      "|19                |0.5214590119358931 |2.0   |\n",
      "|45                |0.4954867268480456 |2.0   |\n",
      "|46                |0.48687021028762395|2.0   |\n",
      "|18                |0.4627860574454552 |2.0   |\n",
      "|32                |0.39961845971487037|2.0   |\n",
      "|25                |0.3881422185557799 |1.0   |\n",
      "|9                 |0.283500859911556  |1.0   |\n",
      "|14                |0.2783449588238134 |1.0   |\n",
      "|38                |0.27003818415706304|1.0   |\n",
      "|6807              |0.2697888387904621 |1.0   |\n",
      "|444               |0.20228199903512917|1.0   |\n",
      "|6803              |0.18581205788505797|0.0   |\n",
      "|445               |0.13330278343890797|0.0   |\n",
      "|56                |0.12307122285700013|0.0   |\n",
      "|6852              |0.12123820830652816|0.0   |\n",
      "|6820              |0.09137288198098248|0.0   |\n",
      "+------------------+-------------------+------+"
     ]
    }
   ],
   "source": [
    "result.show(100,False)"
   ]
  },
  {
   "cell_type": "code",
   "execution_count": 26,
   "id": "e2fc1bee",
   "metadata": {},
   "outputs": [
    {
     "data": {
      "application/vnd.jupyter.widget-view+json": {
       "model_id": "bcd9dc78dc574899bae30817e419f797",
       "version_major": 2,
       "version_minor": 0
      },
      "text/plain": [
       "VBox()"
      ]
     },
     "metadata": {},
     "output_type": "display_data"
    },
    {
     "data": {
      "application/vnd.jupyter.widget-view+json": {
       "model_id": "",
       "version_major": 2,
       "version_minor": 0
      },
      "text/plain": [
       "FloatProgress(value=0.0, bar_style='info', description='Progress:', layout=Layout(height='25px', width='50%'),…"
      ]
     },
     "metadata": {},
     "output_type": "display_data"
    },
    {
     "name": "stderr",
     "output_type": "stream",
     "text": [
      "An error was encountered:\n",
      "\"grouping expressions sequence is empty, and '`l1_category_cma_id`' is not an aggregate function. Wrap '(percentile_approx(`factor`, array(CAST(0.1BD AS DECIMAL(2,1)), CAST(0.2BD AS DECIMAL(2,1)), CAST(0.3BD AS DECIMAL(2,1)), CAST(0.4BD AS DECIMAL(2,1)), CAST(0.5BD AS DECIMAL(2,1)), CAST(0.6BD AS DECIMAL(2,1)), CAST(0.7BD AS DECIMAL(2,1)), CAST(0.8BD AS DECIMAL(2,1)), CAST(0.9BD AS DECIMAL(2,1)), 1.0BD), 1000000) AS `summary`)' in windowing function(s) or wrap '`l1_category_cma_id`' in first() (or first_value) if you don't care which value you get.;;\\nAggregate [l1_category_cma_id#1, impressions_total#115, clicks_total#117, ratio#122, ctr#128, factor#134, percentile_approx(factor#134, cast(array(cast(0.1 as decimal(2,1)), cast(0.2 as decimal(2,1)), cast(0.3 as decimal(2,1)), cast(0.4 as decimal(2,1)), cast(0.5 as decimal(2,1)), cast(0.6 as decimal(2,1)), cast(0.7 as decimal(2,1)), cast(0.8 as decimal(2,1)), cast(0.9 as decimal(2,1)), 1.0) as array<double>), 1000000, 0, 0) AS summary#237]\\n+- Sort [factor#134 DESC NULLS LAST], true\\n   +- Project [l1_category_cma_id#1, impressions_total#115, clicks_total#117, ratio#122, ctr#128, (ctr#128 / ratio#122) AS factor#134]\\n      +- Project [l1_category_cma_id#1, impressions_total#115, clicks_total#117, ratio#122, (clicks_total#117 / impressions_total#115) AS ctr#128]\\n         +- Project [l1_category_cma_id#1, impressions_total#115, clicks_total#117, ratio#122]\\n            +- Project [l1_category_cma_id#1, impressions_total#115, clicks_total#117, _we0#123, (impressions_total#115 / _we0#123) AS ratio#122]\\n               +- Window [sum(impressions_total#115) windowspecdefinition(specifiedwindowframe(RowFrame, unboundedpreceding$(), unboundedfollowing$())) AS _we0#123]\\n                  +- Project [l1_category_cma_id#1, impressions_total#115, clicks_total#117]\\n                     +- Aggregate [l1_category_cma_id#1], [l1_category_cma_id#1, sum(impressions_adjust#2) AS impressions_total#115, sum(clicks_adjust#3) AS clicks_total#117]\\n                        +- Relation[customer_id#0,l1_category_cma_id#1,impressions_adjust#2,clicks_adjust#3,category_sales_adjust#4,topn#5,rank#6,dt#7] parquet\\n\"\n",
      "Traceback (most recent call last):\n",
      "  File \"/usr/lib/spark/python/lib/pyspark.zip/pyspark/sql/dataframe.py\", line 1999, in withColumn\n",
      "    return DataFrame(self._jdf.withColumn(colName, col._jc), self.sql_ctx)\n",
      "  File \"/usr/lib/spark/python/lib/py4j-0.10.7-src.zip/py4j/java_gateway.py\", line 1257, in __call__\n",
      "    answer, self.gateway_client, self.target_id, self.name)\n",
      "  File \"/usr/lib/spark/python/lib/pyspark.zip/pyspark/sql/utils.py\", line 69, in deco\n",
      "    raise AnalysisException(s.split(': ', 1)[1], stackTrace)\n",
      "pyspark.sql.utils.AnalysisException: \"grouping expressions sequence is empty, and '`l1_category_cma_id`' is not an aggregate function. Wrap '(percentile_approx(`factor`, array(CAST(0.1BD AS DECIMAL(2,1)), CAST(0.2BD AS DECIMAL(2,1)), CAST(0.3BD AS DECIMAL(2,1)), CAST(0.4BD AS DECIMAL(2,1)), CAST(0.5BD AS DECIMAL(2,1)), CAST(0.6BD AS DECIMAL(2,1)), CAST(0.7BD AS DECIMAL(2,1)), CAST(0.8BD AS DECIMAL(2,1)), CAST(0.9BD AS DECIMAL(2,1)), 1.0BD), 1000000) AS `summary`)' in windowing function(s) or wrap '`l1_category_cma_id`' in first() (or first_value) if you don't care which value you get.;;\\nAggregate [l1_category_cma_id#1, impressions_total#115, clicks_total#117, ratio#122, ctr#128, factor#134, percentile_approx(factor#134, cast(array(cast(0.1 as decimal(2,1)), cast(0.2 as decimal(2,1)), cast(0.3 as decimal(2,1)), cast(0.4 as decimal(2,1)), cast(0.5 as decimal(2,1)), cast(0.6 as decimal(2,1)), cast(0.7 as decimal(2,1)), cast(0.8 as decimal(2,1)), cast(0.9 as decimal(2,1)), 1.0) as array<double>), 1000000, 0, 0) AS summary#237]\\n+- Sort [factor#134 DESC NULLS LAST], true\\n   +- Project [l1_category_cma_id#1, impressions_total#115, clicks_total#117, ratio#122, ctr#128, (ctr#128 / ratio#122) AS factor#134]\\n      +- Project [l1_category_cma_id#1, impressions_total#115, clicks_total#117, ratio#122, (clicks_total#117 / impressions_total#115) AS ctr#128]\\n         +- Project [l1_category_cma_id#1, impressions_total#115, clicks_total#117, ratio#122]\\n            +- Project [l1_category_cma_id#1, impressions_total#115, clicks_total#117, _we0#123, (impressions_total#115 / _we0#123) AS ratio#122]\\n               +- Window [sum(impressions_total#115) windowspecdefinition(specifiedwindowframe(RowFrame, unboundedpreceding$(), unboundedfollowing$())) AS _we0#123]\\n                  +- Project [l1_category_cma_id#1, impressions_total#115, clicks_total#117]\\n                     +- Aggregate [l1_category_cma_id#1], [l1_category_cma_id#1, sum(impressions_adjust#2) AS impressions_total#115, sum(clicks_adjust#3) AS clicks_total#117]\\n                        +- Relation[customer_id#0,l1_category_cma_id#1,impressions_adjust#2,clicks_adjust#3,category_sales_adjust#4,topn#5,rank#6,dt#7] parquet\\n\"\n",
      "\n"
     ]
    }
   ],
   "source": [
    "df3.withColumn(\"summary\",\n",
    "               F.expr(\"approx_percentile(factor, array(0.1, 0.2,0.3,0.4,0.5,0.6, 0.7,0.8,0.9,1.0), 1000000)\").alias(\"quantiles\")).show(10,False)"
   ]
  },
  {
   "cell_type": "code",
   "execution_count": 16,
   "id": "8837dd63",
   "metadata": {},
   "outputs": [
    {
     "data": {
      "application/vnd.jupyter.widget-view+json": {
       "model_id": "8d5f259f6bba4a0e978cbf65ddf7ef6a",
       "version_major": 2,
       "version_minor": 0
      },
      "text/plain": [
       "VBox()"
      ]
     },
     "metadata": {},
     "output_type": "display_data"
    },
    {
     "data": {
      "application/vnd.jupyter.widget-view+json": {
       "model_id": "",
       "version_major": 2,
       "version_minor": 0
      },
      "text/plain": [
       "FloatProgress(value=0.0, bar_style='info', description='Progress:', layout=Layout(height='25px', width='50%'),…"
      ]
     },
     "metadata": {},
     "output_type": "display_data"
    },
    {
     "name": "stdout",
     "output_type": "stream",
     "text": [
      "+------------------+--------------------+------------------+---------------------+---------------------+-------------------+\n",
      "|l1_category_cma_id|impressions_total   |clicks_total      |ratio                |ctr                  |factor             |\n",
      "+------------------+--------------------+------------------+---------------------+---------------------+-------------------+\n",
      "|6810              |28709.0             |3225.0            |5.62370320152392E-6  |0.11233411125431049  |19975.113769138818 |\n",
      "|6811              |30235.0             |2905.0            |5.922625876835686E-6 |0.09608070117413593  |16222.652447105016 |\n",
      "|6808              |2026.0              |12.0              |3.968658847848222E-7 |0.005923000987166831 |14924.43975218036  |\n",
      "|6816              |960.0               |1.0               |1.880509621882672E-7 |0.0010416666666666667|5539.27857930236   |\n",
      "|6842              |45948.0             |1830.0            |9.000589177735939E-6 |0.03982763123530948  |4425.002680249868  |\n",
      "|442               |11198.0             |7.0               |2.1935361193585585E-6|6.251116270762637E-4 |284.97895318863544 |\n",
      "|49                |424163.0            |4779.0            |8.308777111943956E-5 |0.01126689503799247  |135.60232614491713 |\n",
      "|391               |169045.0            |628.0             |3.311361969074545E-5 |0.0037149871336034784|112.18909827129947 |\n",
      "|6809              |142226.0            |427.0             |2.7860141821029676E-5|0.003002264002362437 |107.76197844392298 |\n",
      "|6838              |3081282.0           |91115.0           |6.035812967431128E-4 |0.029570483973878407 |48.99171682992648  |\n",
      "|6822              |2023665.0           |27029.0           |3.96408489996583E-4  |0.013356459690709678 |33.693677173323934 |\n",
      "|6826              |7947603.0           |379965.0          |0.0015568274908753738|0.04780875441312305  |30.7090892814599   |\n",
      "|36                |2088922.0           |16258.0           |4.0919145003774946E-4|0.007782961738159682 |19.020343014111546 |\n",
      "|6839              |2784700.0           |11094.0           |5.454849108392371E-4 |0.003983912091069056 |7.303432252488423  |\n",
      "|44                |4083629.0           |23118.0           |7.99927461114491E-4  |0.005661141107578578 |7.077068087762919  |\n",
      "|35                |4309296.0           |24171.0           |8.441325616188032E-4 |0.005609036835715161 |6.644734595901197  |\n",
      "|60                |4725975.0           |25160.0           |9.257543187788501E-4 |0.005323769169324848 |5.750736519757596  |\n",
      "|34                |5849198.0           |33384.0           |0.0011457784499267585|0.005707449123794408 |4.981285102856704  |\n",
      "|55                |1.64811E7           |261575.0          |0.003228423659292761 |0.015871210052727062 |4.916086526327809  |\n",
      "|6841              |8221708.0           |62032.0           |0.001610520937740598 |0.0075449042948253576|4.6847601406599    |\n",
      "|1                 |3.4628308E7         |870414.0          |0.00678321524828299  |0.02513590903719581  |3.705603923384028  |\n",
      "|6804              |3.2030483E7         |650805.0          |0.006274336611984307 |0.02031830116330122  |3.2383186334778746 |\n",
      "|6843              |3.0033601E7         |495025.0          |0.005883174547946358 |0.016482372526691023 |2.8016120195591565 |\n",
      "|51                |8.211459666666667E7 |3664123.999999999 |0.01608513428423765  |0.044622078762367    |2.774119132228422  |\n",
      "|59                |3.9771003E7         |827386.0          |0.007790599355565064 |0.02080374990794172  |2.6703657778372296 |\n",
      "|6798              |3.9498572E7         |739944.0          |0.007737233822565155 |0.018733436742978962 |2.4212059726493043 |\n",
      "|446               |5.2118805E7         |1070499.0         |0.010209366071200699 |0.020539592187503147 |2.0118381537363694 |\n",
      "|23                |6.482176812433325E7 |1515986.6651154356|0.01269770402763085  |0.02338699959877142  |1.841829006872433  |\n",
      "|6802              |6.0878278E7         |1224111.0         |0.011925227869025853 |0.020107516838764723 |1.6861327145782468 |\n",
      "|6800              |8.675164E7          |2344119.0         |0.016993468097302258 |0.02702103383866864  |1.5900835358591856 |\n",
      "|443               |3.44194104E8        |3.559488E7        |0.06742295045492552  |0.1034151357804781   |1.5338269103131958 |\n",
      "|6821              |4.5696404E7         |552101.0          |0.008951304938274772 |0.012081935375046142 |1.3497401170398236 |\n",
      "|40                |7.6096056E7         |1474262.0         |0.014906183905762774 |0.01937369789572274  |1.2997087663887479 |\n",
      "|6801              |1.17408615E8        |3394211.0         |0.02299875314577273  |0.028909386249041436 |1.256997980099417  |\n",
      "|29                |8.3871202E7         |1701233.0         |0.01642922941248596  |0.020283875268653    |1.234621220471702  |\n",
      "|10                |5.7642965E7         |776626.0          |0.011291473991286051 |0.01347304046556245  |1.1932047557263095 |\n",
      "|15                |3.480693281328822E7 |268913.1468614727 |0.006818205423292937 |0.007725850143245311 |1.1331207647178831 |\n",
      "|16                |5.809978780208314E7 |738269.3913059167 |0.011380959374079047 |0.012706920614251304 |1.1165069829870609 |\n",
      "|53                |8.635335866666669E7 |1364190.9999999998|0.016915450193182514 |0.015797775802397274 |0.9339258265064858 |\n",
      "|20                |4.180175203864627E7 |281489.97463924985|0.008188395512523742 |0.006733927668366834 |0.8223745003606174 |\n",
      "|12                |7.05520645E7        |619320.0          |0.013820191264160092 |0.008778198120623387 |0.6351719706939145 |\n",
      "|6795              |1.27823338E8        |1986357.0         |0.025038855938558435 |0.01553986174261855  |0.6206298634710395 |\n",
      "|6797              |1.98243318E8        |4699539.0         |0.03883317364301524  |0.023705913759978534 |0.610455225161398  |\n",
      "|52                |9.957804666666667E7 |1023092.9999999999|0.019505986967182126 |0.010274282678236909 |0.5267245741280813 |\n",
      "|19                |1.0658244234908518E8|1160368.2579725701|0.020878052954292695 |0.010887048864690703 |0.5214590119358922 |\n",
      "|45                |1.05219969E8        |1074565.0         |0.020611162929030882 |0.010212557656237287 |0.49548672684804557|\n",
      "|46                |4.8103716E7         |220686.0          |0.009422864665240775 |0.004587712101077597 |0.48687021028762384|\n",
      "|18                |6.616797230882509E7 |396899.2198773514 |0.012961407144501226 |0.005998358511349083 |0.4627860574454556 |\n",
      "|32                |7.9482717E7         |494533.0          |0.015569584801237232 |0.006221893496670477 |0.39961845971487026|\n",
      "|25                |1.3843753932454222E8|1457145.6135281143|0.027118033825996087 |0.010525653812092797 |0.3881422185557796 |\n",
      "+------------------+--------------------+------------------+---------------------+---------------------+-------------------+\n",
      "only showing top 50 rows"
     ]
    }
   ],
   "source": [
    "df3.show(50,False)"
   ]
  },
  {
   "cell_type": "code",
   "execution_count": null,
   "id": "74a3f583",
   "metadata": {},
   "outputs": [],
   "source": []
  }
 ],
 "metadata": {
  "kernelspec": {
   "display_name": "PySpark",
   "language": "",
   "name": "pysparkkernel"
  },
  "language_info": {
   "codemirror_mode": {
    "name": "python",
    "version": 2
   },
   "mimetype": "text/x-python",
   "name": "pyspark",
   "pygments_lexer": "python2"
  }
 },
 "nbformat": 4,
 "nbformat_minor": 5
}
