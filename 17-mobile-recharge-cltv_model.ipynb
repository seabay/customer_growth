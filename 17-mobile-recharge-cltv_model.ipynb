{
 "cells": [
  {
   "cell_type": "markdown",
   "metadata": {
    "ExecuteTime": {
     "end_time": "2020-03-02T16:40:24.038424Z",
     "start_time": "2020-03-02T16:40:24.036779Z"
    }
   },
   "source": [
    "# Mobile - recharge"
   ]
  },
  {
   "cell_type": "code",
   "execution_count": 546,
   "metadata": {
    "ExecuteTime": {
     "end_time": "2020-03-19T19:43:13.334253Z",
     "start_time": "2020-03-19T19:43:11.993258Z"
    }
   },
   "outputs": [
    {
     "name": "stdout",
     "output_type": "stream",
     "text": [
      "\u001b[33mWARNING: The directory '/home/jovyan/.cache/pip' or its parent directory is not owned or is not writable by the current user. The cache has been disabled. Check the permissions and owner of that directory. If executing pip with sudo, you may want sudo's -H flag.\u001b[0m\n",
      "Requirement already satisfied: dfply in /opt/conda/lib/python3.7/site-packages (0.3.3)\n",
      "Requirement already satisfied: pandas in /opt/conda/lib/python3.7/site-packages (from dfply) (1.0.1)\n",
      "Requirement already satisfied: numpy in /opt/conda/lib/python3.7/site-packages (from dfply) (1.18.1)\n",
      "Requirement already satisfied: python-dateutil>=2.6.1 in /opt/conda/lib/python3.7/site-packages (from pandas->dfply) (2.8.1)\n",
      "Requirement already satisfied: pytz>=2017.2 in /opt/conda/lib/python3.7/site-packages (from pandas->dfply) (2019.3)\n",
      "Requirement already satisfied: six>=1.5 in /opt/conda/lib/python3.7/site-packages (from python-dateutil>=2.6.1->pandas->dfply) (1.14.0)\n"
     ]
    }
   ],
   "source": [
    "!pip install dfply"
   ]
  },
  {
   "cell_type": "code",
   "execution_count": 4,
   "metadata": {
    "ExecuteTime": {
     "end_time": "2020-03-18T18:19:22.046014Z",
     "start_time": "2020-03-18T18:19:20.789160Z"
    }
   },
   "outputs": [
    {
     "name": "stdout",
     "output_type": "stream",
     "text": [
      "\u001b[33mWARNING: The directory '/home/jovyan/.cache/pip' or its parent directory is not owned or is not writable by the current user. The cache has been disabled. Check the permissions and owner of that directory. If executing pip with sudo, you may want sudo's -H flag.\u001b[0m\n",
      "Requirement already satisfied: lifetimes in /opt/conda/lib/python3.7/site-packages (0.11.1)\n",
      "Requirement already satisfied: dill>=0.2.6 in /opt/conda/lib/python3.7/site-packages (from lifetimes) (0.3.1.1)\n",
      "Requirement already satisfied: pandas>=0.24.0 in /opt/conda/lib/python3.7/site-packages (from lifetimes) (1.0.1)\n",
      "Requirement already satisfied: scipy>=1.0.0 in /opt/conda/lib/python3.7/site-packages (from lifetimes) (1.4.1)\n",
      "Requirement already satisfied: autograd>=1.2.0 in /opt/conda/lib/python3.7/site-packages (from lifetimes) (1.3)\n",
      "Requirement already satisfied: numpy>=1.10.0 in /opt/conda/lib/python3.7/site-packages (from lifetimes) (1.18.1)\n",
      "Requirement already satisfied: pytz>=2017.2 in /opt/conda/lib/python3.7/site-packages (from pandas>=0.24.0->lifetimes) (2019.3)\n",
      "Requirement already satisfied: python-dateutil>=2.6.1 in /opt/conda/lib/python3.7/site-packages (from pandas>=0.24.0->lifetimes) (2.8.1)\n",
      "Requirement already satisfied: future>=0.15.2 in /opt/conda/lib/python3.7/site-packages (from autograd>=1.2.0->lifetimes) (0.18.2)\n",
      "Requirement already satisfied: six>=1.5 in /opt/conda/lib/python3.7/site-packages (from python-dateutil>=2.6.1->pandas>=0.24.0->lifetimes) (1.14.0)\n"
     ]
    }
   ],
   "source": [
    "!pip install lifetimes"
   ]
  },
  {
   "cell_type": "code",
   "execution_count": 8,
   "metadata": {
    "ExecuteTime": {
     "end_time": "2020-03-18T18:19:49.248045Z",
     "start_time": "2020-03-18T18:19:47.870183Z"
    }
   },
   "outputs": [
    {
     "name": "stdout",
     "output_type": "stream",
     "text": [
      "The autoreload extension is already loaded. To reload it, use:\n",
      "  %reload_ext autoreload\n"
     ]
    }
   ],
   "source": [
    "%load_ext autoreload\n",
    "%aimport utils"
   ]
  },
  {
   "cell_type": "code",
   "execution_count": 9,
   "metadata": {
    "ExecuteTime": {
     "end_time": "2020-03-18T18:19:49.252802Z",
     "start_time": "2020-03-18T18:19:49.249252Z"
    }
   },
   "outputs": [],
   "source": [
    "import random\n",
    "import time, datetime\n",
    "import os\n",
    "from functools import reduce\n",
    "import subprocess\n",
    "from datetime import datetime, timedelta\n",
    "from functools import reduce\n",
    "import pandas as pd\n",
    "import pathlib\n",
    "from dfply import *\n",
    "from lifetimes import BetaGeoFitter\n",
    "import seaborn as sb\n",
    "import matplotlib.pyplot as plt\n",
    "import scipy\n",
    "import numpy as np\n",
    "from sklearn.metrics import mean_absolute_error\n",
    "from utils import adjust_frequency_prediction\n"
   ]
  },
  {
   "cell_type": "code",
   "execution_count": 10,
   "metadata": {
    "ExecuteTime": {
     "end_time": "2020-03-18T18:19:51.004707Z",
     "start_time": "2020-03-18T18:19:51.000474Z"
    }
   },
   "outputs": [],
   "source": [
    "%matplotlib inline"
   ]
  },
  {
   "cell_type": "markdown",
   "metadata": {},
   "source": [
    "# training and testing data"
   ]
  },
  {
   "cell_type": "code",
   "execution_count": 11,
   "metadata": {
    "ExecuteTime": {
     "end_time": "2020-03-18T18:19:51.472558Z",
     "start_time": "2020-03-18T18:19:51.470033Z"
    }
   },
   "outputs": [],
   "source": [
    "path = '/tmp/data/pengcheng/cltv-summary/'"
   ]
  },
  {
   "cell_type": "code",
   "execution_count": 12,
   "metadata": {
    "ExecuteTime": {
     "end_time": "2020-03-18T18:19:51.720266Z",
     "start_time": "2020-03-18T18:19:51.716968Z"
    }
   },
   "outputs": [],
   "source": [
    "test_start_date = datetime.strptime('2019-07-01', \"%Y-%m-%d\").date()\n",
    "test_end_date = datetime.strptime('2019-12-31', \"%Y-%m-%d\").date()\n",
    "test_duration = (test_end_date - test_start_date).days\n"
   ]
  },
  {
   "cell_type": "code",
   "execution_count": 13,
   "metadata": {
    "ExecuteTime": {
     "end_time": "2020-03-18T18:19:53.647874Z",
     "start_time": "2020-03-18T18:19:53.645014Z"
    }
   },
   "outputs": [],
   "source": [
    "training_path = os.path.join(path,'17.pkl')\n",
    "testing_path = os.path.join(path,'17_testing.pkl')"
   ]
  },
  {
   "cell_type": "markdown",
   "metadata": {},
   "source": [
    "## training data"
   ]
  },
  {
   "cell_type": "code",
   "execution_count": 588,
   "metadata": {
    "ExecuteTime": {
     "end_time": "2020-03-19T19:50:30.265789Z",
     "start_time": "2020-03-19T19:50:30.061905Z"
    }
   },
   "outputs": [],
   "source": [
    "training_df = pd.read_pickle(training_path)\n"
   ]
  },
  {
   "cell_type": "code",
   "execution_count": 589,
   "metadata": {
    "ExecuteTime": {
     "end_time": "2020-03-19T19:50:31.483390Z",
     "start_time": "2020-03-19T19:50:30.267127Z"
    }
   },
   "outputs": [
    {
     "data": {
      "text/html": [
       "<div>\n",
       "<style scoped>\n",
       "    .dataframe tbody tr th:only-of-type {\n",
       "        vertical-align: middle;\n",
       "    }\n",
       "\n",
       "    .dataframe tbody tr th {\n",
       "        vertical-align: top;\n",
       "    }\n",
       "\n",
       "    .dataframe thead th {\n",
       "        text-align: right;\n",
       "    }\n",
       "</style>\n",
       "<table border=\"1\" class=\"dataframe\">\n",
       "  <thead>\n",
       "    <tr style=\"text-align: right;\">\n",
       "      <th></th>\n",
       "      <th>customer_id</th>\n",
       "      <th>frequency</th>\n",
       "      <th>recency</th>\n",
       "      <th>monetary_value</th>\n",
       "      <th>T</th>\n",
       "      <th>total_value</th>\n",
       "    </tr>\n",
       "  </thead>\n",
       "  <tbody>\n",
       "    <tr>\n",
       "      <th>count</th>\n",
       "      <td>5.866916e+06</td>\n",
       "      <td>5.866916e+06</td>\n",
       "      <td>5.866916e+06</td>\n",
       "      <td>5.866916e+06</td>\n",
       "      <td>5.866916e+06</td>\n",
       "      <td>5.866916e+06</td>\n",
       "    </tr>\n",
       "    <tr>\n",
       "      <th>mean</th>\n",
       "      <td>6.503439e+08</td>\n",
       "      <td>3.944184e+00</td>\n",
       "      <td>5.686486e+01</td>\n",
       "      <td>2.416703e+02</td>\n",
       "      <td>1.221059e+02</td>\n",
       "      <td>1.273889e+03</td>\n",
       "    </tr>\n",
       "    <tr>\n",
       "      <th>std</th>\n",
       "      <td>3.915961e+08</td>\n",
       "      <td>7.107977e+00</td>\n",
       "      <td>6.310752e+01</td>\n",
       "      <td>8.043828e+03</td>\n",
       "      <td>5.032994e+01</td>\n",
       "      <td>2.360424e+04</td>\n",
       "    </tr>\n",
       "    <tr>\n",
       "      <th>min</th>\n",
       "      <td>6.830000e+02</td>\n",
       "      <td>0.000000e+00</td>\n",
       "      <td>0.000000e+00</td>\n",
       "      <td>0.000000e+00</td>\n",
       "      <td>0.000000e+00</td>\n",
       "      <td>0.000000e+00</td>\n",
       "    </tr>\n",
       "    <tr>\n",
       "      <th>25%</th>\n",
       "      <td>3.097928e+08</td>\n",
       "      <td>0.000000e+00</td>\n",
       "      <td>0.000000e+00</td>\n",
       "      <td>3.500000e+01</td>\n",
       "      <td>8.600000e+01</td>\n",
       "      <td>7.000000e+01</td>\n",
       "    </tr>\n",
       "    <tr>\n",
       "      <th>50%</th>\n",
       "      <td>5.926928e+08</td>\n",
       "      <td>1.000000e+00</td>\n",
       "      <td>2.900000e+01</td>\n",
       "      <td>9.020000e+01</td>\n",
       "      <td>1.360000e+02</td>\n",
       "      <td>2.970000e+02</td>\n",
       "    </tr>\n",
       "    <tr>\n",
       "      <th>75%</th>\n",
       "      <td>1.066466e+09</td>\n",
       "      <td>5.000000e+00</td>\n",
       "      <td>1.150000e+02</td>\n",
       "      <td>1.596667e+02</td>\n",
       "      <td>1.660000e+02</td>\n",
       "      <td>1.030000e+03</td>\n",
       "    </tr>\n",
       "    <tr>\n",
       "      <th>max</th>\n",
       "      <td>1.147579e+09</td>\n",
       "      <td>1.800000e+02</td>\n",
       "      <td>1.800000e+02</td>\n",
       "      <td>9.999990e+05</td>\n",
       "      <td>1.800000e+02</td>\n",
       "      <td>1.070745e+07</td>\n",
       "    </tr>\n",
       "  </tbody>\n",
       "</table>\n",
       "</div>"
      ],
      "text/plain": [
       "        customer_id     frequency       recency  monetary_value             T  \\\n",
       "count  5.866916e+06  5.866916e+06  5.866916e+06    5.866916e+06  5.866916e+06   \n",
       "mean   6.503439e+08  3.944184e+00  5.686486e+01    2.416703e+02  1.221059e+02   \n",
       "std    3.915961e+08  7.107977e+00  6.310752e+01    8.043828e+03  5.032994e+01   \n",
       "min    6.830000e+02  0.000000e+00  0.000000e+00    0.000000e+00  0.000000e+00   \n",
       "25%    3.097928e+08  0.000000e+00  0.000000e+00    3.500000e+01  8.600000e+01   \n",
       "50%    5.926928e+08  1.000000e+00  2.900000e+01    9.020000e+01  1.360000e+02   \n",
       "75%    1.066466e+09  5.000000e+00  1.150000e+02    1.596667e+02  1.660000e+02   \n",
       "max    1.147579e+09  1.800000e+02  1.800000e+02    9.999990e+05  1.800000e+02   \n",
       "\n",
       "        total_value  \n",
       "count  5.866916e+06  \n",
       "mean   1.273889e+03  \n",
       "std    2.360424e+04  \n",
       "min    0.000000e+00  \n",
       "25%    7.000000e+01  \n",
       "50%    2.970000e+02  \n",
       "75%    1.030000e+03  \n",
       "max    1.070745e+07  "
      ]
     },
     "execution_count": 589,
     "metadata": {},
     "output_type": "execute_result"
    }
   ],
   "source": [
    "training_df.describe()"
   ]
  },
  {
   "cell_type": "code",
   "execution_count": 590,
   "metadata": {
    "ExecuteTime": {
     "end_time": "2020-03-19T19:50:31.492089Z",
     "start_time": "2020-03-19T19:50:31.484831Z"
    }
   },
   "outputs": [
    {
     "data": {
      "text/html": [
       "<div>\n",
       "<style scoped>\n",
       "    .dataframe tbody tr th:only-of-type {\n",
       "        vertical-align: middle;\n",
       "    }\n",
       "\n",
       "    .dataframe tbody tr th {\n",
       "        vertical-align: top;\n",
       "    }\n",
       "\n",
       "    .dataframe thead th {\n",
       "        text-align: right;\n",
       "    }\n",
       "</style>\n",
       "<table border=\"1\" class=\"dataframe\">\n",
       "  <thead>\n",
       "    <tr style=\"text-align: right;\">\n",
       "      <th></th>\n",
       "      <th>customer_id</th>\n",
       "      <th>frequency</th>\n",
       "      <th>recency</th>\n",
       "      <th>monetary_value</th>\n",
       "      <th>T</th>\n",
       "      <th>total_value</th>\n",
       "    </tr>\n",
       "  </thead>\n",
       "  <tbody>\n",
       "    <tr>\n",
       "      <th>0</th>\n",
       "      <td>7747</td>\n",
       "      <td>5</td>\n",
       "      <td>117.0</td>\n",
       "      <td>32.875000</td>\n",
       "      <td>178</td>\n",
       "      <td>526.0</td>\n",
       "    </tr>\n",
       "    <tr>\n",
       "      <th>1</th>\n",
       "      <td>50329</td>\n",
       "      <td>22</td>\n",
       "      <td>155.0</td>\n",
       "      <td>298.192322</td>\n",
       "      <td>162</td>\n",
       "      <td>7753.0</td>\n",
       "    </tr>\n",
       "    <tr>\n",
       "      <th>2</th>\n",
       "      <td>52001</td>\n",
       "      <td>4</td>\n",
       "      <td>162.0</td>\n",
       "      <td>54.142857</td>\n",
       "      <td>180</td>\n",
       "      <td>379.0</td>\n",
       "    </tr>\n",
       "    <tr>\n",
       "      <th>3</th>\n",
       "      <td>60691</td>\n",
       "      <td>1</td>\n",
       "      <td>24.0</td>\n",
       "      <td>232.000000</td>\n",
       "      <td>121</td>\n",
       "      <td>464.0</td>\n",
       "    </tr>\n",
       "    <tr>\n",
       "      <th>4</th>\n",
       "      <td>70593</td>\n",
       "      <td>0</td>\n",
       "      <td>0.0</td>\n",
       "      <td>399.000000</td>\n",
       "      <td>120</td>\n",
       "      <td>798.0</td>\n",
       "    </tr>\n",
       "  </tbody>\n",
       "</table>\n",
       "</div>"
      ],
      "text/plain": [
       "   customer_id  frequency  recency  monetary_value    T  total_value\n",
       "0         7747          5    117.0       32.875000  178        526.0\n",
       "1        50329         22    155.0      298.192322  162       7753.0\n",
       "2        52001          4    162.0       54.142857  180        379.0\n",
       "3        60691          1     24.0      232.000000  121        464.0\n",
       "4        70593          0      0.0      399.000000  120        798.0"
      ]
     },
     "execution_count": 590,
     "metadata": {},
     "output_type": "execute_result"
    }
   ],
   "source": [
    "training_df.head(5)"
   ]
  },
  {
   "cell_type": "code",
   "execution_count": 591,
   "metadata": {
    "ExecuteTime": {
     "end_time": "2020-03-19T19:50:31.663532Z",
     "start_time": "2020-03-19T19:50:31.493132Z"
    }
   },
   "outputs": [
    {
     "data": {
      "text/plain": [
       "5866916"
      ]
     },
     "execution_count": 591,
     "metadata": {},
     "output_type": "execute_result"
    }
   ],
   "source": [
    "len(training_df)"
   ]
  },
  {
   "cell_type": "code",
   "execution_count": 592,
   "metadata": {
    "ExecuteTime": {
     "end_time": "2020-03-19T19:50:31.891945Z",
     "start_time": "2020-03-19T19:50:31.664473Z"
    }
   },
   "outputs": [
    {
     "data": {
      "text/plain": [
       "0.25      0.0\n",
       "0.50     29.0\n",
       "0.75    115.0\n",
       "0.85    147.0\n",
       "0.95    169.0\n",
       "0.99    177.0\n",
       "Name: recency, dtype: float64"
      ]
     },
     "execution_count": 592,
     "metadata": {},
     "output_type": "execute_result"
    }
   ],
   "source": [
    "training_df.recency.quantile([.25, .5, .75, .85, .95, .99])"
   ]
  },
  {
   "cell_type": "code",
   "execution_count": 593,
   "metadata": {
    "ExecuteTime": {
     "end_time": "2020-03-19T19:50:32.297852Z",
     "start_time": "2020-03-19T19:50:32.187386Z"
    }
   },
   "outputs": [
    {
     "data": {
      "text/plain": [
       "0.25     0.0\n",
       "0.50     1.0\n",
       "0.75     5.0\n",
       "0.85     8.0\n",
       "0.95    17.0\n",
       "0.99    31.0\n",
       "Name: frequency, dtype: float64"
      ]
     },
     "execution_count": 593,
     "metadata": {},
     "output_type": "execute_result"
    }
   ],
   "source": [
    "training_df.frequency.quantile([.25, .5, .75, .85, .95, .99])"
   ]
  },
  {
   "cell_type": "code",
   "execution_count": 612,
   "metadata": {
    "ExecuteTime": {
     "end_time": "2020-03-19T19:51:13.160648Z",
     "start_time": "2020-03-19T19:51:13.033046Z"
    }
   },
   "outputs": [
    {
     "data": {
      "text/plain": [
       "0.25      70.00\n",
       "0.50     297.00\n",
       "0.75    1030.00\n",
       "0.85    1772.00\n",
       "0.95    3593.25\n",
       "0.99    7133.00\n",
       "Name: total_value, dtype: float64"
      ]
     },
     "execution_count": 612,
     "metadata": {},
     "output_type": "execute_result"
    }
   ],
   "source": [
    "training_df.total_value.quantile([.25, .5, .75, .85, .95, .99])"
   ]
  },
  {
   "cell_type": "code",
   "execution_count": 595,
   "metadata": {
    "ExecuteTime": {
     "end_time": "2020-03-19T19:50:32.685276Z",
     "start_time": "2020-03-19T19:50:32.669338Z"
    }
   },
   "outputs": [
    {
     "data": {
      "text/html": [
       "<div>\n",
       "<style scoped>\n",
       "    .dataframe tbody tr th:only-of-type {\n",
       "        vertical-align: middle;\n",
       "    }\n",
       "\n",
       "    .dataframe tbody tr th {\n",
       "        vertical-align: top;\n",
       "    }\n",
       "\n",
       "    .dataframe thead th {\n",
       "        text-align: right;\n",
       "    }\n",
       "</style>\n",
       "<table border=\"1\" class=\"dataframe\">\n",
       "  <thead>\n",
       "    <tr style=\"text-align: right;\">\n",
       "      <th></th>\n",
       "      <th>customer_id</th>\n",
       "      <th>frequency</th>\n",
       "      <th>recency</th>\n",
       "      <th>monetary_value</th>\n",
       "      <th>T</th>\n",
       "      <th>total_value</th>\n",
       "    </tr>\n",
       "  </thead>\n",
       "  <tbody>\n",
       "  </tbody>\n",
       "</table>\n",
       "</div>"
      ],
      "text/plain": [
       "Empty DataFrame\n",
       "Columns: [customer_id, frequency, recency, monetary_value, T, total_value]\n",
       "Index: []"
      ]
     },
     "execution_count": 595,
     "metadata": {},
     "output_type": "execute_result"
    }
   ],
   "source": [
    "training_df[training_df.frequency > 180].head(2)"
   ]
  },
  {
   "cell_type": "code",
   "execution_count": 596,
   "metadata": {
    "ExecuteTime": {
     "end_time": "2020-03-19T19:50:36.118305Z",
     "start_time": "2020-03-19T19:50:35.883081Z"
    }
   },
   "outputs": [],
   "source": [
    "training_df_filter = training_df[training_df.frequency < training_df.frequency.quantile(.99)]"
   ]
  },
  {
   "cell_type": "code",
   "execution_count": 597,
   "metadata": {
    "ExecuteTime": {
     "end_time": "2020-03-19T19:50:36.429412Z",
     "start_time": "2020-03-19T19:50:36.317832Z"
    }
   },
   "outputs": [
    {
     "data": {
      "text/plain": [
       "0.25     0.0\n",
       "0.50     1.0\n",
       "0.75     5.0\n",
       "0.85     8.0\n",
       "0.95    15.0\n",
       "0.99    24.0\n",
       "Name: frequency, dtype: float64"
      ]
     },
     "execution_count": 597,
     "metadata": {},
     "output_type": "execute_result"
    }
   ],
   "source": [
    "training_df_filter.frequency.quantile([.25, .5, .75, .85, .95, .99])"
   ]
  },
  {
   "cell_type": "code",
   "execution_count": 598,
   "metadata": {
    "ExecuteTime": {
     "end_time": "2020-03-19T19:50:39.581730Z",
     "start_time": "2020-03-19T19:50:39.579549Z"
    }
   },
   "outputs": [],
   "source": [
    "#training_df_filter = training_df_filter[training_df_filter.total_value < 5000]"
   ]
  },
  {
   "cell_type": "code",
   "execution_count": 613,
   "metadata": {
    "ExecuteTime": {
     "end_time": "2020-03-19T19:52:10.710088Z",
     "start_time": "2020-03-19T19:52:10.590762Z"
    }
   },
   "outputs": [
    {
     "data": {
      "text/plain": [
       "0.25      70.00\n",
       "0.50     284.00\n",
       "0.75     995.00\n",
       "0.85    1688.00\n",
       "0.95    3307.00\n",
       "0.99    5872.77\n",
       "Name: total_value, dtype: float64"
      ]
     },
     "execution_count": 613,
     "metadata": {},
     "output_type": "execute_result"
    }
   ],
   "source": [
    "training_df_filter.total_value.quantile([.25, .5, .75, .85, .95, .99])"
   ]
  },
  {
   "cell_type": "code",
   "execution_count": 614,
   "metadata": {
    "ExecuteTime": {
     "end_time": "2020-03-19T19:52:22.646661Z",
     "start_time": "2020-03-19T19:52:22.540648Z"
    }
   },
   "outputs": [
    {
     "data": {
      "text/plain": [
       "0.25     35.000000\n",
       "0.50     89.666664\n",
       "0.75    160.454544\n",
       "0.85    214.307693\n",
       "0.95    399.000000\n",
       "0.99    499.000000\n",
       "Name: monetary_value, dtype: float64"
      ]
     },
     "execution_count": 614,
     "metadata": {},
     "output_type": "execute_result"
    }
   ],
   "source": [
    "training_df_filter.monetary_value.quantile([.25, .5, .75, .85, .95, .99])"
   ]
  },
  {
   "cell_type": "markdown",
   "metadata": {},
   "source": [
    "## testing data"
   ]
  },
  {
   "cell_type": "code",
   "execution_count": 615,
   "metadata": {
    "ExecuteTime": {
     "end_time": "2020-03-19T19:52:23.725854Z",
     "start_time": "2020-03-19T19:52:23.682275Z"
    }
   },
   "outputs": [],
   "source": [
    "testing_df = pd.read_pickle(testing_path)\n"
   ]
  },
  {
   "cell_type": "code",
   "execution_count": 616,
   "metadata": {
    "ExecuteTime": {
     "end_time": "2020-03-19T19:52:23.858345Z",
     "start_time": "2020-03-19T19:52:23.855323Z"
    }
   },
   "outputs": [
    {
     "data": {
      "text/plain": [
       "2854316"
      ]
     },
     "execution_count": 616,
     "metadata": {},
     "output_type": "execute_result"
    }
   ],
   "source": [
    "len(testing_df)"
   ]
  },
  {
   "cell_type": "code",
   "execution_count": 617,
   "metadata": {
    "ExecuteTime": {
     "end_time": "2020-03-19T19:52:24.110507Z",
     "start_time": "2020-03-19T19:52:24.102778Z"
    }
   },
   "outputs": [
    {
     "data": {
      "text/html": [
       "<div>\n",
       "<style scoped>\n",
       "    .dataframe tbody tr th:only-of-type {\n",
       "        vertical-align: middle;\n",
       "    }\n",
       "\n",
       "    .dataframe tbody tr th {\n",
       "        vertical-align: top;\n",
       "    }\n",
       "\n",
       "    .dataframe thead th {\n",
       "        text-align: right;\n",
       "    }\n",
       "</style>\n",
       "<table border=\"1\" class=\"dataframe\">\n",
       "  <thead>\n",
       "    <tr style=\"text-align: right;\">\n",
       "      <th></th>\n",
       "      <th>customer_id</th>\n",
       "      <th>frequency</th>\n",
       "      <th>recency</th>\n",
       "      <th>monetary_value</th>\n",
       "      <th>T</th>\n",
       "      <th>total_value</th>\n",
       "    </tr>\n",
       "  </thead>\n",
       "  <tbody>\n",
       "    <tr>\n",
       "      <th>0</th>\n",
       "      <td>50329</td>\n",
       "      <td>9</td>\n",
       "      <td>168.0</td>\n",
       "      <td>424.666656</td>\n",
       "      <td>178</td>\n",
       "      <td>5096.0</td>\n",
       "    </tr>\n",
       "    <tr>\n",
       "      <th>1</th>\n",
       "      <td>52001</td>\n",
       "      <td>3</td>\n",
       "      <td>149.0</td>\n",
       "      <td>71.599998</td>\n",
       "      <td>174</td>\n",
       "      <td>358.0</td>\n",
       "    </tr>\n",
       "    <tr>\n",
       "      <th>2</th>\n",
       "      <td>60691</td>\n",
       "      <td>5</td>\n",
       "      <td>155.0</td>\n",
       "      <td>203.714279</td>\n",
       "      <td>178</td>\n",
       "      <td>1426.0</td>\n",
       "    </tr>\n",
       "    <tr>\n",
       "      <th>3</th>\n",
       "      <td>70593</td>\n",
       "      <td>0</td>\n",
       "      <td>0.0</td>\n",
       "      <td>119.000000</td>\n",
       "      <td>30</td>\n",
       "      <td>119.0</td>\n",
       "    </tr>\n",
       "    <tr>\n",
       "      <th>4</th>\n",
       "      <td>74706</td>\n",
       "      <td>1</td>\n",
       "      <td>61.0</td>\n",
       "      <td>50.000000</td>\n",
       "      <td>127</td>\n",
       "      <td>150.0</td>\n",
       "    </tr>\n",
       "  </tbody>\n",
       "</table>\n",
       "</div>"
      ],
      "text/plain": [
       "   customer_id  frequency  recency  monetary_value    T  total_value\n",
       "0        50329          9    168.0      424.666656  178       5096.0\n",
       "1        52001          3    149.0       71.599998  174        358.0\n",
       "2        60691          5    155.0      203.714279  178       1426.0\n",
       "3        70593          0      0.0      119.000000   30        119.0\n",
       "4        74706          1     61.0       50.000000  127        150.0"
      ]
     },
     "execution_count": 617,
     "metadata": {},
     "output_type": "execute_result"
    }
   ],
   "source": [
    "testing_df.head(5)"
   ]
  },
  {
   "cell_type": "code",
   "execution_count": 618,
   "metadata": {
    "ExecuteTime": {
     "end_time": "2020-03-19T19:52:24.812522Z",
     "start_time": "2020-03-19T19:52:24.234877Z"
    }
   },
   "outputs": [
    {
     "data": {
      "text/html": [
       "<div>\n",
       "<style scoped>\n",
       "    .dataframe tbody tr th:only-of-type {\n",
       "        vertical-align: middle;\n",
       "    }\n",
       "\n",
       "    .dataframe tbody tr th {\n",
       "        vertical-align: top;\n",
       "    }\n",
       "\n",
       "    .dataframe thead th {\n",
       "        text-align: right;\n",
       "    }\n",
       "</style>\n",
       "<table border=\"1\" class=\"dataframe\">\n",
       "  <thead>\n",
       "    <tr style=\"text-align: right;\">\n",
       "      <th></th>\n",
       "      <th>customer_id</th>\n",
       "      <th>frequency</th>\n",
       "      <th>recency</th>\n",
       "      <th>monetary_value</th>\n",
       "      <th>T</th>\n",
       "      <th>total_value</th>\n",
       "    </tr>\n",
       "  </thead>\n",
       "  <tbody>\n",
       "    <tr>\n",
       "      <th>count</th>\n",
       "      <td>2.854316e+06</td>\n",
       "      <td>2.854316e+06</td>\n",
       "      <td>2.854316e+06</td>\n",
       "      <td>2.854316e+06</td>\n",
       "      <td>2.854316e+06</td>\n",
       "      <td>2.854316e+06</td>\n",
       "    </tr>\n",
       "    <tr>\n",
       "      <th>mean</th>\n",
       "      <td>4.798332e+08</td>\n",
       "      <td>7.015593e+00</td>\n",
       "      <td>9.482183e+01</td>\n",
       "      <td>1.885471e+02</td>\n",
       "      <td>1.457367e+02</td>\n",
       "      <td>1.806828e+03</td>\n",
       "    </tr>\n",
       "    <tr>\n",
       "      <th>std</th>\n",
       "      <td>3.478855e+08</td>\n",
       "      <td>9.363479e+00</td>\n",
       "      <td>6.540769e+01</td>\n",
       "      <td>3.933385e+03</td>\n",
       "      <td>4.324795e+01</td>\n",
       "      <td>2.154348e+04</td>\n",
       "    </tr>\n",
       "    <tr>\n",
       "      <th>min</th>\n",
       "      <td>6.830000e+02</td>\n",
       "      <td>0.000000e+00</td>\n",
       "      <td>0.000000e+00</td>\n",
       "      <td>0.000000e+00</td>\n",
       "      <td>0.000000e+00</td>\n",
       "      <td>0.000000e+00</td>\n",
       "    </tr>\n",
       "    <tr>\n",
       "      <th>25%</th>\n",
       "      <td>2.368354e+08</td>\n",
       "      <td>1.000000e+00</td>\n",
       "      <td>2.600000e+01</td>\n",
       "      <td>6.062840e+01</td>\n",
       "      <td>1.300000e+02</td>\n",
       "      <td>2.540000e+02</td>\n",
       "    </tr>\n",
       "    <tr>\n",
       "      <th>50%</th>\n",
       "      <td>4.107674e+08</td>\n",
       "      <td>4.000000e+00</td>\n",
       "      <td>1.100000e+02</td>\n",
       "      <td>1.200000e+02</td>\n",
       "      <td>1.640000e+02</td>\n",
       "      <td>8.430000e+02</td>\n",
       "    </tr>\n",
       "    <tr>\n",
       "      <th>75%</th>\n",
       "      <td>6.491265e+08</td>\n",
       "      <td>1.000000e+01</td>\n",
       "      <td>1.560000e+02</td>\n",
       "      <td>1.976667e+02</td>\n",
       "      <td>1.770000e+02</td>\n",
       "      <td>2.045000e+03</td>\n",
       "    </tr>\n",
       "    <tr>\n",
       "      <th>max</th>\n",
       "      <td>1.147574e+09</td>\n",
       "      <td>1.830000e+02</td>\n",
       "      <td>1.830000e+02</td>\n",
       "      <td>9.963360e+05</td>\n",
       "      <td>1.830000e+02</td>\n",
       "      <td>1.348741e+07</td>\n",
       "    </tr>\n",
       "  </tbody>\n",
       "</table>\n",
       "</div>"
      ],
      "text/plain": [
       "        customer_id     frequency       recency  monetary_value             T  \\\n",
       "count  2.854316e+06  2.854316e+06  2.854316e+06    2.854316e+06  2.854316e+06   \n",
       "mean   4.798332e+08  7.015593e+00  9.482183e+01    1.885471e+02  1.457367e+02   \n",
       "std    3.478855e+08  9.363479e+00  6.540769e+01    3.933385e+03  4.324795e+01   \n",
       "min    6.830000e+02  0.000000e+00  0.000000e+00    0.000000e+00  0.000000e+00   \n",
       "25%    2.368354e+08  1.000000e+00  2.600000e+01    6.062840e+01  1.300000e+02   \n",
       "50%    4.107674e+08  4.000000e+00  1.100000e+02    1.200000e+02  1.640000e+02   \n",
       "75%    6.491265e+08  1.000000e+01  1.560000e+02    1.976667e+02  1.770000e+02   \n",
       "max    1.147574e+09  1.830000e+02  1.830000e+02    9.963360e+05  1.830000e+02   \n",
       "\n",
       "        total_value  \n",
       "count  2.854316e+06  \n",
       "mean   1.806828e+03  \n",
       "std    2.154348e+04  \n",
       "min    0.000000e+00  \n",
       "25%    2.540000e+02  \n",
       "50%    8.430000e+02  \n",
       "75%    2.045000e+03  \n",
       "max    1.348741e+07  "
      ]
     },
     "execution_count": 618,
     "metadata": {},
     "output_type": "execute_result"
    }
   ],
   "source": [
    "testing_df.describe()"
   ]
  },
  {
   "cell_type": "code",
   "execution_count": 619,
   "metadata": {
    "ExecuteTime": {
     "end_time": "2020-03-19T19:52:24.878727Z",
     "start_time": "2020-03-19T19:52:24.813746Z"
    }
   },
   "outputs": [
    {
     "data": {
      "text/plain": [
       "0.25     1.0\n",
       "0.50     4.0\n",
       "0.75    10.0\n",
       "0.85    14.0\n",
       "0.95    23.0\n",
       "0.99    41.0\n",
       "Name: frequency, dtype: float64"
      ]
     },
     "execution_count": 619,
     "metadata": {},
     "output_type": "execute_result"
    }
   ],
   "source": [
    "testing_df.frequency.quantile([.25, .5, .75, .85, .95, .99])"
   ]
  },
  {
   "cell_type": "code",
   "execution_count": 620,
   "metadata": {
    "ExecuteTime": {
     "end_time": "2020-03-19T19:52:25.010531Z",
     "start_time": "2020-03-19T19:52:24.880019Z"
    }
   },
   "outputs": [],
   "source": [
    "testing_df_filter = testing_df[testing_df.frequency < testing_df.frequency.quantile(.99)]"
   ]
  },
  {
   "cell_type": "code",
   "execution_count": 621,
   "metadata": {
    "ExecuteTime": {
     "end_time": "2020-03-19T19:52:25.074314Z",
     "start_time": "2020-03-19T19:52:25.011804Z"
    }
   },
   "outputs": [
    {
     "data": {
      "text/plain": [
       "0.25     1.0\n",
       "0.50     4.0\n",
       "0.75     9.0\n",
       "0.85    13.0\n",
       "0.95    22.0\n",
       "0.99    32.0\n",
       "Name: frequency, dtype: float64"
      ]
     },
     "execution_count": 621,
     "metadata": {},
     "output_type": "execute_result"
    }
   ],
   "source": [
    "testing_df_filter.frequency.quantile([.25, .5, .75, .85, .95, .99])"
   ]
  },
  {
   "cell_type": "code",
   "execution_count": 622,
   "metadata": {
    "ExecuteTime": {
     "end_time": "2020-03-19T19:52:25.278306Z",
     "start_time": "2020-03-19T19:52:25.217752Z"
    }
   },
   "outputs": [
    {
     "data": {
      "text/plain": [
       "0.25     60.285713\n",
       "0.50    120.300945\n",
       "0.75    198.500000\n",
       "0.85    259.000000\n",
       "0.95    399.000000\n",
       "0.99    545.269019\n",
       "Name: monetary_value, dtype: float64"
      ]
     },
     "execution_count": 622,
     "metadata": {},
     "output_type": "execute_result"
    }
   ],
   "source": [
    "testing_df_filter.monetary_value.quantile([.25, .5, .75, .85, .95, .99])"
   ]
  },
  {
   "cell_type": "markdown",
   "metadata": {},
   "source": [
    "## as one"
   ]
  },
  {
   "cell_type": "code",
   "execution_count": 623,
   "metadata": {
    "ExecuteTime": {
     "end_time": "2020-03-19T19:52:28.891757Z",
     "start_time": "2020-03-19T19:52:28.771327Z"
    }
   },
   "outputs": [
    {
     "data": {
      "text/html": [
       "<div>\n",
       "<style scoped>\n",
       "    .dataframe tbody tr th:only-of-type {\n",
       "        vertical-align: middle;\n",
       "    }\n",
       "\n",
       "    .dataframe tbody tr th {\n",
       "        vertical-align: top;\n",
       "    }\n",
       "\n",
       "    .dataframe thead th {\n",
       "        text-align: right;\n",
       "    }\n",
       "</style>\n",
       "<table border=\"1\" class=\"dataframe\">\n",
       "  <thead>\n",
       "    <tr style=\"text-align: right;\">\n",
       "      <th></th>\n",
       "      <th>frequency_holdout</th>\n",
       "      <th>id</th>\n",
       "      <th>money_holdout</th>\n",
       "      <th>total_holdout</th>\n",
       "    </tr>\n",
       "  </thead>\n",
       "  <tbody>\n",
       "    <tr>\n",
       "      <th>0</th>\n",
       "      <td>9</td>\n",
       "      <td>50329</td>\n",
       "      <td>424.666656</td>\n",
       "      <td>5096.0</td>\n",
       "    </tr>\n",
       "  </tbody>\n",
       "</table>\n",
       "</div>"
      ],
      "text/plain": [
       "   frequency_holdout     id  money_holdout  total_holdout\n",
       "0                  9  50329     424.666656         5096.0"
      ]
     },
     "execution_count": 623,
     "metadata": {},
     "output_type": "execute_result"
    }
   ],
   "source": [
    "post_df = ( testing_df_filter >> rename(frequency_holdout = X.frequency, \n",
    "                                        id=X.customer_id, \n",
    "                                        money_holdout=X.monetary_value,\n",
    "                                       total_holdout=X.total_value) \n",
    "          >> select(X.frequency_holdout, X.id, X.money_holdout, X.total_holdout))\n",
    "post_df.head(1)"
   ]
  },
  {
   "cell_type": "code",
   "execution_count": 624,
   "metadata": {
    "ExecuteTime": {
     "end_time": "2020-03-19T19:52:29.368586Z",
     "start_time": "2020-03-19T19:52:29.189655Z"
    }
   },
   "outputs": [
    {
     "data": {
      "text/html": [
       "<div>\n",
       "<style scoped>\n",
       "    .dataframe tbody tr th:only-of-type {\n",
       "        vertical-align: middle;\n",
       "    }\n",
       "\n",
       "    .dataframe tbody tr th {\n",
       "        vertical-align: top;\n",
       "    }\n",
       "\n",
       "    .dataframe thead th {\n",
       "        text-align: right;\n",
       "    }\n",
       "</style>\n",
       "<table border=\"1\" class=\"dataframe\">\n",
       "  <thead>\n",
       "    <tr style=\"text-align: right;\">\n",
       "      <th></th>\n",
       "      <th>id</th>\n",
       "      <th>frequency_cal</th>\n",
       "      <th>recency_cal</th>\n",
       "      <th>monetary_value</th>\n",
       "      <th>T_cal</th>\n",
       "      <th>total_value</th>\n",
       "    </tr>\n",
       "  </thead>\n",
       "  <tbody>\n",
       "    <tr>\n",
       "      <th>0</th>\n",
       "      <td>7747</td>\n",
       "      <td>5</td>\n",
       "      <td>117.0</td>\n",
       "      <td>32.875</td>\n",
       "      <td>178</td>\n",
       "      <td>526.0</td>\n",
       "    </tr>\n",
       "  </tbody>\n",
       "</table>\n",
       "</div>"
      ],
      "text/plain": [
       "     id  frequency_cal  recency_cal  monetary_value  T_cal  total_value\n",
       "0  7747              5        117.0          32.875    178        526.0"
      ]
     },
     "execution_count": 624,
     "metadata": {},
     "output_type": "execute_result"
    }
   ],
   "source": [
    "pre_df = ( training_df_filter >> rename(frequency_cal = 'frequency', recency_cal = 'recency', T_cal='T', id='customer_id') ) \n",
    "pre_df.head(1)"
   ]
  },
  {
   "cell_type": "code",
   "execution_count": 625,
   "metadata": {
    "ExecuteTime": {
     "end_time": "2020-03-19T19:52:31.744188Z",
     "start_time": "2020-03-19T19:52:29.415993Z"
    }
   },
   "outputs": [],
   "source": [
    "pre_post_df = pre_df >> left_join(post_df, by='id')"
   ]
  },
  {
   "cell_type": "code",
   "execution_count": 626,
   "metadata": {
    "ExecuteTime": {
     "end_time": "2020-03-19T19:52:31.754207Z",
     "start_time": "2020-03-19T19:52:31.745518Z"
    }
   },
   "outputs": [
    {
     "data": {
      "text/html": [
       "<div>\n",
       "<style scoped>\n",
       "    .dataframe tbody tr th:only-of-type {\n",
       "        vertical-align: middle;\n",
       "    }\n",
       "\n",
       "    .dataframe tbody tr th {\n",
       "        vertical-align: top;\n",
       "    }\n",
       "\n",
       "    .dataframe thead th {\n",
       "        text-align: right;\n",
       "    }\n",
       "</style>\n",
       "<table border=\"1\" class=\"dataframe\">\n",
       "  <thead>\n",
       "    <tr style=\"text-align: right;\">\n",
       "      <th></th>\n",
       "      <th>id</th>\n",
       "      <th>frequency_cal</th>\n",
       "      <th>recency_cal</th>\n",
       "      <th>monetary_value</th>\n",
       "      <th>T_cal</th>\n",
       "      <th>total_value</th>\n",
       "      <th>frequency_holdout</th>\n",
       "      <th>money_holdout</th>\n",
       "      <th>total_holdout</th>\n",
       "    </tr>\n",
       "  </thead>\n",
       "  <tbody>\n",
       "    <tr>\n",
       "      <th>0</th>\n",
       "      <td>7747</td>\n",
       "      <td>5</td>\n",
       "      <td>117.0</td>\n",
       "      <td>32.875</td>\n",
       "      <td>178</td>\n",
       "      <td>526.0</td>\n",
       "      <td>NaN</td>\n",
       "      <td>NaN</td>\n",
       "      <td>NaN</td>\n",
       "    </tr>\n",
       "  </tbody>\n",
       "</table>\n",
       "</div>"
      ],
      "text/plain": [
       "     id  frequency_cal  recency_cal  monetary_value  T_cal  total_value  \\\n",
       "0  7747              5        117.0          32.875    178        526.0   \n",
       "\n",
       "   frequency_holdout  money_holdout  total_holdout  \n",
       "0                NaN            NaN            NaN  "
      ]
     },
     "execution_count": 626,
     "metadata": {},
     "output_type": "execute_result"
    }
   ],
   "source": [
    "pre_post_df.head(1)"
   ]
  },
  {
   "cell_type": "code",
   "execution_count": 627,
   "metadata": {
    "ExecuteTime": {
     "end_time": "2020-03-19T19:52:32.676211Z",
     "start_time": "2020-03-19T19:52:32.650018Z"
    }
   },
   "outputs": [],
   "source": [
    "pre_post_df.frequency_holdout.fillna(0.0, inplace=True)"
   ]
  },
  {
   "cell_type": "code",
   "execution_count": 628,
   "metadata": {
    "ExecuteTime": {
     "end_time": "2020-03-19T19:52:32.932417Z",
     "start_time": "2020-03-19T19:52:32.925231Z"
    }
   },
   "outputs": [],
   "source": [
    "pre_post_df['duration_holdout'] = test_duration"
   ]
  },
  {
   "cell_type": "code",
   "execution_count": 629,
   "metadata": {
    "ExecuteTime": {
     "end_time": "2020-03-19T19:52:33.204625Z",
     "start_time": "2020-03-19T19:52:33.180500Z"
    }
   },
   "outputs": [],
   "source": [
    "pre_post_df.money_holdout.fillna(0.0, inplace=True)"
   ]
  },
  {
   "cell_type": "code",
   "execution_count": 630,
   "metadata": {
    "ExecuteTime": {
     "end_time": "2020-03-19T19:52:33.567260Z",
     "start_time": "2020-03-19T19:52:33.557112Z"
    }
   },
   "outputs": [
    {
     "data": {
      "text/html": [
       "<div>\n",
       "<style scoped>\n",
       "    .dataframe tbody tr th:only-of-type {\n",
       "        vertical-align: middle;\n",
       "    }\n",
       "\n",
       "    .dataframe tbody tr th {\n",
       "        vertical-align: top;\n",
       "    }\n",
       "\n",
       "    .dataframe thead th {\n",
       "        text-align: right;\n",
       "    }\n",
       "</style>\n",
       "<table border=\"1\" class=\"dataframe\">\n",
       "  <thead>\n",
       "    <tr style=\"text-align: right;\">\n",
       "      <th></th>\n",
       "      <th>id</th>\n",
       "      <th>frequency_cal</th>\n",
       "      <th>recency_cal</th>\n",
       "      <th>monetary_value</th>\n",
       "      <th>T_cal</th>\n",
       "      <th>total_value</th>\n",
       "      <th>frequency_holdout</th>\n",
       "      <th>money_holdout</th>\n",
       "      <th>total_holdout</th>\n",
       "      <th>duration_holdout</th>\n",
       "    </tr>\n",
       "  </thead>\n",
       "  <tbody>\n",
       "    <tr>\n",
       "      <th>0</th>\n",
       "      <td>7747</td>\n",
       "      <td>5</td>\n",
       "      <td>117.0</td>\n",
       "      <td>32.875000</td>\n",
       "      <td>178</td>\n",
       "      <td>526.0</td>\n",
       "      <td>0.0</td>\n",
       "      <td>0.000000</td>\n",
       "      <td>NaN</td>\n",
       "      <td>183</td>\n",
       "    </tr>\n",
       "    <tr>\n",
       "      <th>1</th>\n",
       "      <td>50329</td>\n",
       "      <td>22</td>\n",
       "      <td>155.0</td>\n",
       "      <td>298.192322</td>\n",
       "      <td>162</td>\n",
       "      <td>7753.0</td>\n",
       "      <td>9.0</td>\n",
       "      <td>424.666656</td>\n",
       "      <td>5096.0</td>\n",
       "      <td>183</td>\n",
       "    </tr>\n",
       "    <tr>\n",
       "      <th>2</th>\n",
       "      <td>52001</td>\n",
       "      <td>4</td>\n",
       "      <td>162.0</td>\n",
       "      <td>54.142857</td>\n",
       "      <td>180</td>\n",
       "      <td>379.0</td>\n",
       "      <td>3.0</td>\n",
       "      <td>71.599998</td>\n",
       "      <td>358.0</td>\n",
       "      <td>183</td>\n",
       "    </tr>\n",
       "    <tr>\n",
       "      <th>3</th>\n",
       "      <td>60691</td>\n",
       "      <td>1</td>\n",
       "      <td>24.0</td>\n",
       "      <td>232.000000</td>\n",
       "      <td>121</td>\n",
       "      <td>464.0</td>\n",
       "      <td>5.0</td>\n",
       "      <td>203.714279</td>\n",
       "      <td>1426.0</td>\n",
       "      <td>183</td>\n",
       "    </tr>\n",
       "    <tr>\n",
       "      <th>4</th>\n",
       "      <td>70593</td>\n",
       "      <td>0</td>\n",
       "      <td>0.0</td>\n",
       "      <td>399.000000</td>\n",
       "      <td>120</td>\n",
       "      <td>798.0</td>\n",
       "      <td>0.0</td>\n",
       "      <td>119.000000</td>\n",
       "      <td>119.0</td>\n",
       "      <td>183</td>\n",
       "    </tr>\n",
       "  </tbody>\n",
       "</table>\n",
       "</div>"
      ],
      "text/plain": [
       "      id  frequency_cal  recency_cal  monetary_value  T_cal  total_value  \\\n",
       "0   7747              5        117.0       32.875000    178        526.0   \n",
       "1  50329             22        155.0      298.192322    162       7753.0   \n",
       "2  52001              4        162.0       54.142857    180        379.0   \n",
       "3  60691              1         24.0      232.000000    121        464.0   \n",
       "4  70593              0          0.0      399.000000    120        798.0   \n",
       "\n",
       "   frequency_holdout  money_holdout  total_holdout  duration_holdout  \n",
       "0                0.0       0.000000            NaN               183  \n",
       "1                9.0     424.666656         5096.0               183  \n",
       "2                3.0      71.599998          358.0               183  \n",
       "3                5.0     203.714279         1426.0               183  \n",
       "4                0.0     119.000000          119.0               183  "
      ]
     },
     "execution_count": 630,
     "metadata": {},
     "output_type": "execute_result"
    }
   ],
   "source": [
    "pre_post_df.head(5)"
   ]
  },
  {
   "cell_type": "code",
   "execution_count": 631,
   "metadata": {
    "ExecuteTime": {
     "end_time": "2020-03-19T19:52:35.448311Z",
     "start_time": "2020-03-19T19:52:35.445116Z"
    }
   },
   "outputs": [
    {
     "data": {
      "text/plain": [
       "5803924"
      ]
     },
     "execution_count": 631,
     "metadata": {},
     "output_type": "execute_result"
    }
   ],
   "source": [
    "len(pre_post_df)"
   ]
  },
  {
   "cell_type": "markdown",
   "metadata": {},
   "source": [
    "# BetaGeo fit"
   ]
  },
  {
   "cell_type": "code",
   "execution_count": 632,
   "metadata": {
    "ExecuteTime": {
     "end_time": "2020-03-19T19:52:37.622416Z",
     "start_time": "2020-03-19T19:52:37.576079Z"
    }
   },
   "outputs": [],
   "source": [
    "mask=np.random.rand(len(pre_post_df)) <= 0.6"
   ]
  },
  {
   "cell_type": "code",
   "execution_count": 633,
   "metadata": {
    "ExecuteTime": {
     "end_time": "2020-03-19T19:52:38.123590Z",
     "start_time": "2020-03-19T19:52:37.835731Z"
    }
   },
   "outputs": [],
   "source": [
    "part = pre_post_df[mask]\n",
    "#part = pre_post_df"
   ]
  },
  {
   "cell_type": "code",
   "execution_count": 634,
   "metadata": {
    "ExecuteTime": {
     "end_time": "2020-03-19T19:52:38.136838Z",
     "start_time": "2020-03-19T19:52:38.127393Z"
    }
   },
   "outputs": [
    {
     "data": {
      "text/html": [
       "<div>\n",
       "<style scoped>\n",
       "    .dataframe tbody tr th:only-of-type {\n",
       "        vertical-align: middle;\n",
       "    }\n",
       "\n",
       "    .dataframe tbody tr th {\n",
       "        vertical-align: top;\n",
       "    }\n",
       "\n",
       "    .dataframe thead th {\n",
       "        text-align: right;\n",
       "    }\n",
       "</style>\n",
       "<table border=\"1\" class=\"dataframe\">\n",
       "  <thead>\n",
       "    <tr style=\"text-align: right;\">\n",
       "      <th></th>\n",
       "      <th>id</th>\n",
       "      <th>frequency_cal</th>\n",
       "      <th>recency_cal</th>\n",
       "      <th>monetary_value</th>\n",
       "      <th>T_cal</th>\n",
       "      <th>total_value</th>\n",
       "      <th>frequency_holdout</th>\n",
       "      <th>money_holdout</th>\n",
       "      <th>total_holdout</th>\n",
       "      <th>duration_holdout</th>\n",
       "    </tr>\n",
       "  </thead>\n",
       "  <tbody>\n",
       "    <tr>\n",
       "      <th>0</th>\n",
       "      <td>7747</td>\n",
       "      <td>5</td>\n",
       "      <td>117.0</td>\n",
       "      <td>32.875000</td>\n",
       "      <td>178</td>\n",
       "      <td>526.0</td>\n",
       "      <td>0.0</td>\n",
       "      <td>0.000000</td>\n",
       "      <td>NaN</td>\n",
       "      <td>183</td>\n",
       "    </tr>\n",
       "    <tr>\n",
       "      <th>2</th>\n",
       "      <td>52001</td>\n",
       "      <td>4</td>\n",
       "      <td>162.0</td>\n",
       "      <td>54.142857</td>\n",
       "      <td>180</td>\n",
       "      <td>379.0</td>\n",
       "      <td>3.0</td>\n",
       "      <td>71.599998</td>\n",
       "      <td>358.0</td>\n",
       "      <td>183</td>\n",
       "    </tr>\n",
       "    <tr>\n",
       "      <th>3</th>\n",
       "      <td>60691</td>\n",
       "      <td>1</td>\n",
       "      <td>24.0</td>\n",
       "      <td>232.000000</td>\n",
       "      <td>121</td>\n",
       "      <td>464.0</td>\n",
       "      <td>5.0</td>\n",
       "      <td>203.714279</td>\n",
       "      <td>1426.0</td>\n",
       "      <td>183</td>\n",
       "    </tr>\n",
       "  </tbody>\n",
       "</table>\n",
       "</div>"
      ],
      "text/plain": [
       "      id  frequency_cal  recency_cal  monetary_value  T_cal  total_value  \\\n",
       "0   7747              5        117.0       32.875000    178        526.0   \n",
       "2  52001              4        162.0       54.142857    180        379.0   \n",
       "3  60691              1         24.0      232.000000    121        464.0   \n",
       "\n",
       "   frequency_holdout  money_holdout  total_holdout  duration_holdout  \n",
       "0                0.0       0.000000            NaN               183  \n",
       "2                3.0      71.599998          358.0               183  \n",
       "3                5.0     203.714279         1426.0               183  "
      ]
     },
     "execution_count": 634,
     "metadata": {},
     "output_type": "execute_result"
    }
   ],
   "source": [
    "part.head(3)"
   ]
  },
  {
   "cell_type": "code",
   "execution_count": 635,
   "metadata": {
    "ExecuteTime": {
     "end_time": "2020-03-19T19:52:38.859951Z",
     "start_time": "2020-03-19T19:52:38.856914Z"
    }
   },
   "outputs": [
    {
     "data": {
      "text/plain": [
       "3481218"
      ]
     },
     "execution_count": 635,
     "metadata": {},
     "output_type": "execute_result"
    }
   ],
   "source": [
    "len(part)"
   ]
  },
  {
   "cell_type": "markdown",
   "metadata": {},
   "source": [
    "## model fitting"
   ]
  },
  {
   "cell_type": "code",
   "execution_count": 636,
   "metadata": {
    "ExecuteTime": {
     "end_time": "2020-03-19T19:53:48.771339Z",
     "start_time": "2020-03-19T19:52:44.069546Z"
    }
   },
   "outputs": [
    {
     "name": "stdout",
     "output_type": "stream",
     "text": [
      "Optimization terminated successfully.\n",
      "         Current function value: -3.648704\n",
      "         Iterations: 22\n",
      "         Function evaluations: 24\n",
      "         Gradient evaluations: 24\n"
     ]
    },
    {
     "data": {
      "text/plain": [
       "<lifetimes.BetaGeoFitter: fitted with 3481218 subjects, a: 0.29, alpha: 15.28, b: 3.96, r: 0.51>"
      ]
     },
     "execution_count": 636,
     "metadata": {},
     "output_type": "execute_result"
    }
   ],
   "source": [
    "bgf = BetaGeoFitter(penalizer_coef=0.00001)\n",
    "bgf.fit(part['frequency_cal'], part['recency_cal'], part['T_cal'], verbose=True, tol=0.0001)\n",
    "bgf"
   ]
  },
  {
   "cell_type": "code",
   "execution_count": 637,
   "metadata": {
    "ExecuteTime": {
     "end_time": "2020-03-19T19:53:49.421462Z",
     "start_time": "2020-03-19T19:53:48.772884Z"
    }
   },
   "outputs": [
    {
     "data": {
      "text/plain": [
       "<matplotlib.axes._subplots.AxesSubplot at 0x7f42579bb490>"
      ]
     },
     "execution_count": 637,
     "metadata": {},
     "output_type": "execute_result"
    },
    {
     "data": {
      "image/png": "[encoded data removed]",
      "text/plain": [
       "<Figure size 432x288 with 2 Axes>"
      ]
     },
     "metadata": {
      "needs_background": "light"
     },
     "output_type": "display_data"
    }
   ],
   "source": [
    "from lifetimes.plotting import plot_frequency_recency_matrix\n",
    "\n",
    "plot_frequency_recency_matrix(bgf)"
   ]
  },
  {
   "cell_type": "code",
   "execution_count": 638,
   "metadata": {
    "ExecuteTime": {
     "end_time": "2020-03-19T19:53:55.374773Z",
     "start_time": "2020-03-19T19:53:55.194819Z"
    }
   },
   "outputs": [
    {
     "data": {
      "text/plain": [
       "<matplotlib.axes._subplots.AxesSubplot at 0x7f4257682ad0>"
      ]
     },
     "execution_count": 638,
     "metadata": {},
     "output_type": "execute_result"
    },
    {
     "data": {
      "image/png": "[encoded data removed]",
      "text/plain": [
       "<Figure size 432x288 with 2 Axes>"
      ]
     },
     "metadata": {
      "needs_background": "light"
     },
     "output_type": "display_data"
    }
   ],
   "source": [
    "from lifetimes.plotting import plot_probability_alive_matrix\n",
    "\n",
    "plot_probability_alive_matrix(bgf)"
   ]
  },
  {
   "cell_type": "code",
   "execution_count": 86,
   "metadata": {
    "ExecuteTime": {
     "end_time": "2020-03-09T20:27:37.698633Z",
     "start_time": "2020-03-09T20:15:22.305630Z"
    }
   },
   "outputs": [
    {
     "data": {
      "text/plain": [
       "<matplotlib.axes._subplots.AxesSubplot at 0x7fa3ba6e19d0>"
      ]
     },
     "execution_count": 86,
     "metadata": {},
     "output_type": "execute_result"
    },
    {
     "data": {
      "image/png": "[encoded data removed]",
      "text/plain": [
       "<Figure size 432x288 with 1 Axes>"
      ]
     },
     "metadata": {
      "needs_background": "light"
     },
     "output_type": "display_data"
    }
   ],
   "source": [
    "from lifetimes.plotting import plot_period_transactions\n",
    "plot_period_transactions(bgf, max_frequency=20)"
   ]
  },
  {
   "cell_type": "code",
   "execution_count": 347,
   "metadata": {
    "ExecuteTime": {
     "end_time": "2020-03-19T17:55:14.466745Z",
     "start_time": "2020-03-19T17:55:14.397321Z"
    }
   },
   "outputs": [
    {
     "data": {
      "text/plain": [
       "0.100     0.0\n",
       "0.200     0.0\n",
       "0.250     0.0\n",
       "0.500     1.0\n",
       "0.750     4.0\n",
       "0.850     7.0\n",
       "0.950    14.0\n",
       "0.990    22.0\n",
       "0.995    25.0\n",
       "Name: frequency_cal, dtype: float64"
      ]
     },
     "execution_count": 347,
     "metadata": {},
     "output_type": "execute_result"
    }
   ],
   "source": [
    "part.frequency_cal.quantile([.1, .2, .25, .5, .75, .85, .95, .99, .995])"
   ]
  },
  {
   "cell_type": "markdown",
   "metadata": {},
   "source": [
    "## customer alive history"
   ]
  },
  {
   "cell_type": "code",
   "execution_count": 348,
   "metadata": {
    "ExecuteTime": {
     "end_time": "2020-03-19T17:55:19.439212Z",
     "start_time": "2020-03-19T17:55:19.436734Z"
    }
   },
   "outputs": [],
   "source": [
    "from lifetimes.plotting import plot_history_alive"
   ]
  },
  {
   "cell_type": "code",
   "execution_count": 349,
   "metadata": {
    "ExecuteTime": {
     "end_time": "2020-03-19T17:55:19.625648Z",
     "start_time": "2020-03-19T17:55:19.617229Z"
    }
   },
   "outputs": [
    {
     "name": "stdout",
     "output_type": "stream",
     "text": [
      "   customer_id  price  category_id          dt\n",
      "0       894577     50           17  2019-03-11\n",
      "1       894577     30           17  2019-03-18\n"
     ]
    }
   ],
   "source": [
    "cst = utils.load_customer_alive_history(17).sort_values(by='dt')"
   ]
  },
  {
   "cell_type": "code",
   "execution_count": 350,
   "metadata": {
    "ExecuteTime": {
     "end_time": "2020-03-19T17:55:19.790547Z",
     "start_time": "2020-03-19T17:55:19.787655Z"
    }
   },
   "outputs": [],
   "source": [
    "cst['dt'] = pd.to_datetime(cst.dt)"
   ]
  },
  {
   "cell_type": "code",
   "execution_count": 351,
   "metadata": {
    "ExecuteTime": {
     "end_time": "2020-03-19T17:55:19.967361Z",
     "start_time": "2020-03-19T17:55:19.963995Z"
    }
   },
   "outputs": [
    {
     "data": {
      "text/plain": [
       "array([894577, 233176])"
      ]
     },
     "execution_count": 351,
     "metadata": {},
     "output_type": "execute_result"
    }
   ],
   "source": [
    "cst.customer_id.unique()"
   ]
  },
  {
   "cell_type": "code",
   "execution_count": 352,
   "metadata": {
    "ExecuteTime": {
     "end_time": "2020-03-19T17:55:22.210476Z",
     "start_time": "2020-03-19T17:55:21.709796Z"
    }
   },
   "outputs": [
    {
     "data": {
      "text/plain": [
       "<matplotlib.axes._subplots.AxesSubplot at 0x7f42570e2d50>"
      ]
     },
     "execution_count": 352,
     "metadata": {},
     "output_type": "execute_result"
    },
    {
     "data": {
      "image/png": "[encoded data removed]",
      "text/plain": [
       "<Figure size 432x288 with 1 Axes>"
      ]
     },
     "metadata": {
      "needs_background": "light"
     },
     "output_type": "display_data"
    }
   ],
   "source": [
    "id = 894577\n",
    "days_since_birth = 300\n",
    "sp_trans = cst.loc[cst['customer_id'] == id]\n",
    "plot_history_alive(bgf, days_since_birth, sp_trans, 'dt', freq=\"D\")"
   ]
  },
  {
   "cell_type": "code",
   "execution_count": 353,
   "metadata": {
    "ExecuteTime": {
     "end_time": "2020-03-19T17:55:22.218452Z",
     "start_time": "2020-03-19T17:55:22.212189Z"
    }
   },
   "outputs": [
    {
     "data": {
      "text/plain": [
       "customer_id    32\n",
       "price          32\n",
       "category_id    32\n",
       "dt             32\n",
       "dtype: int64"
      ]
     },
     "execution_count": 353,
     "metadata": {},
     "output_type": "execute_result"
    }
   ],
   "source": [
    "cst[cst.customer_id==894577].count()"
   ]
  },
  {
   "cell_type": "code",
   "execution_count": 354,
   "metadata": {
    "ExecuteTime": {
     "end_time": "2020-03-19T17:55:22.488993Z",
     "start_time": "2020-03-19T17:55:22.220163Z"
    }
   },
   "outputs": [
    {
     "data": {
      "text/plain": [
       "<matplotlib.axes._subplots.AxesSubplot at 0x7f42572807d0>"
      ]
     },
     "execution_count": 354,
     "metadata": {},
     "output_type": "execute_result"
    },
    {
     "data": {
      "image/png": "[encoded data removed]",
      "text/plain": [
       "<Figure size 432x288 with 1 Axes>"
      ]
     },
     "metadata": {
      "needs_background": "light"
     },
     "output_type": "display_data"
    }
   ],
   "source": [
    "id = 233176\n",
    "days_since_birth = 300\n",
    "sp_trans = cst.loc[cst['customer_id'] == id]\n",
    "plot_history_alive(bgf, days_since_birth, sp_trans, 'dt', freq=\"W\")"
   ]
  },
  {
   "cell_type": "code",
   "execution_count": 355,
   "metadata": {
    "ExecuteTime": {
     "end_time": "2020-03-19T17:55:25.815610Z",
     "start_time": "2020-03-19T17:55:25.810004Z"
    }
   },
   "outputs": [
    {
     "data": {
      "text/plain": [
       "customer_id    7\n",
       "price          7\n",
       "category_id    7\n",
       "dt             7\n",
       "dtype: int64"
      ]
     },
     "execution_count": 355,
     "metadata": {},
     "output_type": "execute_result"
    }
   ],
   "source": [
    "cst[cst.customer_id==233176].count()"
   ]
  },
  {
   "cell_type": "markdown",
   "metadata": {},
   "source": [
    "## model evaluation"
   ]
  },
  {
   "cell_type": "code",
   "execution_count": 639,
   "metadata": {
    "ExecuteTime": {
     "end_time": "2020-03-19T19:54:05.421789Z",
     "start_time": "2020-03-19T19:54:02.650880Z"
    }
   },
   "outputs": [],
   "source": [
    "t=180\n",
    "part['predicted_purchases'] = bgf.conditional_expected_number_of_purchases_up_to_time(t, part['frequency_cal'], part['recency_cal'], part['T_cal'])\n",
    "part['palive'] = bgf.conditional_probability_alive(part['frequency_cal'], part['recency_cal'], part['T_cal'])"
   ]
  },
  {
   "cell_type": "code",
   "execution_count": 640,
   "metadata": {
    "ExecuteTime": {
     "end_time": "2020-03-19T19:54:06.236557Z",
     "start_time": "2020-03-19T19:54:05.423631Z"
    }
   },
   "outputs": [
    {
     "data": {
      "text/html": [
       "<div>\n",
       "<style scoped>\n",
       "    .dataframe tbody tr th:only-of-type {\n",
       "        vertical-align: middle;\n",
       "    }\n",
       "\n",
       "    .dataframe tbody tr th {\n",
       "        vertical-align: top;\n",
       "    }\n",
       "\n",
       "    .dataframe thead th {\n",
       "        text-align: right;\n",
       "    }\n",
       "</style>\n",
       "<table border=\"1\" class=\"dataframe\">\n",
       "  <thead>\n",
       "    <tr style=\"text-align: right;\">\n",
       "      <th></th>\n",
       "      <th>id</th>\n",
       "      <th>frequency_cal</th>\n",
       "      <th>recency_cal</th>\n",
       "      <th>monetary_value</th>\n",
       "      <th>T_cal</th>\n",
       "      <th>total_value</th>\n",
       "      <th>frequency_holdout</th>\n",
       "      <th>money_holdout</th>\n",
       "      <th>total_holdout</th>\n",
       "      <th>duration_holdout</th>\n",
       "      <th>predicted_purchases</th>\n",
       "      <th>palive</th>\n",
       "    </tr>\n",
       "  </thead>\n",
       "  <tbody>\n",
       "    <tr>\n",
       "      <th>2835256</th>\n",
       "      <td>1056014921</td>\n",
       "      <td>30</td>\n",
       "      <td>34.0</td>\n",
       "      <td>121.389999</td>\n",
       "      <td>177</td>\n",
       "      <td>12139.0</td>\n",
       "      <td>0.0</td>\n",
       "      <td>0.0</td>\n",
       "      <td>NaN</td>\n",
       "      <td>183</td>\n",
       "      <td>2.714819e-15</td>\n",
       "      <td>1.047198e-16</td>\n",
       "    </tr>\n",
       "    <tr>\n",
       "      <th>1673535</th>\n",
       "      <td>1049319440</td>\n",
       "      <td>29</td>\n",
       "      <td>36.0</td>\n",
       "      <td>76.935066</td>\n",
       "      <td>180</td>\n",
       "      <td>5924.0</td>\n",
       "      <td>0.0</td>\n",
       "      <td>0.0</td>\n",
       "      <td>NaN</td>\n",
       "      <td>183</td>\n",
       "      <td>2.006928e-14</td>\n",
       "      <td>8.117197e-16</td>\n",
       "    </tr>\n",
       "    <tr>\n",
       "      <th>2482089</th>\n",
       "      <td>655908197</td>\n",
       "      <td>23</td>\n",
       "      <td>24.0</td>\n",
       "      <td>12.545455</td>\n",
       "      <td>180</td>\n",
       "      <td>414.0</td>\n",
       "      <td>0.0</td>\n",
       "      <td>0.0</td>\n",
       "      <td>NaN</td>\n",
       "      <td>183</td>\n",
       "      <td>7.523121e-14</td>\n",
       "      <td>3.813410e-15</td>\n",
       "    </tr>\n",
       "    <tr>\n",
       "      <th>5763433</th>\n",
       "      <td>1005024445</td>\n",
       "      <td>30</td>\n",
       "      <td>41.0</td>\n",
       "      <td>74.289062</td>\n",
       "      <td>179</td>\n",
       "      <td>9509.0</td>\n",
       "      <td>0.0</td>\n",
       "      <td>0.0</td>\n",
       "      <td>NaN</td>\n",
       "      <td>183</td>\n",
       "      <td>1.128600e-13</td>\n",
       "      <td>4.395142e-15</td>\n",
       "    </tr>\n",
       "    <tr>\n",
       "      <th>4023671</th>\n",
       "      <td>1049174290</td>\n",
       "      <td>25</td>\n",
       "      <td>31.0</td>\n",
       "      <td>95.816093</td>\n",
       "      <td>180</td>\n",
       "      <td>8336.0</td>\n",
       "      <td>0.0</td>\n",
       "      <td>0.0</td>\n",
       "      <td>NaN</td>\n",
       "      <td>183</td>\n",
       "      <td>2.332655e-13</td>\n",
       "      <td>1.090347e-14</td>\n",
       "    </tr>\n",
       "  </tbody>\n",
       "</table>\n",
       "</div>"
      ],
      "text/plain": [
       "                 id  frequency_cal  recency_cal  monetary_value  T_cal  \\\n",
       "2835256  1056014921             30         34.0      121.389999    177   \n",
       "1673535  1049319440             29         36.0       76.935066    180   \n",
       "2482089   655908197             23         24.0       12.545455    180   \n",
       "5763433  1005024445             30         41.0       74.289062    179   \n",
       "4023671  1049174290             25         31.0       95.816093    180   \n",
       "\n",
       "         total_value  frequency_holdout  money_holdout  total_holdout  \\\n",
       "2835256      12139.0                0.0            0.0            NaN   \n",
       "1673535       5924.0                0.0            0.0            NaN   \n",
       "2482089        414.0                0.0            0.0            NaN   \n",
       "5763433       9509.0                0.0            0.0            NaN   \n",
       "4023671       8336.0                0.0            0.0            NaN   \n",
       "\n",
       "         duration_holdout  predicted_purchases        palive  \n",
       "2835256               183         2.714819e-15  1.047198e-16  \n",
       "1673535               183         2.006928e-14  8.117197e-16  \n",
       "2482089               183         7.523121e-14  3.813410e-15  \n",
       "5763433               183         1.128600e-13  4.395142e-15  \n",
       "4023671               183         2.332655e-13  1.090347e-14  "
      ]
     },
     "execution_count": 640,
     "metadata": {},
     "output_type": "execute_result"
    }
   ],
   "source": [
    "part.sort_values(by='predicted_purchases').head(5)"
   ]
  },
  {
   "cell_type": "code",
   "execution_count": 641,
   "metadata": {
    "ExecuteTime": {
     "end_time": "2020-03-19T19:54:07.025225Z",
     "start_time": "2020-03-19T19:54:06.238003Z"
    }
   },
   "outputs": [
    {
     "data": {
      "text/html": [
       "<div>\n",
       "<style scoped>\n",
       "    .dataframe tbody tr th:only-of-type {\n",
       "        vertical-align: middle;\n",
       "    }\n",
       "\n",
       "    .dataframe tbody tr th {\n",
       "        vertical-align: top;\n",
       "    }\n",
       "\n",
       "    .dataframe thead th {\n",
       "        text-align: right;\n",
       "    }\n",
       "</style>\n",
       "<table border=\"1\" class=\"dataframe\">\n",
       "  <thead>\n",
       "    <tr style=\"text-align: right;\">\n",
       "      <th></th>\n",
       "      <th>id</th>\n",
       "      <th>frequency_cal</th>\n",
       "      <th>recency_cal</th>\n",
       "      <th>monetary_value</th>\n",
       "      <th>T_cal</th>\n",
       "      <th>total_value</th>\n",
       "      <th>frequency_holdout</th>\n",
       "      <th>money_holdout</th>\n",
       "      <th>total_holdout</th>\n",
       "      <th>duration_holdout</th>\n",
       "      <th>predicted_purchases</th>\n",
       "      <th>palive</th>\n",
       "    </tr>\n",
       "  </thead>\n",
       "  <tbody>\n",
       "    <tr>\n",
       "      <th>302163</th>\n",
       "      <td>491206210</td>\n",
       "      <td>19</td>\n",
       "      <td>19.0</td>\n",
       "      <td>117.209000</td>\n",
       "      <td>19</td>\n",
       "      <td>36452.0</td>\n",
       "      <td>0.0</td>\n",
       "      <td>0.000000</td>\n",
       "      <td>NaN</td>\n",
       "      <td>183</td>\n",
       "      <td>74.444028</td>\n",
       "      <td>0.987111</td>\n",
       "    </tr>\n",
       "    <tr>\n",
       "      <th>2318942</th>\n",
       "      <td>1123276818</td>\n",
       "      <td>25</td>\n",
       "      <td>30.0</td>\n",
       "      <td>107.054054</td>\n",
       "      <td>30</td>\n",
       "      <td>7922.0</td>\n",
       "      <td>0.0</td>\n",
       "      <td>0.000000</td>\n",
       "      <td>NaN</td>\n",
       "      <td>183</td>\n",
       "      <td>77.013362</td>\n",
       "      <td>0.989848</td>\n",
       "    </tr>\n",
       "    <tr>\n",
       "      <th>5568961</th>\n",
       "      <td>1119344079</td>\n",
       "      <td>29</td>\n",
       "      <td>38.0</td>\n",
       "      <td>124.358971</td>\n",
       "      <td>38</td>\n",
       "      <td>9700.0</td>\n",
       "      <td>0.0</td>\n",
       "      <td>0.000000</td>\n",
       "      <td>NaN</td>\n",
       "      <td>183</td>\n",
       "      <td>77.581191</td>\n",
       "      <td>0.991107</td>\n",
       "    </tr>\n",
       "    <tr>\n",
       "      <th>4914558</th>\n",
       "      <td>474515810</td>\n",
       "      <td>30</td>\n",
       "      <td>37.0</td>\n",
       "      <td>147.894730</td>\n",
       "      <td>38</td>\n",
       "      <td>11240.0</td>\n",
       "      <td>19.0</td>\n",
       "      <td>117.137253</td>\n",
       "      <td>5974.0</td>\n",
       "      <td>183</td>\n",
       "      <td>79.661750</td>\n",
       "      <td>0.984727</td>\n",
       "    </tr>\n",
       "    <tr>\n",
       "      <th>5396056</th>\n",
       "      <td>1139300820</td>\n",
       "      <td>30</td>\n",
       "      <td>33.0</td>\n",
       "      <td>99.431953</td>\n",
       "      <td>33</td>\n",
       "      <td>16804.0</td>\n",
       "      <td>0.0</td>\n",
       "      <td>0.000000</td>\n",
       "      <td>NaN</td>\n",
       "      <td>183</td>\n",
       "      <td>87.182477</td>\n",
       "      <td>0.991375</td>\n",
       "    </tr>\n",
       "  </tbody>\n",
       "</table>\n",
       "</div>"
      ],
      "text/plain": [
       "                 id  frequency_cal  recency_cal  monetary_value  T_cal  \\\n",
       "302163    491206210             19         19.0      117.209000     19   \n",
       "2318942  1123276818             25         30.0      107.054054     30   \n",
       "5568961  1119344079             29         38.0      124.358971     38   \n",
       "4914558   474515810             30         37.0      147.894730     38   \n",
       "5396056  1139300820             30         33.0       99.431953     33   \n",
       "\n",
       "         total_value  frequency_holdout  money_holdout  total_holdout  \\\n",
       "302163       36452.0                0.0       0.000000            NaN   \n",
       "2318942       7922.0                0.0       0.000000            NaN   \n",
       "5568961       9700.0                0.0       0.000000            NaN   \n",
       "4914558      11240.0               19.0     117.137253         5974.0   \n",
       "5396056      16804.0                0.0       0.000000            NaN   \n",
       "\n",
       "         duration_holdout  predicted_purchases    palive  \n",
       "302163                183            74.444028  0.987111  \n",
       "2318942               183            77.013362  0.989848  \n",
       "5568961               183            77.581191  0.991107  \n",
       "4914558               183            79.661750  0.984727  \n",
       "5396056               183            87.182477  0.991375  "
      ]
     },
     "execution_count": 641,
     "metadata": {},
     "output_type": "execute_result"
    }
   ],
   "source": [
    "part.sort_values(by='predicted_purchases').tail(5)"
   ]
  },
  {
   "cell_type": "code",
   "execution_count": 642,
   "metadata": {
    "ExecuteTime": {
     "end_time": "2020-03-19T19:54:07.157151Z",
     "start_time": "2020-03-19T19:54:07.026410Z"
    }
   },
   "outputs": [
    {
     "name": "stdout",
     "output_type": "stream",
     "text": [
      "0.100     0.000000\n",
      "0.250     0.000000\n",
      "0.500     1.739239\n",
      "0.750     4.802391\n",
      "0.850     7.776369\n",
      "0.950    13.858545\n",
      "0.990    21.504782\n",
      "0.995    23.842000\n",
      "Name: predicted_purchases, dtype: float64\n"
     ]
    }
   ],
   "source": [
    "utils.adjust_frequency_prediction(part)"
   ]
  },
  {
   "cell_type": "code",
   "execution_count": 643,
   "metadata": {
    "ExecuteTime": {
     "end_time": "2020-03-19T19:59:17.314322Z",
     "start_time": "2020-03-19T19:54:09.311694Z"
    }
   },
   "outputs": [],
   "source": [
    "mae, by_interval, alive, mae1, by_interval1 = utils.perf_trax_freq_by_interval(part, 2)"
   ]
  },
  {
   "cell_type": "code",
   "execution_count": 644,
   "metadata": {
    "ExecuteTime": {
     "end_time": "2020-03-19T19:59:17.318575Z",
     "start_time": "2020-03-19T19:59:17.315643Z"
    }
   },
   "outputs": [
    {
     "name": "stdout",
     "output_type": "stream",
     "text": [
      "2.588071198637958 0.6001907952906138 0.414156769268687 2.612666313916566 0.564692874735222\n"
     ]
    }
   ],
   "source": [
    "print(mae, by_interval, alive, mae1, by_interval1)"
   ]
  },
  {
   "cell_type": "code",
   "execution_count": 645,
   "metadata": {
    "ExecuteTime": {
     "end_time": "2020-03-19T19:59:17.523352Z",
     "start_time": "2020-03-19T19:59:17.319869Z"
    }
   },
   "outputs": [
    {
     "data": {
      "text/plain": [
       "count    3.481218e+06\n",
       "mean     3.491841e+00\n",
       "std      5.272400e+00\n",
       "min      0.000000e+00\n",
       "25%      0.000000e+00\n",
       "50%      1.000000e+00\n",
       "75%      5.000000e+00\n",
       "max      3.000000e+01\n",
       "Name: frequency_cal, dtype: float64"
      ]
     },
     "execution_count": 645,
     "metadata": {},
     "output_type": "execute_result"
    }
   ],
   "source": [
    "part.frequency_cal.describe()"
   ]
  },
  {
   "cell_type": "code",
   "execution_count": 660,
   "metadata": {
    "ExecuteTime": {
     "end_time": "2020-03-19T19:59:42.368448Z",
     "start_time": "2020-03-19T19:59:42.347059Z"
    }
   },
   "outputs": [
    {
     "data": {
      "text/plain": [
       "1.3387498077403828"
      ]
     },
     "execution_count": 660,
     "metadata": {},
     "output_type": "execute_result"
    }
   ],
   "source": [
    "mean_absolute_error(part['frequency_cal'], part['pred'])"
   ]
  },
  {
   "cell_type": "code",
   "execution_count": 661,
   "metadata": {
    "ExecuteTime": {
     "end_time": "2020-03-19T19:59:43.688833Z",
     "start_time": "2020-03-19T19:59:43.667499Z"
    }
   },
   "outputs": [
    {
     "data": {
      "text/plain": [
       "1.3387498077403828"
      ]
     },
     "execution_count": 661,
     "metadata": {},
     "output_type": "execute_result"
    }
   ],
   "source": [
    "mean_absolute_error(part['frequency_cal'], part['predicted_purchases'])"
   ]
  },
  {
   "cell_type": "code",
   "execution_count": 662,
   "metadata": {
    "ExecuteTime": {
     "end_time": "2020-03-19T19:59:49.468006Z",
     "start_time": "2020-03-19T19:59:49.314789Z"
    }
   },
   "outputs": [
    {
     "data": {
      "text/plain": [
       "count    3.481218e+06\n",
       "mean     2.977947e+00\n",
       "std      5.707203e+00\n",
       "min      0.000000e+00\n",
       "25%      0.000000e+00\n",
       "50%      0.000000e+00\n",
       "75%      4.000000e+00\n",
       "max      4.000000e+01\n",
       "Name: frequency_holdout, dtype: float64"
      ]
     },
     "execution_count": 662,
     "metadata": {},
     "output_type": "execute_result"
    }
   ],
   "source": [
    "part.frequency_holdout.describe()"
   ]
  },
  {
   "cell_type": "code",
   "execution_count": 663,
   "metadata": {
    "ExecuteTime": {
     "end_time": "2020-03-19T19:59:49.571524Z",
     "start_time": "2020-03-19T19:59:49.505973Z"
    }
   },
   "outputs": [
    {
     "data": {
      "text/plain": [
       "0.75     4.0\n",
       "0.80     5.0\n",
       "0.85     7.0\n",
       "0.90    10.0\n",
       "0.95    16.0\n",
       "0.99    26.0\n",
       "Name: frequency_holdout, dtype: float64"
      ]
     },
     "execution_count": 663,
     "metadata": {},
     "output_type": "execute_result"
    }
   ],
   "source": [
    "part.frequency_holdout.quantile([0.75, 0.80, 0.85, 0.9, 0.95, 0.99])"
   ]
  },
  {
   "cell_type": "code",
   "execution_count": 664,
   "metadata": {
    "ExecuteTime": {
     "end_time": "2020-03-19T19:59:50.518363Z",
     "start_time": "2020-03-19T19:59:50.347874Z"
    }
   },
   "outputs": [
    {
     "data": {
      "text/plain": [
       "count    3.481218e+06\n",
       "mean     3.530786e+00\n",
       "std      4.797678e+00\n",
       "min      0.000000e+00\n",
       "25%      0.000000e+00\n",
       "50%      1.739239e+00\n",
       "75%      4.802391e+00\n",
       "max      8.718248e+01\n",
       "Name: predicted_purchases, dtype: float64"
      ]
     },
     "execution_count": 664,
     "metadata": {},
     "output_type": "execute_result"
    }
   ],
   "source": [
    "part.predicted_purchases.describe()"
   ]
  },
  {
   "cell_type": "code",
   "execution_count": 665,
   "metadata": {
    "ExecuteTime": {
     "end_time": "2020-03-19T19:59:52.451541Z",
     "start_time": "2020-03-19T19:59:52.395649Z"
    }
   },
   "outputs": [
    {
     "data": {
      "text/plain": [
       "0.75     4.802391\n",
       "0.80     6.114419\n",
       "0.85     7.776369\n",
       "0.90    10.059729\n",
       "0.95    13.858545\n",
       "0.99    21.504782\n",
       "Name: predicted_purchases, dtype: float64"
      ]
     },
     "execution_count": 665,
     "metadata": {},
     "output_type": "execute_result"
    }
   ],
   "source": [
    "part.predicted_purchases.quantile([0.75, 0.80, 0.85, 0.9, 0.95, 0.99])"
   ]
  },
  {
   "cell_type": "code",
   "execution_count": 79,
   "metadata": {
    "ExecuteTime": {
     "end_time": "2020-03-04T15:20:17.774130Z",
     "start_time": "2020-03-04T15:08:34.877681Z"
    }
   },
   "outputs": [
    {
     "data": {
      "text/plain": [
       "<matplotlib.axes._subplots.AxesSubplot at 0x7f3db2e35250>"
      ]
     },
     "execution_count": 79,
     "metadata": {},
     "output_type": "execute_result"
    },
    {
     "data": {
      "image/png": "[encoded data removed]",
      "text/plain": [
       "<Figure size 432x288 with 1 Axes>"
      ]
     },
     "metadata": {
      "needs_background": "light"
     },
     "output_type": "display_data"
    }
   ],
   "source": [
    "#from lifetimes.plotting import plot_calibration_purchases_vs_holdout_purchases\n",
    "# ax = summary.groupby('frequency_cal')[[\"frequency_holdout\", \"model_predictions\"]].mean().iloc[:n].plot(**kwargs)\n",
    "#plot_calibration_purchases_vs_holdout_purchases(bgf, part, n=60)"
   ]
  },
  {
   "cell_type": "code",
   "execution_count": 666,
   "metadata": {
    "ExecuteTime": {
     "end_time": "2020-03-19T19:59:56.007225Z",
     "start_time": "2020-03-19T19:59:55.820541Z"
    }
   },
   "outputs": [
    {
     "data": {
      "image/png": "[encoded data removed]",
      "text/plain": [
       "<Figure size 432x288 with 1 Axes>"
      ]
     },
     "metadata": {
      "needs_background": "light"
     },
     "output_type": "display_data"
    }
   ],
   "source": [
    "utils._plot_calibration_purchases_vs_holdout_purchases(part, 30)"
   ]
  },
  {
   "cell_type": "markdown",
   "metadata": {},
   "source": [
    "## model save"
   ]
  },
  {
   "cell_type": "code",
   "execution_count": 87,
   "metadata": {
    "ExecuteTime": {
     "end_time": "2020-03-12T14:14:31.258962Z",
     "start_time": "2020-03-12T14:14:30.508067Z"
    }
   },
   "outputs": [],
   "source": [
    "bgf.save_model('17_bgf.pkl')"
   ]
  },
  {
   "cell_type": "markdown",
   "metadata": {},
   "source": [
    "# Gamma Gamma fitting"
   ]
  },
  {
   "cell_type": "code",
   "execution_count": 667,
   "metadata": {
    "ExecuteTime": {
     "end_time": "2020-03-19T20:00:02.091002Z",
     "start_time": "2020-03-19T20:00:01.966875Z"
    }
   },
   "outputs": [
    {
     "data": {
      "text/plain": [
       "count    3.481218e+06\n",
       "mean     2.438771e+02\n",
       "std      8.119273e+03\n",
       "min      0.000000e+00\n",
       "25%      3.500000e+01\n",
       "50%      8.966666e+01\n",
       "75%      1.604167e+02\n",
       "max      9.999990e+05\n",
       "Name: monetary_value, dtype: float64"
      ]
     },
     "execution_count": 667,
     "metadata": {},
     "output_type": "execute_result"
    }
   ],
   "source": [
    "part.monetary_value.describe()"
   ]
  },
  {
   "cell_type": "code",
   "execution_count": 668,
   "metadata": {
    "ExecuteTime": {
     "end_time": "2020-03-19T20:00:02.249472Z",
     "start_time": "2020-03-19T20:00:02.145465Z"
    }
   },
   "outputs": [
    {
     "data": {
      "text/plain": [
       "count    3.481218e+06\n",
       "mean     9.038342e+01\n",
       "std      2.636400e+03\n",
       "min      0.000000e+00\n",
       "25%      0.000000e+00\n",
       "50%      0.000000e+00\n",
       "75%      1.157688e+02\n",
       "max      9.963360e+05\n",
       "Name: money_holdout, dtype: float64"
      ]
     },
     "execution_count": 668,
     "metadata": {},
     "output_type": "execute_result"
    }
   ],
   "source": [
    "part.money_holdout.describe()"
   ]
  },
  {
   "cell_type": "code",
   "execution_count": 669,
   "metadata": {
    "ExecuteTime": {
     "end_time": "2020-03-19T20:00:02.655335Z",
     "start_time": "2020-03-19T20:00:02.320374Z"
    }
   },
   "outputs": [],
   "source": [
    "#returning_train_df = training_df_filter[training_df_filter.monetary_value > 0]\n",
    "returning_train_df = part[part.monetary_value > 0]\n",
    "returning_train_df = returning_train_df[returning_train_df.frequency_cal>0]"
   ]
  },
  {
   "cell_type": "code",
   "execution_count": 670,
   "metadata": {
    "ExecuteTime": {
     "end_time": "2020-03-19T20:00:02.669517Z",
     "start_time": "2020-03-19T20:00:02.656701Z"
    }
   },
   "outputs": [
    {
     "data": {
      "text/html": [
       "<div>\n",
       "<style scoped>\n",
       "    .dataframe tbody tr th:only-of-type {\n",
       "        vertical-align: middle;\n",
       "    }\n",
       "\n",
       "    .dataframe tbody tr th {\n",
       "        vertical-align: top;\n",
       "    }\n",
       "\n",
       "    .dataframe thead th {\n",
       "        text-align: right;\n",
       "    }\n",
       "</style>\n",
       "<table border=\"1\" class=\"dataframe\">\n",
       "  <thead>\n",
       "    <tr style=\"text-align: right;\">\n",
       "      <th></th>\n",
       "      <th>id</th>\n",
       "      <th>frequency_cal</th>\n",
       "      <th>recency_cal</th>\n",
       "      <th>monetary_value</th>\n",
       "      <th>T_cal</th>\n",
       "      <th>total_value</th>\n",
       "      <th>frequency_holdout</th>\n",
       "      <th>money_holdout</th>\n",
       "      <th>total_holdout</th>\n",
       "      <th>duration_holdout</th>\n",
       "      <th>predicted_purchases</th>\n",
       "      <th>palive</th>\n",
       "      <th>pred</th>\n",
       "      <th>pred_in</th>\n",
       "      <th>train_in</th>\n",
       "      <th>alive</th>\n",
       "      <th>avenue</th>\n",
       "    </tr>\n",
       "  </thead>\n",
       "  <tbody>\n",
       "    <tr>\n",
       "      <th>0</th>\n",
       "      <td>7747</td>\n",
       "      <td>5</td>\n",
       "      <td>117.0</td>\n",
       "      <td>32.875000</td>\n",
       "      <td>178</td>\n",
       "      <td>526.0</td>\n",
       "      <td>0.0</td>\n",
       "      <td>0.000000</td>\n",
       "      <td>NaN</td>\n",
       "      <td>183</td>\n",
       "      <td>3.680335</td>\n",
       "      <td>0.774503</td>\n",
       "      <td>3.680335</td>\n",
       "      <td>0</td>\n",
       "      <td>0</td>\n",
       "      <td>0</td>\n",
       "      <td>36.347557</td>\n",
       "    </tr>\n",
       "    <tr>\n",
       "      <th>2</th>\n",
       "      <td>52001</td>\n",
       "      <td>4</td>\n",
       "      <td>162.0</td>\n",
       "      <td>54.142857</td>\n",
       "      <td>180</td>\n",
       "      <td>379.0</td>\n",
       "      <td>3.0</td>\n",
       "      <td>71.599998</td>\n",
       "      <td>358.0</td>\n",
       "      <td>183</td>\n",
       "      <td>3.633901</td>\n",
       "      <td>0.940098</td>\n",
       "      <td>3.633901</td>\n",
       "      <td>1</td>\n",
       "      <td>1</td>\n",
       "      <td>1</td>\n",
       "      <td>61.183812</td>\n",
       "    </tr>\n",
       "  </tbody>\n",
       "</table>\n",
       "</div>"
      ],
      "text/plain": [
       "      id  frequency_cal  recency_cal  monetary_value  T_cal  total_value  \\\n",
       "0   7747              5        117.0       32.875000    178        526.0   \n",
       "2  52001              4        162.0       54.142857    180        379.0   \n",
       "\n",
       "   frequency_holdout  money_holdout  total_holdout  duration_holdout  \\\n",
       "0                0.0       0.000000            NaN               183   \n",
       "2                3.0      71.599998          358.0               183   \n",
       "\n",
       "   predicted_purchases    palive      pred  pred_in  train_in  alive  \\\n",
       "0             3.680335  0.774503  3.680335        0         0      0   \n",
       "2             3.633901  0.940098  3.633901        1         1      1   \n",
       "\n",
       "      avenue  \n",
       "0  36.347557  \n",
       "2  61.183812  "
      ]
     },
     "execution_count": 670,
     "metadata": {},
     "output_type": "execute_result"
    }
   ],
   "source": [
    "returning_train_df.head(2)"
   ]
  },
  {
   "cell_type": "code",
   "execution_count": 671,
   "metadata": {
    "ExecuteTime": {
     "end_time": "2020-03-19T20:00:02.833800Z",
     "start_time": "2020-03-19T20:00:02.683742Z"
    }
   },
   "outputs": [
    {
     "data": {
      "text/plain": [
       "count    2.105659e+06\n",
       "mean     1.988457e+02\n",
       "std      4.349070e+03\n",
       "min      1.000000e+00\n",
       "25%      5.280000e+01\n",
       "50%      1.053750e+02\n",
       "75%      1.750000e+02\n",
       "max      9.070530e+05\n",
       "Name: monetary_value, dtype: float64"
      ]
     },
     "execution_count": 671,
     "metadata": {},
     "output_type": "execute_result"
    }
   ],
   "source": [
    "returning_train_df['monetary_value'].describe()"
   ]
  },
  {
   "cell_type": "code",
   "execution_count": 672,
   "metadata": {
    "ExecuteTime": {
     "end_time": "2020-03-19T20:00:04.388130Z",
     "start_time": "2020-03-19T20:00:04.326509Z"
    }
   },
   "outputs": [
    {
     "data": {
      "text/plain": [
       "count    2.105659e+06\n",
       "mean     5.772947e+00\n",
       "std      5.726184e+00\n",
       "min      1.000000e+00\n",
       "25%      2.000000e+00\n",
       "50%      4.000000e+00\n",
       "75%      8.000000e+00\n",
       "max      3.000000e+01\n",
       "Name: frequency_cal, dtype: float64"
      ]
     },
     "execution_count": 672,
     "metadata": {},
     "output_type": "execute_result"
    }
   ],
   "source": [
    "returning_train_df['frequency_cal'].describe()"
   ]
  },
  {
   "cell_type": "code",
   "execution_count": 673,
   "metadata": {
    "ExecuteTime": {
     "end_time": "2020-03-19T20:00:04.545066Z",
     "start_time": "2020-03-19T20:00:04.503359Z"
    }
   },
   "outputs": [
    {
     "data": {
      "text/html": [
       "<div>\n",
       "<style scoped>\n",
       "    .dataframe tbody tr th:only-of-type {\n",
       "        vertical-align: middle;\n",
       "    }\n",
       "\n",
       "    .dataframe tbody tr th {\n",
       "        vertical-align: top;\n",
       "    }\n",
       "\n",
       "    .dataframe thead th {\n",
       "        text-align: right;\n",
       "    }\n",
       "</style>\n",
       "<table border=\"1\" class=\"dataframe\">\n",
       "  <thead>\n",
       "    <tr style=\"text-align: right;\">\n",
       "      <th></th>\n",
       "      <th>frequency_cal</th>\n",
       "      <th>monetary_value</th>\n",
       "    </tr>\n",
       "  </thead>\n",
       "  <tbody>\n",
       "    <tr>\n",
       "      <th>frequency_cal</th>\n",
       "      <td>1.000000</td>\n",
       "      <td>-0.007582</td>\n",
       "    </tr>\n",
       "    <tr>\n",
       "      <th>monetary_value</th>\n",
       "      <td>-0.007582</td>\n",
       "      <td>1.000000</td>\n",
       "    </tr>\n",
       "  </tbody>\n",
       "</table>\n",
       "</div>"
      ],
      "text/plain": [
       "                frequency_cal  monetary_value\n",
       "frequency_cal        1.000000       -0.007582\n",
       "monetary_value      -0.007582        1.000000"
      ]
     },
     "execution_count": 673,
     "metadata": {},
     "output_type": "execute_result"
    }
   ],
   "source": [
    "returning_train_df[['frequency_cal','monetary_value']].corr()"
   ]
  },
  {
   "cell_type": "markdown",
   "metadata": {},
   "source": [
    "## model fitting"
   ]
  },
  {
   "cell_type": "code",
   "execution_count": 674,
   "metadata": {
    "ExecuteTime": {
     "end_time": "2020-03-19T20:00:24.367994Z",
     "start_time": "2020-03-19T20:00:07.668757Z"
    }
   },
   "outputs": [
    {
     "name": "stdout",
     "output_type": "stream",
     "text": [
      "Optimization terminated successfully.\n",
      "         Current function value: 7.072641\n",
      "         Iterations: 12\n",
      "         Function evaluations: 13\n",
      "         Gradient evaluations: 13\n"
     ]
    },
    {
     "data": {
      "text/plain": [
       "<lifetimes.GammaGammaFitter: fitted with 2105659 subjects, p: 1.65, q: 0.28, v: 1.56>"
      ]
     },
     "execution_count": 674,
     "metadata": {},
     "output_type": "execute_result"
    }
   ],
   "source": [
    "from lifetimes import GammaGammaFitter\n",
    "\n",
    "ggf = GammaGammaFitter(penalizer_coef = 0.05)\n",
    "ggf.fit(returning_train_df['frequency_cal'], returning_train_df['monetary_value'], verbose=True, tol=0.0000001)\n",
    "ggf"
   ]
  },
  {
   "cell_type": "code",
   "execution_count": 675,
   "metadata": {
    "ExecuteTime": {
     "end_time": "2020-03-19T20:00:24.396618Z",
     "start_time": "2020-03-19T20:00:24.369266Z"
    }
   },
   "outputs": [],
   "source": [
    "part['avenue'] = ggf.conditional_expected_average_profit(\n",
    "        part['frequency_cal'],\n",
    "        part['monetary_value']\n",
    "    )"
   ]
  },
  {
   "cell_type": "code",
   "execution_count": 676,
   "metadata": {
    "ExecuteTime": {
     "end_time": "2020-03-19T20:00:24.482423Z",
     "start_time": "2020-03-19T20:00:24.398177Z"
    }
   },
   "outputs": [],
   "source": [
    "part.money_holdout.fillna(0.0, inplace=True)"
   ]
  },
  {
   "cell_type": "code",
   "execution_count": 677,
   "metadata": {
    "ExecuteTime": {
     "end_time": "2020-03-19T20:00:26.656797Z",
     "start_time": "2020-03-19T20:00:24.483614Z"
    }
   },
   "outputs": [
    {
     "data": {
      "text/html": [
       "<div>\n",
       "<style scoped>\n",
       "    .dataframe tbody tr th:only-of-type {\n",
       "        vertical-align: middle;\n",
       "    }\n",
       "\n",
       "    .dataframe tbody tr th {\n",
       "        vertical-align: top;\n",
       "    }\n",
       "\n",
       "    .dataframe thead th {\n",
       "        text-align: right;\n",
       "    }\n",
       "</style>\n",
       "<table border=\"1\" class=\"dataframe\">\n",
       "  <thead>\n",
       "    <tr style=\"text-align: right;\">\n",
       "      <th></th>\n",
       "      <th>id</th>\n",
       "      <th>frequency_cal</th>\n",
       "      <th>recency_cal</th>\n",
       "      <th>monetary_value</th>\n",
       "      <th>T_cal</th>\n",
       "      <th>total_value</th>\n",
       "      <th>frequency_holdout</th>\n",
       "      <th>money_holdout</th>\n",
       "      <th>total_holdout</th>\n",
       "      <th>duration_holdout</th>\n",
       "      <th>predicted_purchases</th>\n",
       "      <th>palive</th>\n",
       "      <th>pred</th>\n",
       "      <th>pred_in</th>\n",
       "      <th>train_in</th>\n",
       "      <th>alive</th>\n",
       "      <th>avenue</th>\n",
       "    </tr>\n",
       "  </thead>\n",
       "  <tbody>\n",
       "    <tr>\n",
       "      <th>count</th>\n",
       "      <td>3.481218e+06</td>\n",
       "      <td>3.481218e+06</td>\n",
       "      <td>3.481218e+06</td>\n",
       "      <td>3.481218e+06</td>\n",
       "      <td>3.481218e+06</td>\n",
       "      <td>3.481218e+06</td>\n",
       "      <td>3.481218e+06</td>\n",
       "      <td>3.481218e+06</td>\n",
       "      <td>1.667474e+06</td>\n",
       "      <td>3481218.0</td>\n",
       "      <td>3.481218e+06</td>\n",
       "      <td>3.481218e+06</td>\n",
       "      <td>3.481218e+06</td>\n",
       "      <td>3.481218e+06</td>\n",
       "      <td>3.481218e+06</td>\n",
       "      <td>3.481218e+06</td>\n",
       "      <td>3.481218e+06</td>\n",
       "    </tr>\n",
       "    <tr>\n",
       "      <th>mean</th>\n",
       "      <td>6.527631e+08</td>\n",
       "      <td>3.491841e+00</td>\n",
       "      <td>5.566674e+01</td>\n",
       "      <td>2.438771e+02</td>\n",
       "      <td>1.215539e+02</td>\n",
       "      <td>1.187103e+03</td>\n",
       "      <td>2.977947e+00</td>\n",
       "      <td>9.038342e+01</td>\n",
       "      <td>1.638665e+03</td>\n",
       "      <td>183.0</td>\n",
       "      <td>3.530786e+00</td>\n",
       "      <td>8.630898e-01</td>\n",
       "      <td>3.530786e+00</td>\n",
       "      <td>6.001908e-01</td>\n",
       "      <td>5.646929e-01</td>\n",
       "      <td>4.141568e-01</td>\n",
       "      <td>1.592391e+02</td>\n",
       "    </tr>\n",
       "    <tr>\n",
       "      <th>std</th>\n",
       "      <td>3.919738e+08</td>\n",
       "      <td>5.272400e+00</td>\n",
       "      <td>6.236717e+01</td>\n",
       "      <td>8.119273e+03</td>\n",
       "      <td>5.031404e+01</td>\n",
       "      <td>2.411543e+04</td>\n",
       "      <td>5.707203e+00</td>\n",
       "      <td>2.636400e+03</td>\n",
       "      <td>2.429721e+04</td>\n",
       "      <td>0.0</td>\n",
       "      <td>4.797678e+00</td>\n",
       "      <td>2.220213e-01</td>\n",
       "      <td>4.797678e+00</td>\n",
       "      <td>4.898590e-01</td>\n",
       "      <td>4.957972e-01</td>\n",
       "      <td>4.925759e-01</td>\n",
       "      <td>5.379163e+03</td>\n",
       "    </tr>\n",
       "    <tr>\n",
       "      <th>min</th>\n",
       "      <td>6.830000e+02</td>\n",
       "      <td>0.000000e+00</td>\n",
       "      <td>0.000000e+00</td>\n",
       "      <td>0.000000e+00</td>\n",
       "      <td>0.000000e+00</td>\n",
       "      <td>0.000000e+00</td>\n",
       "      <td>0.000000e+00</td>\n",
       "      <td>0.000000e+00</td>\n",
       "      <td>0.000000e+00</td>\n",
       "      <td>183.0</td>\n",
       "      <td>0.000000e+00</td>\n",
       "      <td>1.047198e-16</td>\n",
       "      <td>0.000000e+00</td>\n",
       "      <td>0.000000e+00</td>\n",
       "      <td>0.000000e+00</td>\n",
       "      <td>0.000000e+00</td>\n",
       "      <td>-3.576996e+00</td>\n",
       "    </tr>\n",
       "    <tr>\n",
       "      <th>25%</th>\n",
       "      <td>3.106213e+08</td>\n",
       "      <td>0.000000e+00</td>\n",
       "      <td>0.000000e+00</td>\n",
       "      <td>3.500000e+01</td>\n",
       "      <td>8.600000e+01</td>\n",
       "      <td>7.000000e+01</td>\n",
       "      <td>0.000000e+00</td>\n",
       "      <td>0.000000e+00</td>\n",
       "      <td>2.450000e+02</td>\n",
       "      <td>183.0</td>\n",
       "      <td>0.000000e+00</td>\n",
       "      <td>8.394741e-01</td>\n",
       "      <td>0.000000e+00</td>\n",
       "      <td>0.000000e+00</td>\n",
       "      <td>0.000000e+00</td>\n",
       "      <td>0.000000e+00</td>\n",
       "      <td>-3.576996e+00</td>\n",
       "    </tr>\n",
       "    <tr>\n",
       "      <th>50%</th>\n",
       "      <td>5.950473e+08</td>\n",
       "      <td>1.000000e+00</td>\n",
       "      <td>2.800000e+01</td>\n",
       "      <td>8.966666e+01</td>\n",
       "      <td>1.350000e+02</td>\n",
       "      <td>2.830000e+02</td>\n",
       "      <td>0.000000e+00</td>\n",
       "      <td>0.000000e+00</td>\n",
       "      <td>8.070000e+02</td>\n",
       "      <td>183.0</td>\n",
       "      <td>1.739239e+00</td>\n",
       "      <td>9.593925e-01</td>\n",
       "      <td>1.739239e+00</td>\n",
       "      <td>1.000000e+00</td>\n",
       "      <td>1.000000e+00</td>\n",
       "      <td>0.000000e+00</td>\n",
       "      <td>5.387227e+01</td>\n",
       "    </tr>\n",
       "    <tr>\n",
       "      <th>75%</th>\n",
       "      <td>1.066977e+09</td>\n",
       "      <td>5.000000e+00</td>\n",
       "      <td>1.120000e+02</td>\n",
       "      <td>1.604167e+02</td>\n",
       "      <td>1.660000e+02</td>\n",
       "      <td>9.950000e+02</td>\n",
       "      <td>4.000000e+00</td>\n",
       "      <td>1.157688e+02</td>\n",
       "      <td>1.944000e+03</td>\n",
       "      <td>183.0</td>\n",
       "      <td>4.802391e+00</td>\n",
       "      <td>1.000000e+00</td>\n",
       "      <td>4.802391e+00</td>\n",
       "      <td>1.000000e+00</td>\n",
       "      <td>1.000000e+00</td>\n",
       "      <td>1.000000e+00</td>\n",
       "      <td>1.494601e+02</td>\n",
       "    </tr>\n",
       "    <tr>\n",
       "      <th>max</th>\n",
       "      <td>1.147579e+09</td>\n",
       "      <td>3.000000e+01</td>\n",
       "      <td>1.800000e+02</td>\n",
       "      <td>9.999990e+05</td>\n",
       "      <td>1.800000e+02</td>\n",
       "      <td>1.070745e+07</td>\n",
       "      <td>4.000000e+01</td>\n",
       "      <td>9.963360e+05</td>\n",
       "      <td>1.348741e+07</td>\n",
       "      <td>183.0</td>\n",
       "      <td>8.718248e+01</td>\n",
       "      <td>1.000000e+00</td>\n",
       "      <td>8.718248e+01</td>\n",
       "      <td>1.000000e+00</td>\n",
       "      <td>1.000000e+00</td>\n",
       "      <td>1.000000e+00</td>\n",
       "      <td>1.605094e+06</td>\n",
       "    </tr>\n",
       "  </tbody>\n",
       "</table>\n",
       "</div>"
      ],
      "text/plain": [
       "                 id  frequency_cal   recency_cal  monetary_value  \\\n",
       "count  3.481218e+06   3.481218e+06  3.481218e+06    3.481218e+06   \n",
       "mean   6.527631e+08   3.491841e+00  5.566674e+01    2.438771e+02   \n",
       "std    3.919738e+08   5.272400e+00  6.236717e+01    8.119273e+03   \n",
       "min    6.830000e+02   0.000000e+00  0.000000e+00    0.000000e+00   \n",
       "25%    3.106213e+08   0.000000e+00  0.000000e+00    3.500000e+01   \n",
       "50%    5.950473e+08   1.000000e+00  2.800000e+01    8.966666e+01   \n",
       "75%    1.066977e+09   5.000000e+00  1.120000e+02    1.604167e+02   \n",
       "max    1.147579e+09   3.000000e+01  1.800000e+02    9.999990e+05   \n",
       "\n",
       "              T_cal   total_value  frequency_holdout  money_holdout  \\\n",
       "count  3.481218e+06  3.481218e+06       3.481218e+06   3.481218e+06   \n",
       "mean   1.215539e+02  1.187103e+03       2.977947e+00   9.038342e+01   \n",
       "std    5.031404e+01  2.411543e+04       5.707203e+00   2.636400e+03   \n",
       "min    0.000000e+00  0.000000e+00       0.000000e+00   0.000000e+00   \n",
       "25%    8.600000e+01  7.000000e+01       0.000000e+00   0.000000e+00   \n",
       "50%    1.350000e+02  2.830000e+02       0.000000e+00   0.000000e+00   \n",
       "75%    1.660000e+02  9.950000e+02       4.000000e+00   1.157688e+02   \n",
       "max    1.800000e+02  1.070745e+07       4.000000e+01   9.963360e+05   \n",
       "\n",
       "       total_holdout  duration_holdout  predicted_purchases        palive  \\\n",
       "count   1.667474e+06         3481218.0         3.481218e+06  3.481218e+06   \n",
       "mean    1.638665e+03             183.0         3.530786e+00  8.630898e-01   \n",
       "std     2.429721e+04               0.0         4.797678e+00  2.220213e-01   \n",
       "min     0.000000e+00             183.0         0.000000e+00  1.047198e-16   \n",
       "25%     2.450000e+02             183.0         0.000000e+00  8.394741e-01   \n",
       "50%     8.070000e+02             183.0         1.739239e+00  9.593925e-01   \n",
       "75%     1.944000e+03             183.0         4.802391e+00  1.000000e+00   \n",
       "max     1.348741e+07             183.0         8.718248e+01  1.000000e+00   \n",
       "\n",
       "               pred       pred_in      train_in         alive        avenue  \n",
       "count  3.481218e+06  3.481218e+06  3.481218e+06  3.481218e+06  3.481218e+06  \n",
       "mean   3.530786e+00  6.001908e-01  5.646929e-01  4.141568e-01  1.592391e+02  \n",
       "std    4.797678e+00  4.898590e-01  4.957972e-01  4.925759e-01  5.379163e+03  \n",
       "min    0.000000e+00  0.000000e+00  0.000000e+00  0.000000e+00 -3.576996e+00  \n",
       "25%    0.000000e+00  0.000000e+00  0.000000e+00  0.000000e+00 -3.576996e+00  \n",
       "50%    1.739239e+00  1.000000e+00  1.000000e+00  0.000000e+00  5.387227e+01  \n",
       "75%    4.802391e+00  1.000000e+00  1.000000e+00  1.000000e+00  1.494601e+02  \n",
       "max    8.718248e+01  1.000000e+00  1.000000e+00  1.000000e+00  1.605094e+06  "
      ]
     },
     "execution_count": 677,
     "metadata": {},
     "output_type": "execute_result"
    }
   ],
   "source": [
    "part.describe()"
   ]
  },
  {
   "cell_type": "markdown",
   "metadata": {},
   "source": [
    "## evaluation"
   ]
  },
  {
   "cell_type": "code",
   "execution_count": 678,
   "metadata": {
    "ExecuteTime": {
     "end_time": "2020-03-19T20:00:26.679486Z",
     "start_time": "2020-03-19T20:00:26.658004Z"
    }
   },
   "outputs": [
    {
     "data": {
      "text/plain": [
       "156.42255402876333"
      ]
     },
     "execution_count": 678,
     "metadata": {},
     "output_type": "execute_result"
    }
   ],
   "source": [
    "mean_absolute_error(part['avenue'], part['money_holdout'])"
   ]
  },
  {
   "cell_type": "code",
   "execution_count": 679,
   "metadata": {
    "ExecuteTime": {
     "end_time": "2020-03-19T20:00:26.784269Z",
     "start_time": "2020-03-19T20:00:26.680507Z"
    }
   },
   "outputs": [
    {
     "data": {
      "text/plain": [
       "230.02863"
      ]
     },
     "execution_count": 679,
     "metadata": {},
     "output_type": "execute_result"
    }
   ],
   "source": [
    "mean_absolute_error(part['monetary_value'], part['money_holdout'])"
   ]
  },
  {
   "cell_type": "code",
   "execution_count": 680,
   "metadata": {
    "ExecuteTime": {
     "end_time": "2020-03-19T20:00:27.037930Z",
     "start_time": "2020-03-19T20:00:26.785356Z"
    }
   },
   "outputs": [
    {
     "name": "stdout",
     "output_type": "stream",
     "text": [
      "Expected conditional average profit: 159.23911917219394, Average profit: 198.84546\n"
     ]
    }
   ],
   "source": [
    "print(\"Expected conditional average profit: %s, Average profit: %s\" % (\n",
    "    ggf.conditional_expected_average_profit(\n",
    "        part['frequency_cal'],\n",
    "        part['monetary_value']\n",
    "    ).mean(),\n",
    "    part[part['frequency_cal']>0]['monetary_value'].mean()\n",
    "))"
   ]
  },
  {
   "cell_type": "markdown",
   "metadata": {},
   "source": [
    "# clv prediction"
   ]
  },
  {
   "cell_type": "code",
   "execution_count": 681,
   "metadata": {
    "ExecuteTime": {
     "end_time": "2020-03-19T20:00:51.166907Z",
     "start_time": "2020-03-19T20:00:27.039743Z"
    }
   },
   "outputs": [],
   "source": [
    "lifetime_values = ggf.customer_lifetime_value(bgf,\n",
    "                                              part['frequency_cal'],\n",
    "                                              part['recency_cal'],\n",
    "                                              part['T_cal'],\n",
    "                                              part['monetary_value'],\n",
    "                                              time = 6,\n",
    "                                              discount_rate=0.1,\n",
    "                                              freq='D')"
   ]
  },
  {
   "cell_type": "code",
   "execution_count": 682,
   "metadata": {
    "ExecuteTime": {
     "end_time": "2020-03-19T20:00:51.461794Z",
     "start_time": "2020-03-19T20:00:51.168410Z"
    }
   },
   "outputs": [],
   "source": [
    "training_money = part >> bind_cols(lifetime_values)\n"
   ]
  },
  {
   "cell_type": "code",
   "execution_count": 683,
   "metadata": {
    "ExecuteTime": {
     "end_time": "2020-03-19T20:00:51.475714Z",
     "start_time": "2020-03-19T20:00:51.462998Z"
    }
   },
   "outputs": [
    {
     "data": {
      "text/html": [
       "<div>\n",
       "<style scoped>\n",
       "    .dataframe tbody tr th:only-of-type {\n",
       "        vertical-align: middle;\n",
       "    }\n",
       "\n",
       "    .dataframe tbody tr th {\n",
       "        vertical-align: top;\n",
       "    }\n",
       "\n",
       "    .dataframe thead th {\n",
       "        text-align: right;\n",
       "    }\n",
       "</style>\n",
       "<table border=\"1\" class=\"dataframe\">\n",
       "  <thead>\n",
       "    <tr style=\"text-align: right;\">\n",
       "      <th></th>\n",
       "      <th>id</th>\n",
       "      <th>frequency_cal</th>\n",
       "      <th>recency_cal</th>\n",
       "      <th>monetary_value</th>\n",
       "      <th>T_cal</th>\n",
       "      <th>total_value</th>\n",
       "      <th>frequency_holdout</th>\n",
       "      <th>money_holdout</th>\n",
       "      <th>total_holdout</th>\n",
       "      <th>duration_holdout</th>\n",
       "      <th>predicted_purchases</th>\n",
       "      <th>palive</th>\n",
       "      <th>pred</th>\n",
       "      <th>pred_in</th>\n",
       "      <th>train_in</th>\n",
       "      <th>alive</th>\n",
       "      <th>avenue</th>\n",
       "      <th>clv</th>\n",
       "    </tr>\n",
       "  </thead>\n",
       "  <tbody>\n",
       "    <tr>\n",
       "      <th>0</th>\n",
       "      <td>7747</td>\n",
       "      <td>5</td>\n",
       "      <td>117.0</td>\n",
       "      <td>32.875000</td>\n",
       "      <td>178</td>\n",
       "      <td>526.0</td>\n",
       "      <td>0.0</td>\n",
       "      <td>0.000000</td>\n",
       "      <td>NaN</td>\n",
       "      <td>183</td>\n",
       "      <td>3.680335</td>\n",
       "      <td>0.774503</td>\n",
       "      <td>3.680335</td>\n",
       "      <td>0</td>\n",
       "      <td>0</td>\n",
       "      <td>0</td>\n",
       "      <td>36.347557</td>\n",
       "      <td>97.741531</td>\n",
       "    </tr>\n",
       "    <tr>\n",
       "      <th>2</th>\n",
       "      <td>52001</td>\n",
       "      <td>4</td>\n",
       "      <td>162.0</td>\n",
       "      <td>54.142857</td>\n",
       "      <td>180</td>\n",
       "      <td>379.0</td>\n",
       "      <td>3.0</td>\n",
       "      <td>71.599998</td>\n",
       "      <td>358.0</td>\n",
       "      <td>183</td>\n",
       "      <td>3.633901</td>\n",
       "      <td>0.940098</td>\n",
       "      <td>3.633901</td>\n",
       "      <td>1</td>\n",
       "      <td>1</td>\n",
       "      <td>1</td>\n",
       "      <td>61.183812</td>\n",
       "      <td>162.398931</td>\n",
       "    </tr>\n",
       "  </tbody>\n",
       "</table>\n",
       "</div>"
      ],
      "text/plain": [
       "      id  frequency_cal  recency_cal  monetary_value  T_cal  total_value  \\\n",
       "0   7747              5        117.0       32.875000    178        526.0   \n",
       "2  52001              4        162.0       54.142857    180        379.0   \n",
       "\n",
       "   frequency_holdout  money_holdout  total_holdout  duration_holdout  \\\n",
       "0                0.0       0.000000            NaN               183   \n",
       "2                3.0      71.599998          358.0               183   \n",
       "\n",
       "   predicted_purchases    palive      pred  pred_in  train_in  alive  \\\n",
       "0             3.680335  0.774503  3.680335        0         0      0   \n",
       "2             3.633901  0.940098  3.633901        1         1      1   \n",
       "\n",
       "      avenue         clv  \n",
       "0  36.347557   97.741531  \n",
       "2  61.183812  162.398931  "
      ]
     },
     "execution_count": 683,
     "metadata": {},
     "output_type": "execute_result"
    }
   ],
   "source": [
    "training_money.head(2)"
   ]
  },
  {
   "cell_type": "code",
   "execution_count": 684,
   "metadata": {
    "ExecuteTime": {
     "end_time": "2020-03-19T20:01:28.176294Z",
     "start_time": "2020-03-19T20:00:51.476679Z"
    }
   },
   "outputs": [],
   "source": [
    "training_money['alive_status'] = training_money.apply(utils.alive, axis=1)"
   ]
  },
  {
   "cell_type": "code",
   "execution_count": 685,
   "metadata": {
    "ExecuteTime": {
     "end_time": "2020-03-19T20:01:28.343463Z",
     "start_time": "2020-03-19T20:01:28.177526Z"
    }
   },
   "outputs": [],
   "source": [
    "training_money.loc[training_money['clv'] < 0, 'clv'] = 0"
   ]
  },
  {
   "cell_type": "code",
   "execution_count": 686,
   "metadata": {
    "ExecuteTime": {
     "end_time": "2020-03-19T20:01:29.219223Z",
     "start_time": "2020-03-19T20:01:28.344675Z"
    }
   },
   "outputs": [
    {
     "name": "stdout",
     "output_type": "stream",
     "text": [
      "clv\n",
      "MAE: 634.9354010893827 \n",
      "\n",
      "clv*alive\n",
      "MAE: 632.0762093179899 \n",
      "\n",
      "ave*pred*alive\n",
      "MAE: 628.460308673709 \n",
      "\n",
      "ave*pred\n",
      "MAE: 629.8227893215394\n"
     ]
    }
   ],
   "source": [
    "p=utils.clv_perf(training_money, 'total_holdout', 'money_holdout', 'frequency_holdout', 50000)"
   ]
  },
  {
   "cell_type": "code",
   "execution_count": 687,
   "metadata": {
    "ExecuteTime": {
     "end_time": "2020-03-19T20:01:30.087369Z",
     "start_time": "2020-03-19T20:01:29.220348Z"
    }
   },
   "outputs": [
    {
     "name": "stdout",
     "output_type": "stream",
     "text": [
      "clv\n",
      "MAE: 625.0617388750456 \n",
      "\n",
      "clv*alive\n",
      "MAE: 635.5445426723481 \n",
      "\n",
      "ave*pred*alive\n",
      "MAE: 555.8965713083309 \n",
      "\n",
      "ave*pred\n",
      "MAE: 547.1071849154305\n"
     ]
    }
   ],
   "source": [
    "p=utils.clv_perf(training_money, 'total_value', 'monetary_value', 'frequency_cal', 50000)"
   ]
  },
  {
   "cell_type": "code",
   "execution_count": null,
   "metadata": {},
   "outputs": [],
   "source": []
  },
  {
   "cell_type": "code",
   "execution_count": 688,
   "metadata": {
    "ExecuteTime": {
     "end_time": "2020-03-19T20:01:30.104470Z",
     "start_time": "2020-03-19T20:01:30.088520Z"
    }
   },
   "outputs": [
    {
     "data": {
      "text/plain": [
       "1129.2279"
      ]
     },
     "execution_count": 688,
     "metadata": {},
     "output_type": "execute_result"
    }
   ],
   "source": [
    "mean_absolute_error(training_money['total_value'], training_money['total_holdout'])"
   ]
  },
  {
   "cell_type": "code",
   "execution_count": 689,
   "metadata": {
    "ExecuteTime": {
     "end_time": "2020-03-19T20:01:30.328205Z",
     "start_time": "2020-03-19T20:01:30.105505Z"
    }
   },
   "outputs": [
    {
     "data": {
      "text/plain": [
       "count    3.481218e+06\n",
       "mean     1.187103e+03\n",
       "std      2.411543e+04\n",
       "min      0.000000e+00\n",
       "25%      7.000000e+01\n",
       "50%      2.830000e+02\n",
       "75%      9.950000e+02\n",
       "max      1.070745e+07\n",
       "Name: total_value, dtype: float64"
      ]
     },
     "execution_count": 689,
     "metadata": {},
     "output_type": "execute_result"
    }
   ],
   "source": [
    "training_money['total_value'].describe()"
   ]
  },
  {
   "cell_type": "code",
   "execution_count": 690,
   "metadata": {
    "ExecuteTime": {
     "end_time": "2020-03-19T20:01:30.440309Z",
     "start_time": "2020-03-19T20:01:30.329286Z"
    }
   },
   "outputs": [
    {
     "data": {
      "text/plain": [
       "count    3.481218e+06\n",
       "mean     7.849066e+02\n",
       "std      1.683582e+04\n",
       "min      0.000000e+00\n",
       "25%      0.000000e+00\n",
       "50%      0.000000e+00\n",
       "75%      7.490000e+02\n",
       "max      1.348741e+07\n",
       "Name: total_holdout, dtype: float64"
      ]
     },
     "execution_count": 690,
     "metadata": {},
     "output_type": "execute_result"
    }
   ],
   "source": [
    "training_money['total_holdout'].describe()"
   ]
  },
  {
   "cell_type": "code",
   "execution_count": 691,
   "metadata": {
    "ExecuteTime": {
     "end_time": "2020-03-19T20:01:30.603879Z",
     "start_time": "2020-03-19T20:01:30.441395Z"
    }
   },
   "outputs": [
    {
     "data": {
      "text/plain": [
       "count    3.481218e+06\n",
       "mean     4.916999e+02\n",
       "std      1.129212e+04\n",
       "min      0.000000e+00\n",
       "25%      0.000000e+00\n",
       "50%      7.375967e+01\n",
       "75%      5.148515e+02\n",
       "max      7.856627e+06\n",
       "Name: clv, dtype: float64"
      ]
     },
     "execution_count": 691,
     "metadata": {},
     "output_type": "execute_result"
    }
   ],
   "source": [
    "training_money['clv'].describe()"
   ]
  },
  {
   "cell_type": "code",
   "execution_count": 692,
   "metadata": {
    "ExecuteTime": {
     "end_time": "2020-03-19T20:01:30.764934Z",
     "start_time": "2020-03-19T20:01:30.604974Z"
    }
   },
   "outputs": [
    {
     "data": {
      "text/plain": [
       "count    3.480160e+06\n",
       "mean     3.612323e+02\n",
       "std      6.807717e+02\n",
       "min      0.000000e+00\n",
       "25%      0.000000e+00\n",
       "50%      3.893505e+01\n",
       "75%      5.073322e+02\n",
       "max      4.990467e+04\n",
       "Name: clv_1, dtype: float64"
      ]
     },
     "execution_count": 692,
     "metadata": {},
     "output_type": "execute_result"
    }
   ],
   "source": [
    "p['clv_1'].describe()"
   ]
  },
  {
   "cell_type": "code",
   "execution_count": 693,
   "metadata": {
    "ExecuteTime": {
     "end_time": "2020-03-19T20:01:30.923600Z",
     "start_time": "2020-03-19T20:01:30.766026Z"
    }
   },
   "outputs": [
    {
     "data": {
      "text/plain": [
       "count    3.480160e+06\n",
       "mean     4.911927e+02\n",
       "std      9.279279e+02\n",
       "min     -0.000000e+00\n",
       "25%     -0.000000e+00\n",
       "50%      3.015562e+01\n",
       "75%      6.926524e+02\n",
       "max      6.827942e+04\n",
       "Name: clv_2, dtype: float64"
      ]
     },
     "execution_count": 693,
     "metadata": {},
     "output_type": "execute_result"
    }
   ],
   "source": [
    "p['clv_2'].describe()"
   ]
  },
  {
   "cell_type": "code",
   "execution_count": 694,
   "metadata": {
    "ExecuteTime": {
     "end_time": "2020-03-19T20:01:30.996039Z",
     "start_time": "2020-03-19T20:01:30.924710Z"
    }
   },
   "outputs": [
    {
     "data": {
      "text/plain": [
       "0.50           0.0\n",
       "0.60         135.0\n",
       "0.70         475.0\n",
       "0.80        1092.0\n",
       "0.90        2243.0\n",
       "0.95        3411.0\n",
       "0.99        6237.0\n",
       "1.00    13487413.0\n",
       "Name: total_holdout, dtype: float64"
      ]
     },
     "execution_count": 694,
     "metadata": {},
     "output_type": "execute_result"
    }
   ],
   "source": [
    "training_money[\"total_holdout\"].quantile([0.5, 0.6, 0.7, 0.8, 0.9, 0.95, 0.99, 1])"
   ]
  },
  {
   "cell_type": "code",
   "execution_count": 695,
   "metadata": {
    "ExecuteTime": {
     "end_time": "2020-03-19T20:01:31.105244Z",
     "start_time": "2020-03-19T20:01:30.997298Z"
    }
   },
   "outputs": [
    {
     "data": {
      "text/plain": [
       "0.50      38.935047\n",
       "0.60     157.635614\n",
       "0.70     367.832173\n",
       "0.80     674.513996\n",
       "0.90    1156.100705\n",
       "0.95    1616.270585\n",
       "0.99    2684.209466\n",
       "Name: clv_1, dtype: float64"
      ]
     },
     "execution_count": 695,
     "metadata": {},
     "output_type": "execute_result"
    }
   ],
   "source": [
    "p[\"clv_1\"].quantile([0.5, 0.6, 0.7, 0.8, 0.9, 0.95, 0.99])"
   ]
  },
  {
   "cell_type": "code",
   "execution_count": 696,
   "metadata": {
    "ExecuteTime": {
     "end_time": "2020-03-19T20:01:31.210181Z",
     "start_time": "2020-03-19T20:01:31.107395Z"
    }
   },
   "outputs": [
    {
     "data": {
      "text/plain": [
       "0.50      30.155624\n",
       "0.60     208.650352\n",
       "0.70     500.608846\n",
       "0.80     921.412696\n",
       "0.90    1578.547618\n",
       "0.95    2206.239708\n",
       "0.99    3661.657601\n",
       "Name: clv_2, dtype: float64"
      ]
     },
     "execution_count": 696,
     "metadata": {},
     "output_type": "execute_result"
    }
   ],
   "source": [
    "p[\"clv_2\"].quantile([0.5, 0.6, 0.7, 0.8, 0.9, 0.95, 0.99])"
   ]
  },
  {
   "cell_type": "markdown",
   "metadata": {},
   "source": [
    "# Regression metric"
   ]
  },
  {
   "cell_type": "code",
   "execution_count": 737,
   "metadata": {
    "ExecuteTime": {
     "end_time": "2020-03-20T14:52:52.231471Z",
     "start_time": "2020-03-20T14:52:52.176428Z"
    }
   },
   "outputs": [
    {
     "data": {
      "text/plain": [
       "<module 'utils' from '/home/jovyan/public/notebooks/pengcheng/cltv/utils.py'>"
      ]
     },
     "execution_count": 737,
     "metadata": {},
     "output_type": "execute_result"
    }
   ],
   "source": [
    "from importlib import reload\n",
    "reload(utils)"
   ]
  },
  {
   "cell_type": "code",
   "execution_count": 697,
   "metadata": {
    "ExecuteTime": {
     "end_time": "2020-03-19T20:01:48.235754Z",
     "start_time": "2020-03-19T20:01:47.853196Z"
    }
   },
   "outputs": [
    {
     "data": {
      "text/plain": [
       "[0,\n",
       " 68.0,\n",
       " 169.0,\n",
       " 350.0,\n",
       " 531.0,\n",
       " 807.0,\n",
       " 1166.0,\n",
       " 1638.0,\n",
       " 2316.0,\n",
       " 3484.0,\n",
       " 13487413.0]"
      ]
     },
     "execution_count": 697,
     "metadata": {},
     "output_type": "execute_result"
    }
   ],
   "source": [
    "bins = utils.get_bins(training_money, 'total_holdout')\n",
    "bins"
   ]
  },
  {
   "cell_type": "code",
   "execution_count": 738,
   "metadata": {
    "ExecuteTime": {
     "end_time": "2020-03-20T14:54:52.459179Z",
     "start_time": "2020-03-20T14:52:54.804042Z"
    }
   },
   "outputs": [
    {
     "name": "stdout",
     "output_type": "stream",
     "text": [
      "TPR:  0.6178659584474385\n",
      "FPR:  0.15286779288585622\n"
     ]
    }
   ],
   "source": [
    "holdout_bin, predicted_bin, training_bin = utils.bucket_mean(training_money, 'total_holdout', \n",
    "                                                             'total_holdout', 'clv', 'total_value', 'holdout_cltv_decile', bins)"
   ]
  },
  {
   "cell_type": "code",
   "execution_count": 699,
   "metadata": {
    "ExecuteTime": {
     "end_time": "2020-03-19T20:03:49.855233Z",
     "start_time": "2020-03-19T20:03:49.848694Z"
    }
   },
   "outputs": [
    {
     "data": {
      "text/html": [
       "<div>\n",
       "<style scoped>\n",
       "    .dataframe tbody tr th:only-of-type {\n",
       "        vertical-align: middle;\n",
       "    }\n",
       "\n",
       "    .dataframe tbody tr th {\n",
       "        vertical-align: top;\n",
       "    }\n",
       "\n",
       "    .dataframe thead th {\n",
       "        text-align: right;\n",
       "    }\n",
       "</style>\n",
       "<table border=\"1\" class=\"dataframe\">\n",
       "  <thead>\n",
       "    <tr style=\"text-align: right;\">\n",
       "      <th></th>\n",
       "      <th>mean</th>\n",
       "      <th>count</th>\n",
       "      <th>bins</th>\n",
       "    </tr>\n",
       "    <tr>\n",
       "      <th>holdout_cltv_decile</th>\n",
       "      <th></th>\n",
       "      <th></th>\n",
       "      <th></th>\n",
       "    </tr>\n",
       "  </thead>\n",
       "  <tbody>\n",
       "    <tr>\n",
       "      <th>0</th>\n",
       "      <td>193.706170</td>\n",
       "      <td>1813751</td>\n",
       "      <td>0.0</td>\n",
       "    </tr>\n",
       "    <tr>\n",
       "      <th>1</th>\n",
       "      <td>377.311814</td>\n",
       "      <td>167361</td>\n",
       "      <td>68.0</td>\n",
       "    </tr>\n",
       "    <tr>\n",
       "      <th>2</th>\n",
       "      <td>452.435596</td>\n",
       "      <td>166414</td>\n",
       "      <td>169.0</td>\n",
       "    </tr>\n",
       "    <tr>\n",
       "      <th>3</th>\n",
       "      <td>557.236446</td>\n",
       "      <td>166579</td>\n",
       "      <td>350.0</td>\n",
       "    </tr>\n",
       "    <tr>\n",
       "      <th>4</th>\n",
       "      <td>575.982515</td>\n",
       "      <td>166732</td>\n",
       "      <td>531.0</td>\n",
       "    </tr>\n",
       "    <tr>\n",
       "      <th>5</th>\n",
       "      <td>657.956466</td>\n",
       "      <td>167067</td>\n",
       "      <td>807.0</td>\n",
       "    </tr>\n",
       "    <tr>\n",
       "      <th>6</th>\n",
       "      <td>705.369003</td>\n",
       "      <td>166666</td>\n",
       "      <td>1166.0</td>\n",
       "    </tr>\n",
       "    <tr>\n",
       "      <th>7</th>\n",
       "      <td>846.596484</td>\n",
       "      <td>166608</td>\n",
       "      <td>1638.0</td>\n",
       "    </tr>\n",
       "    <tr>\n",
       "      <th>8</th>\n",
       "      <td>1010.395491</td>\n",
       "      <td>166607</td>\n",
       "      <td>2316.0</td>\n",
       "    </tr>\n",
       "    <tr>\n",
       "      <th>9</th>\n",
       "      <td>1187.480337</td>\n",
       "      <td>166772</td>\n",
       "      <td>3484.0</td>\n",
       "    </tr>\n",
       "    <tr>\n",
       "      <th>10</th>\n",
       "      <td>1789.088507</td>\n",
       "      <td>166661</td>\n",
       "      <td>13487413.0</td>\n",
       "    </tr>\n",
       "  </tbody>\n",
       "</table>\n",
       "</div>"
      ],
      "text/plain": [
       "                            mean    count        bins\n",
       "holdout_cltv_decile                                  \n",
       "0                     193.706170  1813751         0.0\n",
       "1                     377.311814   167361        68.0\n",
       "2                     452.435596   166414       169.0\n",
       "3                     557.236446   166579       350.0\n",
       "4                     575.982515   166732       531.0\n",
       "5                     657.956466   167067       807.0\n",
       "6                     705.369003   166666      1166.0\n",
       "7                     846.596484   166608      1638.0\n",
       "8                    1010.395491   166607      2316.0\n",
       "9                    1187.480337   166772      3484.0\n",
       "10                   1789.088507   166661  13487413.0"
      ]
     },
     "execution_count": 699,
     "metadata": {},
     "output_type": "execute_result"
    }
   ],
   "source": [
    "predicted_bin"
   ]
  },
  {
   "cell_type": "code",
   "execution_count": 700,
   "metadata": {
    "ExecuteTime": {
     "end_time": "2020-03-19T20:03:49.972325Z",
     "start_time": "2020-03-19T20:03:49.856487Z"
    }
   },
   "outputs": [
    {
     "data": {
      "text/html": [
       "<div>\n",
       "<style scoped>\n",
       "    .dataframe tbody tr th:only-of-type {\n",
       "        vertical-align: middle;\n",
       "    }\n",
       "\n",
       "    .dataframe tbody tr th {\n",
       "        vertical-align: top;\n",
       "    }\n",
       "\n",
       "    .dataframe thead th {\n",
       "        text-align: right;\n",
       "    }\n",
       "</style>\n",
       "<table border=\"1\" class=\"dataframe\">\n",
       "  <thead>\n",
       "    <tr style=\"text-align: right;\">\n",
       "      <th></th>\n",
       "      <th>mean</th>\n",
       "      <th>count</th>\n",
       "      <th>bins</th>\n",
       "    </tr>\n",
       "    <tr>\n",
       "      <th>holdout_cltv_decile</th>\n",
       "      <th></th>\n",
       "      <th></th>\n",
       "      <th></th>\n",
       "    </tr>\n",
       "  </thead>\n",
       "  <tbody>\n",
       "    <tr>\n",
       "      <th>0</th>\n",
       "      <td>0.000000</td>\n",
       "      <td>1813751</td>\n",
       "      <td>0.0</td>\n",
       "    </tr>\n",
       "    <tr>\n",
       "      <th>1</th>\n",
       "      <td>33.885483</td>\n",
       "      <td>167361</td>\n",
       "      <td>68.0</td>\n",
       "    </tr>\n",
       "    <tr>\n",
       "      <th>2</th>\n",
       "      <td>117.858002</td>\n",
       "      <td>166414</td>\n",
       "      <td>169.0</td>\n",
       "    </tr>\n",
       "    <tr>\n",
       "      <th>3</th>\n",
       "      <td>251.080887</td>\n",
       "      <td>166579</td>\n",
       "      <td>350.0</td>\n",
       "    </tr>\n",
       "    <tr>\n",
       "      <th>4</th>\n",
       "      <td>437.481567</td>\n",
       "      <td>166732</td>\n",
       "      <td>531.0</td>\n",
       "    </tr>\n",
       "    <tr>\n",
       "      <th>5</th>\n",
       "      <td>665.886475</td>\n",
       "      <td>167067</td>\n",
       "      <td>807.0</td>\n",
       "    </tr>\n",
       "    <tr>\n",
       "      <th>6</th>\n",
       "      <td>975.410339</td>\n",
       "      <td>166666</td>\n",
       "      <td>1166.0</td>\n",
       "    </tr>\n",
       "    <tr>\n",
       "      <th>7</th>\n",
       "      <td>1386.527222</td>\n",
       "      <td>166608</td>\n",
       "      <td>1638.0</td>\n",
       "    </tr>\n",
       "    <tr>\n",
       "      <th>8</th>\n",
       "      <td>1953.199829</td>\n",
       "      <td>166607</td>\n",
       "      <td>2316.0</td>\n",
       "    </tr>\n",
       "    <tr>\n",
       "      <th>9</th>\n",
       "      <td>2832.539062</td>\n",
       "      <td>166772</td>\n",
       "      <td>3484.0</td>\n",
       "    </tr>\n",
       "    <tr>\n",
       "      <th>10</th>\n",
       "      <td>7738.778809</td>\n",
       "      <td>166661</td>\n",
       "      <td>13487413.0</td>\n",
       "    </tr>\n",
       "  </tbody>\n",
       "</table>\n",
       "</div>"
      ],
      "text/plain": [
       "                            mean    count        bins\n",
       "holdout_cltv_decile                                  \n",
       "0                       0.000000  1813751         0.0\n",
       "1                      33.885483   167361        68.0\n",
       "2                     117.858002   166414       169.0\n",
       "3                     251.080887   166579       350.0\n",
       "4                     437.481567   166732       531.0\n",
       "5                     665.886475   167067       807.0\n",
       "6                     975.410339   166666      1166.0\n",
       "7                    1386.527222   166608      1638.0\n",
       "8                    1953.199829   166607      2316.0\n",
       "9                    2832.539062   166772      3484.0\n",
       "10                   7738.778809   166661  13487413.0"
      ]
     },
     "execution_count": 700,
     "metadata": {},
     "output_type": "execute_result"
    }
   ],
   "source": [
    "holdout_bin"
   ]
  },
  {
   "cell_type": "code",
   "execution_count": 723,
   "metadata": {
    "ExecuteTime": {
     "end_time": "2020-03-19T20:55:42.053230Z",
     "start_time": "2020-03-19T20:55:41.844997Z"
    }
   },
   "outputs": [
    {
     "data": {
      "image/png": "[encoded data removed]",
      "text/plain": [
       "<Figure size 432x288 with 1 Axes>"
      ]
     },
     "metadata": {
      "needs_background": "light"
     },
     "output_type": "display_data"
    }
   ],
   "source": [
    "utils.plot_bucket_mean_(predicted_bin, holdout_bin, 'predicted_cltv', 'holdout_cltv')"
   ]
  },
  {
   "cell_type": "code",
   "execution_count": null,
   "metadata": {},
   "outputs": [],
   "source": []
  },
  {
   "cell_type": "code",
   "execution_count": 702,
   "metadata": {
    "ExecuteTime": {
     "end_time": "2020-03-19T20:03:50.263374Z",
     "start_time": "2020-03-19T20:03:50.260865Z"
    }
   },
   "outputs": [],
   "source": [
    "mean_diff=utils.mape(predicted_bin['mean'], holdout_bin['mean'])"
   ]
  },
  {
   "cell_type": "code",
   "execution_count": 703,
   "metadata": {
    "ExecuteTime": {
     "end_time": "2020-03-19T20:03:50.364681Z",
     "start_time": "2020-03-19T20:03:50.264314Z"
    }
   },
   "outputs": [
    {
     "data": {
      "text/plain": [
       "[(193.7061704816073, 0.0, 193.7061704816073),\n",
       " (377.31181368863906, 33.885483, 10.134910369974161),\n",
       " (452.43559577071727, 117.858, 2.838819504914683),\n",
       " (557.2364461800298, 251.08089, 1.219350318502361),\n",
       " (575.9825146794873, 437.48157, 0.31658693216549016),\n",
       " (657.9564655698716, 665.8865, 0.011908950462096874),\n",
       " (705.3690026871084, 975.41034, 0.27684895861038156),\n",
       " (846.5964837949281, 1386.5272, 0.38941228808379863),\n",
       " (1010.3954909585035, 1953.1998, 0.48269732778787533),\n",
       " (1187.4803369840174, 2832.539, 0.5807717702096059),\n",
       " (1789.0885066716767, 7738.779, 0.768815138548096)]"
      ]
     },
     "execution_count": 703,
     "metadata": {},
     "output_type": "execute_result"
    }
   ],
   "source": [
    "mean_diff"
   ]
  },
  {
   "cell_type": "code",
   "execution_count": 725,
   "metadata": {
    "ExecuteTime": {
     "end_time": "2020-03-19T21:38:04.877058Z",
     "start_time": "2020-03-19T21:38:04.872924Z"
    }
   },
   "outputs": [
    {
     "data": {
      "text/plain": [
       "1.7020999999999997"
      ]
     },
     "execution_count": 725,
     "metadata": {},
     "output_type": "execute_result"
    }
   ],
   "source": [
    "diffs = [round(mean_diff[i][2],3) for i in range(1, len(mean_diff))]\n",
    "sum(diffs)/len(diffs)"
   ]
  },
  {
   "cell_type": "code",
   "execution_count": 726,
   "metadata": {
    "ExecuteTime": {
     "end_time": "2020-03-19T21:38:05.802858Z",
     "start_time": "2020-03-19T21:38:05.799653Z"
    }
   },
   "outputs": [
    {
     "data": {
      "text/plain": [
       "[10.135, 2.839, 1.219, 0.317, 0.012, 0.277, 0.389, 0.483, 0.581, 0.769]"
      ]
     },
     "execution_count": 726,
     "metadata": {},
     "output_type": "execute_result"
    }
   ],
   "source": [
    "diffs"
   ]
  },
  {
   "cell_type": "code",
   "execution_count": 706,
   "metadata": {
    "ExecuteTime": {
     "end_time": "2020-03-19T20:03:50.654285Z",
     "start_time": "2020-03-19T20:03:50.550234Z"
    }
   },
   "outputs": [
    {
     "data": {
      "text/html": [
       "<div>\n",
       "<style scoped>\n",
       "    .dataframe tbody tr th:only-of-type {\n",
       "        vertical-align: middle;\n",
       "    }\n",
       "\n",
       "    .dataframe tbody tr th {\n",
       "        vertical-align: top;\n",
       "    }\n",
       "\n",
       "    .dataframe thead th {\n",
       "        text-align: right;\n",
       "    }\n",
       "</style>\n",
       "<table border=\"1\" class=\"dataframe\">\n",
       "  <thead>\n",
       "    <tr style=\"text-align: right;\">\n",
       "      <th></th>\n",
       "      <th>mean</th>\n",
       "      <th>count</th>\n",
       "      <th>bins</th>\n",
       "    </tr>\n",
       "    <tr>\n",
       "      <th>holdout_cltv_decile</th>\n",
       "      <th></th>\n",
       "      <th></th>\n",
       "      <th></th>\n",
       "    </tr>\n",
       "  </thead>\n",
       "  <tbody>\n",
       "    <tr>\n",
       "      <th>0</th>\n",
       "      <td>776.339111</td>\n",
       "      <td>1813751</td>\n",
       "      <td>0.0</td>\n",
       "    </tr>\n",
       "    <tr>\n",
       "      <th>1</th>\n",
       "      <td>812.128479</td>\n",
       "      <td>167361</td>\n",
       "      <td>68.0</td>\n",
       "    </tr>\n",
       "    <tr>\n",
       "      <th>2</th>\n",
       "      <td>934.817444</td>\n",
       "      <td>166414</td>\n",
       "      <td>169.0</td>\n",
       "    </tr>\n",
       "    <tr>\n",
       "      <th>3</th>\n",
       "      <td>1077.601440</td>\n",
       "      <td>166579</td>\n",
       "      <td>350.0</td>\n",
       "    </tr>\n",
       "    <tr>\n",
       "      <th>4</th>\n",
       "      <td>1162.063232</td>\n",
       "      <td>166732</td>\n",
       "      <td>531.0</td>\n",
       "    </tr>\n",
       "    <tr>\n",
       "      <th>5</th>\n",
       "      <td>1249.971802</td>\n",
       "      <td>167067</td>\n",
       "      <td>807.0</td>\n",
       "    </tr>\n",
       "    <tr>\n",
       "      <th>6</th>\n",
       "      <td>1445.504761</td>\n",
       "      <td>166666</td>\n",
       "      <td>1166.0</td>\n",
       "    </tr>\n",
       "    <tr>\n",
       "      <th>7</th>\n",
       "      <td>1699.545166</td>\n",
       "      <td>166608</td>\n",
       "      <td>1638.0</td>\n",
       "    </tr>\n",
       "    <tr>\n",
       "      <th>8</th>\n",
       "      <td>1935.508057</td>\n",
       "      <td>166607</td>\n",
       "      <td>2316.0</td>\n",
       "    </tr>\n",
       "    <tr>\n",
       "      <th>9</th>\n",
       "      <td>2368.279785</td>\n",
       "      <td>166772</td>\n",
       "      <td>3484.0</td>\n",
       "    </tr>\n",
       "    <tr>\n",
       "      <th>10</th>\n",
       "      <td>3656.520996</td>\n",
       "      <td>166661</td>\n",
       "      <td>13487413.0</td>\n",
       "    </tr>\n",
       "  </tbody>\n",
       "</table>\n",
       "</div>"
      ],
      "text/plain": [
       "                            mean    count        bins\n",
       "holdout_cltv_decile                                  \n",
       "0                     776.339111  1813751         0.0\n",
       "1                     812.128479   167361        68.0\n",
       "2                     934.817444   166414       169.0\n",
       "3                    1077.601440   166579       350.0\n",
       "4                    1162.063232   166732       531.0\n",
       "5                    1249.971802   167067       807.0\n",
       "6                    1445.504761   166666      1166.0\n",
       "7                    1699.545166   166608      1638.0\n",
       "8                    1935.508057   166607      2316.0\n",
       "9                    2368.279785   166772      3484.0\n",
       "10                   3656.520996   166661  13487413.0"
      ]
     },
     "execution_count": 706,
     "metadata": {},
     "output_type": "execute_result"
    }
   ],
   "source": [
    "training_bin"
   ]
  },
  {
   "cell_type": "code",
   "execution_count": 707,
   "metadata": {
    "ExecuteTime": {
     "end_time": "2020-03-19T20:03:50.739678Z",
     "start_time": "2020-03-19T20:03:50.655303Z"
    }
   },
   "outputs": [],
   "source": [
    "mean_diff2=utils.mape(training_bin['mean'], holdout_bin['mean'])"
   ]
  },
  {
   "cell_type": "code",
   "execution_count": 708,
   "metadata": {
    "ExecuteTime": {
     "end_time": "2020-03-19T20:03:50.828212Z",
     "start_time": "2020-03-19T20:03:50.740624Z"
    }
   },
   "outputs": [
    {
     "data": {
      "text/plain": [
       "[(776.3391, 0.0, 776.3391),\n",
       " (812.1285, 33.885483, 22.966856),\n",
       " (934.81744, 117.858, 6.931727),\n",
       " (1077.6014, 251.08089, 3.2918499),\n",
       " (1162.0632, 437.48157, 1.6562564),\n",
       " (1249.9718, 665.8865, 0.8771545),\n",
       " (1445.5048, 975.41034, 0.4819453),\n",
       " (1699.5452, 1386.5272, 0.2257568),\n",
       " (1935.508, 1953.1998, 0.00905784),\n",
       " (2368.2798, 2832.539, 0.16390216),\n",
       " (3656.521, 7738.779, 0.5275067)]"
      ]
     },
     "execution_count": 708,
     "metadata": {},
     "output_type": "execute_result"
    }
   ],
   "source": [
    "mean_diff2"
   ]
  },
  {
   "cell_type": "code",
   "execution_count": 709,
   "metadata": {
    "ExecuteTime": {
     "end_time": "2020-03-19T20:03:50.939792Z",
     "start_time": "2020-03-19T20:03:50.829145Z"
    }
   },
   "outputs": [
    {
     "data": {
      "text/plain": [
       "3.7132999252527954"
      ]
     },
     "execution_count": 709,
     "metadata": {},
     "output_type": "execute_result"
    }
   ],
   "source": [
    "diffs2 = [round(mean_diff2[i][2],3) for i in range(1, len(mean_diff2))]\n",
    "sum(diffs2)/len(diffs2)"
   ]
  },
  {
   "cell_type": "code",
   "execution_count": 710,
   "metadata": {
    "ExecuteTime": {
     "end_time": "2020-03-19T20:03:51.036015Z",
     "start_time": "2020-03-19T20:03:50.940718Z"
    }
   },
   "outputs": [
    {
     "data": {
      "text/plain": [
       "[22.967, 6.932, 3.292, 1.656, 0.877, 0.482, 0.226, 0.009, 0.164, 0.528]"
      ]
     },
     "execution_count": 710,
     "metadata": {},
     "output_type": "execute_result"
    }
   ],
   "source": [
    "diffs2"
   ]
  },
  {
   "cell_type": "code",
   "execution_count": 724,
   "metadata": {
    "ExecuteTime": {
     "end_time": "2020-03-19T20:55:50.173352Z",
     "start_time": "2020-03-19T20:55:49.963057Z"
    }
   },
   "outputs": [
    {
     "data": {
      "image/png": "[encoded data removed]",
      "text/plain": [
       "<Figure size 432x288 with 1 Axes>"
      ]
     },
     "metadata": {
      "needs_background": "light"
     },
     "output_type": "display_data"
    }
   ],
   "source": [
    "utils.plot_bucket_mean_(training_bin, holdout_bin, 'baseline_cltv', 'holdout_cltv')"
   ]
  },
  {
   "cell_type": "markdown",
   "metadata": {},
   "source": [
    "# Ranking metric"
   ]
  },
  {
   "cell_type": "code",
   "execution_count": 712,
   "metadata": {
    "ExecuteTime": {
     "end_time": "2020-03-19T20:03:52.120100Z",
     "start_time": "2020-03-19T20:03:51.333618Z"
    }
   },
   "outputs": [
    {
     "name": "stdout",
     "output_type": "stream",
     "text": [
      "3481218 2360563 0.678085371269481\n"
     ]
    },
    {
     "data": {
      "text/plain": [
       "SpearmanrResult(correlation=0.46467416065181844, pvalue=0.0)"
      ]
     },
     "execution_count": 712,
     "metadata": {},
     "output_type": "execute_result"
    }
   ],
   "source": [
    "utils.spearman_cor(training_money, 'total_holdout', 'clv')"
   ]
  },
  {
   "cell_type": "code",
   "execution_count": 713,
   "metadata": {
    "ExecuteTime": {
     "end_time": "2020-03-19T20:03:53.068649Z",
     "start_time": "2020-03-19T20:03:52.121242Z"
    }
   },
   "outputs": [
    {
     "name": "stdout",
     "output_type": "stream",
     "text": [
      "3481218 3480593 0.9998204651360529\n"
     ]
    },
    {
     "data": {
      "text/plain": [
       "SpearmanrResult(correlation=0.5889840619902156, pvalue=0.0)"
      ]
     },
     "execution_count": 713,
     "metadata": {},
     "output_type": "execute_result"
    }
   ],
   "source": [
    "utils.spearman_cor(training_money, 'total_holdout', 'total_value')"
   ]
  },
  {
   "cell_type": "markdown",
   "metadata": {},
   "source": [
    "# Classification metric"
   ]
  },
  {
   "cell_type": "code",
   "execution_count": 714,
   "metadata": {
    "ExecuteTime": {
     "end_time": "2020-03-19T20:03:56.578883Z",
     "start_time": "2020-03-19T20:03:53.069757Z"
    }
   },
   "outputs": [
    {
     "data": {
      "image/png": "[encoded data removed]",
      "text/plain": [
       "<Figure size 432x288 with 1 Axes>"
      ]
     },
     "metadata": {
      "needs_background": "light"
     },
     "output_type": "display_data"
    }
   ],
   "source": [
    "x1, y1, x2, y2, x3, y3 = utils.plot_percentile_cltv(training_money, 'clv', \n",
    "                                                    'total_holdout', 'total_value', 0.99, .99, .99, 'dense')\n",
    "\n",
    "\n"
   ]
  },
  {
   "cell_type": "code",
   "execution_count": 715,
   "metadata": {
    "ExecuteTime": {
     "end_time": "2020-03-19T20:03:56.582823Z",
     "start_time": "2020-03-19T20:03:56.579993Z"
    }
   },
   "outputs": [
    {
     "data": {
      "text/plain": [
       "3446405"
      ]
     },
     "execution_count": 715,
     "metadata": {},
     "output_type": "execute_result"
    }
   ],
   "source": [
    "len(x1)"
   ]
  },
  {
   "cell_type": "code",
   "execution_count": 716,
   "metadata": {
    "ExecuteTime": {
     "end_time": "2020-03-19T20:03:57.121664Z",
     "start_time": "2020-03-19T20:03:56.583802Z"
    }
   },
   "outputs": [
    {
     "data": {
      "text/plain": [
       "(0.824846319777335, 0.7954826222125245)"
      ]
     },
     "execution_count": 716,
     "metadata": {},
     "output_type": "execute_result"
    }
   ],
   "source": [
    "utils.gini(training_money, 'total_holdout', 'clv')"
   ]
  },
  {
   "cell_type": "code",
   "execution_count": 717,
   "metadata": {
    "ExecuteTime": {
     "end_time": "2020-03-19T20:03:57.514166Z",
     "start_time": "2020-03-19T20:03:57.122809Z"
    }
   },
   "outputs": [
    {
     "data": {
      "text/plain": [
       "(0.824846319777335, 0.7759543957773105)"
      ]
     },
     "execution_count": 717,
     "metadata": {},
     "output_type": "execute_result"
    }
   ],
   "source": [
    "utils.gini(training_money, 'total_holdout', 'total_value')"
   ]
  },
  {
   "cell_type": "code",
   "execution_count": null,
   "metadata": {},
   "outputs": [],
   "source": []
  }
 ],
 "metadata": {
  "kernelspec": {
   "display_name": "Python 3",
   "language": "python",
   "name": "python3"
  },
  "language_info": {
   "codemirror_mode": {
    "name": "ipython",
    "version": 3
   },
   "file_extension": ".py",
   "mimetype": "text/x-python",
   "name": "python",
   "nbconvert_exporter": "python",
   "pygments_lexer": "ipython3",
   "version": "3.7.6"
  },
  "toc": {
   "base_numbering": 1,
   "nav_menu": {},
   "number_sections": true,
   "sideBar": true,
   "skip_h1_title": false,
   "title_cell": "Table of Contents",
   "title_sidebar": "Contents",
   "toc_cell": false,
   "toc_position": {},
   "toc_section_display": true,
   "toc_window_display": false
  }
 },
 "nbformat": 4,
 "nbformat_minor": 2
}
