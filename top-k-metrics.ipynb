{
 "cells": [
  {
   "cell_type": "code",
   "execution_count": 1,
   "id": "24cee4ca",
   "metadata": {},
   "outputs": [
    {
     "data": {
      "text/html": [
       "Current session configs: <tt>{'driverMemory': '8G', 'executorMemory': '16G', 'executorCores': 8, 'numExecutors': 8, 'name': 'pc', 'conf': {'spark.dynamicAllocation.enabled': 'false', 'spark.pyspark.python': 'python3', 'spark.pyspark.virtualenv.enabled': 'true', 'spark.pyspark.virtualenv.type': 'native', 'spark.pyspark.virtualenv.bin.path': '/usr/bin/virtualenv'}, 'kind': 'pyspark'}</tt><br>"
      ],
      "text/plain": [
       "<IPython.core.display.HTML object>"
      ]
     },
     "metadata": {},
     "output_type": "display_data"
    },
    {
     "data": {
      "text/html": [
       "No active sessions."
      ],
      "text/plain": [
       "<IPython.core.display.HTML object>"
      ]
     },
     "metadata": {},
     "output_type": "display_data"
    }
   ],
   "source": [
    "%%configure -f\n",
    "{\"driverMemory\": \"8G\", \n",
    " \"executorMemory\": \"16G\", \n",
    " \"executorCores\": 8, \n",
    " \"numExecutors\": 8,\n",
    " \"name\": \"pc\",\n",
    " \"conf\": {\"spark.dynamicAllocation.enabled\":\"false\",\n",
    "          \"spark.pyspark.python\": \"python3\",\n",
    "          \"spark.pyspark.virtualenv.enabled\": \"true\",\n",
    "          \"spark.pyspark.virtualenv.type\":\"native\",\n",
    "          \"spark.pyspark.virtualenv.bin.path\":\"/usr/bin/virtualenv\"\n",
    "         }\n",
    "}"
   ]
  },
  {
   "cell_type": "code",
   "execution_count": 2,
   "id": "b5c62868",
   "metadata": {},
   "outputs": [
    {
     "data": {
      "application/vnd.jupyter.widget-view+json": {
       "model_id": "fc49037dda7d4f2b982a40f0baab6bc0",
       "version_major": 2,
       "version_minor": 0
      },
      "text/plain": [
       "VBox()"
      ]
     },
     "metadata": {},
     "output_type": "display_data"
    },
    {
     "name": "stdout",
     "output_type": "stream",
     "text": [
      "Starting Spark application\n"
     ]
    },
    {
     "data": {
      "text/html": [
       "<table>\n",
       "<tr><th>ID</th><th>YARN Application ID</th><th>Kind</th><th>State</th><th>Spark UI</th><th>Driver log</th><th>Current session?</th></tr><tr><td>135</td><td>application_1627924993397_0059</td><td>pyspark</td><td>idle</td><td><a target=\"_blank\" href=\"http://ip-10-175-16-133.ap-south-1.compute.internal:20888/proxy/application_1627924993397_0059/\">Link</a></td><td><a target=\"_blank\" href=\"http://ip-10-175-17-105.ap-south-1.compute.internal:8042/node/containerlogs/container_1627924993397_0059_01_000001/livy\">Link</a></td><td>✔</td></tr></table>"
      ],
      "text/plain": [
       "<IPython.core.display.HTML object>"
      ]
     },
     "metadata": {},
     "output_type": "display_data"
    },
    {
     "data": {
      "application/vnd.jupyter.widget-view+json": {
       "model_id": "",
       "version_major": 2,
       "version_minor": 0
      },
      "text/plain": [
       "FloatProgress(value=0.0, bar_style='info', description='Progress:', layout=Layout(height='25px', width='50%'),…"
      ]
     },
     "metadata": {},
     "output_type": "display_data"
    },
    {
     "name": "stdout",
     "output_type": "stream",
     "text": [
      "SparkSession available as 'spark'.\n"
     ]
    },
    {
     "data": {
      "application/vnd.jupyter.widget-view+json": {
       "model_id": "",
       "version_major": 2,
       "version_minor": 0
      },
      "text/plain": [
       "FloatProgress(value=0.0, bar_style='info', description='Progress:', layout=Layout(height='25px', width='50%'),…"
      ]
     },
     "metadata": {},
     "output_type": "display_data"
    }
   ],
   "source": [
    "# \"spark.pyspark.virtualenv.enabled\":\"true\",\n",
    "# \"spark.pyspark.virtualenv.type\":\"native\""
   ]
  },
  {
   "cell_type": "code",
   "execution_count": 3,
   "id": "cd741e00",
   "metadata": {},
   "outputs": [
    {
     "data": {
      "application/vnd.jupyter.widget-view+json": {
       "model_id": "d8fc5e23732e4b91b15b3580e47d6c4a",
       "version_major": 2,
       "version_minor": 0
      },
      "text/plain": [
       "VBox()"
      ]
     },
     "metadata": {},
     "output_type": "display_data"
    },
    {
     "data": {
      "application/vnd.jupyter.widget-view+json": {
       "model_id": "",
       "version_major": 2,
       "version_minor": 0
      },
      "text/plain": [
       "FloatProgress(value=0.0, bar_style='info', description='Progress:', layout=Layout(height='25px', width='50%'),…"
      ]
     },
     "metadata": {},
     "output_type": "display_data"
    },
    {
     "name": "stdout",
     "output_type": "stream",
     "text": [
      "<pyspark.sql.session.SparkSession object at 0x7f22d6ec9d50>"
     ]
    }
   ],
   "source": [
    "spark"
   ]
  },
  {
   "cell_type": "code",
   "execution_count": 4,
   "id": "99a6823c",
   "metadata": {},
   "outputs": [
    {
     "data": {
      "application/vnd.jupyter.widget-view+json": {
       "model_id": "e3b4a5cbcde742ec8fc4158488055299",
       "version_major": 2,
       "version_minor": 0
      },
      "text/plain": [
       "VBox()"
      ]
     },
     "metadata": {},
     "output_type": "display_data"
    },
    {
     "data": {
      "application/vnd.jupyter.widget-view+json": {
       "model_id": "",
       "version_major": 2,
       "version_minor": 0
      },
      "text/plain": [
       "FloatProgress(value=0.0, bar_style='info', description='Progress:', layout=Layout(height='25px', width='50%'),…"
      ]
     },
     "metadata": {},
     "output_type": "display_data"
    },
    {
     "name": "stdout",
     "output_type": "stream",
     "text": [
      "Collecting pandas==0.25.1\n",
      "  Using cached https://files.pythonhosted.org/packages/7e/ab/ea76361f9d3e732e114adcd801d2820d5319c23d0ac5482fa3b412db217e/pandas-0.25.1-cp37-cp37m-manylinux1_x86_64.whl\n",
      "Requirement already satisfied: pytz>=2017.2 in /usr/local/lib/python3.7/site-packages (from pandas==0.25.1)\n",
      "Requirement already satisfied: numpy>=1.13.3 in /usr/local/lib64/python3.7/site-packages (from pandas==0.25.1)\n",
      "Collecting python-dateutil>=2.6.1 (from pandas==0.25.1)\n",
      "  Using cached https://files.pythonhosted.org/packages/36/7a/87837f39d0296e723bb9b62bbb257d0355c7f6128853c78955f57342a56d/python_dateutil-2.8.2-py2.py3-none-any.whl\n",
      "Requirement already satisfied: six>=1.5 in /usr/local/lib/python3.7/site-packages (from python-dateutil>=2.6.1->pandas==0.25.1)\n",
      "Installing collected packages: python-dateutil, pandas\n",
      "Successfully installed pandas-0.25.1 python-dateutil-2.8.2"
     ]
    }
   ],
   "source": [
    "sc.install_pypi_package(\"pandas==0.25.1\") #Install pandas version 0.25.1 "
   ]
  },
  {
   "cell_type": "code",
   "execution_count": 5,
   "id": "cac4c060",
   "metadata": {},
   "outputs": [
    {
     "data": {
      "application/vnd.jupyter.widget-view+json": {
       "model_id": "330f57fc31674d82b914f1bc6e7bfa33",
       "version_major": 2,
       "version_minor": 0
      },
      "text/plain": [
       "VBox()"
      ]
     },
     "metadata": {},
     "output_type": "display_data"
    },
    {
     "data": {
      "application/vnd.jupyter.widget-view+json": {
       "model_id": "",
       "version_major": 2,
       "version_minor": 0
      },
      "text/plain": [
       "FloatProgress(value=0.0, bar_style='info', description='Progress:', layout=Layout(height='25px', width='50%'),…"
      ]
     },
     "metadata": {},
     "output_type": "display_data"
    }
   ],
   "source": [
    "from pyspark.sql import SparkSession\n",
    "import pyspark.sql.functions as F\n",
    "from pyspark.sql.window import Window\n",
    "from pyspark.sql.types import ArrayType, StringType, LongType, IntegerType, DoubleType, StructType, StructField"
   ]
  },
  {
   "cell_type": "code",
   "execution_count": 6,
   "id": "77d8224e",
   "metadata": {},
   "outputs": [
    {
     "data": {
      "application/vnd.jupyter.widget-view+json": {
       "model_id": "fbf97332dff3444089153b684b4bd5d8",
       "version_major": 2,
       "version_minor": 0
      },
      "text/plain": [
       "VBox()"
      ]
     },
     "metadata": {},
     "output_type": "display_data"
    },
    {
     "data": {
      "application/vnd.jupyter.widget-view+json": {
       "model_id": "",
       "version_major": 2,
       "version_minor": 0
      },
      "text/plain": [
       "FloatProgress(value=0.0, bar_style='info', description='Progress:', layout=Layout(height='25px', width='50%'),…"
      ]
     },
     "metadata": {},
     "output_type": "display_data"
    },
    {
     "name": "stdout",
     "output_type": "stream",
     "text": [
      "Collecting scipy\n",
      "  Using cached https://files.pythonhosted.org/packages/b5/6b/8bc0b61ebf824f8c3979a31368bbe38dd247590049a994ab0ed077cb56dc/scipy-1.7.1-cp37-cp37m-manylinux_2_5_x86_64.manylinux1_x86_64.whl\n",
      "Requirement already satisfied: numpy<1.23.0,>=1.16.5 in /usr/local/lib64/python3.7/site-packages (from scipy)\n",
      "Installing collected packages: scipy\n",
      "Successfully installed scipy-1.7.1"
     ]
    }
   ],
   "source": [
    "sc.install_pypi_package(\"scipy\")"
   ]
  },
  {
   "cell_type": "code",
   "execution_count": 7,
   "id": "9d7c67c5",
   "metadata": {},
   "outputs": [
    {
     "data": {
      "application/vnd.jupyter.widget-view+json": {
       "model_id": "6847d56f64c7459683aea1b40fd0348d",
       "version_major": 2,
       "version_minor": 0
      },
      "text/plain": [
       "VBox()"
      ]
     },
     "metadata": {},
     "output_type": "display_data"
    },
    {
     "data": {
      "application/vnd.jupyter.widget-view+json": {
       "model_id": "",
       "version_major": 2,
       "version_minor": 0
      },
      "text/plain": [
       "FloatProgress(value=0.0, bar_style='info', description='Progress:', layout=Layout(height='25px', width='50%'),…"
      ]
     },
     "metadata": {},
     "output_type": "display_data"
    }
   ],
   "source": [
    "#sc.install_pypi_package(\"pandas\")"
   ]
  },
  {
   "cell_type": "code",
   "execution_count": 8,
   "id": "e242b36b",
   "metadata": {},
   "outputs": [
    {
     "data": {
      "application/vnd.jupyter.widget-view+json": {
       "model_id": "40aa93c5f3c646258669a9e922270400",
       "version_major": 2,
       "version_minor": 0
      },
      "text/plain": [
       "VBox()"
      ]
     },
     "metadata": {},
     "output_type": "display_data"
    },
    {
     "data": {
      "application/vnd.jupyter.widget-view+json": {
       "model_id": "",
       "version_major": 2,
       "version_minor": 0
      },
      "text/plain": [
       "FloatProgress(value=0.0, bar_style='info', description='Progress:', layout=Layout(height='25px', width='50%'),…"
      ]
     },
     "metadata": {},
     "output_type": "display_data"
    }
   ],
   "source": [
    "from scipy.stats import entropy\n",
    "import pandas as pd\n",
    "from operator import itemgetter"
   ]
  },
  {
   "cell_type": "markdown",
   "id": "c2d5bfc0",
   "metadata": {},
   "source": [
    "# configs"
   ]
  },
  {
   "cell_type": "code",
   "execution_count": 9,
   "id": "2b2502e2",
   "metadata": {},
   "outputs": [
    {
     "data": {
      "application/vnd.jupyter.widget-view+json": {
       "model_id": "45a7a58286c445cd8f152a16b0134ade",
       "version_major": 2,
       "version_minor": 0
      },
      "text/plain": [
       "VBox()"
      ]
     },
     "metadata": {},
     "output_type": "display_data"
    },
    {
     "data": {
      "application/vnd.jupyter.widget-view+json": {
       "model_id": "",
       "version_major": 2,
       "version_minor": 0
      },
      "text/plain": [
       "FloatProgress(value=0.0, bar_style='info', description='Progress:', layout=Layout(height='25px', width='50%'),…"
      ]
     },
     "metadata": {},
     "output_type": "display_data"
    }
   ],
   "source": [
    "top_k=1\n",
    "model_name='raw'  ## dampened, boosting, raw"
   ]
  },
  {
   "cell_type": "code",
   "execution_count": 10,
   "id": "c4e491da",
   "metadata": {},
   "outputs": [
    {
     "data": {
      "application/vnd.jupyter.widget-view+json": {
       "model_id": "499dc74e232a4cbf892eadcd969dc8e8",
       "version_major": 2,
       "version_minor": 0
      },
      "text/plain": [
       "VBox()"
      ]
     },
     "metadata": {},
     "output_type": "display_data"
    },
    {
     "data": {
      "application/vnd.jupyter.widget-view+json": {
       "model_id": "",
       "version_major": 2,
       "version_minor": 0
      },
      "text/plain": [
       "FloatProgress(value=0.0, bar_style='info', description='Progress:', layout=Layout(height='25px', width='50%'),…"
      ]
     },
     "metadata": {},
     "output_type": "display_data"
    }
   ],
   "source": [
    "trend_score_col=\"category_trend_scores\",\n",
    "probability_col=\"probability\",\n",
    "category_col=\"category_id\",\n",
    "model_date_col=\"model_date\""
   ]
  },
  {
   "cell_type": "code",
   "execution_count": 34,
   "id": "caccf9b4",
   "metadata": {},
   "outputs": [
    {
     "data": {
      "application/vnd.jupyter.widget-view+json": {
       "model_id": "e9899b0bf9304b12917ae1c9ec2d2690",
       "version_major": 2,
       "version_minor": 0
      },
      "text/plain": [
       "VBox()"
      ]
     },
     "metadata": {},
     "output_type": "display_data"
    },
    {
     "data": {
      "application/vnd.jupyter.widget-view+json": {
       "model_id": "",
       "version_major": 2,
       "version_minor": 0
      },
      "text/plain": [
       "FloatProgress(value=0.0, bar_style='info', description='Progress:', layout=Layout(height='25px', width='50%'),…"
      ]
     },
     "metadata": {},
     "output_type": "display_data"
    }
   ],
   "source": [
    "model_date=\"2021-07-27\""
   ]
  },
  {
   "cell_type": "markdown",
   "id": "004a96cc",
   "metadata": {},
   "source": [
    "# input paths"
   ]
  },
  {
   "cell_type": "code",
   "execution_count": 35,
   "id": "9f6e9e04",
   "metadata": {},
   "outputs": [
    {
     "data": {
      "application/vnd.jupyter.widget-view+json": {
       "model_id": "0291afa548b747eab569e651c4300a9f",
       "version_major": 2,
       "version_minor": 0
      },
      "text/plain": [
       "VBox()"
      ]
     },
     "metadata": {},
     "output_type": "display_data"
    },
    {
     "data": {
      "application/vnd.jupyter.widget-view+json": {
       "model_id": "",
       "version_major": 2,
       "version_minor": 0
      },
      "text/plain": [
       "FloatProgress(value=0.0, bar_style='info', description='Progress:', layout=Layout(height='25px', width='50%'),…"
      ]
     },
     "metadata": {},
     "output_type": "display_data"
    },
    {
     "name": "stdout",
     "output_type": "stream",
     "text": [
      "'s3a://pai-gm-midgar-production-ml-jobs/shinra/modelling/weighted_trendfiltering_banner_events/user_categories_raw/model_date=2021-07-27'"
     ]
    }
   ],
   "source": [
    "model_path = f\"s3a://pai-gm-midgar-production-ml-jobs/shinra/modelling/weighted_trendfiltering_banner_events/user_categories_raw/model_date={model_date}\"\n",
    "model_path"
   ]
  },
  {
   "cell_type": "code",
   "execution_count": 36,
   "id": "e3cedb6f",
   "metadata": {},
   "outputs": [
    {
     "data": {
      "application/vnd.jupyter.widget-view+json": {
       "model_id": "22829f9c72ac4f0ea85d22c250386d6a",
       "version_major": 2,
       "version_minor": 0
      },
      "text/plain": [
       "VBox()"
      ]
     },
     "metadata": {},
     "output_type": "display_data"
    },
    {
     "data": {
      "application/vnd.jupyter.widget-view+json": {
       "model_id": "",
       "version_major": 2,
       "version_minor": 0
      },
      "text/plain": [
       "FloatProgress(value=0.0, bar_style='info', description='Progress:', layout=Layout(height='25px', width='50%'),…"
      ]
     },
     "metadata": {},
     "output_type": "display_data"
    }
   ],
   "source": [
    "latest_cma_mapping_file = \"s3://midgar-aws-workspace/prod/shinra/base/l1_cma_name_to_id_map/2021-07-31\""
   ]
  },
  {
   "cell_type": "markdown",
   "id": "2b5d9584",
   "metadata": {},
   "source": [
    "# output paths"
   ]
  },
  {
   "cell_type": "code",
   "execution_count": 37,
   "id": "306dfe9d",
   "metadata": {},
   "outputs": [
    {
     "data": {
      "application/vnd.jupyter.widget-view+json": {
       "model_id": "ced246fc1e5148f79a241fd0fd0f1049",
       "version_major": 2,
       "version_minor": 0
      },
      "text/plain": [
       "VBox()"
      ]
     },
     "metadata": {},
     "output_type": "display_data"
    },
    {
     "data": {
      "application/vnd.jupyter.widget-view+json": {
       "model_id": "",
       "version_major": 2,
       "version_minor": 0
      },
      "text/plain": [
       "FloatProgress(value=0.0, bar_style='info', description='Progress:', layout=Layout(height='25px', width='50%'),…"
      ]
     },
     "metadata": {},
     "output_type": "display_data"
    },
    {
     "name": "stdout",
     "output_type": "stream",
     "text": [
      "'s3://pai-gm-midgar-shared-ml-team/pengcheng/eval/model_eval/30_day_trends/topk_metrics/model=raw//dt=2021-07-27'"
     ]
    }
   ],
   "source": [
    "topk_path = f\"s3://pai-gm-midgar-shared-ml-team/pengcheng/eval/model_eval/30_day_trends/topk_metrics/model={model_name}/\"\n",
    "\n",
    "topk_dist_path = f\"{topk_path}/dt={model_date}\"\n",
    "topk_dist_path"
   ]
  },
  {
   "cell_type": "markdown",
   "id": "ca95e71a",
   "metadata": {},
   "source": [
    "# work"
   ]
  },
  {
   "cell_type": "code",
   "execution_count": 15,
   "id": "344d21fc",
   "metadata": {},
   "outputs": [
    {
     "data": {
      "application/vnd.jupyter.widget-view+json": {
       "model_id": "00c925a37a1d42d9a5451df512d0f278",
       "version_major": 2,
       "version_minor": 0
      },
      "text/plain": [
       "VBox()"
      ]
     },
     "metadata": {},
     "output_type": "display_data"
    },
    {
     "data": {
      "application/vnd.jupyter.widget-view+json": {
       "model_id": "",
       "version_major": 2,
       "version_minor": 0
      },
      "text/plain": [
       "FloatProgress(value=0.0, bar_style='info', description='Progress:', layout=Layout(height='25px', width='50%'),…"
      ]
     },
     "metadata": {},
     "output_type": "display_data"
    }
   ],
   "source": [
    "def get_map_table(spark, latest_cma_mapping_file, c0, c1):\n",
    "    cma_mapping = (spark.read.option(\"header\", \"false\")\n",
    "                   .csv(latest_cma_mapping_file.replace(\"s3\", \"s3a\"))\n",
    "                   .withColumnRenamed(\"_c0\", c0)\n",
    "                   .withColumnRenamed(\"_c1\", c1))\n",
    "    return cma_mapping"
   ]
  },
  {
   "cell_type": "code",
   "execution_count": 16,
   "id": "2c2da208",
   "metadata": {},
   "outputs": [
    {
     "data": {
      "application/vnd.jupyter.widget-view+json": {
       "model_id": "16a4ebce7e3e445c87eb9251dae2c04a",
       "version_major": 2,
       "version_minor": 0
      },
      "text/plain": [
       "VBox()"
      ]
     },
     "metadata": {},
     "output_type": "display_data"
    },
    {
     "data": {
      "application/vnd.jupyter.widget-view+json": {
       "model_id": "",
       "version_major": 2,
       "version_minor": 0
      },
      "text/plain": [
       "FloatProgress(value=0.0, bar_style='info', description='Progress:', layout=Layout(height='25px', width='50%'),…"
      ]
     },
     "metadata": {},
     "output_type": "display_data"
    }
   ],
   "source": [
    "cma_mapping = get_map_table(spark, latest_cma_mapping_file, \"category_name\",\"top_cat\")"
   ]
  },
  {
   "cell_type": "code",
   "execution_count": 17,
   "id": "b064ceba",
   "metadata": {},
   "outputs": [
    {
     "data": {
      "application/vnd.jupyter.widget-view+json": {
       "model_id": "5365c9f2b19d44f1ad13003f45b0dab5",
       "version_major": 2,
       "version_minor": 0
      },
      "text/plain": [
       "VBox()"
      ]
     },
     "metadata": {},
     "output_type": "display_data"
    },
    {
     "data": {
      "application/vnd.jupyter.widget-view+json": {
       "model_id": "",
       "version_major": 2,
       "version_minor": 0
      },
      "text/plain": [
       "FloatProgress(value=0.0, bar_style='info', description='Progress:', layout=Layout(height='25px', width='50%'),…"
      ]
     },
     "metadata": {},
     "output_type": "display_data"
    },
    {
     "name": "stdout",
     "output_type": "stream",
     "text": [
      "123"
     ]
    }
   ],
   "source": [
    "cma_mapping.count()"
   ]
  },
  {
   "cell_type": "code",
   "execution_count": null,
   "id": "4ce14bfb",
   "metadata": {},
   "outputs": [],
   "source": []
  },
  {
   "cell_type": "code",
   "execution_count": 18,
   "id": "f0b52eaf",
   "metadata": {},
   "outputs": [
    {
     "data": {
      "application/vnd.jupyter.widget-view+json": {
       "model_id": "e4d5792185ef421da86a100769708290",
       "version_major": 2,
       "version_minor": 0
      },
      "text/plain": [
       "VBox()"
      ]
     },
     "metadata": {},
     "output_type": "display_data"
    },
    {
     "data": {
      "application/vnd.jupyter.widget-view+json": {
       "model_id": "",
       "version_major": 2,
       "version_minor": 0
      },
      "text/plain": [
       "FloatProgress(value=0.0, bar_style='info', description='Progress:', layout=Layout(height='25px', width='50%'),…"
      ]
     },
     "metadata": {},
     "output_type": "display_data"
    }
   ],
   "source": [
    "def model_servable_categories(spark):\n",
    "    model_categories_path = \"s3://midgar-aws-workspace/prod/shinra/telescope/dashboard/MODEL_SERVABLE_CATEGORIES\"\n",
    "    model_categories = (spark\n",
    "                        .read\n",
    "                        .option(\"header\", True)\n",
    "                        .csv(model_categories_path)\n",
    "                        .agg(F.collect_set(F.col(\"cma_id\")).alias(\"categories\"))).collect()[0][\"categories\"]\n",
    "    return model_categories"
   ]
  },
  {
   "cell_type": "code",
   "execution_count": 19,
   "id": "5f93b345",
   "metadata": {},
   "outputs": [
    {
     "data": {
      "application/vnd.jupyter.widget-view+json": {
       "model_id": "7e138ef0f46a461b932ad3e34a89b8ac",
       "version_major": 2,
       "version_minor": 0
      },
      "text/plain": [
       "VBox()"
      ]
     },
     "metadata": {},
     "output_type": "display_data"
    },
    {
     "data": {
      "application/vnd.jupyter.widget-view+json": {
       "model_id": "",
       "version_major": 2,
       "version_minor": 0
      },
      "text/plain": [
       "FloatProgress(value=0.0, bar_style='info', description='Progress:', layout=Layout(height='25px', width='50%'),…"
      ]
     },
     "metadata": {},
     "output_type": "display_data"
    }
   ],
   "source": [
    "model_categories = model_servable_categories(spark)"
   ]
  },
  {
   "cell_type": "code",
   "execution_count": 20,
   "id": "ed5ab9ed",
   "metadata": {},
   "outputs": [
    {
     "data": {
      "application/vnd.jupyter.widget-view+json": {
       "model_id": "24927aac32344f47a00b3663986aea1c",
       "version_major": 2,
       "version_minor": 0
      },
      "text/plain": [
       "VBox()"
      ]
     },
     "metadata": {},
     "output_type": "display_data"
    },
    {
     "data": {
      "application/vnd.jupyter.widget-view+json": {
       "model_id": "",
       "version_major": 2,
       "version_minor": 0
      },
      "text/plain": [
       "FloatProgress(value=0.0, bar_style='info', description='Progress:', layout=Layout(height='25px', width='50%'),…"
      ]
     },
     "metadata": {},
     "output_type": "display_data"
    },
    {
     "name": "stdout",
     "output_type": "stream",
     "text": [
      "40"
     ]
    }
   ],
   "source": [
    "len(model_categories)"
   ]
  },
  {
   "cell_type": "code",
   "execution_count": 21,
   "id": "39375e2a",
   "metadata": {},
   "outputs": [
    {
     "data": {
      "application/vnd.jupyter.widget-view+json": {
       "model_id": "0e3da1febc3c4e04a2231de02170e644",
       "version_major": 2,
       "version_minor": 0
      },
      "text/plain": [
       "VBox()"
      ]
     },
     "metadata": {},
     "output_type": "display_data"
    },
    {
     "data": {
      "application/vnd.jupyter.widget-view+json": {
       "model_id": "",
       "version_major": 2,
       "version_minor": 0
      },
      "text/plain": [
       "FloatProgress(value=0.0, bar_style='info', description='Progress:', layout=Layout(height='25px', width='50%'),…"
      ]
     },
     "metadata": {},
     "output_type": "display_data"
    },
    {
     "name": "stdout",
     "output_type": "stream",
     "text": [
      "+------------------------------------------------------------------------------------------------------------------------------------------------------------------------------------------------------------------------------------------------------------------------------------------------------------------------------------------------------------------------------------------------------------------------------------------------------------------------+\n",
      "|probability                                                                                                                                                                                                                                                                                                                                                                                                                                                             |\n",
      "+------------------------------------------------------------------------------------------------------------------------------------------------------------------------------------------------------------------------------------------------------------------------------------------------------------------------------------------------------------------------------------------------------------------------------------------------------------------------+\n",
      "|[0.01049302, 0.01152778, 6.3053E-4, 0.01060976, 1.0229E-4, 0.00119168, 0.00100697, 0.00659746, 3.134E-5, 3.2885E-4, 0.0052643, 4.8558E-4, 0.00148279, 7.817E-4, 0.59972136, 0.00168471, 5.4862E-4, 0.02047591, 0.04470944, 0.05320965, 0.0011318, 7.6277E-4, 6.582E-5, 0.00145106, 0.00156861, 0.01956245, 0.00459685, 0.16664374, 0.00509222, 7.5586E-4, 0.00171118, 0.00151734, 6.8515E-4, 0.00560516, 3.4461E-4, 0.00102888, 0.01246599, 0.00284453, 0.0, 0.00128225]|\n",
      "+------------------------------------------------------------------------------------------------------------------------------------------------------------------------------------------------------------------------------------------------------------------------------------------------------------------------------------------------------------------------------------------------------------------------------------------------------------------------+\n",
      "only showing top 1 row"
     ]
    }
   ],
   "source": [
    "spark.read.parquet(model_path).select(F.col('category_trend_scores.probability')).show(1,False)"
   ]
  },
  {
   "cell_type": "code",
   "execution_count": null,
   "id": "543ac96f",
   "metadata": {},
   "outputs": [],
   "source": []
  },
  {
   "cell_type": "code",
   "execution_count": 22,
   "id": "4e7dc9ab",
   "metadata": {},
   "outputs": [
    {
     "data": {
      "application/vnd.jupyter.widget-view+json": {
       "model_id": "9f5e05c5878b4293b568482456925a6a",
       "version_major": 2,
       "version_minor": 0
      },
      "text/plain": [
       "VBox()"
      ]
     },
     "metadata": {},
     "output_type": "display_data"
    },
    {
     "data": {
      "application/vnd.jupyter.widget-view+json": {
       "model_id": "",
       "version_major": 2,
       "version_minor": 0
      },
      "text/plain": [
       "FloatProgress(value=0.0, bar_style='info', description='Progress:', layout=Layout(height='25px', width='50%'),…"
      ]
     },
     "metadata": {},
     "output_type": "display_data"
    }
   ],
   "source": [
    "def rank_model_predictions(top_k):\n",
    "    arrays_zip_ = F.udf(lambda x, y: list(zip(x, y)),\n",
    "                        ArrayType(StructType([\n",
    "                            # Choose Datatype according to requirement\n",
    "                            StructField('0', DoubleType()),\n",
    "                            StructField('1', StringType())\n",
    "                        ])))\n",
    "    print(f'model_path: {model_path}')\n",
    "    model_df = spark.read.parquet(model_path)\n",
    "    ranked_model_output = (model_df.select(\"customer_id\", \"category_trend_scores\")\n",
    "                           .withColumn(\"sorted_prediction\",\n",
    "                                       F.sort_array(\n",
    "                                           arrays_zip_(F.col('category_trend_scores.probability'),\n",
    "                                                       F.col('category_trend_scores.category_id')),\n",
    "                                           asc=False))\n",
    "                           .withColumn(\"predicted_top_category\",\n",
    "                                       F.array([F.col(\"sorted_prediction.1\")[i] for i in range(top_k)]))\n",
    "                           .select(\"customer_id\", \"predicted_top_category\")\n",
    "                           )\n",
    "    return ranked_model_output"
   ]
  },
  {
   "cell_type": "code",
   "execution_count": 23,
   "id": "a071e054",
   "metadata": {},
   "outputs": [
    {
     "data": {
      "application/vnd.jupyter.widget-view+json": {
       "model_id": "766f8dca1a654830b0369b356ef8dfcd",
       "version_major": 2,
       "version_minor": 0
      },
      "text/plain": [
       "VBox()"
      ]
     },
     "metadata": {},
     "output_type": "display_data"
    },
    {
     "data": {
      "application/vnd.jupyter.widget-view+json": {
       "model_id": "",
       "version_major": 2,
       "version_minor": 0
      },
      "text/plain": [
       "FloatProgress(value=0.0, bar_style='info', description='Progress:', layout=Layout(height='25px', width='50%'),…"
      ]
     },
     "metadata": {},
     "output_type": "display_data"
    }
   ],
   "source": [
    "def unique_categories_in_top_k(ranked_model_output, ranked_category_array_col=\"predicted_top_category\"):\n",
    "    return (ranked_model_output\n",
    "            .select(ranked_category_array_col)\n",
    "            .select(F.posexplode(ranked_category_array_col))\n",
    "            .withColumnRenamed(\"col\", \"top_cat\")\n",
    "            .withColumn(\"rank\", F.col(\"pos\") + 1)\n",
    "            .groupBy(\"top_cat\", \"rank\")\n",
    "            .agg(F.count(\"top_cat\").alias(\"total_model_rec_cnt\")))"
   ]
  },
  {
   "cell_type": "code",
   "execution_count": 24,
   "id": "b945e58e",
   "metadata": {},
   "outputs": [
    {
     "data": {
      "application/vnd.jupyter.widget-view+json": {
       "model_id": "90ba0d9ba7674cdb89104f3850a87208",
       "version_major": 2,
       "version_minor": 0
      },
      "text/plain": [
       "VBox()"
      ]
     },
     "metadata": {},
     "output_type": "display_data"
    },
    {
     "data": {
      "application/vnd.jupyter.widget-view+json": {
       "model_id": "",
       "version_major": 2,
       "version_minor": 0
      },
      "text/plain": [
       "FloatProgress(value=0.0, bar_style='info', description='Progress:', layout=Layout(height='25px', width='50%'),…"
      ]
     },
     "metadata": {},
     "output_type": "display_data"
    }
   ],
   "source": [
    "def cumulative_model_output_analysis(aggregated_model_ranked_output, topk_dist_path):\n",
    "    window_by_category_and_rank = (Window.partitionBy('top_cat').orderBy('rank')\n",
    "                                   .rangeBetween(Window.unboundedPreceding, 0))\n",
    "    rank_window_by_rank = Window.partitionBy('rank')\n",
    "    category_cumulative_df = (\n",
    "        aggregated_model_ranked_output.withColumn('cum_sum',\n",
    "                                                  F.sum(\"total_model_rec_cnt\").over(window_by_category_and_rank))\n",
    "            .withColumn(\"percentage\", F.col(\"cum_sum\") / F.sum('cum_sum').over(rank_window_by_rank))\n",
    "            .withColumnRenamed(\"cum_sum\", \"category_rec_count\")\n",
    "            .withColumnRenamed(\"rank\", \"k\")\n",
    "            .select(\"k\", \"top_cat\", \"category_name\", \"category_rec_count\", \"percentage\"))\n",
    "\n",
    "    print(topk_dist_path)\n",
    "    category_cumulative_df.coalesce(1).write.mode(\"overwrite\").parquet(topk_dist_path)\n",
    "\n",
    "    return spark.read.parquet(topk_dist_path)"
   ]
  },
  {
   "cell_type": "code",
   "execution_count": 25,
   "id": "cb00c17d",
   "metadata": {},
   "outputs": [
    {
     "data": {
      "application/vnd.jupyter.widget-view+json": {
       "model_id": "3df3025620d743fdbec0fd2bef96f51e",
       "version_major": 2,
       "version_minor": 0
      },
      "text/plain": [
       "VBox()"
      ]
     },
     "metadata": {},
     "output_type": "display_data"
    },
    {
     "data": {
      "application/vnd.jupyter.widget-view+json": {
       "model_id": "",
       "version_major": 2,
       "version_minor": 0
      },
      "text/plain": [
       "FloatProgress(value=0.0, bar_style='info', description='Progress:', layout=Layout(height='25px', width='50%'),…"
      ]
     },
     "metadata": {},
     "output_type": "display_data"
    }
   ],
   "source": [
    "def coverage_calculation(category_cumulative_df, k=1):\n",
    "    model_predicted_categories = (category_cumulative_df\n",
    "                                  .filter(F.col(\"k\") <= k)\n",
    "                                  .select(\"top_cat\")\n",
    "                                  .distinct()\n",
    "                                  .toPandas()[\"top_cat\"].to_list()\n",
    "                                 )\n",
    "\n",
    "    return len(set(model_predicted_categories) & set(model_categories)) / len(model_categories)"
   ]
  },
  {
   "cell_type": "code",
   "execution_count": 26,
   "id": "0f01573b",
   "metadata": {},
   "outputs": [
    {
     "data": {
      "application/vnd.jupyter.widget-view+json": {
       "model_id": "dac4cacb8a8f48b386554bc8ea478622",
       "version_major": 2,
       "version_minor": 0
      },
      "text/plain": [
       "VBox()"
      ]
     },
     "metadata": {},
     "output_type": "display_data"
    },
    {
     "data": {
      "application/vnd.jupyter.widget-view+json": {
       "model_id": "",
       "version_major": 2,
       "version_minor": 0
      },
      "text/plain": [
       "FloatProgress(value=0.0, bar_style='info', description='Progress:', layout=Layout(height='25px', width='50%'),…"
      ]
     },
     "metadata": {},
     "output_type": "display_data"
    }
   ],
   "source": [
    "def entropy_calculation(category_cumulative_df, top_k=1) -> float:\n",
    "    top_k_entropy = {}\n",
    "    for i in range(1, top_k + 1):\n",
    "        df_k = category_cumulative_df[category_cumulative_df[\"k\"] == i]\n",
    "        top_k_entropy[str(i)] = entropy(df_k[\"percentage\"])\n",
    "    top_k_entropy[\"dt\"] = model_date\n",
    "    df = pd.DataFrame(top_k_entropy, index=[0])\n",
    "    for i in df.columns:\n",
    "        df[i] = df[i].astype(str)\n",
    "    print(f\"entropy for top1 categories is {top_k_entropy['1']}\")\n",
    "    return float(top_k_entropy['1'])"
   ]
  },
  {
   "cell_type": "code",
   "execution_count": null,
   "id": "d95fe0c5",
   "metadata": {},
   "outputs": [],
   "source": []
  },
  {
   "cell_type": "code",
   "execution_count": 27,
   "id": "d509a9f4",
   "metadata": {},
   "outputs": [
    {
     "data": {
      "application/vnd.jupyter.widget-view+json": {
       "model_id": "2df8eeaeecf14a7d944976ef9ef8c08c",
       "version_major": 2,
       "version_minor": 0
      },
      "text/plain": [
       "VBox()"
      ]
     },
     "metadata": {},
     "output_type": "display_data"
    },
    {
     "data": {
      "application/vnd.jupyter.widget-view+json": {
       "model_id": "",
       "version_major": 2,
       "version_minor": 0
      },
      "text/plain": [
       "FloatProgress(value=0.0, bar_style='info', description='Progress:', layout=Layout(height='25px', width='50%'),…"
      ]
     },
     "metadata": {},
     "output_type": "display_data"
    }
   ],
   "source": [
    "def gini_index(category_cumulative_df, top_k=1):\n",
    "    gini_base_table = category_cumulative_df.filter(F.col(\"k\") == top_k) \\\n",
    "        .select(\"top_cat\", \"percentage\") \\\n",
    "        .toPandas()\n",
    "    p = pd.Series(gini_base_table.percentage.values, index=gini_base_table.top_cat).to_dict()\n",
    "    j = 1\n",
    "    n = len(p)\n",
    "    G = 0\n",
    "    for item, weight in sorted(p.items(), key=itemgetter(1)):\n",
    "        G += (2 * j - n - 1) * weight\n",
    "        j += 1\n",
    "    print(\"gini index is \" + str(G / float(n - 1)))\n",
    "    return G / float(n - 1)"
   ]
  },
  {
   "cell_type": "code",
   "execution_count": 28,
   "id": "0dce1b97",
   "metadata": {},
   "outputs": [
    {
     "data": {
      "application/vnd.jupyter.widget-view+json": {
       "model_id": "809bb51c1a554dc3a1b4d33db76239af",
       "version_major": 2,
       "version_minor": 0
      },
      "text/plain": [
       "VBox()"
      ]
     },
     "metadata": {},
     "output_type": "display_data"
    },
    {
     "data": {
      "application/vnd.jupyter.widget-view+json": {
       "model_id": "",
       "version_major": 2,
       "version_minor": 0
      },
      "text/plain": [
       "FloatProgress(value=0.0, bar_style='info', description='Progress:', layout=Layout(height='25px', width='50%'),…"
      ]
     },
     "metadata": {},
     "output_type": "display_data"
    },
    {
     "name": "stdout",
     "output_type": "stream",
     "text": [
      "model_path: s3a://pai-gm-midgar-production-ml-jobs/shinra/modelling/weighted_trendfiltering_banner_events/user_categories_raw/model_date=2021-07-26"
     ]
    }
   ],
   "source": [
    "reranked_model = rank_model_predictions(top_k=top_k)"
   ]
  },
  {
   "cell_type": "code",
   "execution_count": 29,
   "id": "8911b008",
   "metadata": {},
   "outputs": [
    {
     "data": {
      "application/vnd.jupyter.widget-view+json": {
       "model_id": "4d6a6308fc7f46da8f241933bac7c26c",
       "version_major": 2,
       "version_minor": 0
      },
      "text/plain": [
       "VBox()"
      ]
     },
     "metadata": {},
     "output_type": "display_data"
    },
    {
     "data": {
      "application/vnd.jupyter.widget-view+json": {
       "model_id": "",
       "version_major": 2,
       "version_minor": 0
      },
      "text/plain": [
       "FloatProgress(value=0.0, bar_style='info', description='Progress:', layout=Layout(height='25px', width='50%'),…"
      ]
     },
     "metadata": {},
     "output_type": "display_data"
    }
   ],
   "source": [
    "unique_categories_in_top_k_df = unique_categories_in_top_k(reranked_model).join(cma_mapping, on=\"top_cat\", how=\"left\")"
   ]
  },
  {
   "cell_type": "code",
   "execution_count": 39,
   "id": "3dc0ed2d",
   "metadata": {},
   "outputs": [
    {
     "data": {
      "application/vnd.jupyter.widget-view+json": {
       "model_id": "1b38e8a8e8684a62a9a1fb377ee8001d",
       "version_major": 2,
       "version_minor": 0
      },
      "text/plain": [
       "VBox()"
      ]
     },
     "metadata": {},
     "output_type": "display_data"
    },
    {
     "data": {
      "application/vnd.jupyter.widget-view+json": {
       "model_id": "",
       "version_major": 2,
       "version_minor": 0
      },
      "text/plain": [
       "FloatProgress(value=0.0, bar_style='info', description='Progress:', layout=Layout(height='25px', width='50%'),…"
      ]
     },
     "metadata": {},
     "output_type": "display_data"
    },
    {
     "name": "stdout",
     "output_type": "stream",
     "text": [
      "'s3://pai-gm-midgar-shared-ml-team/pengcheng/eval/model_eval/30_day_trends/topk_metrics/model=raw//dt=2021-07-27'"
     ]
    }
   ],
   "source": [
    "topk_dist_path\n"
   ]
  },
  {
   "cell_type": "code",
   "execution_count": 38,
   "id": "7d42fba4",
   "metadata": {},
   "outputs": [
    {
     "data": {
      "application/vnd.jupyter.widget-view+json": {
       "model_id": "a52ec78bfe504ffb8bd7d0397554efee",
       "version_major": 2,
       "version_minor": 0
      },
      "text/plain": [
       "VBox()"
      ]
     },
     "metadata": {},
     "output_type": "display_data"
    },
    {
     "data": {
      "application/vnd.jupyter.widget-view+json": {
       "model_id": "",
       "version_major": 2,
       "version_minor": 0
      },
      "text/plain": [
       "FloatProgress(value=0.0, bar_style='info', description='Progress:', layout=Layout(height='25px', width='50%'),…"
      ]
     },
     "metadata": {},
     "output_type": "display_data"
    }
   ],
   "source": [
    "#analyzing_df = cumulative_model_output_analysis(aggregated_model_ranked_output=unique_categories_in_top_k_df,topk_dist_path=topk_dist_path).cache()\n",
    "analyzing_df=spark.read.parquet(topk_dist_path)"
   ]
  },
  {
   "cell_type": "code",
   "execution_count": 40,
   "id": "4dbd2d78",
   "metadata": {},
   "outputs": [
    {
     "data": {
      "application/vnd.jupyter.widget-view+json": {
       "model_id": "fbc9c711aee043598f52851db216e9a5",
       "version_major": 2,
       "version_minor": 0
      },
      "text/plain": [
       "VBox()"
      ]
     },
     "metadata": {},
     "output_type": "display_data"
    },
    {
     "data": {
      "application/vnd.jupyter.widget-view+json": {
       "model_id": "",
       "version_major": 2,
       "version_minor": 0
      },
      "text/plain": [
       "FloatProgress(value=0.0, bar_style='info', description='Progress:', layout=Layout(height='25px', width='50%'),…"
      ]
     },
     "metadata": {},
     "output_type": "display_data"
    },
    {
     "name": "stdout",
     "output_type": "stream",
     "text": [
      "0.975"
     ]
    }
   ],
   "source": [
    "coverage_num = coverage_calculation(analyzing_df, k=1)\n",
    "coverage_num"
   ]
  },
  {
   "cell_type": "code",
   "execution_count": 41,
   "id": "915c7416",
   "metadata": {},
   "outputs": [
    {
     "data": {
      "application/vnd.jupyter.widget-view+json": {
       "model_id": "823447571e9d494e89cb6c7d8db73a8f",
       "version_major": 2,
       "version_minor": 0
      },
      "text/plain": [
       "VBox()"
      ]
     },
     "metadata": {},
     "output_type": "display_data"
    },
    {
     "data": {
      "application/vnd.jupyter.widget-view+json": {
       "model_id": "",
       "version_major": 2,
       "version_minor": 0
      },
      "text/plain": [
       "FloatProgress(value=0.0, bar_style='info', description='Progress:', layout=Layout(height='25px', width='50%'),…"
      ]
     },
     "metadata": {},
     "output_type": "display_data"
    },
    {
     "name": "stdout",
     "output_type": "stream",
     "text": [
      "entropy for top1 categories is 2.3976991644518164\n",
      "2.3976991644518164"
     ]
    }
   ],
   "source": [
    "entropy_val = entropy_calculation(analyzing_df.toPandas(), top_k=1)\n",
    "entropy_val"
   ]
  },
  {
   "cell_type": "code",
   "execution_count": 42,
   "id": "04ef3e1e",
   "metadata": {},
   "outputs": [
    {
     "data": {
      "application/vnd.jupyter.widget-view+json": {
       "model_id": "22e3014884f9476f9ab38a0af72dc48c",
       "version_major": 2,
       "version_minor": 0
      },
      "text/plain": [
       "VBox()"
      ]
     },
     "metadata": {},
     "output_type": "display_data"
    },
    {
     "data": {
      "application/vnd.jupyter.widget-view+json": {
       "model_id": "",
       "version_major": 2,
       "version_minor": 0
      },
      "text/plain": [
       "FloatProgress(value=0.0, bar_style='info', description='Progress:', layout=Layout(height='25px', width='50%'),…"
      ]
     },
     "metadata": {},
     "output_type": "display_data"
    },
    {
     "name": "stdout",
     "output_type": "stream",
     "text": [
      "gini index is 0.8026111472274746\n",
      "0.8026111472274746"
     ]
    }
   ],
   "source": [
    "gini_index_num = gini_index(analyzing_df, 1)\n",
    "gini_index_num\n"
   ]
  },
  {
   "cell_type": "code",
   "execution_count": null,
   "id": "be15dc11",
   "metadata": {},
   "outputs": [],
   "source": []
  },
  {
   "cell_type": "code",
   "execution_count": null,
   "id": "abd0f639",
   "metadata": {},
   "outputs": [],
   "source": []
  },
  {
   "cell_type": "markdown",
   "id": "c0eebe36",
   "metadata": {},
   "source": []
  },
  {
   "cell_type": "code",
   "execution_count": null,
   "id": "0236e426",
   "metadata": {},
   "outputs": [],
   "source": []
  }
 ],
 "metadata": {
  "kernelspec": {
   "display_name": "PySpark",
   "language": "",
   "name": "pysparkkernel"
  },
  "language_info": {
   "codemirror_mode": {
    "name": "python",
    "version": 2
   },
   "mimetype": "text/x-python",
   "name": "pyspark",
   "pygments_lexer": "python2"
  }
 },
 "nbformat": 4,
 "nbformat_minor": 5
}
