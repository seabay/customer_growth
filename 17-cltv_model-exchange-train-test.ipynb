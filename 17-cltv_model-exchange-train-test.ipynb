{
 "cells": [
  {
   "cell_type": "code",
   "execution_count": 1,
   "metadata": {
    "ExecuteTime": {
     "end_time": "2020-02-27T18:05:48.037714Z",
     "start_time": "2020-02-27T18:05:46.483301Z"
    }
   },
   "outputs": [
    {
     "name": "stdout",
     "output_type": "stream",
     "text": [
      "\u001b[33mWARNING: The directory '/home/jovyan/.cache/pip' or its parent directory is not owned or is not writable by the current user. The cache has been disabled. Check the permissions and owner of that directory. If executing pip with sudo, you may want sudo's -H flag.\u001b[0m\n",
      "Requirement already satisfied: dfply in /opt/conda/lib/python3.7/site-packages (0.3.3)\n",
      "Requirement already satisfied: pandas in /opt/conda/lib/python3.7/site-packages (from dfply) (1.0.1)\n",
      "Requirement already satisfied: numpy in /opt/conda/lib/python3.7/site-packages (from dfply) (1.18.1)\n",
      "Requirement already satisfied: pytz>=2017.2 in /opt/conda/lib/python3.7/site-packages (from pandas->dfply) (2019.3)\n",
      "Requirement already satisfied: python-dateutil>=2.6.1 in /opt/conda/lib/python3.7/site-packages (from pandas->dfply) (2.8.1)\n",
      "Requirement already satisfied: six>=1.5 in /opt/conda/lib/python3.7/site-packages (from python-dateutil>=2.6.1->pandas->dfply) (1.14.0)\n"
     ]
    }
   ],
   "source": [
    "!pip install dfply"
   ]
  },
  {
   "cell_type": "code",
   "execution_count": 2,
   "metadata": {
    "ExecuteTime": {
     "end_time": "2020-02-27T18:05:49.304067Z",
     "start_time": "2020-02-27T18:05:48.039440Z"
    }
   },
   "outputs": [
    {
     "name": "stdout",
     "output_type": "stream",
     "text": [
      "\u001b[33mWARNING: The directory '/home/jovyan/.cache/pip' or its parent directory is not owned or is not writable by the current user. The cache has been disabled. Check the permissions and owner of that directory. If executing pip with sudo, you may want sudo's -H flag.\u001b[0m\n",
      "Requirement already satisfied: lifetimes in /opt/conda/lib/python3.7/site-packages (0.11.1)\n",
      "Requirement already satisfied: pandas>=0.24.0 in /opt/conda/lib/python3.7/site-packages (from lifetimes) (1.0.1)\n",
      "Requirement already satisfied: dill>=0.2.6 in /opt/conda/lib/python3.7/site-packages (from lifetimes) (0.3.1.1)\n",
      "Requirement already satisfied: numpy>=1.10.0 in /opt/conda/lib/python3.7/site-packages (from lifetimes) (1.18.1)\n",
      "Requirement already satisfied: scipy>=1.0.0 in /opt/conda/lib/python3.7/site-packages (from lifetimes) (1.4.1)\n",
      "Requirement already satisfied: autograd>=1.2.0 in /opt/conda/lib/python3.7/site-packages (from lifetimes) (1.3)\n",
      "Requirement already satisfied: pytz>=2017.2 in /opt/conda/lib/python3.7/site-packages (from pandas>=0.24.0->lifetimes) (2019.3)\n",
      "Requirement already satisfied: python-dateutil>=2.6.1 in /opt/conda/lib/python3.7/site-packages (from pandas>=0.24.0->lifetimes) (2.8.1)\n",
      "Requirement already satisfied: future>=0.15.2 in /opt/conda/lib/python3.7/site-packages (from autograd>=1.2.0->lifetimes) (0.18.2)\n",
      "Requirement already satisfied: six>=1.5 in /opt/conda/lib/python3.7/site-packages (from python-dateutil>=2.6.1->pandas>=0.24.0->lifetimes) (1.14.0)\n"
     ]
    }
   ],
   "source": [
    "!pip install lifetimes"
   ]
  },
  {
   "cell_type": "code",
   "execution_count": 3,
   "metadata": {
    "ExecuteTime": {
     "end_time": "2020-02-27T18:05:51.134650Z",
     "start_time": "2020-02-27T18:05:50.373297Z"
    }
   },
   "outputs": [],
   "source": [
    "import random\n",
    "import time, datetime\n",
    "import os\n",
    "from functools import reduce\n",
    "import subprocess\n",
    "from datetime import datetime, timedelta\n",
    "from functools import reduce\n",
    "import pandas as pd\n",
    "import pathlib\n",
    "from dfply import *\n",
    "from lifetimes import BetaGeoFitter\n",
    "import seaborn as sb\n",
    "import matplotlib.pyplot as plt\n",
    "import scipy\n",
    "import numpy as np\n",
    "from sklearn.metrics import mean_absolute_error"
   ]
  },
  {
   "cell_type": "code",
   "execution_count": 4,
   "metadata": {
    "ExecuteTime": {
     "end_time": "2020-02-27T18:05:52.376655Z",
     "start_time": "2020-02-27T18:05:52.372859Z"
    }
   },
   "outputs": [],
   "source": [
    "%matplotlib inline"
   ]
  },
  {
   "cell_type": "markdown",
   "metadata": {},
   "source": [
    "## training and testing data"
   ]
  },
  {
   "cell_type": "code",
   "execution_count": 8,
   "metadata": {
    "ExecuteTime": {
     "end_time": "2020-02-27T18:06:32.282325Z",
     "start_time": "2020-02-27T18:06:32.280013Z"
    }
   },
   "outputs": [],
   "source": [
    "path = '/tmp/data/pengcheng/cltv-summary/'"
   ]
  },
  {
   "cell_type": "code",
   "execution_count": 9,
   "metadata": {
    "ExecuteTime": {
     "end_time": "2020-02-27T18:06:33.439963Z",
     "start_time": "2020-02-27T18:06:33.436866Z"
    }
   },
   "outputs": [],
   "source": [
    "test_start_date = datetime.strptime('2019-01-01', \"%Y-%m-%d\").date()\n",
    "test_end_date = datetime.strptime('2019-06-30', \"%Y-%m-%d\").date()\n",
    "test_duration = (test_end_date - test_start_date).days/7.0\n"
   ]
  },
  {
   "cell_type": "code",
   "execution_count": 10,
   "metadata": {
    "ExecuteTime": {
     "end_time": "2020-02-27T18:06:33.895244Z",
     "start_time": "2020-02-27T18:06:33.892675Z"
    }
   },
   "outputs": [],
   "source": [
    "training_path = os.path.join(path,'17_testing.pkl')\n",
    "testing_path = os.path.join(path,'17.pkl')"
   ]
  },
  {
   "cell_type": "markdown",
   "metadata": {},
   "source": [
    "### training data"
   ]
  },
  {
   "cell_type": "code",
   "execution_count": 11,
   "metadata": {
    "ExecuteTime": {
     "end_time": "2020-02-27T18:06:42.289003Z",
     "start_time": "2020-02-27T18:06:39.837742Z"
    }
   },
   "outputs": [],
   "source": [
    "training_df = pd.read_pickle(training_path)\n"
   ]
  },
  {
   "cell_type": "code",
   "execution_count": 12,
   "metadata": {
    "ExecuteTime": {
     "end_time": "2020-02-27T18:06:53.545550Z",
     "start_time": "2020-02-27T18:06:42.290508Z"
    }
   },
   "outputs": [
    {
     "data": {
      "text/html": [
       "<div>\n",
       "<style scoped>\n",
       "    .dataframe tbody tr th:only-of-type {\n",
       "        vertical-align: middle;\n",
       "    }\n",
       "\n",
       "    .dataframe tbody tr th {\n",
       "        vertical-align: top;\n",
       "    }\n",
       "\n",
       "    .dataframe thead th {\n",
       "        text-align: right;\n",
       "    }\n",
       "</style>\n",
       "<table border=\"1\" class=\"dataframe\">\n",
       "  <thead>\n",
       "    <tr style=\"text-align: right;\">\n",
       "      <th></th>\n",
       "      <th>customer_id</th>\n",
       "      <th>frequency</th>\n",
       "      <th>recency</th>\n",
       "      <th>monetary_value</th>\n",
       "      <th>T</th>\n",
       "    </tr>\n",
       "  </thead>\n",
       "  <tbody>\n",
       "    <tr>\n",
       "      <th>count</th>\n",
       "      <td>4.688552e+07</td>\n",
       "      <td>4.688552e+07</td>\n",
       "      <td>4.688552e+07</td>\n",
       "      <td>4.688552e+07</td>\n",
       "      <td>4.688552e+07</td>\n",
       "    </tr>\n",
       "    <tr>\n",
       "      <th>mean</th>\n",
       "      <td>6.460814e+08</td>\n",
       "      <td>7.623310e+00</td>\n",
       "      <td>9.788681e+00</td>\n",
       "      <td>2.654792e+02</td>\n",
       "      <td>1.812018e+01</td>\n",
       "    </tr>\n",
       "    <tr>\n",
       "      <th>std</th>\n",
       "      <td>4.155291e+08</td>\n",
       "      <td>4.463335e+01</td>\n",
       "      <td>9.529886e+00</td>\n",
       "      <td>8.245251e+03</td>\n",
       "      <td>7.579343e+00</td>\n",
       "    </tr>\n",
       "    <tr>\n",
       "      <th>min</th>\n",
       "      <td>3.840000e+02</td>\n",
       "      <td>0.000000e+00</td>\n",
       "      <td>0.000000e+00</td>\n",
       "      <td>0.000000e+00</td>\n",
       "      <td>0.000000e+00</td>\n",
       "    </tr>\n",
       "    <tr>\n",
       "      <th>25%</th>\n",
       "      <td>2.953372e+08</td>\n",
       "      <td>1.000000e+00</td>\n",
       "      <td>0.000000e+00</td>\n",
       "      <td>4.925000e+01</td>\n",
       "      <td>1.257143e+01</td>\n",
       "    </tr>\n",
       "    <tr>\n",
       "      <th>50%</th>\n",
       "      <td>5.672284e+08</td>\n",
       "      <td>3.000000e+00</td>\n",
       "      <td>7.428571e+00</td>\n",
       "      <td>1.159091e+02</td>\n",
       "      <td>2.100000e+01</td>\n",
       "    </tr>\n",
       "    <tr>\n",
       "      <th>75%</th>\n",
       "      <td>1.115404e+09</td>\n",
       "      <td>9.000000e+00</td>\n",
       "      <td>1.942857e+01</td>\n",
       "      <td>1.914444e+02</td>\n",
       "      <td>2.457143e+01</td>\n",
       "    </tr>\n",
       "    <tr>\n",
       "      <th>max</th>\n",
       "      <td>1.193621e+09</td>\n",
       "      <td>2.653700e+05</td>\n",
       "      <td>2.614286e+01</td>\n",
       "      <td>9.999990e+05</td>\n",
       "      <td>2.614286e+01</td>\n",
       "    </tr>\n",
       "  </tbody>\n",
       "</table>\n",
       "</div>"
      ],
      "text/plain": [
       "        customer_id     frequency       recency  monetary_value             T\n",
       "count  4.688552e+07  4.688552e+07  4.688552e+07    4.688552e+07  4.688552e+07\n",
       "mean   6.460814e+08  7.623310e+00  9.788681e+00    2.654792e+02  1.812018e+01\n",
       "std    4.155291e+08  4.463335e+01  9.529886e+00    8.245251e+03  7.579343e+00\n",
       "min    3.840000e+02  0.000000e+00  0.000000e+00    0.000000e+00  0.000000e+00\n",
       "25%    2.953372e+08  1.000000e+00  0.000000e+00    4.925000e+01  1.257143e+01\n",
       "50%    5.672284e+08  3.000000e+00  7.428571e+00    1.159091e+02  2.100000e+01\n",
       "75%    1.115404e+09  9.000000e+00  1.942857e+01    1.914444e+02  2.457143e+01\n",
       "max    1.193621e+09  2.653700e+05  2.614286e+01    9.999990e+05  2.614286e+01"
      ]
     },
     "execution_count": 12,
     "metadata": {},
     "output_type": "execute_result"
    }
   ],
   "source": [
    "training_df.describe()"
   ]
  },
  {
   "cell_type": "code",
   "execution_count": 13,
   "metadata": {
    "ExecuteTime": {
     "end_time": "2020-02-27T18:06:53.553874Z",
     "start_time": "2020-02-27T18:06:53.547036Z"
    }
   },
   "outputs": [
    {
     "data": {
      "text/html": [
       "<div>\n",
       "<style scoped>\n",
       "    .dataframe tbody tr th:only-of-type {\n",
       "        vertical-align: middle;\n",
       "    }\n",
       "\n",
       "    .dataframe tbody tr th {\n",
       "        vertical-align: top;\n",
       "    }\n",
       "\n",
       "    .dataframe thead th {\n",
       "        text-align: right;\n",
       "    }\n",
       "</style>\n",
       "<table border=\"1\" class=\"dataframe\">\n",
       "  <thead>\n",
       "    <tr style=\"text-align: right;\">\n",
       "      <th></th>\n",
       "      <th>customer_id</th>\n",
       "      <th>frequency</th>\n",
       "      <th>recency</th>\n",
       "      <th>monetary_value</th>\n",
       "      <th>T</th>\n",
       "    </tr>\n",
       "  </thead>\n",
       "  <tbody>\n",
       "    <tr>\n",
       "      <th>0</th>\n",
       "      <td>378479488</td>\n",
       "      <td>50</td>\n",
       "      <td>21.142857</td>\n",
       "      <td>95.333336</td>\n",
       "      <td>21.285714</td>\n",
       "    </tr>\n",
       "    <tr>\n",
       "      <th>1</th>\n",
       "      <td>307326802</td>\n",
       "      <td>14</td>\n",
       "      <td>24.428571</td>\n",
       "      <td>52.133335</td>\n",
       "      <td>25.857143</td>\n",
       "    </tr>\n",
       "    <tr>\n",
       "      <th>2</th>\n",
       "      <td>9167224</td>\n",
       "      <td>4</td>\n",
       "      <td>2.571429</td>\n",
       "      <td>75.400002</td>\n",
       "      <td>9.000000</td>\n",
       "    </tr>\n",
       "    <tr>\n",
       "      <th>3</th>\n",
       "      <td>562141206</td>\n",
       "      <td>1</td>\n",
       "      <td>0.428571</td>\n",
       "      <td>109.000000</td>\n",
       "      <td>17.428571</td>\n",
       "    </tr>\n",
       "    <tr>\n",
       "      <th>4</th>\n",
       "      <td>319550044</td>\n",
       "      <td>71</td>\n",
       "      <td>25.428571</td>\n",
       "      <td>118.569443</td>\n",
       "      <td>25.857143</td>\n",
       "    </tr>\n",
       "  </tbody>\n",
       "</table>\n",
       "</div>"
      ],
      "text/plain": [
       "   customer_id  frequency    recency  monetary_value          T\n",
       "0    378479488         50  21.142857       95.333336  21.285714\n",
       "1    307326802         14  24.428571       52.133335  25.857143\n",
       "2      9167224          4   2.571429       75.400002   9.000000\n",
       "3    562141206          1   0.428571      109.000000  17.428571\n",
       "4    319550044         71  25.428571      118.569443  25.857143"
      ]
     },
     "execution_count": 13,
     "metadata": {},
     "output_type": "execute_result"
    }
   ],
   "source": [
    "training_df.head(5)"
   ]
  },
  {
   "cell_type": "code",
   "execution_count": 14,
   "metadata": {
    "ExecuteTime": {
     "end_time": "2020-02-27T18:06:53.659788Z",
     "start_time": "2020-02-27T18:06:53.555129Z"
    }
   },
   "outputs": [
    {
     "data": {
      "text/plain": [
       "46885522"
      ]
     },
     "execution_count": 14,
     "metadata": {},
     "output_type": "execute_result"
    }
   ],
   "source": [
    "len(training_df)"
   ]
  },
  {
   "cell_type": "code",
   "execution_count": 15,
   "metadata": {
    "ExecuteTime": {
     "end_time": "2020-02-27T18:06:54.956077Z",
     "start_time": "2020-02-27T18:06:53.660747Z"
    }
   },
   "outputs": [
    {
     "data": {
      "text/plain": [
       "0.25     0.000000\n",
       "0.50     7.428571\n",
       "0.75    19.428571\n",
       "0.85    22.571429\n",
       "0.95    24.857143\n",
       "0.99    25.857143\n",
       "Name: recency, dtype: float64"
      ]
     },
     "execution_count": 15,
     "metadata": {},
     "output_type": "execute_result"
    }
   ],
   "source": [
    "training_df.recency.quantile([.25, .5, .75, .85, .95, .99])"
   ]
  },
  {
   "cell_type": "code",
   "execution_count": 16,
   "metadata": {
    "ExecuteTime": {
     "end_time": "2020-02-27T18:06:56.040625Z",
     "start_time": "2020-02-27T18:06:54.957150Z"
    }
   },
   "outputs": [
    {
     "data": {
      "text/plain": [
       "0.25     1.0\n",
       "0.50     3.0\n",
       "0.75     9.0\n",
       "0.85    15.0\n",
       "0.95    28.0\n",
       "0.99    55.0\n",
       "Name: frequency, dtype: float64"
      ]
     },
     "execution_count": 16,
     "metadata": {},
     "output_type": "execute_result"
    }
   ],
   "source": [
    "training_df.frequency.quantile([.25, .5, .75, .85, .95, .99])"
   ]
  },
  {
   "cell_type": "code",
   "execution_count": 17,
   "metadata": {
    "ExecuteTime": {
     "end_time": "2020-02-27T18:06:56.890559Z",
     "start_time": "2020-02-27T18:06:56.041685Z"
    }
   },
   "outputs": [
    {
     "data": {
      "text/html": [
       "<div>\n",
       "<style scoped>\n",
       "    .dataframe tbody tr th:only-of-type {\n",
       "        vertical-align: middle;\n",
       "    }\n",
       "\n",
       "    .dataframe tbody tr th {\n",
       "        vertical-align: top;\n",
       "    }\n",
       "\n",
       "    .dataframe thead th {\n",
       "        text-align: right;\n",
       "    }\n",
       "</style>\n",
       "<table border=\"1\" class=\"dataframe\">\n",
       "  <thead>\n",
       "    <tr style=\"text-align: right;\">\n",
       "      <th></th>\n",
       "      <th>customer_id</th>\n",
       "      <th>frequency</th>\n",
       "      <th>recency</th>\n",
       "      <th>monetary_value</th>\n",
       "      <th>T</th>\n",
       "    </tr>\n",
       "  </thead>\n",
       "  <tbody>\n",
       "    <tr>\n",
       "      <th>1615</th>\n",
       "      <td>322906834</td>\n",
       "      <td>1533</td>\n",
       "      <td>26.000000</td>\n",
       "      <td>132.763367</td>\n",
       "      <td>26.000000</td>\n",
       "    </tr>\n",
       "    <tr>\n",
       "      <th>1620</th>\n",
       "      <td>600062715</td>\n",
       "      <td>2820</td>\n",
       "      <td>26.142857</td>\n",
       "      <td>81.887276</td>\n",
       "      <td>26.142857</td>\n",
       "    </tr>\n",
       "  </tbody>\n",
       "</table>\n",
       "</div>"
      ],
      "text/plain": [
       "      customer_id  frequency    recency  monetary_value          T\n",
       "1615    322906834       1533  26.000000      132.763367  26.000000\n",
       "1620    600062715       2820  26.142857       81.887276  26.142857"
      ]
     },
     "execution_count": 17,
     "metadata": {},
     "output_type": "execute_result"
    }
   ],
   "source": [
    "training_df >> mask (training_df.frequency > 1000) >> head(2)"
   ]
  },
  {
   "cell_type": "code",
   "execution_count": 18,
   "metadata": {
    "ExecuteTime": {
     "end_time": "2020-02-27T18:07:15.553815Z",
     "start_time": "2020-02-27T18:07:13.533442Z"
    }
   },
   "outputs": [],
   "source": [
    "training_df_filter = training_df[training_df.frequency < training_df.frequency.quantile(.99)]"
   ]
  },
  {
   "cell_type": "code",
   "execution_count": 19,
   "metadata": {
    "ExecuteTime": {
     "end_time": "2020-02-27T18:07:16.591742Z",
     "start_time": "2020-02-27T18:07:15.555186Z"
    }
   },
   "outputs": [
    {
     "data": {
      "text/plain": [
       "0.25     1.0\n",
       "0.50     3.0\n",
       "0.75     9.0\n",
       "0.85    14.0\n",
       "0.95    26.0\n",
       "0.99    42.0\n",
       "Name: frequency, dtype: float64"
      ]
     },
     "execution_count": 19,
     "metadata": {},
     "output_type": "execute_result"
    }
   ],
   "source": [
    "training_df_filter.frequency.quantile([.25, .5, .75, .85, .95, .99])"
   ]
  },
  {
   "cell_type": "code",
   "execution_count": 20,
   "metadata": {
    "ExecuteTime": {
     "end_time": "2020-02-27T18:07:17.631079Z",
     "start_time": "2020-02-27T18:07:16.593102Z"
    }
   },
   "outputs": [
    {
     "data": {
      "text/plain": [
       "0.25     49.000000\n",
       "0.50    116.107140\n",
       "0.75    192.791672\n",
       "0.85    256.750000\n",
       "0.95    399.000000\n",
       "0.99    559.000000\n",
       "Name: monetary_value, dtype: float64"
      ]
     },
     "execution_count": 20,
     "metadata": {},
     "output_type": "execute_result"
    }
   ],
   "source": [
    "training_df_filter.monetary_value.quantile([.25, .5, .75, .85, .95, .99])"
   ]
  },
  {
   "cell_type": "markdown",
   "metadata": {},
   "source": [
    "### testing data"
   ]
  },
  {
   "cell_type": "code",
   "execution_count": 21,
   "metadata": {
    "ExecuteTime": {
     "end_time": "2020-02-27T18:07:23.763668Z",
     "start_time": "2020-02-27T18:07:20.908141Z"
    }
   },
   "outputs": [],
   "source": [
    "testing_df = pd.read_pickle(testing_path)\n"
   ]
  },
  {
   "cell_type": "code",
   "execution_count": 22,
   "metadata": {
    "ExecuteTime": {
     "end_time": "2020-02-27T18:07:23.767770Z",
     "start_time": "2020-02-27T18:07:23.765040Z"
    }
   },
   "outputs": [
    {
     "data": {
      "text/plain": [
       "58625648"
      ]
     },
     "execution_count": 22,
     "metadata": {},
     "output_type": "execute_result"
    }
   ],
   "source": [
    "len(testing_df)"
   ]
  },
  {
   "cell_type": "code",
   "execution_count": 23,
   "metadata": {
    "ExecuteTime": {
     "end_time": "2020-02-27T18:07:24.193492Z",
     "start_time": "2020-02-27T18:07:24.186069Z"
    }
   },
   "outputs": [
    {
     "data": {
      "text/html": [
       "<div>\n",
       "<style scoped>\n",
       "    .dataframe tbody tr th:only-of-type {\n",
       "        vertical-align: middle;\n",
       "    }\n",
       "\n",
       "    .dataframe tbody tr th {\n",
       "        vertical-align: top;\n",
       "    }\n",
       "\n",
       "    .dataframe thead th {\n",
       "        text-align: right;\n",
       "    }\n",
       "</style>\n",
       "<table border=\"1\" class=\"dataframe\">\n",
       "  <thead>\n",
       "    <tr style=\"text-align: right;\">\n",
       "      <th></th>\n",
       "      <th>customer_id</th>\n",
       "      <th>frequency</th>\n",
       "      <th>recency</th>\n",
       "      <th>monetary_value</th>\n",
       "      <th>T</th>\n",
       "    </tr>\n",
       "  </thead>\n",
       "  <tbody>\n",
       "    <tr>\n",
       "      <th>0</th>\n",
       "      <td>445827048</td>\n",
       "      <td>41</td>\n",
       "      <td>22.285714</td>\n",
       "      <td>135.857147</td>\n",
       "      <td>25.714286</td>\n",
       "    </tr>\n",
       "    <tr>\n",
       "      <th>1</th>\n",
       "      <td>531467720</td>\n",
       "      <td>40</td>\n",
       "      <td>22.000000</td>\n",
       "      <td>149.414627</td>\n",
       "      <td>24.000000</td>\n",
       "    </tr>\n",
       "    <tr>\n",
       "      <th>2</th>\n",
       "      <td>243358458</td>\n",
       "      <td>9</td>\n",
       "      <td>21.285714</td>\n",
       "      <td>887.099976</td>\n",
       "      <td>22.000000</td>\n",
       "    </tr>\n",
       "    <tr>\n",
       "      <th>3</th>\n",
       "      <td>493553170</td>\n",
       "      <td>19</td>\n",
       "      <td>23.857143</td>\n",
       "      <td>197.850006</td>\n",
       "      <td>24.714286</td>\n",
       "    </tr>\n",
       "    <tr>\n",
       "      <th>4</th>\n",
       "      <td>328765113</td>\n",
       "      <td>56</td>\n",
       "      <td>24.857143</td>\n",
       "      <td>84.719299</td>\n",
       "      <td>25.000000</td>\n",
       "    </tr>\n",
       "  </tbody>\n",
       "</table>\n",
       "</div>"
      ],
      "text/plain": [
       "   customer_id  frequency    recency  monetary_value          T\n",
       "0    445827048         41  22.285714      135.857147  25.714286\n",
       "1    531467720         40  22.000000      149.414627  24.000000\n",
       "2    243358458          9  21.285714      887.099976  22.000000\n",
       "3    493553170         19  23.857143      197.850006  24.714286\n",
       "4    328765113         56  24.857143       84.719299  25.000000"
      ]
     },
     "execution_count": 23,
     "metadata": {},
     "output_type": "execute_result"
    }
   ],
   "source": [
    "testing_df.head(5)"
   ]
  },
  {
   "cell_type": "code",
   "execution_count": 24,
   "metadata": {
    "ExecuteTime": {
     "end_time": "2020-02-27T18:07:45.408057Z",
     "start_time": "2020-02-27T18:07:31.501361Z"
    }
   },
   "outputs": [
    {
     "data": {
      "text/html": [
       "<div>\n",
       "<style scoped>\n",
       "    .dataframe tbody tr th:only-of-type {\n",
       "        vertical-align: middle;\n",
       "    }\n",
       "\n",
       "    .dataframe tbody tr th {\n",
       "        vertical-align: top;\n",
       "    }\n",
       "\n",
       "    .dataframe thead th {\n",
       "        text-align: right;\n",
       "    }\n",
       "</style>\n",
       "<table border=\"1\" class=\"dataframe\">\n",
       "  <thead>\n",
       "    <tr style=\"text-align: right;\">\n",
       "      <th></th>\n",
       "      <th>customer_id</th>\n",
       "      <th>frequency</th>\n",
       "      <th>recency</th>\n",
       "      <th>monetary_value</th>\n",
       "      <th>T</th>\n",
       "    </tr>\n",
       "  </thead>\n",
       "  <tbody>\n",
       "    <tr>\n",
       "      <th>count</th>\n",
       "      <td>5.862565e+07</td>\n",
       "      <td>5.862565e+07</td>\n",
       "      <td>5.862565e+07</td>\n",
       "      <td>5.862565e+07</td>\n",
       "      <td>5.862565e+07</td>\n",
       "    </tr>\n",
       "    <tr>\n",
       "      <th>mean</th>\n",
       "      <td>6.500210e+08</td>\n",
       "      <td>6.065340e+00</td>\n",
       "      <td>8.125038e+00</td>\n",
       "      <td>2.432452e+02</td>\n",
       "      <td>1.744455e+01</td>\n",
       "    </tr>\n",
       "    <tr>\n",
       "      <th>std</th>\n",
       "      <td>3.916018e+08</td>\n",
       "      <td>6.100215e+01</td>\n",
       "      <td>9.014007e+00</td>\n",
       "      <td>8.169390e+03</td>\n",
       "      <td>7.188635e+00</td>\n",
       "    </tr>\n",
       "    <tr>\n",
       "      <th>min</th>\n",
       "      <td>4.690000e+02</td>\n",
       "      <td>0.000000e+00</td>\n",
       "      <td>0.000000e+00</td>\n",
       "      <td>0.000000e+00</td>\n",
       "      <td>0.000000e+00</td>\n",
       "    </tr>\n",
       "    <tr>\n",
       "      <th>25%</th>\n",
       "      <td>3.096203e+08</td>\n",
       "      <td>0.000000e+00</td>\n",
       "      <td>0.000000e+00</td>\n",
       "      <td>3.500000e+01</td>\n",
       "      <td>1.228571e+01</td>\n",
       "    </tr>\n",
       "    <tr>\n",
       "      <th>50%</th>\n",
       "      <td>5.924850e+08</td>\n",
       "      <td>2.000000e+00</td>\n",
       "      <td>4.142857e+00</td>\n",
       "      <td>9.032000e+01</td>\n",
       "      <td>1.942857e+01</td>\n",
       "    </tr>\n",
       "    <tr>\n",
       "      <th>75%</th>\n",
       "      <td>1.066422e+09</td>\n",
       "      <td>7.000000e+00</td>\n",
       "      <td>1.642857e+01</td>\n",
       "      <td>1.598294e+02</td>\n",
       "      <td>2.371429e+01</td>\n",
       "    </tr>\n",
       "    <tr>\n",
       "      <th>max</th>\n",
       "      <td>1.147579e+09</td>\n",
       "      <td>4.216650e+05</td>\n",
       "      <td>2.571429e+01</td>\n",
       "      <td>9.999990e+05</td>\n",
       "      <td>2.571429e+01</td>\n",
       "    </tr>\n",
       "  </tbody>\n",
       "</table>\n",
       "</div>"
      ],
      "text/plain": [
       "        customer_id     frequency       recency  monetary_value             T\n",
       "count  5.862565e+07  5.862565e+07  5.862565e+07    5.862565e+07  5.862565e+07\n",
       "mean   6.500210e+08  6.065340e+00  8.125038e+00    2.432452e+02  1.744455e+01\n",
       "std    3.916018e+08  6.100215e+01  9.014007e+00    8.169390e+03  7.188635e+00\n",
       "min    4.690000e+02  0.000000e+00  0.000000e+00    0.000000e+00  0.000000e+00\n",
       "25%    3.096203e+08  0.000000e+00  0.000000e+00    3.500000e+01  1.228571e+01\n",
       "50%    5.924850e+08  2.000000e+00  4.142857e+00    9.032000e+01  1.942857e+01\n",
       "75%    1.066422e+09  7.000000e+00  1.642857e+01    1.598294e+02  2.371429e+01\n",
       "max    1.147579e+09  4.216650e+05  2.571429e+01    9.999990e+05  2.571429e+01"
      ]
     },
     "execution_count": 24,
     "metadata": {},
     "output_type": "execute_result"
    }
   ],
   "source": [
    "testing_df.describe()"
   ]
  },
  {
   "cell_type": "code",
   "execution_count": 25,
   "metadata": {
    "ExecuteTime": {
     "end_time": "2020-02-27T18:07:46.680301Z",
     "start_time": "2020-02-27T18:07:45.409213Z"
    }
   },
   "outputs": [
    {
     "data": {
      "text/plain": [
       "0.25     0.0\n",
       "0.50     2.0\n",
       "0.75     7.0\n",
       "0.85    12.0\n",
       "0.95    24.0\n",
       "0.99    48.0\n",
       "Name: frequency, dtype: float64"
      ]
     },
     "execution_count": 25,
     "metadata": {},
     "output_type": "execute_result"
    }
   ],
   "source": [
    "testing_df.frequency.quantile([.25, .5, .75, .85, .95, .99])"
   ]
  },
  {
   "cell_type": "code",
   "execution_count": 26,
   "metadata": {
    "ExecuteTime": {
     "end_time": "2020-02-27T18:08:07.713140Z",
     "start_time": "2020-02-27T18:08:05.408603Z"
    }
   },
   "outputs": [],
   "source": [
    "testing_df_filter = testing_df[testing_df.frequency < testing_df.frequency.quantile(.99)]"
   ]
  },
  {
   "cell_type": "code",
   "execution_count": 27,
   "metadata": {
    "ExecuteTime": {
     "end_time": "2020-02-27T18:08:08.971693Z",
     "start_time": "2020-02-27T18:08:07.714505Z"
    }
   },
   "outputs": [
    {
     "data": {
      "text/plain": [
       "0.25     0.0\n",
       "0.50     2.0\n",
       "0.75     7.0\n",
       "0.85    11.0\n",
       "0.95    22.0\n",
       "0.99    36.0\n",
       "Name: frequency, dtype: float64"
      ]
     },
     "execution_count": 27,
     "metadata": {},
     "output_type": "execute_result"
    }
   ],
   "source": [
    "testing_df_filter.frequency.quantile([.25, .5, .75, .85, .95, .99])"
   ]
  },
  {
   "cell_type": "code",
   "execution_count": 28,
   "metadata": {
    "ExecuteTime": {
     "end_time": "2020-02-27T18:08:10.118834Z",
     "start_time": "2020-02-27T18:08:08.973083Z"
    }
   },
   "outputs": [
    {
     "data": {
      "text/plain": [
       "0.25     35.000000\n",
       "0.50     89.800003\n",
       "0.75    160.666672\n",
       "0.85    214.517242\n",
       "0.95    399.000000\n",
       "0.99    499.000000\n",
       "Name: monetary_value, dtype: float64"
      ]
     },
     "execution_count": 28,
     "metadata": {},
     "output_type": "execute_result"
    }
   ],
   "source": [
    "testing_df_filter.monetary_value.quantile([.25, .5, .75, .85, .95, .99])"
   ]
  },
  {
   "cell_type": "markdown",
   "metadata": {},
   "source": [
    "### as one"
   ]
  },
  {
   "cell_type": "code",
   "execution_count": 29,
   "metadata": {
    "ExecuteTime": {
     "end_time": "2020-02-27T18:08:14.141242Z",
     "start_time": "2020-02-27T18:08:10.120088Z"
    }
   },
   "outputs": [
    {
     "data": {
      "text/html": [
       "<div>\n",
       "<style scoped>\n",
       "    .dataframe tbody tr th:only-of-type {\n",
       "        vertical-align: middle;\n",
       "    }\n",
       "\n",
       "    .dataframe tbody tr th {\n",
       "        vertical-align: top;\n",
       "    }\n",
       "\n",
       "    .dataframe thead th {\n",
       "        text-align: right;\n",
       "    }\n",
       "</style>\n",
       "<table border=\"1\" class=\"dataframe\">\n",
       "  <thead>\n",
       "    <tr style=\"text-align: right;\">\n",
       "      <th></th>\n",
       "      <th>frequency_holdout</th>\n",
       "      <th>id</th>\n",
       "      <th>money_holdout</th>\n",
       "    </tr>\n",
       "  </thead>\n",
       "  <tbody>\n",
       "    <tr>\n",
       "      <th>0</th>\n",
       "      <td>41</td>\n",
       "      <td>445827048</td>\n",
       "      <td>135.857147</td>\n",
       "    </tr>\n",
       "  </tbody>\n",
       "</table>\n",
       "</div>"
      ],
      "text/plain": [
       "   frequency_holdout         id  money_holdout\n",
       "0                 41  445827048     135.857147"
      ]
     },
     "execution_count": 29,
     "metadata": {},
     "output_type": "execute_result"
    }
   ],
   "source": [
    "post_df = ( testing_df_filter >> rename(frequency_holdout = X.frequency, id=X.customer_id, money_holdout=X.monetary_value) \n",
    "          >> select(X.frequency_holdout, X.id, X.money_holdout))\n",
    "post_df.head(1)"
   ]
  },
  {
   "cell_type": "code",
   "execution_count": 30,
   "metadata": {
    "ExecuteTime": {
     "end_time": "2020-02-27T18:08:15.958215Z",
     "start_time": "2020-02-27T18:08:14.142332Z"
    }
   },
   "outputs": [
    {
     "data": {
      "text/html": [
       "<div>\n",
       "<style scoped>\n",
       "    .dataframe tbody tr th:only-of-type {\n",
       "        vertical-align: middle;\n",
       "    }\n",
       "\n",
       "    .dataframe tbody tr th {\n",
       "        vertical-align: top;\n",
       "    }\n",
       "\n",
       "    .dataframe thead th {\n",
       "        text-align: right;\n",
       "    }\n",
       "</style>\n",
       "<table border=\"1\" class=\"dataframe\">\n",
       "  <thead>\n",
       "    <tr style=\"text-align: right;\">\n",
       "      <th></th>\n",
       "      <th>id</th>\n",
       "      <th>frequency_cal</th>\n",
       "      <th>recency_cal</th>\n",
       "      <th>monetary_value</th>\n",
       "      <th>T_cal</th>\n",
       "    </tr>\n",
       "  </thead>\n",
       "  <tbody>\n",
       "    <tr>\n",
       "      <th>0</th>\n",
       "      <td>378479488</td>\n",
       "      <td>50</td>\n",
       "      <td>21.142857</td>\n",
       "      <td>95.333336</td>\n",
       "      <td>21.285714</td>\n",
       "    </tr>\n",
       "  </tbody>\n",
       "</table>\n",
       "</div>"
      ],
      "text/plain": [
       "          id  frequency_cal  recency_cal  monetary_value      T_cal\n",
       "0  378479488             50    21.142857       95.333336  21.285714"
      ]
     },
     "execution_count": 30,
     "metadata": {},
     "output_type": "execute_result"
    }
   ],
   "source": [
    "pre_df = ( training_df_filter >> rename(frequency_cal = 'frequency', recency_cal = 'recency', T_cal='T', id='customer_id') ) \n",
    "pre_df.head(1)"
   ]
  },
  {
   "cell_type": "code",
   "execution_count": 31,
   "metadata": {
    "ExecuteTime": {
     "end_time": "2020-02-27T18:08:56.680622Z",
     "start_time": "2020-02-27T18:08:15.959294Z"
    }
   },
   "outputs": [],
   "source": [
    "pre_post_df = pre_df >> left_join(post_df, by='id')"
   ]
  },
  {
   "cell_type": "code",
   "execution_count": 32,
   "metadata": {
    "ExecuteTime": {
     "end_time": "2020-02-27T18:08:56.689965Z",
     "start_time": "2020-02-27T18:08:56.682324Z"
    }
   },
   "outputs": [
    {
     "data": {
      "text/html": [
       "<div>\n",
       "<style scoped>\n",
       "    .dataframe tbody tr th:only-of-type {\n",
       "        vertical-align: middle;\n",
       "    }\n",
       "\n",
       "    .dataframe tbody tr th {\n",
       "        vertical-align: top;\n",
       "    }\n",
       "\n",
       "    .dataframe thead th {\n",
       "        text-align: right;\n",
       "    }\n",
       "</style>\n",
       "<table border=\"1\" class=\"dataframe\">\n",
       "  <thead>\n",
       "    <tr style=\"text-align: right;\">\n",
       "      <th></th>\n",
       "      <th>id</th>\n",
       "      <th>frequency_cal</th>\n",
       "      <th>recency_cal</th>\n",
       "      <th>monetary_value</th>\n",
       "      <th>T_cal</th>\n",
       "      <th>frequency_holdout</th>\n",
       "      <th>money_holdout</th>\n",
       "    </tr>\n",
       "  </thead>\n",
       "  <tbody>\n",
       "    <tr>\n",
       "      <th>0</th>\n",
       "      <td>378479488</td>\n",
       "      <td>50</td>\n",
       "      <td>21.142857</td>\n",
       "      <td>95.333336</td>\n",
       "      <td>21.285714</td>\n",
       "      <td>NaN</td>\n",
       "      <td>NaN</td>\n",
       "    </tr>\n",
       "  </tbody>\n",
       "</table>\n",
       "</div>"
      ],
      "text/plain": [
       "          id  frequency_cal  recency_cal  monetary_value      T_cal  \\\n",
       "0  378479488             50    21.142857       95.333336  21.285714   \n",
       "\n",
       "   frequency_holdout  money_holdout  \n",
       "0                NaN            NaN  "
      ]
     },
     "execution_count": 32,
     "metadata": {},
     "output_type": "execute_result"
    }
   ],
   "source": [
    "pre_post_df.head(1)"
   ]
  },
  {
   "cell_type": "code",
   "execution_count": 33,
   "metadata": {
    "ExecuteTime": {
     "end_time": "2020-02-27T18:08:57.026556Z",
     "start_time": "2020-02-27T18:08:56.691068Z"
    }
   },
   "outputs": [],
   "source": [
    "pre_post_df.frequency_holdout.fillna(0.0, inplace=True)"
   ]
  },
  {
   "cell_type": "code",
   "execution_count": 34,
   "metadata": {
    "ExecuteTime": {
     "end_time": "2020-02-27T18:08:57.118667Z",
     "start_time": "2020-02-27T18:08:57.027737Z"
    }
   },
   "outputs": [],
   "source": [
    "pre_post_df['duration_holdout'] = test_duration"
   ]
  },
  {
   "cell_type": "code",
   "execution_count": 35,
   "metadata": {
    "ExecuteTime": {
     "end_time": "2020-02-27T18:08:57.322516Z",
     "start_time": "2020-02-27T18:08:57.120003Z"
    }
   },
   "outputs": [],
   "source": [
    "pre_post_df.money_holdout.fillna(0.0, inplace=True)"
   ]
  },
  {
   "cell_type": "code",
   "execution_count": 36,
   "metadata": {
    "ExecuteTime": {
     "end_time": "2020-02-27T18:08:57.332770Z",
     "start_time": "2020-02-27T18:08:57.323715Z"
    }
   },
   "outputs": [
    {
     "data": {
      "text/html": [
       "<div>\n",
       "<style scoped>\n",
       "    .dataframe tbody tr th:only-of-type {\n",
       "        vertical-align: middle;\n",
       "    }\n",
       "\n",
       "    .dataframe tbody tr th {\n",
       "        vertical-align: top;\n",
       "    }\n",
       "\n",
       "    .dataframe thead th {\n",
       "        text-align: right;\n",
       "    }\n",
       "</style>\n",
       "<table border=\"1\" class=\"dataframe\">\n",
       "  <thead>\n",
       "    <tr style=\"text-align: right;\">\n",
       "      <th></th>\n",
       "      <th>id</th>\n",
       "      <th>frequency_cal</th>\n",
       "      <th>recency_cal</th>\n",
       "      <th>monetary_value</th>\n",
       "      <th>T_cal</th>\n",
       "      <th>frequency_holdout</th>\n",
       "      <th>money_holdout</th>\n",
       "      <th>duration_holdout</th>\n",
       "    </tr>\n",
       "  </thead>\n",
       "  <tbody>\n",
       "    <tr>\n",
       "      <th>0</th>\n",
       "      <td>378479488</td>\n",
       "      <td>50</td>\n",
       "      <td>21.142857</td>\n",
       "      <td>95.333336</td>\n",
       "      <td>21.285714</td>\n",
       "      <td>0.0</td>\n",
       "      <td>0.000</td>\n",
       "      <td>25.714286</td>\n",
       "    </tr>\n",
       "    <tr>\n",
       "      <th>1</th>\n",
       "      <td>307326802</td>\n",
       "      <td>14</td>\n",
       "      <td>24.428571</td>\n",
       "      <td>52.133335</td>\n",
       "      <td>25.857143</td>\n",
       "      <td>7.0</td>\n",
       "      <td>261.375</td>\n",
       "      <td>25.714286</td>\n",
       "    </tr>\n",
       "    <tr>\n",
       "      <th>2</th>\n",
       "      <td>9167224</td>\n",
       "      <td>4</td>\n",
       "      <td>2.571429</td>\n",
       "      <td>75.400002</td>\n",
       "      <td>9.000000</td>\n",
       "      <td>1.0</td>\n",
       "      <td>75.000</td>\n",
       "      <td>25.714286</td>\n",
       "    </tr>\n",
       "    <tr>\n",
       "      <th>3</th>\n",
       "      <td>562141206</td>\n",
       "      <td>1</td>\n",
       "      <td>0.428571</td>\n",
       "      <td>109.000000</td>\n",
       "      <td>17.428571</td>\n",
       "      <td>5.0</td>\n",
       "      <td>191.500</td>\n",
       "      <td>25.714286</td>\n",
       "    </tr>\n",
       "    <tr>\n",
       "      <th>4</th>\n",
       "      <td>1088024611</td>\n",
       "      <td>49</td>\n",
       "      <td>25.857143</td>\n",
       "      <td>148.440002</td>\n",
       "      <td>26.000000</td>\n",
       "      <td>5.0</td>\n",
       "      <td>97.500</td>\n",
       "      <td>25.714286</td>\n",
       "    </tr>\n",
       "  </tbody>\n",
       "</table>\n",
       "</div>"
      ],
      "text/plain": [
       "           id  frequency_cal  recency_cal  monetary_value      T_cal  \\\n",
       "0   378479488             50    21.142857       95.333336  21.285714   \n",
       "1   307326802             14    24.428571       52.133335  25.857143   \n",
       "2     9167224              4     2.571429       75.400002   9.000000   \n",
       "3   562141206              1     0.428571      109.000000  17.428571   \n",
       "4  1088024611             49    25.857143      148.440002  26.000000   \n",
       "\n",
       "   frequency_holdout  money_holdout  duration_holdout  \n",
       "0                0.0          0.000         25.714286  \n",
       "1                7.0        261.375         25.714286  \n",
       "2                1.0         75.000         25.714286  \n",
       "3                5.0        191.500         25.714286  \n",
       "4                5.0         97.500         25.714286  "
      ]
     },
     "execution_count": 36,
     "metadata": {},
     "output_type": "execute_result"
    }
   ],
   "source": [
    "pre_post_df.head(5)"
   ]
  },
  {
   "cell_type": "code",
   "execution_count": 37,
   "metadata": {
    "ExecuteTime": {
     "end_time": "2020-02-27T18:08:57.439604Z",
     "start_time": "2020-02-27T18:08:57.333833Z"
    }
   },
   "outputs": [],
   "source": [
    "#train_testing_df.set_index('id', inplace=True)\n",
    "#train_testing_df.head(5)"
   ]
  },
  {
   "cell_type": "code",
   "execution_count": 38,
   "metadata": {
    "ExecuteTime": {
     "end_time": "2020-02-27T18:08:57.535465Z",
     "start_time": "2020-02-27T18:08:57.440716Z"
    }
   },
   "outputs": [
    {
     "data": {
      "text/plain": [
       "46397054"
      ]
     },
     "execution_count": 38,
     "metadata": {},
     "output_type": "execute_result"
    }
   ],
   "source": [
    "len(pre_post_df)"
   ]
  },
  {
   "cell_type": "markdown",
   "metadata": {},
   "source": [
    "## BetaGeo fit"
   ]
  },
  {
   "cell_type": "code",
   "execution_count": 39,
   "metadata": {
    "ExecuteTime": {
     "end_time": "2020-02-27T18:09:07.432390Z",
     "start_time": "2020-02-27T18:09:07.007034Z"
    }
   },
   "outputs": [],
   "source": [
    "mask=np.random.rand(len(pre_post_df)) <= 0.1"
   ]
  },
  {
   "cell_type": "code",
   "execution_count": 40,
   "metadata": {
    "ExecuteTime": {
     "end_time": "2020-02-27T18:09:09.676823Z",
     "start_time": "2020-02-27T18:09:07.913242Z"
    }
   },
   "outputs": [],
   "source": [
    "part = pre_post_df[mask]\n",
    "#part = pre_post_df"
   ]
  },
  {
   "cell_type": "code",
   "execution_count": 41,
   "metadata": {
    "ExecuteTime": {
     "end_time": "2020-02-27T18:09:09.686782Z",
     "start_time": "2020-02-27T18:09:09.678186Z"
    }
   },
   "outputs": [
    {
     "data": {
      "text/html": [
       "<div>\n",
       "<style scoped>\n",
       "    .dataframe tbody tr th:only-of-type {\n",
       "        vertical-align: middle;\n",
       "    }\n",
       "\n",
       "    .dataframe tbody tr th {\n",
       "        vertical-align: top;\n",
       "    }\n",
       "\n",
       "    .dataframe thead th {\n",
       "        text-align: right;\n",
       "    }\n",
       "</style>\n",
       "<table border=\"1\" class=\"dataframe\">\n",
       "  <thead>\n",
       "    <tr style=\"text-align: right;\">\n",
       "      <th></th>\n",
       "      <th>id</th>\n",
       "      <th>frequency_cal</th>\n",
       "      <th>recency_cal</th>\n",
       "      <th>monetary_value</th>\n",
       "      <th>T_cal</th>\n",
       "      <th>frequency_holdout</th>\n",
       "      <th>money_holdout</th>\n",
       "      <th>duration_holdout</th>\n",
       "    </tr>\n",
       "  </thead>\n",
       "  <tbody>\n",
       "    <tr>\n",
       "      <th>3</th>\n",
       "      <td>562141206</td>\n",
       "      <td>1</td>\n",
       "      <td>0.428571</td>\n",
       "      <td>109.000000</td>\n",
       "      <td>17.428571</td>\n",
       "      <td>5.0</td>\n",
       "      <td>191.500000</td>\n",
       "      <td>25.714286</td>\n",
       "    </tr>\n",
       "    <tr>\n",
       "      <th>4</th>\n",
       "      <td>1088024611</td>\n",
       "      <td>49</td>\n",
       "      <td>25.857143</td>\n",
       "      <td>148.440002</td>\n",
       "      <td>26.000000</td>\n",
       "      <td>5.0</td>\n",
       "      <td>97.500000</td>\n",
       "      <td>25.714286</td>\n",
       "    </tr>\n",
       "    <tr>\n",
       "      <th>6</th>\n",
       "      <td>219124955</td>\n",
       "      <td>18</td>\n",
       "      <td>19.142857</td>\n",
       "      <td>67.421051</td>\n",
       "      <td>26.142857</td>\n",
       "      <td>19.0</td>\n",
       "      <td>77.650002</td>\n",
       "      <td>25.714286</td>\n",
       "    </tr>\n",
       "  </tbody>\n",
       "</table>\n",
       "</div>"
      ],
      "text/plain": [
       "           id  frequency_cal  recency_cal  monetary_value      T_cal  \\\n",
       "3   562141206              1     0.428571      109.000000  17.428571   \n",
       "4  1088024611             49    25.857143      148.440002  26.000000   \n",
       "6   219124955             18    19.142857       67.421051  26.142857   \n",
       "\n",
       "   frequency_holdout  money_holdout  duration_holdout  \n",
       "3                5.0     191.500000         25.714286  \n",
       "4                5.0      97.500000         25.714286  \n",
       "6               19.0      77.650002         25.714286  "
      ]
     },
     "execution_count": 41,
     "metadata": {},
     "output_type": "execute_result"
    }
   ],
   "source": [
    "part.head(3)"
   ]
  },
  {
   "cell_type": "code",
   "execution_count": 42,
   "metadata": {
    "ExecuteTime": {
     "end_time": "2020-02-27T18:09:13.085992Z",
     "start_time": "2020-02-27T18:09:13.082954Z"
    }
   },
   "outputs": [
    {
     "data": {
      "text/plain": [
       "4641812"
      ]
     },
     "execution_count": 42,
     "metadata": {},
     "output_type": "execute_result"
    }
   ],
   "source": [
    "len(part)"
   ]
  },
  {
   "cell_type": "code",
   "execution_count": 43,
   "metadata": {
    "ExecuteTime": {
     "end_time": "2020-02-27T18:10:25.743503Z",
     "start_time": "2020-02-27T18:10:25.740214Z"
    }
   },
   "outputs": [
    {
     "data": {
      "text/plain": [
       "\"\\nbgf = BetaGeoFitter(penalizer_coef=0.0001)\\nbgf.fit(pre_post_df['frequency_cal'], pre_post_df['recency_cal'], pre_post_df['T_cal'], verbose=True, tol=0.4)\\nbgf\\n\""
      ]
     },
     "execution_count": 43,
     "metadata": {},
     "output_type": "execute_result"
    }
   ],
   "source": [
    "'''\n",
    "bgf = BetaGeoFitter(penalizer_coef=0.0001)\n",
    "bgf.fit(pre_post_df['frequency_cal'], pre_post_df['recency_cal'], pre_post_df['T_cal'], verbose=True, tol=0.4)\n",
    "bgf\n",
    "'''"
   ]
  },
  {
   "cell_type": "code",
   "execution_count": 49,
   "metadata": {
    "ExecuteTime": {
     "end_time": "2020-02-27T18:17:36.214186Z",
     "start_time": "2020-02-27T18:16:21.751783Z"
    }
   },
   "outputs": [
    {
     "name": "stdout",
     "output_type": "stream",
     "text": [
      "Optimization terminated successfully.\n",
      "         Current function value: -11.411703\n",
      "         Iterations: 13\n",
      "         Function evaluations: 14\n",
      "         Gradient evaluations: 14\n"
     ]
    },
    {
     "data": {
      "text/plain": [
       "<lifetimes.BetaGeoFitter: fitted with 4641812 subjects, a: 0.18, alpha: 0.50, b: 1.09, r: 0.43>"
      ]
     },
     "execution_count": 49,
     "metadata": {},
     "output_type": "execute_result"
    }
   ],
   "source": [
    "bgf = BetaGeoFitter(penalizer_coef=0.01)\n",
    "bgf.fit(part['frequency_cal'], part['recency_cal'], part['T_cal'], verbose=True, tol=0.001)\n",
    "bgf"
   ]
  },
  {
   "cell_type": "code",
   "execution_count": 50,
   "metadata": {
    "ExecuteTime": {
     "end_time": "2020-02-27T18:39:38.790984Z",
     "start_time": "2020-02-27T18:17:43.208312Z"
    }
   },
   "outputs": [
    {
     "data": {
      "text/plain": [
       "<matplotlib.axes._subplots.AxesSubplot at 0x7f140421dfd0>"
      ]
     },
     "execution_count": 50,
     "metadata": {},
     "output_type": "execute_result"
    },
    {
     "data": {
      "image/png": "[encoded data removed]",
      "text/plain": [
       "<Figure size 432x288 with 1 Axes>"
      ]
     },
     "metadata": {
      "needs_background": "light"
     },
     "output_type": "display_data"
    }
   ],
   "source": [
    "from lifetimes.plotting import plot_period_transactions\n",
    "plot_period_transactions(bgf, max_frequency=30)"
   ]
  },
  {
   "cell_type": "markdown",
   "metadata": {},
   "source": [
    "### model evaluation"
   ]
  },
  {
   "cell_type": "code",
   "execution_count": 53,
   "metadata": {
    "ExecuteTime": {
     "end_time": "2020-02-27T18:42:06.182993Z",
     "start_time": "2020-02-27T18:42:02.218890Z"
    }
   },
   "outputs": [],
   "source": [
    "t=26\n",
    "part['predicted_purchases'] = bgf.conditional_expected_number_of_purchases_up_to_time(t, part['frequency_cal'], part['recency_cal'], part['T_cal'])\n",
    "\n",
    "part['palive'] = bgf.conditional_probability_alive(part['frequency_cal'], part['recency_cal'], part['T_cal'])"
   ]
  },
  {
   "cell_type": "code",
   "execution_count": 54,
   "metadata": {
    "ExecuteTime": {
     "end_time": "2020-02-27T18:42:07.476213Z",
     "start_time": "2020-02-27T18:42:06.184463Z"
    }
   },
   "outputs": [
    {
     "data": {
      "text/html": [
       "<div>\n",
       "<style scoped>\n",
       "    .dataframe tbody tr th:only-of-type {\n",
       "        vertical-align: middle;\n",
       "    }\n",
       "\n",
       "    .dataframe tbody tr th {\n",
       "        vertical-align: top;\n",
       "    }\n",
       "\n",
       "    .dataframe thead th {\n",
       "        text-align: right;\n",
       "    }\n",
       "</style>\n",
       "<table border=\"1\" class=\"dataframe\">\n",
       "  <thead>\n",
       "    <tr style=\"text-align: right;\">\n",
       "      <th></th>\n",
       "      <th>id</th>\n",
       "      <th>frequency_cal</th>\n",
       "      <th>recency_cal</th>\n",
       "      <th>monetary_value</th>\n",
       "      <th>T_cal</th>\n",
       "      <th>frequency_holdout</th>\n",
       "      <th>money_holdout</th>\n",
       "      <th>duration_holdout</th>\n",
       "      <th>predicted_purchases</th>\n",
       "      <th>palive</th>\n",
       "    </tr>\n",
       "  </thead>\n",
       "  <tbody>\n",
       "    <tr>\n",
       "      <th>29592158</th>\n",
       "      <td>1060141800</td>\n",
       "      <td>54</td>\n",
       "      <td>0.000000</td>\n",
       "      <td>35.000000</td>\n",
       "      <td>14.571429</td>\n",
       "      <td>0.0</td>\n",
       "      <td>0.000000</td>\n",
       "      <td>25.714286</td>\n",
       "      <td>4.662086e-77</td>\n",
       "      <td>5.513527e-79</td>\n",
       "    </tr>\n",
       "    <tr>\n",
       "      <th>4409540</th>\n",
       "      <td>668812027</td>\n",
       "      <td>52</td>\n",
       "      <td>0.000000</td>\n",
       "      <td>34.735847</td>\n",
       "      <td>16.000000</td>\n",
       "      <td>1.0</td>\n",
       "      <td>35.000000</td>\n",
       "      <td>25.714286</td>\n",
       "      <td>3.186506e-76</td>\n",
       "      <td>4.254952e-78</td>\n",
       "    </tr>\n",
       "    <tr>\n",
       "      <th>39286564</th>\n",
       "      <td>1009412643</td>\n",
       "      <td>52</td>\n",
       "      <td>0.000000</td>\n",
       "      <td>35.000000</td>\n",
       "      <td>16.000000</td>\n",
       "      <td>0.0</td>\n",
       "      <td>0.000000</td>\n",
       "      <td>25.714286</td>\n",
       "      <td>3.186506e-76</td>\n",
       "      <td>4.254952e-78</td>\n",
       "    </tr>\n",
       "    <tr>\n",
       "      <th>26837881</th>\n",
       "      <td>434184076</td>\n",
       "      <td>46</td>\n",
       "      <td>0.000000</td>\n",
       "      <td>103.425529</td>\n",
       "      <td>24.571429</td>\n",
       "      <td>0.0</td>\n",
       "      <td>0.000000</td>\n",
       "      <td>25.714286</td>\n",
       "      <td>8.408158e-76</td>\n",
       "      <td>1.876002e-77</td>\n",
       "    </tr>\n",
       "    <tr>\n",
       "      <th>16256894</th>\n",
       "      <td>1053355080</td>\n",
       "      <td>48</td>\n",
       "      <td>0.142857</td>\n",
       "      <td>41.693878</td>\n",
       "      <td>24.571429</td>\n",
       "      <td>22.0</td>\n",
       "      <td>136.130432</td>\n",
       "      <td>25.714286</td>\n",
       "      <td>7.654720e-74</td>\n",
       "      <td>1.637353e-75</td>\n",
       "    </tr>\n",
       "  </tbody>\n",
       "</table>\n",
       "</div>"
      ],
      "text/plain": [
       "                  id  frequency_cal  recency_cal  monetary_value      T_cal  \\\n",
       "29592158  1060141800             54     0.000000       35.000000  14.571429   \n",
       "4409540    668812027             52     0.000000       34.735847  16.000000   \n",
       "39286564  1009412643             52     0.000000       35.000000  16.000000   \n",
       "26837881   434184076             46     0.000000      103.425529  24.571429   \n",
       "16256894  1053355080             48     0.142857       41.693878  24.571429   \n",
       "\n",
       "          frequency_holdout  money_holdout  duration_holdout  \\\n",
       "29592158                0.0       0.000000         25.714286   \n",
       "4409540                 1.0      35.000000         25.714286   \n",
       "39286564                0.0       0.000000         25.714286   \n",
       "26837881                0.0       0.000000         25.714286   \n",
       "16256894               22.0     136.130432         25.714286   \n",
       "\n",
       "          predicted_purchases        palive  \n",
       "29592158         4.662086e-77  5.513527e-79  \n",
       "4409540          3.186506e-76  4.254952e-78  \n",
       "39286564         3.186506e-76  4.254952e-78  \n",
       "26837881         8.408158e-76  1.876002e-77  \n",
       "16256894         7.654720e-74  1.637353e-75  "
      ]
     },
     "execution_count": 54,
     "metadata": {},
     "output_type": "execute_result"
    }
   ],
   "source": [
    "part.sort_values(by='predicted_purchases').head(5)"
   ]
  },
  {
   "cell_type": "code",
   "execution_count": 55,
   "metadata": {
    "ExecuteTime": {
     "end_time": "2020-02-27T18:42:08.657279Z",
     "start_time": "2020-02-27T18:42:07.477436Z"
    }
   },
   "outputs": [
    {
     "data": {
      "text/html": [
       "<div>\n",
       "<style scoped>\n",
       "    .dataframe tbody tr th:only-of-type {\n",
       "        vertical-align: middle;\n",
       "    }\n",
       "\n",
       "    .dataframe tbody tr th {\n",
       "        vertical-align: top;\n",
       "    }\n",
       "\n",
       "    .dataframe thead th {\n",
       "        text-align: right;\n",
       "    }\n",
       "</style>\n",
       "<table border=\"1\" class=\"dataframe\">\n",
       "  <thead>\n",
       "    <tr style=\"text-align: right;\">\n",
       "      <th></th>\n",
       "      <th>id</th>\n",
       "      <th>frequency_cal</th>\n",
       "      <th>recency_cal</th>\n",
       "      <th>monetary_value</th>\n",
       "      <th>T_cal</th>\n",
       "      <th>frequency_holdout</th>\n",
       "      <th>money_holdout</th>\n",
       "      <th>duration_holdout</th>\n",
       "      <th>predicted_purchases</th>\n",
       "      <th>palive</th>\n",
       "    </tr>\n",
       "  </thead>\n",
       "  <tbody>\n",
       "    <tr>\n",
       "      <th>6967445</th>\n",
       "      <td>1192420400</td>\n",
       "      <td>35</td>\n",
       "      <td>0.571429</td>\n",
       "      <td>190.666672</td>\n",
       "      <td>0.571429</td>\n",
       "      <td>0.0</td>\n",
       "      <td>0.0</td>\n",
       "      <td>25.714286</td>\n",
       "      <td>563.615325</td>\n",
       "      <td>0.994842</td>\n",
       "    </tr>\n",
       "    <tr>\n",
       "      <th>4703828</th>\n",
       "      <td>1193315757</td>\n",
       "      <td>27</td>\n",
       "      <td>0.142857</td>\n",
       "      <td>16.892857</td>\n",
       "      <td>0.142857</td>\n",
       "      <td>0.0</td>\n",
       "      <td>0.0</td>\n",
       "      <td>25.714286</td>\n",
       "      <td>671.299403</td>\n",
       "      <td>0.993329</td>\n",
       "    </tr>\n",
       "    <tr>\n",
       "      <th>36069064</th>\n",
       "      <td>1192728675</td>\n",
       "      <td>30</td>\n",
       "      <td>0.142857</td>\n",
       "      <td>185.000000</td>\n",
       "      <td>0.142857</td>\n",
       "      <td>0.0</td>\n",
       "      <td>0.0</td>\n",
       "      <td>25.714286</td>\n",
       "      <td>745.283692</td>\n",
       "      <td>0.993990</td>\n",
       "    </tr>\n",
       "    <tr>\n",
       "      <th>19968663</th>\n",
       "      <td>1192901536</td>\n",
       "      <td>36</td>\n",
       "      <td>0.285714</td>\n",
       "      <td>34.648647</td>\n",
       "      <td>0.285714</td>\n",
       "      <td>0.0</td>\n",
       "      <td>0.0</td>\n",
       "      <td>25.714286</td>\n",
       "      <td>753.916380</td>\n",
       "      <td>0.994984</td>\n",
       "    </tr>\n",
       "    <tr>\n",
       "      <th>20843748</th>\n",
       "      <td>1003076911</td>\n",
       "      <td>44</td>\n",
       "      <td>0.000000</td>\n",
       "      <td>49.000000</td>\n",
       "      <td>0.000000</td>\n",
       "      <td>0.0</td>\n",
       "      <td>26.0</td>\n",
       "      <td>25.714286</td>\n",
       "      <td>1348.084527</td>\n",
       "      <td>0.995891</td>\n",
       "    </tr>\n",
       "  </tbody>\n",
       "</table>\n",
       "</div>"
      ],
      "text/plain": [
       "                  id  frequency_cal  recency_cal  monetary_value     T_cal  \\\n",
       "6967445   1192420400             35     0.571429      190.666672  0.571429   \n",
       "4703828   1193315757             27     0.142857       16.892857  0.142857   \n",
       "36069064  1192728675             30     0.142857      185.000000  0.142857   \n",
       "19968663  1192901536             36     0.285714       34.648647  0.285714   \n",
       "20843748  1003076911             44     0.000000       49.000000  0.000000   \n",
       "\n",
       "          frequency_holdout  money_holdout  duration_holdout  \\\n",
       "6967445                 0.0            0.0         25.714286   \n",
       "4703828                 0.0            0.0         25.714286   \n",
       "36069064                0.0            0.0         25.714286   \n",
       "19968663                0.0            0.0         25.714286   \n",
       "20843748                0.0           26.0         25.714286   \n",
       "\n",
       "          predicted_purchases    palive  \n",
       "6967445            563.615325  0.994842  \n",
       "4703828            671.299403  0.993329  \n",
       "36069064           745.283692  0.993990  \n",
       "19968663           753.916380  0.994984  \n",
       "20843748          1348.084527  0.995891  "
      ]
     },
     "execution_count": 55,
     "metadata": {},
     "output_type": "execute_result"
    }
   ],
   "source": [
    "part.sort_values(by='predicted_purchases').tail(5)"
   ]
  },
  {
   "cell_type": "code",
   "execution_count": 56,
   "metadata": {
    "ExecuteTime": {
     "end_time": "2020-02-27T18:42:08.660224Z",
     "start_time": "2020-02-27T18:42:08.658520Z"
    }
   },
   "outputs": [],
   "source": [
    "#part.describe()"
   ]
  },
  {
   "cell_type": "code",
   "execution_count": 57,
   "metadata": {
    "ExecuteTime": {
     "end_time": "2020-02-27T18:42:08.768752Z",
     "start_time": "2020-02-27T18:42:08.661769Z"
    }
   },
   "outputs": [],
   "source": [
    "from sklearn.metrics import mean_squared_error\n",
    "def perf_trax_freq(df):\n",
    "    \n",
    "    def f(row):\n",
    "        if row['predicted_purchases'] < 0.5:\n",
    "            val = 0\n",
    "        elif row['predicted_purchases'] > 25:\n",
    "            val = 25\n",
    "        else:\n",
    "            val = row['predicted_purchases']\n",
    "        return val\n",
    "\n",
    "    df['pred'] = df.apply(f, axis=1)\n",
    "    \n",
    "    return mean_squared_error(df['frequency_holdout'], df['pred']), df\n",
    "\n"
   ]
  },
  {
   "cell_type": "code",
   "execution_count": 58,
   "metadata": {
    "ExecuteTime": {
     "end_time": "2020-02-27T18:42:08.873280Z",
     "start_time": "2020-02-27T18:42:08.770087Z"
    }
   },
   "outputs": [],
   "source": [
    "from sklearn.metrics import mean_squared_error\n",
    "\n",
    "def perf_trax_freq_by_interval(df, interval, adjusted=False):\n",
    "    \n",
    "    def f(row):\n",
    "        if row['predicted_purchases'] < 0.5:\n",
    "            val = 0\n",
    "        elif row['predicted_purchases'] > 45 and adjusted:\n",
    "            val = 45\n",
    "        else:\n",
    "            val = row['predicted_purchases']\n",
    "        return val\n",
    "    \n",
    "    def measure(row, c1, c2):\n",
    "        if abs(row[c1]-row[c2]) < interval:\n",
    "            return 1\n",
    "        else:\n",
    "            return 0\n",
    "        \n",
    "    def alive(row):\n",
    "        if row['palive'] < 0.3 and row['frequency_holdout'] == 0:\n",
    "            return 1\n",
    "        elif row['palive'] >= 0.3 and row['frequency_holdout'] > 0:\n",
    "            return 1\n",
    "        else:\n",
    "            return 0\n",
    "\n",
    "    df['pred'] = df.apply(f, axis=1)\n",
    "    df['pred_in'] = df.apply(measure, args=('frequency_holdout', 'pred'), axis=1)\n",
    "    df['train_in'] = df.apply(measure, args=('frequency_holdout', 'frequency_cal'), axis=1)\n",
    "    df['alive'] = df.apply(alive, axis=1)\n",
    "    \n",
    "    return (mean_squared_error(df['frequency_holdout'], df['pred']), \n",
    "            mean_absolute_error(df['frequency_holdout'], df['pred']),\n",
    "            df['pred_in'].sum()/len(df),\n",
    "            df['alive'].sum()/len(df),\n",
    "            mean_squared_error(df['frequency_holdout'], df['frequency_cal']),\n",
    "            mean_absolute_error(df['frequency_holdout'], df['frequency_cal']),\n",
    "            df['train_in'].sum()/len(df))"
   ]
  },
  {
   "cell_type": "code",
   "execution_count": 59,
   "metadata": {
    "ExecuteTime": {
     "end_time": "2020-02-27T18:49:10.647002Z",
     "start_time": "2020-02-27T18:42:08.874446Z"
    }
   },
   "outputs": [],
   "source": [
    "mse, mae, by_interval, alive, mse1, mae1, by_interval1 = perf_trax_freq_by_interval(part, 2, True)"
   ]
  },
  {
   "cell_type": "code",
   "execution_count": 60,
   "metadata": {
    "ExecuteTime": {
     "end_time": "2020-02-27T18:49:10.651077Z",
     "start_time": "2020-02-27T18:49:10.648200Z"
    }
   },
   "outputs": [
    {
     "name": "stdout",
     "output_type": "stream",
     "text": [
      "92.70215663301384 5.726591770111847 0.4221911615550134 0.5541124888297932 72.97278239618494 5.083009609178484 0.37927796300237926\n"
     ]
    }
   ],
   "source": [
    "print(mse, mae, by_interval, alive, mse1, mae1, by_interval1)"
   ]
  },
  {
   "cell_type": "code",
   "execution_count": 61,
   "metadata": {
    "ExecuteTime": {
     "end_time": "2020-02-27T18:49:10.919969Z",
     "start_time": "2020-02-27T18:49:10.652092Z"
    }
   },
   "outputs": [
    {
     "data": {
      "text/plain": [
       "count    4.641812e+06\n",
       "mean     6.590400e+00\n",
       "std      8.980649e+00\n",
       "min      0.000000e+00\n",
       "25%      1.000000e+00\n",
       "50%      3.000000e+00\n",
       "75%      9.000000e+00\n",
       "max      5.400000e+01\n",
       "Name: frequency_cal, dtype: float64"
      ]
     },
     "execution_count": 61,
     "metadata": {},
     "output_type": "execute_result"
    }
   ],
   "source": [
    "part.frequency_cal.describe()"
   ]
  },
  {
   "cell_type": "code",
   "execution_count": 62,
   "metadata": {
    "ExecuteTime": {
     "end_time": "2020-02-27T18:49:10.957332Z",
     "start_time": "2020-02-27T18:49:10.921072Z"
    }
   },
   "outputs": [
    {
     "data": {
      "text/plain": [
       "2.7394317612905374"
      ]
     },
     "execution_count": 62,
     "metadata": {},
     "output_type": "execute_result"
    }
   ],
   "source": [
    "mean_absolute_error(part['frequency_cal'], part['pred'])"
   ]
  },
  {
   "cell_type": "code",
   "execution_count": 63,
   "metadata": {
    "ExecuteTime": {
     "end_time": "2020-02-27T18:49:11.053971Z",
     "start_time": "2020-02-27T18:49:10.958459Z"
    }
   },
   "outputs": [
    {
     "data": {
      "text/plain": [
       "2.864920635460588"
      ]
     },
     "execution_count": 63,
     "metadata": {},
     "output_type": "execute_result"
    }
   ],
   "source": [
    "mean_absolute_error(part['frequency_cal'], part['predicted_purchases'])"
   ]
  },
  {
   "cell_type": "code",
   "execution_count": 64,
   "metadata": {
    "ExecuteTime": {
     "end_time": "2020-02-27T18:49:11.361413Z",
     "start_time": "2020-02-27T18:49:11.055297Z"
    }
   },
   "outputs": [
    {
     "data": {
      "text/plain": [
       "count    4.641812e+06\n",
       "mean     5.126149e+00\n",
       "std      8.103331e+00\n",
       "min      0.000000e+00\n",
       "25%      0.000000e+00\n",
       "50%      1.000000e+00\n",
       "75%      7.000000e+00\n",
       "max      4.700000e+01\n",
       "Name: frequency_holdout, dtype: float64"
      ]
     },
     "execution_count": 64,
     "metadata": {},
     "output_type": "execute_result"
    }
   ],
   "source": [
    "part.frequency_holdout.describe()"
   ]
  },
  {
   "cell_type": "code",
   "execution_count": 65,
   "metadata": {
    "ExecuteTime": {
     "end_time": "2020-02-27T18:49:11.457294Z",
     "start_time": "2020-02-27T18:49:11.362603Z"
    }
   },
   "outputs": [
    {
     "data": {
      "text/plain": [
       "0.75     7.0\n",
       "0.80     9.0\n",
       "0.85    12.0\n",
       "0.90    16.0\n",
       "0.95    23.0\n",
       "0.99    37.0\n",
       "Name: frequency_holdout, dtype: float64"
      ]
     },
     "execution_count": 65,
     "metadata": {},
     "output_type": "execute_result"
    }
   ],
   "source": [
    "part.frequency_holdout.quantile([0.75, 0.80, 0.85, 0.9, 0.95, 0.99])"
   ]
  },
  {
   "cell_type": "code",
   "execution_count": 66,
   "metadata": {
    "ExecuteTime": {
     "end_time": "2020-02-27T18:49:11.735425Z",
     "start_time": "2020-02-27T18:49:11.458515Z"
    }
   },
   "outputs": [
    {
     "data": {
      "text/plain": [
       "count    4.641812e+06\n",
       "mean     6.598446e+00\n",
       "std      9.927461e+00\n",
       "min      4.662086e-77\n",
       "25%      5.462392e-01\n",
       "50%      2.431522e+00\n",
       "75%      8.998102e+00\n",
       "max      1.348085e+03\n",
       "Name: predicted_purchases, dtype: float64"
      ]
     },
     "execution_count": 66,
     "metadata": {},
     "output_type": "execute_result"
    }
   ],
   "source": [
    "part.predicted_purchases.describe()"
   ]
  },
  {
   "cell_type": "code",
   "execution_count": 67,
   "metadata": {
    "ExecuteTime": {
     "end_time": "2020-02-27T18:49:11.833822Z",
     "start_time": "2020-02-27T18:49:11.736456Z"
    }
   },
   "outputs": [
    {
     "data": {
      "text/plain": [
       "0.75     8.998102\n",
       "0.80    11.273895\n",
       "0.85    14.202280\n",
       "0.90    18.504342\n",
       "0.95    26.047768\n",
       "0.99    42.941773\n",
       "Name: predicted_purchases, dtype: float64"
      ]
     },
     "execution_count": 67,
     "metadata": {},
     "output_type": "execute_result"
    }
   ],
   "source": [
    "part.predicted_purchases.quantile([0.75, 0.80, 0.85, 0.9, 0.95, 0.99])"
   ]
  },
  {
   "cell_type": "code",
   "execution_count": 68,
   "metadata": {
    "ExecuteTime": {
     "end_time": "2020-02-27T18:49:12.183264Z",
     "start_time": "2020-02-27T18:49:11.835089Z"
    }
   },
   "outputs": [
    {
     "data": {
      "text/plain": [
       "<matplotlib.axes._subplots.AxesSubplot at 0x7f1404029890>"
      ]
     },
     "execution_count": 68,
     "metadata": {},
     "output_type": "execute_result"
    },
    {
     "data": {
      "image/png": "[encoded data removed]",
      "text/plain": [
       "<Figure size 432x288 with 2 Axes>"
      ]
     },
     "metadata": {
      "needs_background": "light"
     },
     "output_type": "display_data"
    }
   ],
   "source": [
    "from lifetimes.plotting import plot_frequency_recency_matrix\n",
    "\n",
    "plot_frequency_recency_matrix(bgf)"
   ]
  },
  {
   "cell_type": "code",
   "execution_count": 69,
   "metadata": {
    "ExecuteTime": {
     "end_time": "2020-02-27T18:58:11.429505Z",
     "start_time": "2020-02-27T18:49:12.185039Z"
    }
   },
   "outputs": [
    {
     "data": {
      "text/plain": [
       "<matplotlib.axes._subplots.AxesSubplot at 0x7f13fd38ec50>"
      ]
     },
     "execution_count": 69,
     "metadata": {},
     "output_type": "execute_result"
    },
    {
     "data": {
      "image/png": "[encoded data removed]",
      "text/plain": [
       "<Figure size 432x288 with 1 Axes>"
      ]
     },
     "metadata": {
      "needs_background": "light"
     },
     "output_type": "display_data"
    }
   ],
   "source": [
    "from lifetimes.plotting import plot_calibration_purchases_vs_holdout_purchases\n",
    "# ax = summary.groupby('frequency_cal')[[\"frequency_holdout\", \"model_predictions\"]].mean().iloc[:n].plot(**kwargs)\n",
    "plot_calibration_purchases_vs_holdout_purchases(bgf, part, n=60)"
   ]
  },
  {
   "cell_type": "markdown",
   "metadata": {},
   "source": [
    "## Gamma Gamma fitting"
   ]
  },
  {
   "cell_type": "code",
   "execution_count": 332,
   "metadata": {
    "ExecuteTime": {
     "end_time": "2020-02-25T22:39:40.242733Z",
     "start_time": "2020-02-25T22:39:40.031133Z"
    }
   },
   "outputs": [
    {
     "data": {
      "text/plain": [
       "count    5.800583e+06\n",
       "mean     2.438799e+02\n",
       "std      8.162013e+03\n",
       "min      0.000000e+00\n",
       "25%      3.500000e+01\n",
       "50%      8.981818e+01\n",
       "75%      1.606667e+02\n",
       "max      9.999990e+05\n",
       "Name: monetary_value, dtype: float64"
      ]
     },
     "execution_count": 332,
     "metadata": {},
     "output_type": "execute_result"
    }
   ],
   "source": [
    "part.monetary_value.describe()"
   ]
  },
  {
   "cell_type": "code",
   "execution_count": 333,
   "metadata": {
    "ExecuteTime": {
     "end_time": "2020-02-25T22:40:55.945454Z",
     "start_time": "2020-02-25T22:40:55.751598Z"
    }
   },
   "outputs": [
    {
     "data": {
      "text/plain": [
       "count    5.800583e+06\n",
       "mean     9.029437e+01\n",
       "std      2.654260e+03\n",
       "min      0.000000e+00\n",
       "25%      0.000000e+00\n",
       "50%      0.000000e+00\n",
       "75%      1.160000e+02\n",
       "max      9.999990e+05\n",
       "Name: money_holdout, dtype: float64"
      ]
     },
     "execution_count": 333,
     "metadata": {},
     "output_type": "execute_result"
    }
   ],
   "source": [
    "part.money_holdout.describe()"
   ]
  },
  {
   "cell_type": "code",
   "execution_count": 351,
   "metadata": {
    "ExecuteTime": {
     "end_time": "2020-02-25T23:13:19.625645Z",
     "start_time": "2020-02-25T23:13:19.494420Z"
    }
   },
   "outputs": [
    {
     "data": {
      "text/plain": [
       "<matplotlib.legend.Legend at 0x7fb7ef179c10>"
      ]
     },
     "execution_count": 351,
     "metadata": {},
     "output_type": "execute_result"
    },
    {
     "data": {
      "image/png": "[encoded data removed]",
      "text/plain": [
       "<Figure size 432x288 with 1 Axes>"
      ]
     },
     "metadata": {
      "needs_background": "light"
     },
     "output_type": "display_data"
    }
   ],
   "source": [
    "import scipy.stats as stats\n",
    "\n",
    "mu=244\n",
    "sigma=8162\n",
    "x = np.linspace(mu - 3*sigma, mu + 3*sigma, 500)\n",
    "plt.plot(x, stats.norm.pdf(x, mu, sigma), label='train')\n",
    "\n",
    "ymu=90\n",
    "ysigma=2654\n",
    "y = np.linspace(ymu - 3*ysigma, ymu + 3*ysigma, 500)\n",
    "plt.plot(y, stats.norm.pdf(y, ymu, ysigma), label='holdout')\n",
    "\n",
    "plt.legend()"
   ]
  },
  {
   "cell_type": "code",
   "execution_count": 81,
   "metadata": {
    "ExecuteTime": {
     "end_time": "2020-02-25T20:48:51.015175Z",
     "start_time": "2020-02-25T20:48:50.477047Z"
    }
   },
   "outputs": [],
   "source": [
    "#returning_train_df = training_df_filter[training_df_filter.monetary_value > 0]\n",
    "returning_train_df = part[part.monetary_value > 0]\n",
    "returning_train_df = returning_train_df[returning_train_df.frequency_cal>0]"
   ]
  },
  {
   "cell_type": "code",
   "execution_count": 82,
   "metadata": {
    "ExecuteTime": {
     "end_time": "2020-02-25T20:48:53.156421Z",
     "start_time": "2020-02-25T20:48:53.145047Z"
    }
   },
   "outputs": [
    {
     "data": {
      "text/html": [
       "<div>\n",
       "<style scoped>\n",
       "    .dataframe tbody tr th:only-of-type {\n",
       "        vertical-align: middle;\n",
       "    }\n",
       "\n",
       "    .dataframe tbody tr th {\n",
       "        vertical-align: top;\n",
       "    }\n",
       "\n",
       "    .dataframe thead th {\n",
       "        text-align: right;\n",
       "    }\n",
       "</style>\n",
       "<table border=\"1\" class=\"dataframe\">\n",
       "  <thead>\n",
       "    <tr style=\"text-align: right;\">\n",
       "      <th></th>\n",
       "      <th>id</th>\n",
       "      <th>frequency_cal</th>\n",
       "      <th>recency_cal</th>\n",
       "      <th>monetary_value</th>\n",
       "      <th>T_cal</th>\n",
       "      <th>frequency_holdout</th>\n",
       "      <th>money_holdout</th>\n",
       "      <th>duration_holdout</th>\n",
       "      <th>predicted_purchases</th>\n",
       "      <th>palive</th>\n",
       "      <th>pred</th>\n",
       "      <th>pred_in</th>\n",
       "      <th>train_in</th>\n",
       "      <th>alive</th>\n",
       "    </tr>\n",
       "  </thead>\n",
       "  <tbody>\n",
       "    <tr>\n",
       "      <th>7</th>\n",
       "      <td>347841373</td>\n",
       "      <td>23</td>\n",
       "      <td>20.428571</td>\n",
       "      <td>172.666672</td>\n",
       "      <td>25.714286</td>\n",
       "      <td>11.0</td>\n",
       "      <td>120.583336</td>\n",
       "      <td>26.142857</td>\n",
       "      <td>7.872922</td>\n",
       "      <td>0.376536</td>\n",
       "      <td>7.872922</td>\n",
       "      <td>0</td>\n",
       "      <td>0</td>\n",
       "      <td>1</td>\n",
       "    </tr>\n",
       "    <tr>\n",
       "      <th>8</th>\n",
       "      <td>521845566</td>\n",
       "      <td>12</td>\n",
       "      <td>20.857143</td>\n",
       "      <td>47.615383</td>\n",
       "      <td>23.285714</td>\n",
       "      <td>21.0</td>\n",
       "      <td>90.045456</td>\n",
       "      <td>26.142857</td>\n",
       "      <td>11.437408</td>\n",
       "      <td>0.940307</td>\n",
       "      <td>11.437408</td>\n",
       "      <td>0</td>\n",
       "      <td>0</td>\n",
       "      <td>1</td>\n",
       "    </tr>\n",
       "  </tbody>\n",
       "</table>\n",
       "</div>"
      ],
      "text/plain": [
       "          id  frequency_cal  recency_cal  monetary_value      T_cal  \\\n",
       "7  347841373             23    20.428571      172.666672  25.714286   \n",
       "8  521845566             12    20.857143       47.615383  23.285714   \n",
       "\n",
       "   frequency_holdout  money_holdout  duration_holdout  predicted_purchases  \\\n",
       "7               11.0     120.583336         26.142857             7.872922   \n",
       "8               21.0      90.045456         26.142857            11.437408   \n",
       "\n",
       "     palive       pred  pred_in  train_in  alive  \n",
       "7  0.376536   7.872922        0         0      1  \n",
       "8  0.940307  11.437408        0         0      1  "
      ]
     },
     "execution_count": 82,
     "metadata": {},
     "output_type": "execute_result"
    }
   ],
   "source": [
    "returning_train_df.head(2)"
   ]
  },
  {
   "cell_type": "code",
   "execution_count": 83,
   "metadata": {
    "ExecuteTime": {
     "end_time": "2020-02-25T20:48:57.656598Z",
     "start_time": "2020-02-25T20:48:57.513832Z"
    }
   },
   "outputs": [
    {
     "data": {
      "text/plain": [
       "count    3.953848e+06\n",
       "mean     2.321604e+02\n",
       "std      6.538715e+03\n",
       "min      1.000000e+00\n",
       "25%      4.733333e+01\n",
       "50%      1.020000e+02\n",
       "75%      1.732000e+02\n",
       "max      9.999990e+05\n",
       "Name: monetary_value, dtype: float64"
      ]
     },
     "execution_count": 83,
     "metadata": {},
     "output_type": "execute_result"
    }
   ],
   "source": [
    "returning_train_df['monetary_value'].describe()"
   ]
  },
  {
   "cell_type": "code",
   "execution_count": 84,
   "metadata": {
    "ExecuteTime": {
     "end_time": "2020-02-25T20:48:58.750935Z",
     "start_time": "2020-02-25T20:48:58.623467Z"
    }
   },
   "outputs": [
    {
     "data": {
      "text/plain": [
       "count    3.953848e+06\n",
       "mean     7.572911e+00\n",
       "std      8.282553e+00\n",
       "min      1.000000e+00\n",
       "25%      2.000000e+00\n",
       "50%      4.000000e+00\n",
       "75%      1.000000e+01\n",
       "max      4.700000e+01\n",
       "Name: frequency_cal, dtype: float64"
      ]
     },
     "execution_count": 84,
     "metadata": {},
     "output_type": "execute_result"
    }
   ],
   "source": [
    "returning_train_df['frequency_cal'].describe()"
   ]
  },
  {
   "cell_type": "code",
   "execution_count": 85,
   "metadata": {
    "ExecuteTime": {
     "end_time": "2020-02-25T20:49:03.766636Z",
     "start_time": "2020-02-25T20:49:03.667824Z"
    }
   },
   "outputs": [
    {
     "data": {
      "text/html": [
       "<div>\n",
       "<style scoped>\n",
       "    .dataframe tbody tr th:only-of-type {\n",
       "        vertical-align: middle;\n",
       "    }\n",
       "\n",
       "    .dataframe tbody tr th {\n",
       "        vertical-align: top;\n",
       "    }\n",
       "\n",
       "    .dataframe thead th {\n",
       "        text-align: right;\n",
       "    }\n",
       "</style>\n",
       "<table border=\"1\" class=\"dataframe\">\n",
       "  <thead>\n",
       "    <tr style=\"text-align: right;\">\n",
       "      <th></th>\n",
       "      <th>frequency_cal</th>\n",
       "      <th>monetary_value</th>\n",
       "    </tr>\n",
       "  </thead>\n",
       "  <tbody>\n",
       "    <tr>\n",
       "      <th>frequency_cal</th>\n",
       "      <td>1.000000</td>\n",
       "      <td>-0.007077</td>\n",
       "    </tr>\n",
       "    <tr>\n",
       "      <th>monetary_value</th>\n",
       "      <td>-0.007077</td>\n",
       "      <td>1.000000</td>\n",
       "    </tr>\n",
       "  </tbody>\n",
       "</table>\n",
       "</div>"
      ],
      "text/plain": [
       "                frequency_cal  monetary_value\n",
       "frequency_cal        1.000000       -0.007077\n",
       "monetary_value      -0.007077        1.000000"
      ]
     },
     "execution_count": 85,
     "metadata": {},
     "output_type": "execute_result"
    }
   ],
   "source": [
    "returning_train_df[['frequency_cal','monetary_value']].corr()"
   ]
  },
  {
   "cell_type": "code",
   "execution_count": 186,
   "metadata": {
    "ExecuteTime": {
     "end_time": "2020-02-25T21:15:45.450216Z",
     "start_time": "2020-02-25T21:15:14.676675Z"
    }
   },
   "outputs": [
    {
     "name": "stdout",
     "output_type": "stream",
     "text": [
      "Optimization terminated successfully.\n",
      "         Current function value: 7.023078\n",
      "         Iterations: 11\n",
      "         Function evaluations: 12\n",
      "         Gradient evaluations: 12\n"
     ]
    },
    {
     "data": {
      "text/plain": [
       "<lifetimes.GammaGammaFitter: fitted with 3953848 subjects, p: 1.64, q: 0.29, v: 1.56>"
      ]
     },
     "execution_count": 186,
     "metadata": {},
     "output_type": "execute_result"
    }
   ],
   "source": [
    "from lifetimes import GammaGammaFitter\n",
    "\n",
    "ggf = GammaGammaFitter(penalizer_coef = 0.05)\n",
    "ggf.fit(returning_train_df['frequency_cal'], returning_train_df['monetary_value'], verbose=True, tol=0.000001)\n",
    "ggf"
   ]
  },
  {
   "cell_type": "code",
   "execution_count": 187,
   "metadata": {
    "ExecuteTime": {
     "end_time": "2020-02-25T21:15:48.628585Z",
     "start_time": "2020-02-25T21:15:48.570737Z"
    }
   },
   "outputs": [],
   "source": [
    "part['avenue'] = ggf.conditional_expected_average_profit(\n",
    "        part['frequency_cal'],\n",
    "        part['monetary_value']\n",
    "    )"
   ]
  },
  {
   "cell_type": "code",
   "execution_count": 188,
   "metadata": {
    "ExecuteTime": {
     "end_time": "2020-02-25T21:15:49.507505Z",
     "start_time": "2020-02-25T21:15:49.498196Z"
    }
   },
   "outputs": [],
   "source": [
    "part.money_holdout.fillna(0.0, inplace=True)"
   ]
  },
  {
   "cell_type": "code",
   "execution_count": 189,
   "metadata": {
    "ExecuteTime": {
     "end_time": "2020-02-25T21:15:51.526259Z",
     "start_time": "2020-02-25T21:15:50.076231Z"
    }
   },
   "outputs": [
    {
     "data": {
      "text/html": [
       "<div>\n",
       "<style scoped>\n",
       "    .dataframe tbody tr th:only-of-type {\n",
       "        vertical-align: middle;\n",
       "    }\n",
       "\n",
       "    .dataframe tbody tr th {\n",
       "        vertical-align: top;\n",
       "    }\n",
       "\n",
       "    .dataframe thead th {\n",
       "        text-align: right;\n",
       "    }\n",
       "</style>\n",
       "<table border=\"1\" class=\"dataframe\">\n",
       "  <thead>\n",
       "    <tr style=\"text-align: right;\">\n",
       "      <th></th>\n",
       "      <th>id</th>\n",
       "      <th>frequency_cal</th>\n",
       "      <th>recency_cal</th>\n",
       "      <th>monetary_value</th>\n",
       "      <th>T_cal</th>\n",
       "      <th>frequency_holdout</th>\n",
       "      <th>money_holdout</th>\n",
       "      <th>duration_holdout</th>\n",
       "      <th>predicted_purchases</th>\n",
       "      <th>palive</th>\n",
       "      <th>pred</th>\n",
       "      <th>pred_in</th>\n",
       "      <th>train_in</th>\n",
       "      <th>alive</th>\n",
       "      <th>avenue</th>\n",
       "    </tr>\n",
       "  </thead>\n",
       "  <tbody>\n",
       "    <tr>\n",
       "      <th>13836219</th>\n",
       "      <td>1130223616</td>\n",
       "      <td>1</td>\n",
       "      <td>0.0</td>\n",
       "      <td>982922.0</td>\n",
       "      <td>7.571429</td>\n",
       "      <td>0.0</td>\n",
       "      <td>0.0</td>\n",
       "      <td>26.142857</td>\n",
       "      <td>1.412489</td>\n",
       "      <td>0.375630</td>\n",
       "      <td>1.412489</td>\n",
       "      <td>1</td>\n",
       "      <td>1</td>\n",
       "      <td>0</td>\n",
       "      <td>1.739817e+06</td>\n",
       "    </tr>\n",
       "    <tr>\n",
       "      <th>8392046</th>\n",
       "      <td>1089279312</td>\n",
       "      <td>1</td>\n",
       "      <td>0.0</td>\n",
       "      <td>987691.0</td>\n",
       "      <td>17.428571</td>\n",
       "      <td>0.0</td>\n",
       "      <td>0.0</td>\n",
       "      <td>26.142857</td>\n",
       "      <td>0.313556</td>\n",
       "      <td>0.168320</td>\n",
       "      <td>0.000000</td>\n",
       "      <td>1</td>\n",
       "      <td>1</td>\n",
       "      <td>1</td>\n",
       "      <td>1.748259e+06</td>\n",
       "    </tr>\n",
       "    <tr>\n",
       "      <th>25508761</th>\n",
       "      <td>1111382469</td>\n",
       "      <td>1</td>\n",
       "      <td>0.0</td>\n",
       "      <td>999366.0</td>\n",
       "      <td>2.428571</td>\n",
       "      <td>1.0</td>\n",
       "      <td>15.0</td>\n",
       "      <td>26.142857</td>\n",
       "      <td>5.752696</td>\n",
       "      <td>0.687089</td>\n",
       "      <td>5.752696</td>\n",
       "      <td>0</td>\n",
       "      <td>1</td>\n",
       "      <td>1</td>\n",
       "      <td>1.768924e+06</td>\n",
       "    </tr>\n",
       "    <tr>\n",
       "      <th>19525332</th>\n",
       "      <td>675503439</td>\n",
       "      <td>1</td>\n",
       "      <td>0.0</td>\n",
       "      <td>999999.0</td>\n",
       "      <td>8.571429</td>\n",
       "      <td>0.0</td>\n",
       "      <td>0.0</td>\n",
       "      <td>26.142857</td>\n",
       "      <td>1.156225</td>\n",
       "      <td>0.339643</td>\n",
       "      <td>1.156225</td>\n",
       "      <td>1</td>\n",
       "      <td>1</td>\n",
       "      <td>0</td>\n",
       "      <td>1.770044e+06</td>\n",
       "    </tr>\n",
       "  </tbody>\n",
       "</table>\n",
       "</div>"
      ],
      "text/plain": [
       "                  id  frequency_cal  recency_cal  monetary_value      T_cal  \\\n",
       "13836219  1130223616              1          0.0        982922.0   7.571429   \n",
       "8392046   1089279312              1          0.0        987691.0  17.428571   \n",
       "25508761  1111382469              1          0.0        999366.0   2.428571   \n",
       "19525332   675503439              1          0.0        999999.0   8.571429   \n",
       "\n",
       "          frequency_holdout  money_holdout  duration_holdout  \\\n",
       "13836219                0.0            0.0         26.142857   \n",
       "8392046                 0.0            0.0         26.142857   \n",
       "25508761                1.0           15.0         26.142857   \n",
       "19525332                0.0            0.0         26.142857   \n",
       "\n",
       "          predicted_purchases    palive      pred  pred_in  train_in  alive  \\\n",
       "13836219             1.412489  0.375630  1.412489        1         1      0   \n",
       "8392046              0.313556  0.168320  0.000000        1         1      1   \n",
       "25508761             5.752696  0.687089  5.752696        0         1      1   \n",
       "19525332             1.156225  0.339643  1.156225        1         1      0   \n",
       "\n",
       "                avenue  \n",
       "13836219  1.739817e+06  \n",
       "8392046   1.748259e+06  \n",
       "25508761  1.768924e+06  \n",
       "19525332  1.770044e+06  "
      ]
     },
     "execution_count": 189,
     "metadata": {},
     "output_type": "execute_result"
    }
   ],
   "source": [
    "part.sort_values(by='avenue').tail(4)"
   ]
  },
  {
   "cell_type": "code",
   "execution_count": 190,
   "metadata": {
    "ExecuteTime": {
     "end_time": "2020-02-25T21:15:55.081211Z",
     "start_time": "2020-02-25T21:15:51.527393Z"
    }
   },
   "outputs": [
    {
     "data": {
      "text/html": [
       "<div>\n",
       "<style scoped>\n",
       "    .dataframe tbody tr th:only-of-type {\n",
       "        vertical-align: middle;\n",
       "    }\n",
       "\n",
       "    .dataframe tbody tr th {\n",
       "        vertical-align: top;\n",
       "    }\n",
       "\n",
       "    .dataframe thead th {\n",
       "        text-align: right;\n",
       "    }\n",
       "</style>\n",
       "<table border=\"1\" class=\"dataframe\">\n",
       "  <thead>\n",
       "    <tr style=\"text-align: right;\">\n",
       "      <th></th>\n",
       "      <th>id</th>\n",
       "      <th>frequency_cal</th>\n",
       "      <th>recency_cal</th>\n",
       "      <th>monetary_value</th>\n",
       "      <th>T_cal</th>\n",
       "      <th>frequency_holdout</th>\n",
       "      <th>money_holdout</th>\n",
       "      <th>duration_holdout</th>\n",
       "      <th>predicted_purchases</th>\n",
       "      <th>palive</th>\n",
       "      <th>pred</th>\n",
       "      <th>pred_in</th>\n",
       "      <th>train_in</th>\n",
       "      <th>alive</th>\n",
       "      <th>avenue</th>\n",
       "    </tr>\n",
       "  </thead>\n",
       "  <tbody>\n",
       "    <tr>\n",
       "      <th>count</th>\n",
       "      <td>5.800583e+06</td>\n",
       "      <td>5.800583e+06</td>\n",
       "      <td>5.800583e+06</td>\n",
       "      <td>5.800583e+06</td>\n",
       "      <td>5.800583e+06</td>\n",
       "      <td>5.800583e+06</td>\n",
       "      <td>5.800583e+06</td>\n",
       "      <td>5.800583e+06</td>\n",
       "      <td>5.800583e+06</td>\n",
       "      <td>5.800583e+06</td>\n",
       "      <td>5.800583e+06</td>\n",
       "      <td>5.800583e+06</td>\n",
       "      <td>5.800583e+06</td>\n",
       "      <td>5.800583e+06</td>\n",
       "      <td>5.800583e+06</td>\n",
       "    </tr>\n",
       "    <tr>\n",
       "      <th>mean</th>\n",
       "      <td>6.517690e+08</td>\n",
       "      <td>5.161922e+00</td>\n",
       "      <td>7.970081e+00</td>\n",
       "      <td>2.438799e+02</td>\n",
       "      <td>1.737380e+01</td>\n",
       "      <td>4.127174e+00</td>\n",
       "      <td>9.029437e+01</td>\n",
       "      <td>2.614286e+01</td>\n",
       "      <td>5.065317e+00</td>\n",
       "      <td>7.574890e-01</td>\n",
       "      <td>4.977995e+00</td>\n",
       "      <td>5.616810e-01</td>\n",
       "      <td>4.767917e-01</td>\n",
       "      <td>4.797844e-01</td>\n",
       "      <td>2.053256e+02</td>\n",
       "    </tr>\n",
       "    <tr>\n",
       "      <th>std</th>\n",
       "      <td>3.919496e+08</td>\n",
       "      <td>7.694515e+00</td>\n",
       "      <td>8.921979e+00</td>\n",
       "      <td>8.162013e+03</td>\n",
       "      <td>7.186198e+00</td>\n",
       "      <td>7.940405e+00</td>\n",
       "      <td>2.654260e+03</td>\n",
       "      <td>2.842171e-14</td>\n",
       "      <td>7.673504e+00</td>\n",
       "      <td>3.330087e-01</td>\n",
       "      <td>7.397101e+00</td>\n",
       "      <td>4.961809e-01</td>\n",
       "      <td>4.994611e-01</td>\n",
       "      <td>4.995912e-01</td>\n",
       "      <td>8.131669e+03</td>\n",
       "    </tr>\n",
       "    <tr>\n",
       "      <th>min</th>\n",
       "      <td>4.690000e+02</td>\n",
       "      <td>0.000000e+00</td>\n",
       "      <td>0.000000e+00</td>\n",
       "      <td>0.000000e+00</td>\n",
       "      <td>0.000000e+00</td>\n",
       "      <td>0.000000e+00</td>\n",
       "      <td>0.000000e+00</td>\n",
       "      <td>2.614286e+01</td>\n",
       "      <td>3.191756e-56</td>\n",
       "      <td>7.557735e-58</td>\n",
       "      <td>0.000000e+00</td>\n",
       "      <td>0.000000e+00</td>\n",
       "      <td>0.000000e+00</td>\n",
       "      <td>0.000000e+00</td>\n",
       "      <td>-3.576169e+00</td>\n",
       "    </tr>\n",
       "    <tr>\n",
       "      <th>25%</th>\n",
       "      <td>3.099887e+08</td>\n",
       "      <td>0.000000e+00</td>\n",
       "      <td>0.000000e+00</td>\n",
       "      <td>3.500000e+01</td>\n",
       "      <td>1.228571e+01</td>\n",
       "      <td>0.000000e+00</td>\n",
       "      <td>0.000000e+00</td>\n",
       "      <td>2.614286e+01</td>\n",
       "      <td>5.961205e-01</td>\n",
       "      <td>6.252257e-01</td>\n",
       "      <td>5.961205e-01</td>\n",
       "      <td>0.000000e+00</td>\n",
       "      <td>0.000000e+00</td>\n",
       "      <td>0.000000e+00</td>\n",
       "      <td>-3.576169e+00</td>\n",
       "    </tr>\n",
       "    <tr>\n",
       "      <th>50%</th>\n",
       "      <td>5.940450e+08</td>\n",
       "      <td>2.000000e+00</td>\n",
       "      <td>4.000000e+00</td>\n",
       "      <td>8.981818e+01</td>\n",
       "      <td>1.928571e+01</td>\n",
       "      <td>0.000000e+00</td>\n",
       "      <td>0.000000e+00</td>\n",
       "      <td>2.614286e+01</td>\n",
       "      <td>1.640014e+00</td>\n",
       "      <td>9.370836e-01</td>\n",
       "      <td>1.640014e+00</td>\n",
       "      <td>1.000000e+00</td>\n",
       "      <td>0.000000e+00</td>\n",
       "      <td>0.000000e+00</td>\n",
       "      <td>6.470532e+01</td>\n",
       "    </tr>\n",
       "    <tr>\n",
       "      <th>75%</th>\n",
       "      <td>1.066804e+09</td>\n",
       "      <td>7.000000e+00</td>\n",
       "      <td>1.614286e+01</td>\n",
       "      <td>1.606667e+02</td>\n",
       "      <td>2.371429e+01</td>\n",
       "      <td>5.000000e+00</td>\n",
       "      <td>1.160000e+02</td>\n",
       "      <td>2.614286e+01</td>\n",
       "      <td>6.474084e+00</td>\n",
       "      <td>1.000000e+00</td>\n",
       "      <td>6.474084e+00</td>\n",
       "      <td>1.000000e+00</td>\n",
       "      <td>1.000000e+00</td>\n",
       "      <td>1.000000e+00</td>\n",
       "      <td>1.583260e+02</td>\n",
       "    </tr>\n",
       "    <tr>\n",
       "      <th>max</th>\n",
       "      <td>1.147577e+09</td>\n",
       "      <td>4.700000e+01</td>\n",
       "      <td>2.571429e+01</td>\n",
       "      <td>9.999990e+05</td>\n",
       "      <td>2.571429e+01</td>\n",
       "      <td>5.400000e+01</td>\n",
       "      <td>9.999990e+05</td>\n",
       "      <td>2.614286e+01</td>\n",
       "      <td>3.984957e+02</td>\n",
       "      <td>1.000000e+00</td>\n",
       "      <td>4.500000e+01</td>\n",
       "      <td>1.000000e+00</td>\n",
       "      <td>1.000000e+00</td>\n",
       "      <td>1.000000e+00</td>\n",
       "      <td>1.770044e+06</td>\n",
       "    </tr>\n",
       "  </tbody>\n",
       "</table>\n",
       "</div>"
      ],
      "text/plain": [
       "                 id  frequency_cal   recency_cal  monetary_value  \\\n",
       "count  5.800583e+06   5.800583e+06  5.800583e+06    5.800583e+06   \n",
       "mean   6.517690e+08   5.161922e+00  7.970081e+00    2.438799e+02   \n",
       "std    3.919496e+08   7.694515e+00  8.921979e+00    8.162013e+03   \n",
       "min    4.690000e+02   0.000000e+00  0.000000e+00    0.000000e+00   \n",
       "25%    3.099887e+08   0.000000e+00  0.000000e+00    3.500000e+01   \n",
       "50%    5.940450e+08   2.000000e+00  4.000000e+00    8.981818e+01   \n",
       "75%    1.066804e+09   7.000000e+00  1.614286e+01    1.606667e+02   \n",
       "max    1.147577e+09   4.700000e+01  2.571429e+01    9.999990e+05   \n",
       "\n",
       "              T_cal  frequency_holdout  money_holdout  duration_holdout  \\\n",
       "count  5.800583e+06       5.800583e+06   5.800583e+06      5.800583e+06   \n",
       "mean   1.737380e+01       4.127174e+00   9.029437e+01      2.614286e+01   \n",
       "std    7.186198e+00       7.940405e+00   2.654260e+03      2.842171e-14   \n",
       "min    0.000000e+00       0.000000e+00   0.000000e+00      2.614286e+01   \n",
       "25%    1.228571e+01       0.000000e+00   0.000000e+00      2.614286e+01   \n",
       "50%    1.928571e+01       0.000000e+00   0.000000e+00      2.614286e+01   \n",
       "75%    2.371429e+01       5.000000e+00   1.160000e+02      2.614286e+01   \n",
       "max    2.571429e+01       5.400000e+01   9.999990e+05      2.614286e+01   \n",
       "\n",
       "       predicted_purchases        palive          pred       pred_in  \\\n",
       "count         5.800583e+06  5.800583e+06  5.800583e+06  5.800583e+06   \n",
       "mean          5.065317e+00  7.574890e-01  4.977995e+00  5.616810e-01   \n",
       "std           7.673504e+00  3.330087e-01  7.397101e+00  4.961809e-01   \n",
       "min           3.191756e-56  7.557735e-58  0.000000e+00  0.000000e+00   \n",
       "25%           5.961205e-01  6.252257e-01  5.961205e-01  0.000000e+00   \n",
       "50%           1.640014e+00  9.370836e-01  1.640014e+00  1.000000e+00   \n",
       "75%           6.474084e+00  1.000000e+00  6.474084e+00  1.000000e+00   \n",
       "max           3.984957e+02  1.000000e+00  4.500000e+01  1.000000e+00   \n",
       "\n",
       "           train_in         alive        avenue  \n",
       "count  5.800583e+06  5.800583e+06  5.800583e+06  \n",
       "mean   4.767917e-01  4.797844e-01  2.053256e+02  \n",
       "std    4.994611e-01  4.995912e-01  8.131669e+03  \n",
       "min    0.000000e+00  0.000000e+00 -3.576169e+00  \n",
       "25%    0.000000e+00  0.000000e+00 -3.576169e+00  \n",
       "50%    0.000000e+00  0.000000e+00  6.470532e+01  \n",
       "75%    1.000000e+00  1.000000e+00  1.583260e+02  \n",
       "max    1.000000e+00  1.000000e+00  1.770044e+06  "
      ]
     },
     "execution_count": 190,
     "metadata": {},
     "output_type": "execute_result"
    }
   ],
   "source": [
    "part.describe()"
   ]
  },
  {
   "cell_type": "code",
   "execution_count": 191,
   "metadata": {
    "ExecuteTime": {
     "end_time": "2020-02-25T21:15:56.480728Z",
     "start_time": "2020-02-25T21:15:56.441731Z"
    }
   },
   "outputs": [
    {
     "data": {
      "text/plain": [
       "8531.22980197146"
      ]
     },
     "execution_count": 191,
     "metadata": {},
     "output_type": "execute_result"
    }
   ],
   "source": [
    "np.sqrt(mean_squared_error(part['avenue'], part['money_holdout']))"
   ]
  },
  {
   "cell_type": "code",
   "execution_count": 192,
   "metadata": {
    "ExecuteTime": {
     "end_time": "2020-02-25T21:15:57.620356Z",
     "start_time": "2020-02-25T21:15:57.570450Z"
    }
   },
   "outputs": [
    {
     "data": {
      "text/plain": [
       "200.14716652870538"
      ]
     },
     "execution_count": 192,
     "metadata": {},
     "output_type": "execute_result"
    }
   ],
   "source": [
    "mean_absolute_error(part['avenue'], part['money_holdout'])"
   ]
  },
  {
   "cell_type": "code",
   "execution_count": 193,
   "metadata": {
    "ExecuteTime": {
     "end_time": "2020-02-25T21:16:00.500728Z",
     "start_time": "2020-02-25T21:16:00.166608Z"
    }
   },
   "outputs": [
    {
     "name": "stdout",
     "output_type": "stream",
     "text": [
      "Expected conditional average profit: 205.32563582291982, Average profit: 232.15959\n"
     ]
    }
   ],
   "source": [
    "print(\"Expected conditional average profit: %s, Average profit: %s\" % (\n",
    "    ggf.conditional_expected_average_profit(\n",
    "        part['frequency_cal'],\n",
    "        part['monetary_value']\n",
    "    ).mean(),\n",
    "    part[part['frequency_cal']>0]['monetary_value'].mean()\n",
    "))"
   ]
  },
  {
   "cell_type": "code",
   "execution_count": 194,
   "metadata": {
    "ExecuteTime": {
     "end_time": "2020-02-25T21:16:02.669598Z",
     "start_time": "2020-02-25T21:16:02.386881Z"
    }
   },
   "outputs": [
    {
     "name": "stdout",
     "output_type": "stream",
     "text": [
      "Expected conditional average profit: 205.32563582291982, Average profit: 182.71432\n"
     ]
    }
   ],
   "source": [
    "print(\"Expected conditional average profit: %s, Average profit: %s\" % (\n",
    "    ggf.conditional_expected_average_profit(\n",
    "        part['frequency_cal'],\n",
    "        part['monetary_value']\n",
    "    ).mean(),\n",
    "    part[part['frequency_holdout']>0]['money_holdout'].mean()\n",
    "))"
   ]
  },
  {
   "cell_type": "code",
   "execution_count": 195,
   "metadata": {
    "ExecuteTime": {
     "end_time": "2020-02-25T21:16:06.187936Z",
     "start_time": "2020-02-25T21:16:06.185884Z"
    }
   },
   "outputs": [],
   "source": [
    "# refit the BG model to the summary_with_money_value dataset\n",
    "#bgf.fit(training_df_filter['frequency'], training_df_filter['recency'], training_df_filter['T'])\n"
   ]
  },
  {
   "cell_type": "code",
   "execution_count": 319,
   "metadata": {
    "ExecuteTime": {
     "end_time": "2020-02-25T22:25:24.578616Z",
     "start_time": "2020-02-25T22:24:41.873034Z"
    }
   },
   "outputs": [],
   "source": [
    "lifetime_values = ggf.customer_lifetime_value(bgf,\n",
    "                                              part['frequency_cal'],\n",
    "                                              part['recency_cal'],\n",
    "                                              part['T_cal'],\n",
    "                                              part['monetary_value'],\n",
    "                                              time = 6,\n",
    "                                              discount_rate=0.1,\n",
    "                                              freq='W')"
   ]
  },
  {
   "cell_type": "code",
   "execution_count": 320,
   "metadata": {
    "ExecuteTime": {
     "end_time": "2020-02-25T22:25:25.051453Z",
     "start_time": "2020-02-25T22:25:24.579899Z"
    }
   },
   "outputs": [],
   "source": [
    "training_money = part >> bind_cols(lifetime_values)\n"
   ]
  },
  {
   "cell_type": "code",
   "execution_count": 321,
   "metadata": {
    "ExecuteTime": {
     "end_time": "2020-02-25T22:25:25.066996Z",
     "start_time": "2020-02-25T22:25:25.052862Z"
    }
   },
   "outputs": [
    {
     "data": {
      "text/html": [
       "<div>\n",
       "<style scoped>\n",
       "    .dataframe tbody tr th:only-of-type {\n",
       "        vertical-align: middle;\n",
       "    }\n",
       "\n",
       "    .dataframe tbody tr th {\n",
       "        vertical-align: top;\n",
       "    }\n",
       "\n",
       "    .dataframe thead th {\n",
       "        text-align: right;\n",
       "    }\n",
       "</style>\n",
       "<table border=\"1\" class=\"dataframe\">\n",
       "  <thead>\n",
       "    <tr style=\"text-align: right;\">\n",
       "      <th></th>\n",
       "      <th>id</th>\n",
       "      <th>frequency_cal</th>\n",
       "      <th>recency_cal</th>\n",
       "      <th>monetary_value</th>\n",
       "      <th>T_cal</th>\n",
       "      <th>frequency_holdout</th>\n",
       "      <th>money_holdout</th>\n",
       "      <th>duration_holdout</th>\n",
       "      <th>predicted_purchases</th>\n",
       "      <th>palive</th>\n",
       "      <th>pred</th>\n",
       "      <th>pred_in</th>\n",
       "      <th>train_in</th>\n",
       "      <th>alive</th>\n",
       "      <th>avenue</th>\n",
       "      <th>clv</th>\n",
       "    </tr>\n",
       "  </thead>\n",
       "  <tbody>\n",
       "    <tr>\n",
       "      <th>7</th>\n",
       "      <td>347841373</td>\n",
       "      <td>23</td>\n",
       "      <td>20.428571</td>\n",
       "      <td>172.666672</td>\n",
       "      <td>25.714286</td>\n",
       "      <td>11.0</td>\n",
       "      <td>120.583336</td>\n",
       "      <td>26.142857</td>\n",
       "      <td>7.872922</td>\n",
       "      <td>0.376536</td>\n",
       "      <td>7.872922</td>\n",
       "      <td>0</td>\n",
       "      <td>0</td>\n",
       "      <td>1</td>\n",
       "      <td>176.064553</td>\n",
       "      <td>1015.831833</td>\n",
       "    </tr>\n",
       "    <tr>\n",
       "      <th>8</th>\n",
       "      <td>521845566</td>\n",
       "      <td>12</td>\n",
       "      <td>20.857143</td>\n",
       "      <td>47.615383</td>\n",
       "      <td>23.285714</td>\n",
       "      <td>21.0</td>\n",
       "      <td>90.045456</td>\n",
       "      <td>26.142857</td>\n",
       "      <td>11.437408</td>\n",
       "      <td>0.940307</td>\n",
       "      <td>11.437408</td>\n",
       "      <td>0</td>\n",
       "      <td>0</td>\n",
       "      <td>1</td>\n",
       "      <td>49.541069</td>\n",
       "      <td>415.335461</td>\n",
       "    </tr>\n",
       "    <tr>\n",
       "      <th>9</th>\n",
       "      <td>13488934</td>\n",
       "      <td>12</td>\n",
       "      <td>22.000000</td>\n",
       "      <td>24.538462</td>\n",
       "      <td>24.428571</td>\n",
       "      <td>6.0</td>\n",
       "      <td>32.000000</td>\n",
       "      <td>26.142857</td>\n",
       "      <td>10.998126</td>\n",
       "      <td>0.943671</td>\n",
       "      <td>10.998126</td>\n",
       "      <td>0</td>\n",
       "      <td>0</td>\n",
       "      <td>1</td>\n",
       "      <td>25.596057</td>\n",
       "      <td>206.299413</td>\n",
       "    </tr>\n",
       "    <tr>\n",
       "      <th>24</th>\n",
       "      <td>31198150</td>\n",
       "      <td>31</td>\n",
       "      <td>24.285714</td>\n",
       "      <td>101.125000</td>\n",
       "      <td>24.857143</td>\n",
       "      <td>15.0</td>\n",
       "      <td>40.625000</td>\n",
       "      <td>26.142857</td>\n",
       "      <td>28.462755</td>\n",
       "      <td>0.985594</td>\n",
       "      <td>28.462755</td>\n",
       "      <td>0</td>\n",
       "      <td>0</td>\n",
       "      <td>1</td>\n",
       "      <td>102.615249</td>\n",
       "      <td>2140.963575</td>\n",
       "    </tr>\n",
       "    <tr>\n",
       "      <th>25</th>\n",
       "      <td>248016572</td>\n",
       "      <td>16</td>\n",
       "      <td>17.714286</td>\n",
       "      <td>198.294113</td>\n",
       "      <td>23.571429</td>\n",
       "      <td>33.0</td>\n",
       "      <td>85.205879</td>\n",
       "      <td>26.142857</td>\n",
       "      <td>7.368225</td>\n",
       "      <td>0.464148</td>\n",
       "      <td>7.368225</td>\n",
       "      <td>0</td>\n",
       "      <td>0</td>\n",
       "      <td>1</td>\n",
       "      <td>203.936407</td>\n",
       "      <td>1101.531502</td>\n",
       "    </tr>\n",
       "    <tr>\n",
       "      <th>29</th>\n",
       "      <td>9714012</td>\n",
       "      <td>25</td>\n",
       "      <td>22.857143</td>\n",
       "      <td>181.461533</td>\n",
       "      <td>23.857143</td>\n",
       "      <td>20.0</td>\n",
       "      <td>180.095245</td>\n",
       "      <td>26.142857</td>\n",
       "      <td>23.660701</td>\n",
       "      <td>0.975474</td>\n",
       "      <td>23.660701</td>\n",
       "      <td>0</td>\n",
       "      <td>0</td>\n",
       "      <td>1</td>\n",
       "      <td>184.738525</td>\n",
       "      <td>3204.556206</td>\n",
       "    </tr>\n",
       "    <tr>\n",
       "      <th>35</th>\n",
       "      <td>678365729</td>\n",
       "      <td>36</td>\n",
       "      <td>25.000000</td>\n",
       "      <td>78.810814</td>\n",
       "      <td>25.714286</td>\n",
       "      <td>30.0</td>\n",
       "      <td>46.322582</td>\n",
       "      <td>26.142857</td>\n",
       "      <td>31.921226</td>\n",
       "      <td>0.983422</td>\n",
       "      <td>31.921226</td>\n",
       "      <td>1</td>\n",
       "      <td>0</td>\n",
       "      <td>1</td>\n",
       "      <td>79.818598</td>\n",
       "      <td>1867.442885</td>\n",
       "    </tr>\n",
       "    <tr>\n",
       "      <th>51</th>\n",
       "      <td>266629534</td>\n",
       "      <td>1</td>\n",
       "      <td>5.000000</td>\n",
       "      <td>442.000000</td>\n",
       "      <td>25.285714</td>\n",
       "      <td>0.0</td>\n",
       "      <td>0.000000</td>\n",
       "      <td>26.142857</td>\n",
       "      <td>0.792583</td>\n",
       "      <td>0.594592</td>\n",
       "      <td>0.792583</td>\n",
       "      <td>1</td>\n",
       "      <td>1</td>\n",
       "      <td>0</td>\n",
       "      <td>785.112943</td>\n",
       "      <td>455.077275</td>\n",
       "    </tr>\n",
       "    <tr>\n",
       "      <th>75</th>\n",
       "      <td>555534694</td>\n",
       "      <td>15</td>\n",
       "      <td>23.857143</td>\n",
       "      <td>140.125000</td>\n",
       "      <td>25.571429</td>\n",
       "      <td>7.0</td>\n",
       "      <td>204.750000</td>\n",
       "      <td>26.142857</td>\n",
       "      <td>13.341312</td>\n",
       "      <td>0.962037</td>\n",
       "      <td>13.341312</td>\n",
       "      <td>0</td>\n",
       "      <td>0</td>\n",
       "      <td>1</td>\n",
       "      <td>144.417223</td>\n",
       "      <td>1411.806736</td>\n",
       "    </tr>\n",
       "    <tr>\n",
       "      <th>97</th>\n",
       "      <td>515388758</td>\n",
       "      <td>14</td>\n",
       "      <td>5.285714</td>\n",
       "      <td>48.333332</td>\n",
       "      <td>11.857143</td>\n",
       "      <td>0.0</td>\n",
       "      <td>0.000000</td>\n",
       "      <td>26.142857</td>\n",
       "      <td>0.059183</td>\n",
       "      <td>0.002349</td>\n",
       "      <td>0.000000</td>\n",
       "      <td>1</td>\n",
       "      <td>0</td>\n",
       "      <td>1</td>\n",
       "      <td>49.998123</td>\n",
       "      <td>2.177127</td>\n",
       "    </tr>\n",
       "  </tbody>\n",
       "</table>\n",
       "</div>"
      ],
      "text/plain": [
       "           id  frequency_cal  recency_cal  monetary_value      T_cal  \\\n",
       "7   347841373             23    20.428571      172.666672  25.714286   \n",
       "8   521845566             12    20.857143       47.615383  23.285714   \n",
       "9    13488934             12    22.000000       24.538462  24.428571   \n",
       "24   31198150             31    24.285714      101.125000  24.857143   \n",
       "25  248016572             16    17.714286      198.294113  23.571429   \n",
       "29    9714012             25    22.857143      181.461533  23.857143   \n",
       "35  678365729             36    25.000000       78.810814  25.714286   \n",
       "51  266629534              1     5.000000      442.000000  25.285714   \n",
       "75  555534694             15    23.857143      140.125000  25.571429   \n",
       "97  515388758             14     5.285714       48.333332  11.857143   \n",
       "\n",
       "    frequency_holdout  money_holdout  duration_holdout  predicted_purchases  \\\n",
       "7                11.0     120.583336         26.142857             7.872922   \n",
       "8                21.0      90.045456         26.142857            11.437408   \n",
       "9                 6.0      32.000000         26.142857            10.998126   \n",
       "24               15.0      40.625000         26.142857            28.462755   \n",
       "25               33.0      85.205879         26.142857             7.368225   \n",
       "29               20.0     180.095245         26.142857            23.660701   \n",
       "35               30.0      46.322582         26.142857            31.921226   \n",
       "51                0.0       0.000000         26.142857             0.792583   \n",
       "75                7.0     204.750000         26.142857            13.341312   \n",
       "97                0.0       0.000000         26.142857             0.059183   \n",
       "\n",
       "      palive       pred  pred_in  train_in  alive      avenue          clv  \n",
       "7   0.376536   7.872922        0         0      1  176.064553  1015.831833  \n",
       "8   0.940307  11.437408        0         0      1   49.541069   415.335461  \n",
       "9   0.943671  10.998126        0         0      1   25.596057   206.299413  \n",
       "24  0.985594  28.462755        0         0      1  102.615249  2140.963575  \n",
       "25  0.464148   7.368225        0         0      1  203.936407  1101.531502  \n",
       "29  0.975474  23.660701        0         0      1  184.738525  3204.556206  \n",
       "35  0.983422  31.921226        1         0      1   79.818598  1867.442885  \n",
       "51  0.594592   0.792583        1         1      0  785.112943   455.077275  \n",
       "75  0.962037  13.341312        0         0      1  144.417223  1411.806736  \n",
       "97  0.002349   0.000000        1         0      1   49.998123     2.177127  "
      ]
     },
     "execution_count": 321,
     "metadata": {},
     "output_type": "execute_result"
    }
   ],
   "source": [
    "training_money.head(10)"
   ]
  },
  {
   "cell_type": "code",
   "execution_count": 307,
   "metadata": {
    "ExecuteTime": {
     "end_time": "2020-02-25T22:20:47.561315Z",
     "start_time": "2020-02-25T22:20:47.558574Z"
    }
   },
   "outputs": [],
   "source": [
    "def alive(row):\n",
    "        if row['palive'] >= 0.5:\n",
    "            return 1\n",
    "        else:\n",
    "            return 0"
   ]
  },
  {
   "cell_type": "code",
   "execution_count": 322,
   "metadata": {
    "ExecuteTime": {
     "end_time": "2020-02-25T22:26:24.536276Z",
     "start_time": "2020-02-25T22:25:25.067996Z"
    }
   },
   "outputs": [],
   "source": [
    "training_money['alive_status'] = training_money.apply(alive, axis=1)\n"
   ]
  },
  {
   "cell_type": "code",
   "execution_count": 326,
   "metadata": {
    "ExecuteTime": {
     "end_time": "2020-02-25T22:32:39.121317Z",
     "start_time": "2020-02-25T22:32:39.116128Z"
    }
   },
   "outputs": [],
   "source": [
    "def perf(c1, c2, c3):\n",
    "    training_money[c1] = training_money[c2]*(training_money[c3]+1)\n",
    "    training_money['clv_1'] = training_money['clv']*training_money['alive_status']\n",
    "    training_money.loc[training_money['clv_1'] < 0, 'clv_1'] = 0\n",
    "    print(np.sqrt(mean_squared_error(training_money['clv_1'], training_money[c1])))\n",
    "    print(mean_absolute_error(training_money['clv_1'], training_money[c1]))\n",
    "    \n",
    "    training_money['clv_2'] = training_money['avenue']*(training_money['pred'])*training_money['alive_status']\n",
    "    training_money.loc[training_money['clv_2'] < 0, 'clv_2'] = 0\n",
    "\n",
    "    print(np.sqrt(mean_squared_error(training_money['clv_2'], training_money[c1])))\n",
    "    print(mean_absolute_error(training_money['clv_2'], training_money[c1]))"
   ]
  },
  {
   "cell_type": "code",
   "execution_count": 327,
   "metadata": {
    "ExecuteTime": {
     "end_time": "2020-02-25T22:32:41.703435Z",
     "start_time": "2020-02-25T22:32:40.801984Z"
    }
   },
   "outputs": [
    {
     "name": "stdout",
     "output_type": "stream",
     "text": [
      "39863.75219945865\n",
      "825.423387451353\n",
      "48876.92352910333\n",
      "930.8436522162666\n"
     ]
    }
   ],
   "source": [
    "perf('money_total_holdout', 'money_holdout', 'frequency_holdout')"
   ]
  },
  {
   "cell_type": "code",
   "execution_count": 328,
   "metadata": {
    "ExecuteTime": {
     "end_time": "2020-02-25T22:32:45.779726Z",
     "start_time": "2020-02-25T22:32:45.489693Z"
    }
   },
   "outputs": [
    {
     "name": "stdout",
     "output_type": "stream",
     "text": [
      "33056.42485000361\n",
      "778.2936070348553\n",
      "41508.15587867257\n",
      "731.3594676345717\n"
     ]
    }
   ],
   "source": [
    "perf('money_total_train', 'monetary_value', 'frequency_cal')"
   ]
  },
  {
   "cell_type": "code",
   "execution_count": 300,
   "metadata": {
    "ExecuteTime": {
     "end_time": "2020-02-25T22:17:36.142167Z",
     "start_time": "2020-02-25T22:17:36.105626Z"
    }
   },
   "outputs": [
    {
     "data": {
      "text/plain": [
       "33080.81328272184"
      ]
     },
     "execution_count": 300,
     "metadata": {},
     "output_type": "execute_result"
    }
   ],
   "source": [
    "np.sqrt(mean_squared_error(training_money['money_total_train'], training_money['money_total_holdout']))"
   ]
  },
  {
   "cell_type": "code",
   "execution_count": 299,
   "metadata": {
    "ExecuteTime": {
     "end_time": "2020-02-25T22:17:00.150135Z",
     "start_time": "2020-02-25T22:17:00.108739Z"
    }
   },
   "outputs": [
    {
     "data": {
      "text/plain": [
       "1112.6272012921636"
      ]
     },
     "execution_count": 299,
     "metadata": {},
     "output_type": "execute_result"
    }
   ],
   "source": [
    "mean_absolute_error(training_money['money_total_train'], training_money['money_total_holdout'])"
   ]
  },
  {
   "cell_type": "code",
   "execution_count": 306,
   "metadata": {
    "ExecuteTime": {
     "end_time": "2020-02-25T22:19:49.083967Z",
     "start_time": "2020-02-25T22:19:48.881841Z"
    }
   },
   "outputs": [
    {
     "data": {
      "text/plain": [
       "count    5.800583e+06\n",
       "mean     1.181007e+03\n",
       "std      2.356017e+04\n",
       "min      0.000000e+00\n",
       "25%      7.000000e+01\n",
       "50%      2.850000e+02\n",
       "75%      9.960000e+02\n",
       "max      8.800410e+06\n",
       "Name: money_total_train, dtype: float64"
      ]
     },
     "execution_count": 306,
     "metadata": {},
     "output_type": "execute_result"
    }
   ],
   "source": [
    "training_money['money_total_train'].describe()"
   ]
  },
  {
   "cell_type": "code",
   "execution_count": 269,
   "metadata": {
    "ExecuteTime": {
     "end_time": "2020-02-25T22:02:11.297352Z",
     "start_time": "2020-02-25T22:02:11.032590Z"
    }
   },
   "outputs": [
    {
     "data": {
      "text/plain": [
       "count    5.800583e+06\n",
       "mean     7.637858e+02\n",
       "std      2.341080e+04\n",
       "min      0.000000e+00\n",
       "25%      0.000000e+00\n",
       "50%      0.000000e+00\n",
       "75%      7.450000e+02\n",
       "max      5.099995e+07\n",
       "Name: money_total_holdout, dtype: float64"
      ]
     },
     "execution_count": 269,
     "metadata": {},
     "output_type": "execute_result"
    }
   ],
   "source": [
    "training_money['money_total_holdout'].describe()"
   ]
  },
  {
   "cell_type": "code",
   "execution_count": 353,
   "metadata": {
    "ExecuteTime": {
     "end_time": "2020-02-25T23:15:09.769570Z",
     "start_time": "2020-02-25T23:15:09.585483Z"
    }
   },
   "outputs": [
    {
     "data": {
      "text/plain": [
       "<matplotlib.legend.Legend at 0x7fb7ef813410>"
      ]
     },
     "execution_count": 353,
     "metadata": {},
     "output_type": "execute_result"
    },
    {
     "data": {
      "image/png": "[encoded data removed]",
      "text/plain": [
       "<Figure size 432x288 with 1 Axes>"
      ]
     },
     "metadata": {
      "needs_background": "light"
     },
     "output_type": "display_data"
    }
   ],
   "source": [
    "mu=1181\n",
    "sigma=23560\n",
    "x = np.linspace(mu - 3*sigma, mu + 3*sigma, 50000)\n",
    "plt.plot(x, stats.norm.pdf(x, mu, sigma), label='train')\n",
    "\n",
    "ymu=764\n",
    "ysigma=23411\n",
    "y = np.linspace(ymu - 3*ysigma, ymu + 3*ysigma, 50000)\n",
    "plt.plot(y, stats.norm.pdf(y, ymu, ysigma), label='holdout')\n",
    "\n",
    "plt.legend()"
   ]
  },
  {
   "cell_type": "code",
   "execution_count": 329,
   "metadata": {
    "ExecuteTime": {
     "end_time": "2020-02-25T22:32:51.428409Z",
     "start_time": "2020-02-25T22:32:51.145311Z"
    }
   },
   "outputs": [
    {
     "data": {
      "text/plain": [
       "count    5.800583e+06\n",
       "mean     6.857889e+02\n",
       "std      3.237179e+04\n",
       "min      0.000000e+00\n",
       "25%      0.000000e+00\n",
       "50%      0.000000e+00\n",
       "75%      6.144718e+02\n",
       "max      3.467951e+07\n",
       "Name: clv_1, dtype: float64"
      ]
     },
     "execution_count": 329,
     "metadata": {},
     "output_type": "execute_result"
    }
   ],
   "source": [
    "training_money['clv_1'].describe()"
   ]
  },
  {
   "cell_type": "code",
   "execution_count": 271,
   "metadata": {
    "ExecuteTime": {
     "end_time": "2020-02-25T22:02:19.009185Z",
     "start_time": "2020-02-25T22:02:18.753660Z"
    }
   },
   "outputs": [
    {
     "data": {
      "text/plain": [
       "count    5.800583e+06\n",
       "mean     6.786040e+02\n",
       "std      1.599868e+04\n",
       "min     -2.600900e+01\n",
       "25%      0.000000e+00\n",
       "50%      0.000000e+00\n",
       "75%      5.478930e+02\n",
       "max      1.032960e+07\n",
       "Name: clv_2, dtype: float64"
      ]
     },
     "execution_count": 271,
     "metadata": {},
     "output_type": "execute_result"
    }
   ],
   "source": [
    "training_money['clv_2'].describe()"
   ]
  },
  {
   "cell_type": "code",
   "execution_count": 275,
   "metadata": {
    "ExecuteTime": {
     "end_time": "2020-02-25T22:03:12.119315Z",
     "start_time": "2020-02-25T22:03:12.116174Z"
    }
   },
   "outputs": [
    {
     "data": {
      "text/plain": [
       "3480349"
      ]
     },
     "execution_count": 275,
     "metadata": {},
     "output_type": "execute_result"
    }
   ],
   "source": [
    "beg=int(training_money[\"money_total_holdout\"].size*0.6)\n",
    "beg"
   ]
  },
  {
   "cell_type": "code",
   "execution_count": 256,
   "metadata": {
    "ExecuteTime": {
     "end_time": "2020-02-25T21:49:45.067509Z",
     "start_time": "2020-02-25T21:49:44.499613Z"
    }
   },
   "outputs": [
    {
     "data": {
      "text/plain": [
       "count    2.320234e+06\n",
       "mean     2.239786e+02\n",
       "std      3.443378e+02\n",
       "min      1.200000e+01\n",
       "25%      3.000000e+01\n",
       "50%      9.000000e+01\n",
       "75%      2.400000e+02\n",
       "max      2.256000e+03\n",
       "Name: money_total_holdout, dtype: float64"
      ]
     },
     "execution_count": 256,
     "metadata": {},
     "output_type": "execute_result"
    }
   ],
   "source": [
    "training_money[\"money_total_holdout\"].sort_values().iloc[beg:].describe()"
   ]
  },
  {
   "cell_type": "code",
   "execution_count": 257,
   "metadata": {
    "ExecuteTime": {
     "end_time": "2020-02-25T21:49:47.090345Z",
     "start_time": "2020-02-25T21:49:46.350216Z"
    }
   },
   "outputs": [
    {
     "data": {
      "text/plain": [
       "count    2.320234e+06\n",
       "mean     1.670699e+03\n",
       "std      2.466458e+04\n",
       "min      5.027626e+00\n",
       "25%      2.334490e+02\n",
       "50%      8.974756e+02\n",
       "75%      1.929075e+03\n",
       "max      1.002498e+07\n",
       "Name: clv_1, dtype: float64"
      ]
     },
     "execution_count": 257,
     "metadata": {},
     "output_type": "execute_result"
    }
   ],
   "source": [
    "training_money[\"clv_1\"].sort_values().iloc[beg:].describe()"
   ]
  },
  {
   "cell_type": "code",
   "execution_count": 258,
   "metadata": {
    "ExecuteTime": {
     "end_time": "2020-02-25T21:49:48.933714Z",
     "start_time": "2020-02-25T21:49:48.269782Z"
    }
   },
   "outputs": [
    {
     "data": {
      "text/plain": [
       "count    2.320234e+06\n",
       "mean     1.697070e+03\n",
       "std      2.526193e+04\n",
       "min     -0.000000e+00\n",
       "25%      2.366519e+02\n",
       "50%      9.250178e+02\n",
       "75%      1.987902e+03\n",
       "max      1.032960e+07\n",
       "Name: clv_2, dtype: float64"
      ]
     },
     "execution_count": 258,
     "metadata": {},
     "output_type": "execute_result"
    }
   ],
   "source": [
    "training_money[\"clv_2\"].sort_values().iloc[beg:].describe()"
   ]
  },
  {
   "cell_type": "code",
   "execution_count": 272,
   "metadata": {
    "ExecuteTime": {
     "end_time": "2020-02-25T22:02:25.470688Z",
     "start_time": "2020-02-25T22:02:25.336051Z"
    }
   },
   "outputs": [
    {
     "data": {
      "text/plain": [
       "0.50       0.000000\n",
       "0.60     134.000000\n",
       "0.70     469.000000\n",
       "0.80    1084.999962\n",
       "0.90    2228.999977\n",
       "0.95    3378.000000\n",
       "0.99    6070.999817\n",
       "Name: money_total_holdout, dtype: float64"
      ]
     },
     "execution_count": 272,
     "metadata": {},
     "output_type": "execute_result"
    }
   ],
   "source": [
    "training_money[\"money_total_holdout\"].quantile([0.5, 0.6, 0.7, 0.8, 0.9, 0.95, 0.99])"
   ]
  },
  {
   "cell_type": "code",
   "execution_count": 273,
   "metadata": {
    "ExecuteTime": {
     "end_time": "2020-02-25T22:02:26.524088Z",
     "start_time": "2020-02-25T22:02:26.400575Z"
    }
   },
   "outputs": [
    {
     "data": {
      "text/plain": [
       "0.50      -0.000000\n",
       "0.60       5.027652\n",
       "0.70     233.449318\n",
       "0.80     897.475625\n",
       "0.90    1929.074809\n",
       "0.95    2902.449508\n",
       "0.99    5254.089678\n",
       "Name: clv_1, dtype: float64"
      ]
     },
     "execution_count": 273,
     "metadata": {},
     "output_type": "execute_result"
    }
   ],
   "source": [
    "training_money[\"clv_1\"].quantile([0.5, 0.6, 0.7, 0.8, 0.9, 0.95, 0.99])"
   ]
  },
  {
   "cell_type": "code",
   "execution_count": 274,
   "metadata": {
    "ExecuteTime": {
     "end_time": "2020-02-25T22:02:27.305772Z",
     "start_time": "2020-02-25T22:02:27.184923Z"
    }
   },
   "outputs": [
    {
     "data": {
      "text/plain": [
       "0.50       0.000000\n",
       "0.60      -0.000000\n",
       "0.70     236.652242\n",
       "0.80     925.018002\n",
       "0.90    1987.902112\n",
       "0.95    2988.796064\n",
       "0.99    5370.738252\n",
       "Name: clv_2, dtype: float64"
      ]
     },
     "execution_count": 274,
     "metadata": {},
     "output_type": "execute_result"
    }
   ],
   "source": [
    "training_money[\"clv_2\"].quantile([0.5, 0.6, 0.7, 0.8, 0.9, 0.95, 0.99])"
   ]
  },
  {
   "cell_type": "code",
   "execution_count": 276,
   "metadata": {
    "ExecuteTime": {
     "end_time": "2020-02-25T22:03:16.679764Z",
     "start_time": "2020-02-25T22:03:15.674310Z"
    }
   },
   "outputs": [
    {
     "data": {
      "text/plain": [
       "<matplotlib.axes._subplots.AxesSubplot at 0x7fb7f0110110>"
      ]
     },
     "execution_count": 276,
     "metadata": {},
     "output_type": "execute_result"
    },
    {
     "data": {
      "image/png": "[encoded data removed]",
      "text/plain": [
       "<Figure size 432x288 with 1 Axes>"
      ]
     },
     "metadata": {
      "needs_background": "light"
     },
     "output_type": "display_data"
    }
   ],
   "source": [
    "\n",
    "sb.distplot( training_money[\"money_total_holdout\"].sort_values().iloc[beg:] , color=\"skyblue\", label=\"money_total_holdout\")\n"
   ]
  },
  {
   "cell_type": "code",
   "execution_count": 277,
   "metadata": {
    "ExecuteTime": {
     "end_time": "2020-02-25T22:03:17.692445Z",
     "start_time": "2020-02-25T22:03:16.680978Z"
    }
   },
   "outputs": [
    {
     "data": {
      "text/plain": [
       "<matplotlib.axes._subplots.AxesSubplot at 0x7fb7f0105b50>"
      ]
     },
     "execution_count": 277,
     "metadata": {},
     "output_type": "execute_result"
    },
    {
     "data": {
      "image/png": "[encoded data removed]",
      "text/plain": [
       "<Figure size 432x288 with 1 Axes>"
      ]
     },
     "metadata": {
      "needs_background": "light"
     },
     "output_type": "display_data"
    }
   ],
   "source": [
    "sb.distplot( training_money[\"clv_1\"].sort_values().iloc[beg:] , color=\"red\", label=\"clv_1\")\n"
   ]
  },
  {
   "cell_type": "code",
   "execution_count": 278,
   "metadata": {
    "ExecuteTime": {
     "end_time": "2020-02-25T22:03:18.635585Z",
     "start_time": "2020-02-25T22:03:17.693725Z"
    }
   },
   "outputs": [
    {
     "data": {
      "text/plain": [
       "<matplotlib.axes._subplots.AxesSubplot at 0x7fb7eff50f90>"
      ]
     },
     "execution_count": 278,
     "metadata": {},
     "output_type": "execute_result"
    },
    {
     "data": {
      "image/png": "[encoded data removed]",
      "text/plain": [
       "<Figure size 432x288 with 1 Axes>"
      ]
     },
     "metadata": {
      "needs_background": "light"
     },
     "output_type": "display_data"
    }
   ],
   "source": [
    "sb.distplot( training_money[\"clv_2\"].sort_values().iloc[beg:], color=\"green\", label=\"clv_2\")"
   ]
  },
  {
   "cell_type": "code",
   "execution_count": null,
   "metadata": {},
   "outputs": [],
   "source": []
  },
  {
   "cell_type": "code",
   "execution_count": null,
   "metadata": {},
   "outputs": [],
   "source": []
  },
  {
   "cell_type": "code",
   "execution_count": null,
   "metadata": {},
   "outputs": [],
   "source": []
  },
  {
   "cell_type": "code",
   "execution_count": 104,
   "metadata": {
    "ExecuteTime": {
     "end_time": "2020-02-25T18:07:28.263946Z",
     "start_time": "2020-02-25T18:07:28.260209Z"
    }
   },
   "outputs": [
    {
     "data": {
      "text/plain": [
       "\"\\nmatched = training_money >> left_join(\\n    testing_df_filter >> select(X.customer_id, X.monetary_value, X.frequency) \\n    >> rename(post_monetary_value = X.monetary_value)\\n    >> rename(post_frequency = X.frequency)\\n    ,by='id')\\nmatched.clv = matched.clv.fillna(0.0)\\n\""
      ]
     },
     "execution_count": 104,
     "metadata": {},
     "output_type": "execute_result"
    }
   ],
   "source": [
    "'''\n",
    "matched = training_money >> left_join(\n",
    "    testing_df_filter >> select(X.customer_id, X.monetary_value, X.frequency) \n",
    "    >> rename(post_monetary_value = X.monetary_value)\n",
    "    >> rename(post_frequency = X.frequency)\n",
    "    ,by='id')\n",
    "matched.clv = matched.clv.fillna(0.0)\n",
    "'''"
   ]
  },
  {
   "cell_type": "code",
   "execution_count": 135,
   "metadata": {
    "ExecuteTime": {
     "end_time": "2020-02-18T21:57:22.327285Z",
     "start_time": "2020-02-18T21:57:22.318956Z"
    }
   },
   "outputs": [
    {
     "data": {
      "text/html": [
       "<div>\n",
       "<style scoped>\n",
       "    .dataframe tbody tr th:only-of-type {\n",
       "        vertical-align: middle;\n",
       "    }\n",
       "\n",
       "    .dataframe tbody tr th {\n",
       "        vertical-align: top;\n",
       "    }\n",
       "\n",
       "    .dataframe thead th {\n",
       "        text-align: right;\n",
       "    }\n",
       "</style>\n",
       "<table border=\"1\" class=\"dataframe\">\n",
       "  <thead>\n",
       "    <tr style=\"text-align: right;\">\n",
       "      <th></th>\n",
       "      <th>customer_id</th>\n",
       "      <th>frequency</th>\n",
       "      <th>recency</th>\n",
       "      <th>monetary_value</th>\n",
       "      <th>T</th>\n",
       "      <th>avenue</th>\n",
       "      <th>clv</th>\n",
       "      <th>post_monetary_value</th>\n",
       "      <th>post_frequency</th>\n",
       "    </tr>\n",
       "  </thead>\n",
       "  <tbody>\n",
       "    <tr>\n",
       "      <th>0</th>\n",
       "      <td>1950</td>\n",
       "      <td>1</td>\n",
       "      <td>0.0</td>\n",
       "      <td>10</td>\n",
       "      <td>4.142857</td>\n",
       "      <td>16.52572</td>\n",
       "      <td>1.295969</td>\n",
       "      <td>0.0</td>\n",
       "      <td>NaN</td>\n",
       "    </tr>\n",
       "  </tbody>\n",
       "</table>\n",
       "</div>"
      ],
      "text/plain": [
       "   customer_id  frequency  recency  monetary_value         T    avenue  \\\n",
       "0         1950          1      0.0              10  4.142857  16.52572   \n",
       "\n",
       "        clv  post_monetary_value  post_frequency  \n",
       "0  1.295969                  0.0             NaN  "
      ]
     },
     "execution_count": 135,
     "metadata": {},
     "output_type": "execute_result"
    }
   ],
   "source": [
    "matched.head(1)"
   ]
  },
  {
   "cell_type": "code",
   "execution_count": 136,
   "metadata": {
    "ExecuteTime": {
     "end_time": "2020-02-18T21:57:28.653662Z",
     "start_time": "2020-02-18T21:57:28.575401Z"
    }
   },
   "outputs": [],
   "source": [
    "matched['post_monetary_total'] = matched['post_monetary_value']*matched['post_frequency']"
   ]
  },
  {
   "cell_type": "code",
   "execution_count": 140,
   "metadata": {
    "ExecuteTime": {
     "end_time": "2020-02-18T21:57:57.877505Z",
     "start_time": "2020-02-18T21:57:57.535376Z"
    }
   },
   "outputs": [],
   "source": [
    "matched.post_monetary_total = matched.post_monetary_total.fillna(0.0)"
   ]
  },
  {
   "cell_type": "code",
   "execution_count": 141,
   "metadata": {
    "ExecuteTime": {
     "end_time": "2020-02-18T21:57:59.529111Z",
     "start_time": "2020-02-18T21:57:58.664116Z"
    }
   },
   "outputs": [
    {
     "data": {
      "text/html": [
       "<div>\n",
       "<style scoped>\n",
       "    .dataframe tbody tr th:only-of-type {\n",
       "        vertical-align: middle;\n",
       "    }\n",
       "\n",
       "    .dataframe tbody tr th {\n",
       "        vertical-align: top;\n",
       "    }\n",
       "\n",
       "    .dataframe thead th {\n",
       "        text-align: right;\n",
       "    }\n",
       "</style>\n",
       "<table border=\"1\" class=\"dataframe\">\n",
       "  <thead>\n",
       "    <tr style=\"text-align: right;\">\n",
       "      <th></th>\n",
       "      <th>customer_id</th>\n",
       "      <th>frequency</th>\n",
       "      <th>recency</th>\n",
       "      <th>monetary_value</th>\n",
       "      <th>T</th>\n",
       "      <th>avenue</th>\n",
       "      <th>clv</th>\n",
       "      <th>post_monetary_value</th>\n",
       "      <th>post_frequency</th>\n",
       "      <th>post_monetary_total</th>\n",
       "    </tr>\n",
       "  </thead>\n",
       "  <tbody>\n",
       "    <tr>\n",
       "      <th>0</th>\n",
       "      <td>1950</td>\n",
       "      <td>1</td>\n",
       "      <td>0.000000</td>\n",
       "      <td>10</td>\n",
       "      <td>4.142857</td>\n",
       "      <td>16.525720</td>\n",
       "      <td>1.295969</td>\n",
       "      <td>0.0</td>\n",
       "      <td>NaN</td>\n",
       "      <td>0.0</td>\n",
       "    </tr>\n",
       "    <tr>\n",
       "      <th>1</th>\n",
       "      <td>2250</td>\n",
       "      <td>1</td>\n",
       "      <td>0.000000</td>\n",
       "      <td>509</td>\n",
       "      <td>5.714286</td>\n",
       "      <td>637.873543</td>\n",
       "      <td>14.575415</td>\n",
       "      <td>628.0</td>\n",
       "      <td>2.0</td>\n",
       "      <td>1256.0</td>\n",
       "    </tr>\n",
       "    <tr>\n",
       "      <th>2</th>\n",
       "      <td>3506</td>\n",
       "      <td>5</td>\n",
       "      <td>6.285714</td>\n",
       "      <td>1045</td>\n",
       "      <td>7.000000</td>\n",
       "      <td>1088.521884</td>\n",
       "      <td>22699.434234</td>\n",
       "      <td>1473.0</td>\n",
       "      <td>8.0</td>\n",
       "      <td>11784.0</td>\n",
       "    </tr>\n",
       "    <tr>\n",
       "      <th>3</th>\n",
       "      <td>4590</td>\n",
       "      <td>3</td>\n",
       "      <td>1.428571</td>\n",
       "      <td>29</td>\n",
       "      <td>4.571429</td>\n",
       "      <td>32.204316</td>\n",
       "      <td>30.031110</td>\n",
       "      <td>0.0</td>\n",
       "      <td>NaN</td>\n",
       "      <td>0.0</td>\n",
       "    </tr>\n",
       "    <tr>\n",
       "      <th>4</th>\n",
       "      <td>5409</td>\n",
       "      <td>5</td>\n",
       "      <td>3.428571</td>\n",
       "      <td>431</td>\n",
       "      <td>5.428571</td>\n",
       "      <td>449.350398</td>\n",
       "      <td>3959.007996</td>\n",
       "      <td>0.0</td>\n",
       "      <td>NaN</td>\n",
       "      <td>0.0</td>\n",
       "    </tr>\n",
       "    <tr>\n",
       "      <th>5</th>\n",
       "      <td>11567</td>\n",
       "      <td>3</td>\n",
       "      <td>0.000000</td>\n",
       "      <td>1344</td>\n",
       "      <td>5.714286</td>\n",
       "      <td>1439.578312</td>\n",
       "      <td>5.349140</td>\n",
       "      <td>49.0</td>\n",
       "      <td>1.0</td>\n",
       "      <td>49.0</td>\n",
       "    </tr>\n",
       "    <tr>\n",
       "      <th>6</th>\n",
       "      <td>15432</td>\n",
       "      <td>16</td>\n",
       "      <td>11.285714</td>\n",
       "      <td>2538</td>\n",
       "      <td>11.571429</td>\n",
       "      <td>2569.830605</td>\n",
       "      <td>125646.653907</td>\n",
       "      <td>2905.0</td>\n",
       "      <td>19.0</td>\n",
       "      <td>55195.0</td>\n",
       "    </tr>\n",
       "    <tr>\n",
       "      <th>7</th>\n",
       "      <td>17979</td>\n",
       "      <td>1</td>\n",
       "      <td>0.000000</td>\n",
       "      <td>74</td>\n",
       "      <td>6.428571</td>\n",
       "      <td>96.217626</td>\n",
       "      <td>1.365822</td>\n",
       "      <td>0.0</td>\n",
       "      <td>NaN</td>\n",
       "      <td>0.0</td>\n",
       "    </tr>\n",
       "    <tr>\n",
       "      <th>8</th>\n",
       "      <td>18730</td>\n",
       "      <td>1</td>\n",
       "      <td>0.000000</td>\n",
       "      <td>149</td>\n",
       "      <td>5.000000</td>\n",
       "      <td>189.606577</td>\n",
       "      <td>7.319847</td>\n",
       "      <td>1031.0</td>\n",
       "      <td>4.0</td>\n",
       "      <td>4124.0</td>\n",
       "    </tr>\n",
       "    <tr>\n",
       "      <th>9</th>\n",
       "      <td>23116</td>\n",
       "      <td>4</td>\n",
       "      <td>5.428571</td>\n",
       "      <td>413</td>\n",
       "      <td>5.857143</td>\n",
       "      <td>435.243563</td>\n",
       "      <td>8593.139171</td>\n",
       "      <td>381.0</td>\n",
       "      <td>5.0</td>\n",
       "      <td>1905.0</td>\n",
       "    </tr>\n",
       "  </tbody>\n",
       "</table>\n",
       "</div>"
      ],
      "text/plain": [
       "   customer_id  frequency    recency  monetary_value          T       avenue  \\\n",
       "0         1950          1   0.000000              10   4.142857    16.525720   \n",
       "1         2250          1   0.000000             509   5.714286   637.873543   \n",
       "2         3506          5   6.285714            1045   7.000000  1088.521884   \n",
       "3         4590          3   1.428571              29   4.571429    32.204316   \n",
       "4         5409          5   3.428571             431   5.428571   449.350398   \n",
       "5        11567          3   0.000000            1344   5.714286  1439.578312   \n",
       "6        15432         16  11.285714            2538  11.571429  2569.830605   \n",
       "7        17979          1   0.000000              74   6.428571    96.217626   \n",
       "8        18730          1   0.000000             149   5.000000   189.606577   \n",
       "9        23116          4   5.428571             413   5.857143   435.243563   \n",
       "\n",
       "             clv  post_monetary_value  post_frequency  post_monetary_total  \n",
       "0       1.295969                  0.0             NaN                  0.0  \n",
       "1      14.575415                628.0             2.0               1256.0  \n",
       "2   22699.434234               1473.0             8.0              11784.0  \n",
       "3      30.031110                  0.0             NaN                  0.0  \n",
       "4    3959.007996                  0.0             NaN                  0.0  \n",
       "5       5.349140                 49.0             1.0                 49.0  \n",
       "6  125646.653907               2905.0            19.0              55195.0  \n",
       "7       1.365822                  0.0             NaN                  0.0  \n",
       "8       7.319847               1031.0             4.0               4124.0  \n",
       "9    8593.139171                381.0             5.0               1905.0  "
      ]
     },
     "execution_count": 141,
     "metadata": {},
     "output_type": "execute_result"
    }
   ],
   "source": [
    "matched >> head(10)"
   ]
  },
  {
   "cell_type": "code",
   "execution_count": 142,
   "metadata": {
    "ExecuteTime": {
     "end_time": "2020-02-18T21:58:54.398647Z",
     "start_time": "2020-02-18T21:58:54.219413Z"
    }
   },
   "outputs": [
    {
     "data": {
      "text/plain": [
       "374666.85200750205"
      ]
     },
     "execution_count": 142,
     "metadata": {},
     "output_type": "execute_result"
    }
   ],
   "source": [
    "np.sqrt(mean_squared_error(matched['clv'], matched['post_monetary_total']))"
   ]
  },
  {
   "cell_type": "code",
   "execution_count": 143,
   "metadata": {
    "ExecuteTime": {
     "end_time": "2020-02-18T21:58:56.576645Z",
     "start_time": "2020-02-18T21:58:56.358513Z"
    }
   },
   "outputs": [
    {
     "data": {
      "text/plain": [
       "14256.613970885917"
      ]
     },
     "execution_count": 143,
     "metadata": {},
     "output_type": "execute_result"
    }
   ],
   "source": [
    "mean_absolute_error(matched['clv'], matched['post_monetary_total'])"
   ]
  },
  {
   "cell_type": "code",
   "execution_count": 149,
   "metadata": {
    "ExecuteTime": {
     "end_time": "2020-02-18T22:12:17.134379Z",
     "start_time": "2020-02-18T22:12:17.026075Z"
    }
   },
   "outputs": [],
   "source": [
    "matched['post_monetary_total_training_frequency'] = matched['avenue']*matched['frequency']"
   ]
  },
  {
   "cell_type": "code",
   "execution_count": 150,
   "metadata": {
    "ExecuteTime": {
     "end_time": "2020-02-18T22:12:18.074093Z",
     "start_time": "2020-02-18T22:12:17.965658Z"
    }
   },
   "outputs": [
    {
     "data": {
      "text/plain": [
       "194450.56200957665"
      ]
     },
     "execution_count": 150,
     "metadata": {},
     "output_type": "execute_result"
    }
   ],
   "source": [
    "np.sqrt(mean_squared_error(matched['post_monetary_total'], matched['post_monetary_total_training_frequency']))"
   ]
  },
  {
   "cell_type": "code",
   "execution_count": 151,
   "metadata": {
    "ExecuteTime": {
     "end_time": "2020-02-18T22:12:30.180962Z",
     "start_time": "2020-02-18T22:12:30.031552Z"
    }
   },
   "outputs": [
    {
     "data": {
      "text/plain": [
       "9394.760800414422"
      ]
     },
     "execution_count": 151,
     "metadata": {},
     "output_type": "execute_result"
    }
   ],
   "source": [
    "mean_absolute_error(matched['post_monetary_total'], matched['post_monetary_total_training_frequency'])"
   ]
  },
  {
   "cell_type": "code",
   "execution_count": null,
   "metadata": {},
   "outputs": [],
   "source": []
  }
 ],
 "metadata": {
  "kernelspec": {
   "display_name": "Python 3",
   "language": "python",
   "name": "python3"
  },
  "language_info": {
   "codemirror_mode": {
    "name": "ipython",
    "version": 3
   },
   "file_extension": ".py",
   "mimetype": "text/x-python",
   "name": "python",
   "nbconvert_exporter": "python",
   "pygments_lexer": "ipython3",
   "version": "3.7.6"
  },
  "toc": {
   "base_numbering": 1,
   "nav_menu": {},
   "number_sections": true,
   "sideBar": true,
   "skip_h1_title": false,
   "title_cell": "Table of Contents",
   "title_sidebar": "Contents",
   "toc_cell": false,
   "toc_position": {},
   "toc_section_display": true,
   "toc_window_display": false
  }
 },
 "nbformat": 4,
 "nbformat_minor": 2
}
